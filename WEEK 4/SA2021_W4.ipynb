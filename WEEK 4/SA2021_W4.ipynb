{
 "cells": [
  {
   "cell_type": "markdown",
   "metadata": {},
   "source": [
    "# SUMMER ANALYTICS 2021\n",
    "\n",
    "## WEEK-4 ASSIGNMENT"
   ]
  },
  {
   "cell_type": "code",
   "execution_count": 7,
   "metadata": {},
   "outputs": [],
   "source": [
    "import pandas as pd\n",
    "import numpy as np\n",
    "import seaborn as sns\n",
    "import matplotlib.pyplot as plt\n",
    "%matplotlib inline\n",
    "import sklearn\n",
    "import IPython.display as ipd\n",
    "from IPython.display import Image\n",
    "import warnings\n",
    "warnings.filterwarnings('ignore')"
   ]
  },
  {
   "cell_type": "markdown",
   "metadata": {},
   "source": [
    "### Let's explore the dataset shall we?\n",
    "Music conoeisseurs have been trying for a long time to understand sound and what differenciates one song from another. How to visualize sound. What makes a tone different from another.\n",
    "\n",
    "In this notebook we will go through an in depth analysis of sound and how we can **classify and ultimately understand** it.\n",
    "\n",
    "I suggest you to use the internet before asking a doubt. Most of your doubts will disappear once you read the documentation or search StackOverflow! \n",
    "\n",
    "**Note**: Pay close attention to the markdown cells and the comments."
   ]
  },
  {
   "cell_type": "code",
   "execution_count": 8,
   "metadata": {},
   "outputs": [
    {
     "output_type": "execute_result",
     "data": {
      "text/plain": [
       "   length  chroma_stft_mean  chroma_stft_var  rms_mean   rms_var  \\\n",
       "0   66149          0.335406         0.091048  0.130405  0.003521   \n",
       "1   66149          0.343065         0.086147  0.112699  0.001450   \n",
       "2   66149          0.346815         0.092243  0.132003  0.004620   \n",
       "3   66149          0.363639         0.086856  0.132565  0.002448   \n",
       "4   66149          0.335579         0.088129  0.143289  0.001701   \n",
       "5   66149          0.376670         0.089702  0.132618  0.003583   \n",
       "6   66149          0.379909         0.088827  0.130335  0.003166   \n",
       "7   66149          0.331880         0.092119  0.140600  0.002546   \n",
       "8   66149          0.347877         0.094209  0.133130  0.002538   \n",
       "9   66149          0.358061         0.082957  0.115312  0.001846   \n",
       "\n",
       "   spectral_centroid_mean  spectral_centroid_var  spectral_bandwidth_mean  \\\n",
       "0             1773.065032           167541.63090              1972.744388   \n",
       "1             1816.693777            90525.69087              2010.051501   \n",
       "2             1788.539719           111407.43760              2084.565132   \n",
       "3             1655.289045           111952.28450              1960.039988   \n",
       "4             1630.656199            79667.26765              1948.503884   \n",
       "5             1994.915219           211700.61960              2152.767854   \n",
       "6             1962.150096           177443.07000              2146.503479   \n",
       "7             1701.890924            35678.13062              1979.387612   \n",
       "8             1746.473502           138073.93120              1887.619723   \n",
       "9             1763.948942            61493.42312              1874.195710   \n",
       "\n",
       "   spectral_bandwidth_var  rolloff_mean  ...  mfcc16_var  mfcc17_mean  \\\n",
       "0            117335.77160   3714.560359  ...   39.687145    -3.241280   \n",
       "1             65671.87567   3869.682242  ...   64.748276    -6.055294   \n",
       "2             75124.92172   3997.639160  ...   67.336563    -1.768610   \n",
       "3             82913.63927   3568.300218  ...   47.739452    -3.841155   \n",
       "4             60204.02027   3469.992864  ...   30.336359     0.664582   \n",
       "5             74263.87310   4371.985614  ...   31.448069    -3.448373   \n",
       "6             98020.54142   4325.026668  ...   33.954071    -2.068194   \n",
       "7             36670.72589   3625.280386  ...   38.456211    -3.637886   \n",
       "8            117069.92000   3586.934721  ...   44.311455    -4.370029   \n",
       "9             51944.92144   3505.522649  ...   43.967834    -3.448304   \n",
       "\n",
       "   mfcc17_var  mfcc18_mean  mfcc18_var  mfcc19_mean  mfcc19_var  mfcc20_mean  \\\n",
       "0   36.488243     0.722209   38.099152    -5.050335   33.618073    -0.243027   \n",
       "1   40.677654     0.159015   51.264091    -2.837699   97.030830     5.784063   \n",
       "2   28.348579     2.378768   45.717648    -1.938424   53.050835     2.517375   \n",
       "3   28.337118     1.218588   34.770935    -3.580352   50.836224     3.630866   \n",
       "4   45.880913     1.689446   51.363583    -3.392489   26.738789     0.536961   \n",
       "5   34.284130    -0.416165   40.791092    -3.649625   32.457901     3.025218   \n",
       "6   25.623655     1.428141   47.957699    -3.267124   39.382240     3.276939   \n",
       "7   24.530296    -0.105148   26.716150    -2.016985   23.150423     0.210787   \n",
       "8   29.873167     2.114592   33.843155    -2.264663   80.812393     3.758598   \n",
       "9   48.671944     0.099792   41.839546    -7.677177   96.253654     0.791776   \n",
       "\n",
       "   mfcc20_var  label  \n",
       "0   43.771767  blues  \n",
       "1   59.943081  blues  \n",
       "2   33.105122  blues  \n",
       "3   32.023678  blues  \n",
       "4   29.146694  blues  \n",
       "5   28.892687  blues  \n",
       "6   25.999132  blues  \n",
       "7   42.512966  blues  \n",
       "8   97.618835  blues  \n",
       "9   40.416420  blues  \n",
       "\n",
       "[10 rows x 59 columns]"
      ],
      "text/html": "<div>\n<style scoped>\n    .dataframe tbody tr th:only-of-type {\n        vertical-align: middle;\n    }\n\n    .dataframe tbody tr th {\n        vertical-align: top;\n    }\n\n    .dataframe thead th {\n        text-align: right;\n    }\n</style>\n<table border=\"1\" class=\"dataframe\">\n  <thead>\n    <tr style=\"text-align: right;\">\n      <th></th>\n      <th>length</th>\n      <th>chroma_stft_mean</th>\n      <th>chroma_stft_var</th>\n      <th>rms_mean</th>\n      <th>rms_var</th>\n      <th>spectral_centroid_mean</th>\n      <th>spectral_centroid_var</th>\n      <th>spectral_bandwidth_mean</th>\n      <th>spectral_bandwidth_var</th>\n      <th>rolloff_mean</th>\n      <th>...</th>\n      <th>mfcc16_var</th>\n      <th>mfcc17_mean</th>\n      <th>mfcc17_var</th>\n      <th>mfcc18_mean</th>\n      <th>mfcc18_var</th>\n      <th>mfcc19_mean</th>\n      <th>mfcc19_var</th>\n      <th>mfcc20_mean</th>\n      <th>mfcc20_var</th>\n      <th>label</th>\n    </tr>\n  </thead>\n  <tbody>\n    <tr>\n      <th>0</th>\n      <td>66149</td>\n      <td>0.335406</td>\n      <td>0.091048</td>\n      <td>0.130405</td>\n      <td>0.003521</td>\n      <td>1773.065032</td>\n      <td>167541.63090</td>\n      <td>1972.744388</td>\n      <td>117335.77160</td>\n      <td>3714.560359</td>\n      <td>...</td>\n      <td>39.687145</td>\n      <td>-3.241280</td>\n      <td>36.488243</td>\n      <td>0.722209</td>\n      <td>38.099152</td>\n      <td>-5.050335</td>\n      <td>33.618073</td>\n      <td>-0.243027</td>\n      <td>43.771767</td>\n      <td>blues</td>\n    </tr>\n    <tr>\n      <th>1</th>\n      <td>66149</td>\n      <td>0.343065</td>\n      <td>0.086147</td>\n      <td>0.112699</td>\n      <td>0.001450</td>\n      <td>1816.693777</td>\n      <td>90525.69087</td>\n      <td>2010.051501</td>\n      <td>65671.87567</td>\n      <td>3869.682242</td>\n      <td>...</td>\n      <td>64.748276</td>\n      <td>-6.055294</td>\n      <td>40.677654</td>\n      <td>0.159015</td>\n      <td>51.264091</td>\n      <td>-2.837699</td>\n      <td>97.030830</td>\n      <td>5.784063</td>\n      <td>59.943081</td>\n      <td>blues</td>\n    </tr>\n    <tr>\n      <th>2</th>\n      <td>66149</td>\n      <td>0.346815</td>\n      <td>0.092243</td>\n      <td>0.132003</td>\n      <td>0.004620</td>\n      <td>1788.539719</td>\n      <td>111407.43760</td>\n      <td>2084.565132</td>\n      <td>75124.92172</td>\n      <td>3997.639160</td>\n      <td>...</td>\n      <td>67.336563</td>\n      <td>-1.768610</td>\n      <td>28.348579</td>\n      <td>2.378768</td>\n      <td>45.717648</td>\n      <td>-1.938424</td>\n      <td>53.050835</td>\n      <td>2.517375</td>\n      <td>33.105122</td>\n      <td>blues</td>\n    </tr>\n    <tr>\n      <th>3</th>\n      <td>66149</td>\n      <td>0.363639</td>\n      <td>0.086856</td>\n      <td>0.132565</td>\n      <td>0.002448</td>\n      <td>1655.289045</td>\n      <td>111952.28450</td>\n      <td>1960.039988</td>\n      <td>82913.63927</td>\n      <td>3568.300218</td>\n      <td>...</td>\n      <td>47.739452</td>\n      <td>-3.841155</td>\n      <td>28.337118</td>\n      <td>1.218588</td>\n      <td>34.770935</td>\n      <td>-3.580352</td>\n      <td>50.836224</td>\n      <td>3.630866</td>\n      <td>32.023678</td>\n      <td>blues</td>\n    </tr>\n    <tr>\n      <th>4</th>\n      <td>66149</td>\n      <td>0.335579</td>\n      <td>0.088129</td>\n      <td>0.143289</td>\n      <td>0.001701</td>\n      <td>1630.656199</td>\n      <td>79667.26765</td>\n      <td>1948.503884</td>\n      <td>60204.02027</td>\n      <td>3469.992864</td>\n      <td>...</td>\n      <td>30.336359</td>\n      <td>0.664582</td>\n      <td>45.880913</td>\n      <td>1.689446</td>\n      <td>51.363583</td>\n      <td>-3.392489</td>\n      <td>26.738789</td>\n      <td>0.536961</td>\n      <td>29.146694</td>\n      <td>blues</td>\n    </tr>\n    <tr>\n      <th>5</th>\n      <td>66149</td>\n      <td>0.376670</td>\n      <td>0.089702</td>\n      <td>0.132618</td>\n      <td>0.003583</td>\n      <td>1994.915219</td>\n      <td>211700.61960</td>\n      <td>2152.767854</td>\n      <td>74263.87310</td>\n      <td>4371.985614</td>\n      <td>...</td>\n      <td>31.448069</td>\n      <td>-3.448373</td>\n      <td>34.284130</td>\n      <td>-0.416165</td>\n      <td>40.791092</td>\n      <td>-3.649625</td>\n      <td>32.457901</td>\n      <td>3.025218</td>\n      <td>28.892687</td>\n      <td>blues</td>\n    </tr>\n    <tr>\n      <th>6</th>\n      <td>66149</td>\n      <td>0.379909</td>\n      <td>0.088827</td>\n      <td>0.130335</td>\n      <td>0.003166</td>\n      <td>1962.150096</td>\n      <td>177443.07000</td>\n      <td>2146.503479</td>\n      <td>98020.54142</td>\n      <td>4325.026668</td>\n      <td>...</td>\n      <td>33.954071</td>\n      <td>-2.068194</td>\n      <td>25.623655</td>\n      <td>1.428141</td>\n      <td>47.957699</td>\n      <td>-3.267124</td>\n      <td>39.382240</td>\n      <td>3.276939</td>\n      <td>25.999132</td>\n      <td>blues</td>\n    </tr>\n    <tr>\n      <th>7</th>\n      <td>66149</td>\n      <td>0.331880</td>\n      <td>0.092119</td>\n      <td>0.140600</td>\n      <td>0.002546</td>\n      <td>1701.890924</td>\n      <td>35678.13062</td>\n      <td>1979.387612</td>\n      <td>36670.72589</td>\n      <td>3625.280386</td>\n      <td>...</td>\n      <td>38.456211</td>\n      <td>-3.637886</td>\n      <td>24.530296</td>\n      <td>-0.105148</td>\n      <td>26.716150</td>\n      <td>-2.016985</td>\n      <td>23.150423</td>\n      <td>0.210787</td>\n      <td>42.512966</td>\n      <td>blues</td>\n    </tr>\n    <tr>\n      <th>8</th>\n      <td>66149</td>\n      <td>0.347877</td>\n      <td>0.094209</td>\n      <td>0.133130</td>\n      <td>0.002538</td>\n      <td>1746.473502</td>\n      <td>138073.93120</td>\n      <td>1887.619723</td>\n      <td>117069.92000</td>\n      <td>3586.934721</td>\n      <td>...</td>\n      <td>44.311455</td>\n      <td>-4.370029</td>\n      <td>29.873167</td>\n      <td>2.114592</td>\n      <td>33.843155</td>\n      <td>-2.264663</td>\n      <td>80.812393</td>\n      <td>3.758598</td>\n      <td>97.618835</td>\n      <td>blues</td>\n    </tr>\n    <tr>\n      <th>9</th>\n      <td>66149</td>\n      <td>0.358061</td>\n      <td>0.082957</td>\n      <td>0.115312</td>\n      <td>0.001846</td>\n      <td>1763.948942</td>\n      <td>61493.42312</td>\n      <td>1874.195710</td>\n      <td>51944.92144</td>\n      <td>3505.522649</td>\n      <td>...</td>\n      <td>43.967834</td>\n      <td>-3.448304</td>\n      <td>48.671944</td>\n      <td>0.099792</td>\n      <td>41.839546</td>\n      <td>-7.677177</td>\n      <td>96.253654</td>\n      <td>0.791776</td>\n      <td>40.416420</td>\n      <td>blues</td>\n    </tr>\n  </tbody>\n</table>\n<p>10 rows × 59 columns</p>\n</div>"
     },
     "metadata": {},
     "execution_count": 8
    }
   ],
   "source": [
    "# Read the csv file as data\n",
    "data = pd.read_csv('D:\\PAL\\CS\\Github\\SA-CAIITG\\WEEK 4\\SA2021_W4_Music.csv')\n",
    "# you may print first few rows\n",
    "data.head(10)"
   ]
  },
  {
   "cell_type": "code",
   "execution_count": 9,
   "metadata": {},
   "outputs": [
    {
     "output_type": "execute_result",
     "data": {
      "text/plain": [
       "        length  chroma_stft_mean  chroma_stft_var     rms_mean       rms_var  \\\n",
       "count   9990.0       9990.000000      9990.000000  9990.000000  9.990000e+03   \n",
       "mean   66149.0          0.379534         0.084876     0.130859  2.676388e-03   \n",
       "std        0.0          0.090466         0.009637     0.068545  3.585628e-03   \n",
       "min    66149.0          0.107108         0.015345     0.000953  4.380000e-08   \n",
       "25%    66149.0          0.315698         0.079833     0.083782  6.145900e-04   \n",
       "50%    66149.0          0.384741         0.085108     0.121253  1.491318e-03   \n",
       "75%    66149.0          0.442443         0.091092     0.176328  3.130862e-03   \n",
       "max    66149.0          0.749481         0.120964     0.442567  3.261522e-02   \n",
       "\n",
       "       spectral_centroid_mean  spectral_centroid_var  spectral_bandwidth_mean  \\\n",
       "count             9990.000000           9.990000e+03              9990.000000   \n",
       "mean              2199.219431           4.166727e+05              2241.385959   \n",
       "std                751.860611           4.349644e+05               543.854449   \n",
       "min                472.741636           8.118813e+02               499.162910   \n",
       "25%               1630.680158           1.231961e+05              1887.455789   \n",
       "50%               2208.628236           2.650692e+05              2230.575595   \n",
       "75%               2712.581883           5.624152e+05              2588.340505   \n",
       "max               5432.534406           4.794119e+06              3708.147554   \n",
       "\n",
       "       spectral_bandwidth_var  rolloff_mean  ...  mfcc16_mean   mfcc16_var  \\\n",
       "count            9.990000e+03   9990.000000  ...  9990.000000  9990.000000   \n",
       "mean             1.182711e+05   4566.076592  ...     1.448240    49.988755   \n",
       "std              1.013505e+05   1642.065335  ...     5.735149    34.442816   \n",
       "min              1.183520e+03    658.336276  ...   -26.850016     1.325786   \n",
       "25%              4.876553e+04   3378.311110  ...    -2.227478    29.584894   \n",
       "50%              8.996072e+04   4631.377892  ...     1.461623    41.702393   \n",
       "75%              1.585674e+05   5591.634521  ...     5.149752    59.274619   \n",
       "max              1.235143e+06   9487.446477  ...    39.144405   683.932556   \n",
       "\n",
       "       mfcc17_mean   mfcc17_var  mfcc18_mean   mfcc18_var  mfcc19_mean  \\\n",
       "count  9990.000000  9990.000000  9990.000000  9990.000000  9990.000000   \n",
       "mean     -4.198706    51.962753     0.739943    52.488851    -2.497306   \n",
       "std       5.677379    36.400669     5.181313    38.177120     5.111799   \n",
       "min     -27.809795     1.624544   -20.733809     3.437439   -27.448456   \n",
       "25%      -7.951722    29.863448    -2.516638    29.636197    -5.734123   \n",
       "50%      -4.443021    42.393583     0.733772    41.831377    -2.702366   \n",
       "75%      -0.726945    61.676964     3.888734    62.033906     0.514246   \n",
       "max      34.048843   529.363342    36.970322   629.729797    31.365425   \n",
       "\n",
       "        mfcc19_var  mfcc20_mean   mfcc20_var  \n",
       "count  9990.000000  9990.000000  9990.000000  \n",
       "mean     54.973829    -0.917584    57.322614  \n",
       "std      41.585677     5.253243    46.444212  \n",
       "min       3.065302   -35.640659     0.282131  \n",
       "25%      30.496412    -4.004475    30.011365  \n",
       "50%      43.435253    -1.030939    44.332155  \n",
       "75%      65.328602     2.216603    68.210421  \n",
       "max    1143.230591    34.212101   910.473206  \n",
       "\n",
       "[8 rows x 58 columns]"
      ],
      "text/html": "<div>\n<style scoped>\n    .dataframe tbody tr th:only-of-type {\n        vertical-align: middle;\n    }\n\n    .dataframe tbody tr th {\n        vertical-align: top;\n    }\n\n    .dataframe thead th {\n        text-align: right;\n    }\n</style>\n<table border=\"1\" class=\"dataframe\">\n  <thead>\n    <tr style=\"text-align: right;\">\n      <th></th>\n      <th>length</th>\n      <th>chroma_stft_mean</th>\n      <th>chroma_stft_var</th>\n      <th>rms_mean</th>\n      <th>rms_var</th>\n      <th>spectral_centroid_mean</th>\n      <th>spectral_centroid_var</th>\n      <th>spectral_bandwidth_mean</th>\n      <th>spectral_bandwidth_var</th>\n      <th>rolloff_mean</th>\n      <th>...</th>\n      <th>mfcc16_mean</th>\n      <th>mfcc16_var</th>\n      <th>mfcc17_mean</th>\n      <th>mfcc17_var</th>\n      <th>mfcc18_mean</th>\n      <th>mfcc18_var</th>\n      <th>mfcc19_mean</th>\n      <th>mfcc19_var</th>\n      <th>mfcc20_mean</th>\n      <th>mfcc20_var</th>\n    </tr>\n  </thead>\n  <tbody>\n    <tr>\n      <th>count</th>\n      <td>9990.0</td>\n      <td>9990.000000</td>\n      <td>9990.000000</td>\n      <td>9990.000000</td>\n      <td>9.990000e+03</td>\n      <td>9990.000000</td>\n      <td>9.990000e+03</td>\n      <td>9990.000000</td>\n      <td>9.990000e+03</td>\n      <td>9990.000000</td>\n      <td>...</td>\n      <td>9990.000000</td>\n      <td>9990.000000</td>\n      <td>9990.000000</td>\n      <td>9990.000000</td>\n      <td>9990.000000</td>\n      <td>9990.000000</td>\n      <td>9990.000000</td>\n      <td>9990.000000</td>\n      <td>9990.000000</td>\n      <td>9990.000000</td>\n    </tr>\n    <tr>\n      <th>mean</th>\n      <td>66149.0</td>\n      <td>0.379534</td>\n      <td>0.084876</td>\n      <td>0.130859</td>\n      <td>2.676388e-03</td>\n      <td>2199.219431</td>\n      <td>4.166727e+05</td>\n      <td>2241.385959</td>\n      <td>1.182711e+05</td>\n      <td>4566.076592</td>\n      <td>...</td>\n      <td>1.448240</td>\n      <td>49.988755</td>\n      <td>-4.198706</td>\n      <td>51.962753</td>\n      <td>0.739943</td>\n      <td>52.488851</td>\n      <td>-2.497306</td>\n      <td>54.973829</td>\n      <td>-0.917584</td>\n      <td>57.322614</td>\n    </tr>\n    <tr>\n      <th>std</th>\n      <td>0.0</td>\n      <td>0.090466</td>\n      <td>0.009637</td>\n      <td>0.068545</td>\n      <td>3.585628e-03</td>\n      <td>751.860611</td>\n      <td>4.349644e+05</td>\n      <td>543.854449</td>\n      <td>1.013505e+05</td>\n      <td>1642.065335</td>\n      <td>...</td>\n      <td>5.735149</td>\n      <td>34.442816</td>\n      <td>5.677379</td>\n      <td>36.400669</td>\n      <td>5.181313</td>\n      <td>38.177120</td>\n      <td>5.111799</td>\n      <td>41.585677</td>\n      <td>5.253243</td>\n      <td>46.444212</td>\n    </tr>\n    <tr>\n      <th>min</th>\n      <td>66149.0</td>\n      <td>0.107108</td>\n      <td>0.015345</td>\n      <td>0.000953</td>\n      <td>4.380000e-08</td>\n      <td>472.741636</td>\n      <td>8.118813e+02</td>\n      <td>499.162910</td>\n      <td>1.183520e+03</td>\n      <td>658.336276</td>\n      <td>...</td>\n      <td>-26.850016</td>\n      <td>1.325786</td>\n      <td>-27.809795</td>\n      <td>1.624544</td>\n      <td>-20.733809</td>\n      <td>3.437439</td>\n      <td>-27.448456</td>\n      <td>3.065302</td>\n      <td>-35.640659</td>\n      <td>0.282131</td>\n    </tr>\n    <tr>\n      <th>25%</th>\n      <td>66149.0</td>\n      <td>0.315698</td>\n      <td>0.079833</td>\n      <td>0.083782</td>\n      <td>6.145900e-04</td>\n      <td>1630.680158</td>\n      <td>1.231961e+05</td>\n      <td>1887.455789</td>\n      <td>4.876553e+04</td>\n      <td>3378.311110</td>\n      <td>...</td>\n      <td>-2.227478</td>\n      <td>29.584894</td>\n      <td>-7.951722</td>\n      <td>29.863448</td>\n      <td>-2.516638</td>\n      <td>29.636197</td>\n      <td>-5.734123</td>\n      <td>30.496412</td>\n      <td>-4.004475</td>\n      <td>30.011365</td>\n    </tr>\n    <tr>\n      <th>50%</th>\n      <td>66149.0</td>\n      <td>0.384741</td>\n      <td>0.085108</td>\n      <td>0.121253</td>\n      <td>1.491318e-03</td>\n      <td>2208.628236</td>\n      <td>2.650692e+05</td>\n      <td>2230.575595</td>\n      <td>8.996072e+04</td>\n      <td>4631.377892</td>\n      <td>...</td>\n      <td>1.461623</td>\n      <td>41.702393</td>\n      <td>-4.443021</td>\n      <td>42.393583</td>\n      <td>0.733772</td>\n      <td>41.831377</td>\n      <td>-2.702366</td>\n      <td>43.435253</td>\n      <td>-1.030939</td>\n      <td>44.332155</td>\n    </tr>\n    <tr>\n      <th>75%</th>\n      <td>66149.0</td>\n      <td>0.442443</td>\n      <td>0.091092</td>\n      <td>0.176328</td>\n      <td>3.130862e-03</td>\n      <td>2712.581883</td>\n      <td>5.624152e+05</td>\n      <td>2588.340505</td>\n      <td>1.585674e+05</td>\n      <td>5591.634521</td>\n      <td>...</td>\n      <td>5.149752</td>\n      <td>59.274619</td>\n      <td>-0.726945</td>\n      <td>61.676964</td>\n      <td>3.888734</td>\n      <td>62.033906</td>\n      <td>0.514246</td>\n      <td>65.328602</td>\n      <td>2.216603</td>\n      <td>68.210421</td>\n    </tr>\n    <tr>\n      <th>max</th>\n      <td>66149.0</td>\n      <td>0.749481</td>\n      <td>0.120964</td>\n      <td>0.442567</td>\n      <td>3.261522e-02</td>\n      <td>5432.534406</td>\n      <td>4.794119e+06</td>\n      <td>3708.147554</td>\n      <td>1.235143e+06</td>\n      <td>9487.446477</td>\n      <td>...</td>\n      <td>39.144405</td>\n      <td>683.932556</td>\n      <td>34.048843</td>\n      <td>529.363342</td>\n      <td>36.970322</td>\n      <td>629.729797</td>\n      <td>31.365425</td>\n      <td>1143.230591</td>\n      <td>34.212101</td>\n      <td>910.473206</td>\n    </tr>\n  </tbody>\n</table>\n<p>8 rows × 58 columns</p>\n</div>"
     },
     "metadata": {},
     "execution_count": 9
    }
   ],
   "source": [
    "data.describe()"
   ]
  },
  {
   "cell_type": "markdown",
   "metadata": {},
   "source": [
    "#### 0. What is the shape of the dataset?\n",
    "\n",
    "Expected Output : (9990, 59)"
   ]
  },
  {
   "cell_type": "code",
   "execution_count": 10,
   "metadata": {},
   "outputs": [
    {
     "output_type": "execute_result",
     "data": {
      "text/plain": [
       "(9990, 59)"
      ]
     },
     "metadata": {},
     "execution_count": 10
    }
   ],
   "source": [
    "#YOUR CODE HERE\n",
    "data.shape"
   ]
  },
  {
   "cell_type": "markdown",
   "metadata": {},
   "source": [
    "## Since we now know basic EDA, let's try to visualize this dataset:"
   ]
  },
  {
   "cell_type": "markdown",
   "metadata": {},
   "source": [
    "1. #### Plot Correlation heatmap for all the mean variables [Columns based on Mean]:\n",
    "\n"
   ]
  },
  {
   "cell_type": "code",
   "execution_count": 11,
   "metadata": {},
   "outputs": [],
   "source": [
    "# Cell to plot heatmap. A few lines to get you started.\n",
    "\n",
    "cols = [col for col in data.columns if 'mean' in col]\n",
    "corr = data[cols].corr()\n",
    "corr_mean = corr.mean()"
   ]
  },
  {
   "cell_type": "code",
   "execution_count": 39,
   "metadata": {},
   "outputs": [
    {
     "output_type": "execute_result",
     "data": {
      "text/plain": [
       "                         chroma_stft_mean  rms_mean  spectral_centroid_mean  \\\n",
       "mfcc2_mean                      -0.513978 -0.453606               -0.931435   \n",
       "mfcc4_mean                       0.213522 -0.034473               -0.165793   \n",
       "mfcc17_mean                     -0.103968 -0.013952                0.026879   \n",
       "perceptr_mean                   -0.109303 -0.012401               -0.004654   \n",
       "mfcc15_mean                     -0.078784  0.012184                0.035098   \n",
       "mfcc19_mean                     -0.062985  0.024552                0.018651   \n",
       "mfcc13_mean                     -0.036171  0.043769                0.058537   \n",
       "mfcc16_mean                      0.228293  0.055563                0.116866   \n",
       "harmony_mean                     0.034305  0.065134                0.050559   \n",
       "mfcc6_mean                       0.342903  0.072916               -0.027122   \n",
       "mfcc20_mean                      0.193666  0.082251                0.191512   \n",
       "mfcc18_mean                      0.168254  0.087615                0.177934   \n",
       "mfcc14_mean                      0.297993  0.113960                0.118186   \n",
       "mfcc5_mean                       0.069027  0.122941                0.078506   \n",
       "mfcc11_mean                      0.108459  0.133593                0.144027   \n",
       "mfcc12_mean                      0.400529  0.134779                0.118541   \n",
       "mfcc8_mean                       0.423220  0.134868                0.088172   \n",
       "mfcc3_mean                       0.013981  0.136936                0.195977   \n",
       "mfcc10_mean                      0.376734  0.144650                0.146238   \n",
       "mfcc7_mean                       0.112848  0.181207                0.196388   \n",
       "mfcc9_mean                       0.155357  0.213195                0.260035   \n",
       "zero_crossing_rate_mean          0.457080  0.293745                0.865487   \n",
       "chroma_stft_mean                 1.000000  0.424706                0.534670   \n",
       "spectral_centroid_mean           0.534670  0.470781                1.000000   \n",
       "spectral_bandwidth_mean          0.464617  0.495142                0.890382   \n",
       "rolloff_mean                     0.526881  0.500178                0.974360   \n",
       "mfcc1_mean                       0.573974  0.795000                0.686196   \n",
       "rms_mean                         0.424706  1.000000                0.470781   \n",
       "\n",
       "                         spectral_bandwidth_mean  rolloff_mean  \\\n",
       "mfcc2_mean                             -0.887156     -0.923652   \n",
       "mfcc4_mean                             -0.298786     -0.182640   \n",
       "mfcc17_mean                             0.089523      0.035871   \n",
       "perceptr_mean                           0.017851     -0.011073   \n",
       "mfcc15_mean                             0.125946      0.042899   \n",
       "mfcc19_mean                             0.074453      0.033071   \n",
       "mfcc13_mean                             0.199991      0.087349   \n",
       "mfcc16_mean                             0.012459      0.098611   \n",
       "harmony_mean                            0.064358      0.051363   \n",
       "mfcc6_mean                             -0.094698     -0.006269   \n",
       "mfcc20_mean                             0.133895      0.182626   \n",
       "mfcc18_mean                             0.084331      0.158802   \n",
       "mfcc14_mean                             0.025717      0.109308   \n",
       "mfcc5_mean                              0.314642      0.137204   \n",
       "mfcc11_mean                             0.277708      0.167872   \n",
       "mfcc12_mean                             0.004485      0.110553   \n",
       "mfcc8_mean                             -0.002155      0.095158   \n",
       "mfcc3_mean                              0.515133      0.308917   \n",
       "mfcc10_mean                             0.031015      0.140193   \n",
       "mfcc7_mean                              0.375831      0.234987   \n",
       "mfcc9_mean                              0.385406      0.287332   \n",
       "zero_crossing_rate_mean                 0.577015      0.755442   \n",
       "chroma_stft_mean                        0.464617      0.526881   \n",
       "spectral_centroid_mean                  0.890382      0.974360   \n",
       "spectral_bandwidth_mean                 1.000000      0.951000   \n",
       "rolloff_mean                            0.951000      1.000000   \n",
       "mfcc1_mean                              0.615946      0.688779   \n",
       "rms_mean                                0.495142      0.500178   \n",
       "\n",
       "                         zero_crossing_rate_mean  harmony_mean  perceptr_mean  \\\n",
       "mfcc2_mean                             -0.739485     -0.041915       0.032616   \n",
       "mfcc4_mean                             -0.044847     -0.061991      -0.210213   \n",
       "mfcc17_mean                            -0.053256      0.008767       0.055817   \n",
       "perceptr_mean                          -0.027739      0.546123       1.000000   \n",
       "mfcc15_mean                            -0.073881      0.054587       0.135161   \n",
       "mfcc19_mean                            -0.058103      0.038825       0.073268   \n",
       "mfcc13_mean                            -0.112906      0.046471       0.108342   \n",
       "mfcc16_mean                             0.196571     -0.086724      -0.165075   \n",
       "harmony_mean                            0.021418      1.000000       0.546123   \n",
       "mfcc6_mean                              0.019753     -0.106517      -0.226526   \n",
       "mfcc20_mean                             0.211582     -0.036651      -0.075263   \n",
       "mfcc18_mean                             0.233676     -0.061114      -0.080387   \n",
       "mfcc14_mean                             0.174409     -0.054840      -0.106998   \n",
       "mfcc5_mean                             -0.183668      0.074815       0.088334   \n",
       "mfcc11_mean                            -0.040104      0.038731       0.095192   \n",
       "mfcc12_mean                             0.190734     -0.069008      -0.154480   \n",
       "mfcc8_mean                              0.140365     -0.059041      -0.206558   \n",
       "mfcc3_mean                             -0.167604      0.053061       0.115828   \n",
       "mfcc10_mean                             0.220265     -0.050178      -0.174491   \n",
       "mfcc7_mean                             -0.039442      0.072796       0.080452   \n",
       "mfcc9_mean                              0.052420      0.054333       0.094026   \n",
       "zero_crossing_rate_mean                 1.000000      0.021418      -0.027739   \n",
       "chroma_stft_mean                        0.457080      0.034305      -0.109303   \n",
       "spectral_centroid_mean                  0.865487      0.050559      -0.004654   \n",
       "spectral_bandwidth_mean                 0.577015      0.064358       0.017851   \n",
       "rolloff_mean                            0.755442      0.051363      -0.011073   \n",
       "mfcc1_mean                              0.590236      0.026708      -0.093169   \n",
       "rms_mean                                0.293745      0.065134      -0.012401   \n",
       "\n",
       "                         mfcc1_mean  mfcc2_mean  ...  mfcc11_mean  \\\n",
       "mfcc2_mean                -0.612310    1.000000  ...    -0.186252   \n",
       "mfcc4_mean                 0.040875    0.061804  ...    -0.349336   \n",
       "mfcc17_mean               -0.165295   -0.039512  ...     0.377836   \n",
       "perceptr_mean             -0.093169    0.032616  ...     0.095192   \n",
       "mfcc15_mean               -0.152374   -0.067593  ...     0.479936   \n",
       "mfcc19_mean               -0.106033   -0.017996  ...     0.340867   \n",
       "mfcc13_mean               -0.127468   -0.108140  ...     0.628360   \n",
       "mfcc16_mean                0.131637   -0.131528  ...    -0.177587   \n",
       "harmony_mean               0.026708   -0.041915  ...     0.038731   \n",
       "mfcc6_mean                 0.153723   -0.061134  ...    -0.366054   \n",
       "mfcc20_mean                0.131098   -0.173734  ...    -0.000124   \n",
       "mfcc18_mean                0.145346   -0.165099  ...    -0.112753   \n",
       "mfcc14_mean                0.173863   -0.152560  ...    -0.170144   \n",
       "mfcc5_mean                -0.079129   -0.154083  ...     0.561698   \n",
       "mfcc11_mean                0.000314   -0.186252  ...     1.000000   \n",
       "mfcc12_mean                0.247536   -0.138877  ...    -0.192953   \n",
       "mfcc8_mean                 0.256378   -0.158884  ...    -0.361717   \n",
       "mfcc3_mean                -0.086338   -0.273366  ...     0.380326   \n",
       "mfcc10_mean                0.269785   -0.176950  ...    -0.253923   \n",
       "mfcc7_mean                 0.031010   -0.242909  ...     0.642099   \n",
       "mfcc9_mean                 0.061538   -0.286309  ...     0.625438   \n",
       "zero_crossing_rate_mean    0.590236   -0.739485  ...    -0.040104   \n",
       "chroma_stft_mean           0.573974   -0.513978  ...     0.108459   \n",
       "spectral_centroid_mean     0.686196   -0.931435  ...     0.144027   \n",
       "spectral_bandwidth_mean    0.615946   -0.887156  ...     0.277708   \n",
       "rolloff_mean               0.688779   -0.923652  ...     0.167872   \n",
       "mfcc1_mean                 1.000000   -0.612310  ...     0.000314   \n",
       "rms_mean                   0.795000   -0.453606  ...     0.133593   \n",
       "\n",
       "                         mfcc12_mean  mfcc13_mean  mfcc14_mean  mfcc15_mean  \\\n",
       "mfcc2_mean                 -0.138877    -0.108140    -0.152560    -0.067593   \n",
       "mfcc4_mean                  0.508595    -0.394273     0.367209    -0.357817   \n",
       "mfcc17_mean                -0.263923     0.379630    -0.109517     0.522975   \n",
       "perceptr_mean              -0.154480     0.108342    -0.106998     0.135161   \n",
       "mfcc15_mean                -0.304034     0.576164     0.025830     1.000000   \n",
       "mfcc19_mean                -0.169898     0.307131    -0.149703     0.241806   \n",
       "mfcc13_mean                -0.223165     1.000000    -0.047043     0.576164   \n",
       "mfcc16_mean                 0.433077    -0.175522     0.506653     0.098438   \n",
       "harmony_mean               -0.069008     0.046471    -0.054840     0.054587   \n",
       "mfcc6_mean                  0.627976    -0.404760     0.477274    -0.383006   \n",
       "mfcc20_mean                 0.293125    -0.031201     0.222342    -0.091470   \n",
       "mfcc18_mean                 0.330363    -0.214577     0.269913    -0.061796   \n",
       "mfcc14_mean                 0.589555    -0.047043     1.000000     0.025830   \n",
       "mfcc5_mean                 -0.380338     0.536126    -0.302974     0.436782   \n",
       "mfcc11_mean                -0.192953     0.628360    -0.170144     0.479936   \n",
       "mfcc12_mean                 1.000000    -0.223165     0.589555    -0.304034   \n",
       "mfcc8_mean                  0.653899    -0.405729     0.565133    -0.365140   \n",
       "mfcc3_mean                 -0.269492     0.363331    -0.203824     0.245851   \n",
       "mfcc10_mean                 0.679631    -0.381323     0.539950    -0.305998   \n",
       "mfcc7_mean                 -0.373271     0.594087    -0.277873     0.492847   \n",
       "mfcc9_mean                 -0.314632     0.559575    -0.216295     0.532641   \n",
       "zero_crossing_rate_mean     0.190734    -0.112906     0.174409    -0.073881   \n",
       "chroma_stft_mean            0.400529    -0.036171     0.297993    -0.078784   \n",
       "spectral_centroid_mean      0.118541     0.058537     0.118186     0.035098   \n",
       "spectral_bandwidth_mean     0.004485     0.199991     0.025717     0.125946   \n",
       "rolloff_mean                0.110553     0.087349     0.109308     0.042899   \n",
       "mfcc1_mean                  0.247536    -0.127468     0.173863    -0.152374   \n",
       "rms_mean                    0.134779     0.043769     0.113960     0.012184   \n",
       "\n",
       "                         mfcc16_mean  mfcc17_mean  mfcc18_mean  mfcc19_mean  \\\n",
       "mfcc2_mean                 -0.131528    -0.039512    -0.165099    -0.017996   \n",
       "mfcc4_mean                  0.326792    -0.313803     0.117687    -0.203544   \n",
       "mfcc17_mean                 0.184646     1.000000     0.267657     0.396497   \n",
       "perceptr_mean              -0.165075     0.055817    -0.080387     0.073268   \n",
       "mfcc15_mean                 0.098438     0.522975    -0.061796     0.241806   \n",
       "mfcc19_mean                -0.050022     0.396497     0.289336     1.000000   \n",
       "mfcc13_mean                -0.175522     0.379630    -0.214577     0.307131   \n",
       "mfcc16_mean                 1.000000     0.184646     0.442218    -0.050022   \n",
       "harmony_mean               -0.086724     0.008767    -0.061114     0.038825   \n",
       "mfcc6_mean                  0.379736    -0.316158     0.251641    -0.235553   \n",
       "mfcc20_mean                 0.203262     0.016829     0.267654     0.377956   \n",
       "mfcc18_mean                 0.442218     0.267657     1.000000     0.289336   \n",
       "mfcc14_mean                 0.506653    -0.109517     0.269913    -0.149703   \n",
       "mfcc5_mean                 -0.279549     0.287429    -0.238413     0.246904   \n",
       "mfcc11_mean                -0.177587     0.377836    -0.112753     0.340867   \n",
       "mfcc12_mean                 0.433077    -0.263923     0.330363    -0.169898   \n",
       "mfcc8_mean                  0.471734    -0.317046     0.305576    -0.249339   \n",
       "mfcc3_mean                 -0.233661     0.183993    -0.150529     0.160484   \n",
       "mfcc10_mean                 0.477793    -0.229256     0.406386    -0.162905   \n",
       "mfcc7_mean                 -0.252008     0.400902    -0.204423     0.312595   \n",
       "mfcc9_mean                 -0.177736     0.451653    -0.088542     0.313192   \n",
       "zero_crossing_rate_mean     0.196571    -0.053256     0.233676    -0.058103   \n",
       "chroma_stft_mean            0.228293    -0.103968     0.168254    -0.062985   \n",
       "spectral_centroid_mean      0.116866     0.026879     0.177934     0.018651   \n",
       "spectral_bandwidth_mean     0.012459     0.089523     0.084331     0.074453   \n",
       "rolloff_mean                0.098611     0.035871     0.158802     0.033071   \n",
       "mfcc1_mean                  0.131637    -0.165295     0.145346    -0.106033   \n",
       "rms_mean                    0.055563    -0.013952     0.087615     0.024552   \n",
       "\n",
       "                         mfcc20_mean  \n",
       "mfcc2_mean                 -0.173734  \n",
       "mfcc4_mean                  0.080553  \n",
       "mfcc17_mean                 0.016829  \n",
       "perceptr_mean              -0.075263  \n",
       "mfcc15_mean                -0.091470  \n",
       "mfcc19_mean                 0.377956  \n",
       "mfcc13_mean                -0.031201  \n",
       "mfcc16_mean                 0.203262  \n",
       "harmony_mean               -0.036651  \n",
       "mfcc6_mean                  0.124554  \n",
       "mfcc20_mean                 1.000000  \n",
       "mfcc18_mean                 0.267654  \n",
       "mfcc14_mean                 0.222342  \n",
       "mfcc5_mean                 -0.101725  \n",
       "mfcc11_mean                -0.000124  \n",
       "mfcc12_mean                 0.293125  \n",
       "mfcc8_mean                  0.173534  \n",
       "mfcc3_mean                 -0.057273  \n",
       "mfcc10_mean                 0.248017  \n",
       "mfcc7_mean                 -0.031434  \n",
       "mfcc9_mean                  0.016066  \n",
       "zero_crossing_rate_mean     0.211582  \n",
       "chroma_stft_mean            0.193666  \n",
       "spectral_centroid_mean      0.191512  \n",
       "spectral_bandwidth_mean     0.133895  \n",
       "rolloff_mean                0.182626  \n",
       "mfcc1_mean                  0.131098  \n",
       "rms_mean                    0.082251  \n",
       "\n",
       "[28 rows x 28 columns]"
      ],
      "text/html": "<div>\n<style scoped>\n    .dataframe tbody tr th:only-of-type {\n        vertical-align: middle;\n    }\n\n    .dataframe tbody tr th {\n        vertical-align: top;\n    }\n\n    .dataframe thead th {\n        text-align: right;\n    }\n</style>\n<table border=\"1\" class=\"dataframe\">\n  <thead>\n    <tr style=\"text-align: right;\">\n      <th></th>\n      <th>chroma_stft_mean</th>\n      <th>rms_mean</th>\n      <th>spectral_centroid_mean</th>\n      <th>spectral_bandwidth_mean</th>\n      <th>rolloff_mean</th>\n      <th>zero_crossing_rate_mean</th>\n      <th>harmony_mean</th>\n      <th>perceptr_mean</th>\n      <th>mfcc1_mean</th>\n      <th>mfcc2_mean</th>\n      <th>...</th>\n      <th>mfcc11_mean</th>\n      <th>mfcc12_mean</th>\n      <th>mfcc13_mean</th>\n      <th>mfcc14_mean</th>\n      <th>mfcc15_mean</th>\n      <th>mfcc16_mean</th>\n      <th>mfcc17_mean</th>\n      <th>mfcc18_mean</th>\n      <th>mfcc19_mean</th>\n      <th>mfcc20_mean</th>\n    </tr>\n  </thead>\n  <tbody>\n    <tr>\n      <th>mfcc2_mean</th>\n      <td>-0.513978</td>\n      <td>-0.453606</td>\n      <td>-0.931435</td>\n      <td>-0.887156</td>\n      <td>-0.923652</td>\n      <td>-0.739485</td>\n      <td>-0.041915</td>\n      <td>0.032616</td>\n      <td>-0.612310</td>\n      <td>1.000000</td>\n      <td>...</td>\n      <td>-0.186252</td>\n      <td>-0.138877</td>\n      <td>-0.108140</td>\n      <td>-0.152560</td>\n      <td>-0.067593</td>\n      <td>-0.131528</td>\n      <td>-0.039512</td>\n      <td>-0.165099</td>\n      <td>-0.017996</td>\n      <td>-0.173734</td>\n    </tr>\n    <tr>\n      <th>mfcc4_mean</th>\n      <td>0.213522</td>\n      <td>-0.034473</td>\n      <td>-0.165793</td>\n      <td>-0.298786</td>\n      <td>-0.182640</td>\n      <td>-0.044847</td>\n      <td>-0.061991</td>\n      <td>-0.210213</td>\n      <td>0.040875</td>\n      <td>0.061804</td>\n      <td>...</td>\n      <td>-0.349336</td>\n      <td>0.508595</td>\n      <td>-0.394273</td>\n      <td>0.367209</td>\n      <td>-0.357817</td>\n      <td>0.326792</td>\n      <td>-0.313803</td>\n      <td>0.117687</td>\n      <td>-0.203544</td>\n      <td>0.080553</td>\n    </tr>\n    <tr>\n      <th>mfcc17_mean</th>\n      <td>-0.103968</td>\n      <td>-0.013952</td>\n      <td>0.026879</td>\n      <td>0.089523</td>\n      <td>0.035871</td>\n      <td>-0.053256</td>\n      <td>0.008767</td>\n      <td>0.055817</td>\n      <td>-0.165295</td>\n      <td>-0.039512</td>\n      <td>...</td>\n      <td>0.377836</td>\n      <td>-0.263923</td>\n      <td>0.379630</td>\n      <td>-0.109517</td>\n      <td>0.522975</td>\n      <td>0.184646</td>\n      <td>1.000000</td>\n      <td>0.267657</td>\n      <td>0.396497</td>\n      <td>0.016829</td>\n    </tr>\n    <tr>\n      <th>perceptr_mean</th>\n      <td>-0.109303</td>\n      <td>-0.012401</td>\n      <td>-0.004654</td>\n      <td>0.017851</td>\n      <td>-0.011073</td>\n      <td>-0.027739</td>\n      <td>0.546123</td>\n      <td>1.000000</td>\n      <td>-0.093169</td>\n      <td>0.032616</td>\n      <td>...</td>\n      <td>0.095192</td>\n      <td>-0.154480</td>\n      <td>0.108342</td>\n      <td>-0.106998</td>\n      <td>0.135161</td>\n      <td>-0.165075</td>\n      <td>0.055817</td>\n      <td>-0.080387</td>\n      <td>0.073268</td>\n      <td>-0.075263</td>\n    </tr>\n    <tr>\n      <th>mfcc15_mean</th>\n      <td>-0.078784</td>\n      <td>0.012184</td>\n      <td>0.035098</td>\n      <td>0.125946</td>\n      <td>0.042899</td>\n      <td>-0.073881</td>\n      <td>0.054587</td>\n      <td>0.135161</td>\n      <td>-0.152374</td>\n      <td>-0.067593</td>\n      <td>...</td>\n      <td>0.479936</td>\n      <td>-0.304034</td>\n      <td>0.576164</td>\n      <td>0.025830</td>\n      <td>1.000000</td>\n      <td>0.098438</td>\n      <td>0.522975</td>\n      <td>-0.061796</td>\n      <td>0.241806</td>\n      <td>-0.091470</td>\n    </tr>\n    <tr>\n      <th>mfcc19_mean</th>\n      <td>-0.062985</td>\n      <td>0.024552</td>\n      <td>0.018651</td>\n      <td>0.074453</td>\n      <td>0.033071</td>\n      <td>-0.058103</td>\n      <td>0.038825</td>\n      <td>0.073268</td>\n      <td>-0.106033</td>\n      <td>-0.017996</td>\n      <td>...</td>\n      <td>0.340867</td>\n      <td>-0.169898</td>\n      <td>0.307131</td>\n      <td>-0.149703</td>\n      <td>0.241806</td>\n      <td>-0.050022</td>\n      <td>0.396497</td>\n      <td>0.289336</td>\n      <td>1.000000</td>\n      <td>0.377956</td>\n    </tr>\n    <tr>\n      <th>mfcc13_mean</th>\n      <td>-0.036171</td>\n      <td>0.043769</td>\n      <td>0.058537</td>\n      <td>0.199991</td>\n      <td>0.087349</td>\n      <td>-0.112906</td>\n      <td>0.046471</td>\n      <td>0.108342</td>\n      <td>-0.127468</td>\n      <td>-0.108140</td>\n      <td>...</td>\n      <td>0.628360</td>\n      <td>-0.223165</td>\n      <td>1.000000</td>\n      <td>-0.047043</td>\n      <td>0.576164</td>\n      <td>-0.175522</td>\n      <td>0.379630</td>\n      <td>-0.214577</td>\n      <td>0.307131</td>\n      <td>-0.031201</td>\n    </tr>\n    <tr>\n      <th>mfcc16_mean</th>\n      <td>0.228293</td>\n      <td>0.055563</td>\n      <td>0.116866</td>\n      <td>0.012459</td>\n      <td>0.098611</td>\n      <td>0.196571</td>\n      <td>-0.086724</td>\n      <td>-0.165075</td>\n      <td>0.131637</td>\n      <td>-0.131528</td>\n      <td>...</td>\n      <td>-0.177587</td>\n      <td>0.433077</td>\n      <td>-0.175522</td>\n      <td>0.506653</td>\n      <td>0.098438</td>\n      <td>1.000000</td>\n      <td>0.184646</td>\n      <td>0.442218</td>\n      <td>-0.050022</td>\n      <td>0.203262</td>\n    </tr>\n    <tr>\n      <th>harmony_mean</th>\n      <td>0.034305</td>\n      <td>0.065134</td>\n      <td>0.050559</td>\n      <td>0.064358</td>\n      <td>0.051363</td>\n      <td>0.021418</td>\n      <td>1.000000</td>\n      <td>0.546123</td>\n      <td>0.026708</td>\n      <td>-0.041915</td>\n      <td>...</td>\n      <td>0.038731</td>\n      <td>-0.069008</td>\n      <td>0.046471</td>\n      <td>-0.054840</td>\n      <td>0.054587</td>\n      <td>-0.086724</td>\n      <td>0.008767</td>\n      <td>-0.061114</td>\n      <td>0.038825</td>\n      <td>-0.036651</td>\n    </tr>\n    <tr>\n      <th>mfcc6_mean</th>\n      <td>0.342903</td>\n      <td>0.072916</td>\n      <td>-0.027122</td>\n      <td>-0.094698</td>\n      <td>-0.006269</td>\n      <td>0.019753</td>\n      <td>-0.106517</td>\n      <td>-0.226526</td>\n      <td>0.153723</td>\n      <td>-0.061134</td>\n      <td>...</td>\n      <td>-0.366054</td>\n      <td>0.627976</td>\n      <td>-0.404760</td>\n      <td>0.477274</td>\n      <td>-0.383006</td>\n      <td>0.379736</td>\n      <td>-0.316158</td>\n      <td>0.251641</td>\n      <td>-0.235553</td>\n      <td>0.124554</td>\n    </tr>\n    <tr>\n      <th>mfcc20_mean</th>\n      <td>0.193666</td>\n      <td>0.082251</td>\n      <td>0.191512</td>\n      <td>0.133895</td>\n      <td>0.182626</td>\n      <td>0.211582</td>\n      <td>-0.036651</td>\n      <td>-0.075263</td>\n      <td>0.131098</td>\n      <td>-0.173734</td>\n      <td>...</td>\n      <td>-0.000124</td>\n      <td>0.293125</td>\n      <td>-0.031201</td>\n      <td>0.222342</td>\n      <td>-0.091470</td>\n      <td>0.203262</td>\n      <td>0.016829</td>\n      <td>0.267654</td>\n      <td>0.377956</td>\n      <td>1.000000</td>\n    </tr>\n    <tr>\n      <th>mfcc18_mean</th>\n      <td>0.168254</td>\n      <td>0.087615</td>\n      <td>0.177934</td>\n      <td>0.084331</td>\n      <td>0.158802</td>\n      <td>0.233676</td>\n      <td>-0.061114</td>\n      <td>-0.080387</td>\n      <td>0.145346</td>\n      <td>-0.165099</td>\n      <td>...</td>\n      <td>-0.112753</td>\n      <td>0.330363</td>\n      <td>-0.214577</td>\n      <td>0.269913</td>\n      <td>-0.061796</td>\n      <td>0.442218</td>\n      <td>0.267657</td>\n      <td>1.000000</td>\n      <td>0.289336</td>\n      <td>0.267654</td>\n    </tr>\n    <tr>\n      <th>mfcc14_mean</th>\n      <td>0.297993</td>\n      <td>0.113960</td>\n      <td>0.118186</td>\n      <td>0.025717</td>\n      <td>0.109308</td>\n      <td>0.174409</td>\n      <td>-0.054840</td>\n      <td>-0.106998</td>\n      <td>0.173863</td>\n      <td>-0.152560</td>\n      <td>...</td>\n      <td>-0.170144</td>\n      <td>0.589555</td>\n      <td>-0.047043</td>\n      <td>1.000000</td>\n      <td>0.025830</td>\n      <td>0.506653</td>\n      <td>-0.109517</td>\n      <td>0.269913</td>\n      <td>-0.149703</td>\n      <td>0.222342</td>\n    </tr>\n    <tr>\n      <th>mfcc5_mean</th>\n      <td>0.069027</td>\n      <td>0.122941</td>\n      <td>0.078506</td>\n      <td>0.314642</td>\n      <td>0.137204</td>\n      <td>-0.183668</td>\n      <td>0.074815</td>\n      <td>0.088334</td>\n      <td>-0.079129</td>\n      <td>-0.154083</td>\n      <td>...</td>\n      <td>0.561698</td>\n      <td>-0.380338</td>\n      <td>0.536126</td>\n      <td>-0.302974</td>\n      <td>0.436782</td>\n      <td>-0.279549</td>\n      <td>0.287429</td>\n      <td>-0.238413</td>\n      <td>0.246904</td>\n      <td>-0.101725</td>\n    </tr>\n    <tr>\n      <th>mfcc11_mean</th>\n      <td>0.108459</td>\n      <td>0.133593</td>\n      <td>0.144027</td>\n      <td>0.277708</td>\n      <td>0.167872</td>\n      <td>-0.040104</td>\n      <td>0.038731</td>\n      <td>0.095192</td>\n      <td>0.000314</td>\n      <td>-0.186252</td>\n      <td>...</td>\n      <td>1.000000</td>\n      <td>-0.192953</td>\n      <td>0.628360</td>\n      <td>-0.170144</td>\n      <td>0.479936</td>\n      <td>-0.177587</td>\n      <td>0.377836</td>\n      <td>-0.112753</td>\n      <td>0.340867</td>\n      <td>-0.000124</td>\n    </tr>\n    <tr>\n      <th>mfcc12_mean</th>\n      <td>0.400529</td>\n      <td>0.134779</td>\n      <td>0.118541</td>\n      <td>0.004485</td>\n      <td>0.110553</td>\n      <td>0.190734</td>\n      <td>-0.069008</td>\n      <td>-0.154480</td>\n      <td>0.247536</td>\n      <td>-0.138877</td>\n      <td>...</td>\n      <td>-0.192953</td>\n      <td>1.000000</td>\n      <td>-0.223165</td>\n      <td>0.589555</td>\n      <td>-0.304034</td>\n      <td>0.433077</td>\n      <td>-0.263923</td>\n      <td>0.330363</td>\n      <td>-0.169898</td>\n      <td>0.293125</td>\n    </tr>\n    <tr>\n      <th>mfcc8_mean</th>\n      <td>0.423220</td>\n      <td>0.134868</td>\n      <td>0.088172</td>\n      <td>-0.002155</td>\n      <td>0.095158</td>\n      <td>0.140365</td>\n      <td>-0.059041</td>\n      <td>-0.206558</td>\n      <td>0.256378</td>\n      <td>-0.158884</td>\n      <td>...</td>\n      <td>-0.361717</td>\n      <td>0.653899</td>\n      <td>-0.405729</td>\n      <td>0.565133</td>\n      <td>-0.365140</td>\n      <td>0.471734</td>\n      <td>-0.317046</td>\n      <td>0.305576</td>\n      <td>-0.249339</td>\n      <td>0.173534</td>\n    </tr>\n    <tr>\n      <th>mfcc3_mean</th>\n      <td>0.013981</td>\n      <td>0.136936</td>\n      <td>0.195977</td>\n      <td>0.515133</td>\n      <td>0.308917</td>\n      <td>-0.167604</td>\n      <td>0.053061</td>\n      <td>0.115828</td>\n      <td>-0.086338</td>\n      <td>-0.273366</td>\n      <td>...</td>\n      <td>0.380326</td>\n      <td>-0.269492</td>\n      <td>0.363331</td>\n      <td>-0.203824</td>\n      <td>0.245851</td>\n      <td>-0.233661</td>\n      <td>0.183993</td>\n      <td>-0.150529</td>\n      <td>0.160484</td>\n      <td>-0.057273</td>\n    </tr>\n    <tr>\n      <th>mfcc10_mean</th>\n      <td>0.376734</td>\n      <td>0.144650</td>\n      <td>0.146238</td>\n      <td>0.031015</td>\n      <td>0.140193</td>\n      <td>0.220265</td>\n      <td>-0.050178</td>\n      <td>-0.174491</td>\n      <td>0.269785</td>\n      <td>-0.176950</td>\n      <td>...</td>\n      <td>-0.253923</td>\n      <td>0.679631</td>\n      <td>-0.381323</td>\n      <td>0.539950</td>\n      <td>-0.305998</td>\n      <td>0.477793</td>\n      <td>-0.229256</td>\n      <td>0.406386</td>\n      <td>-0.162905</td>\n      <td>0.248017</td>\n    </tr>\n    <tr>\n      <th>mfcc7_mean</th>\n      <td>0.112848</td>\n      <td>0.181207</td>\n      <td>0.196388</td>\n      <td>0.375831</td>\n      <td>0.234987</td>\n      <td>-0.039442</td>\n      <td>0.072796</td>\n      <td>0.080452</td>\n      <td>0.031010</td>\n      <td>-0.242909</td>\n      <td>...</td>\n      <td>0.642099</td>\n      <td>-0.373271</td>\n      <td>0.594087</td>\n      <td>-0.277873</td>\n      <td>0.492847</td>\n      <td>-0.252008</td>\n      <td>0.400902</td>\n      <td>-0.204423</td>\n      <td>0.312595</td>\n      <td>-0.031434</td>\n    </tr>\n    <tr>\n      <th>mfcc9_mean</th>\n      <td>0.155357</td>\n      <td>0.213195</td>\n      <td>0.260035</td>\n      <td>0.385406</td>\n      <td>0.287332</td>\n      <td>0.052420</td>\n      <td>0.054333</td>\n      <td>0.094026</td>\n      <td>0.061538</td>\n      <td>-0.286309</td>\n      <td>...</td>\n      <td>0.625438</td>\n      <td>-0.314632</td>\n      <td>0.559575</td>\n      <td>-0.216295</td>\n      <td>0.532641</td>\n      <td>-0.177736</td>\n      <td>0.451653</td>\n      <td>-0.088542</td>\n      <td>0.313192</td>\n      <td>0.016066</td>\n    </tr>\n    <tr>\n      <th>zero_crossing_rate_mean</th>\n      <td>0.457080</td>\n      <td>0.293745</td>\n      <td>0.865487</td>\n      <td>0.577015</td>\n      <td>0.755442</td>\n      <td>1.000000</td>\n      <td>0.021418</td>\n      <td>-0.027739</td>\n      <td>0.590236</td>\n      <td>-0.739485</td>\n      <td>...</td>\n      <td>-0.040104</td>\n      <td>0.190734</td>\n      <td>-0.112906</td>\n      <td>0.174409</td>\n      <td>-0.073881</td>\n      <td>0.196571</td>\n      <td>-0.053256</td>\n      <td>0.233676</td>\n      <td>-0.058103</td>\n      <td>0.211582</td>\n    </tr>\n    <tr>\n      <th>chroma_stft_mean</th>\n      <td>1.000000</td>\n      <td>0.424706</td>\n      <td>0.534670</td>\n      <td>0.464617</td>\n      <td>0.526881</td>\n      <td>0.457080</td>\n      <td>0.034305</td>\n      <td>-0.109303</td>\n      <td>0.573974</td>\n      <td>-0.513978</td>\n      <td>...</td>\n      <td>0.108459</td>\n      <td>0.400529</td>\n      <td>-0.036171</td>\n      <td>0.297993</td>\n      <td>-0.078784</td>\n      <td>0.228293</td>\n      <td>-0.103968</td>\n      <td>0.168254</td>\n      <td>-0.062985</td>\n      <td>0.193666</td>\n    </tr>\n    <tr>\n      <th>spectral_centroid_mean</th>\n      <td>0.534670</td>\n      <td>0.470781</td>\n      <td>1.000000</td>\n      <td>0.890382</td>\n      <td>0.974360</td>\n      <td>0.865487</td>\n      <td>0.050559</td>\n      <td>-0.004654</td>\n      <td>0.686196</td>\n      <td>-0.931435</td>\n      <td>...</td>\n      <td>0.144027</td>\n      <td>0.118541</td>\n      <td>0.058537</td>\n      <td>0.118186</td>\n      <td>0.035098</td>\n      <td>0.116866</td>\n      <td>0.026879</td>\n      <td>0.177934</td>\n      <td>0.018651</td>\n      <td>0.191512</td>\n    </tr>\n    <tr>\n      <th>spectral_bandwidth_mean</th>\n      <td>0.464617</td>\n      <td>0.495142</td>\n      <td>0.890382</td>\n      <td>1.000000</td>\n      <td>0.951000</td>\n      <td>0.577015</td>\n      <td>0.064358</td>\n      <td>0.017851</td>\n      <td>0.615946</td>\n      <td>-0.887156</td>\n      <td>...</td>\n      <td>0.277708</td>\n      <td>0.004485</td>\n      <td>0.199991</td>\n      <td>0.025717</td>\n      <td>0.125946</td>\n      <td>0.012459</td>\n      <td>0.089523</td>\n      <td>0.084331</td>\n      <td>0.074453</td>\n      <td>0.133895</td>\n    </tr>\n    <tr>\n      <th>rolloff_mean</th>\n      <td>0.526881</td>\n      <td>0.500178</td>\n      <td>0.974360</td>\n      <td>0.951000</td>\n      <td>1.000000</td>\n      <td>0.755442</td>\n      <td>0.051363</td>\n      <td>-0.011073</td>\n      <td>0.688779</td>\n      <td>-0.923652</td>\n      <td>...</td>\n      <td>0.167872</td>\n      <td>0.110553</td>\n      <td>0.087349</td>\n      <td>0.109308</td>\n      <td>0.042899</td>\n      <td>0.098611</td>\n      <td>0.035871</td>\n      <td>0.158802</td>\n      <td>0.033071</td>\n      <td>0.182626</td>\n    </tr>\n    <tr>\n      <th>mfcc1_mean</th>\n      <td>0.573974</td>\n      <td>0.795000</td>\n      <td>0.686196</td>\n      <td>0.615946</td>\n      <td>0.688779</td>\n      <td>0.590236</td>\n      <td>0.026708</td>\n      <td>-0.093169</td>\n      <td>1.000000</td>\n      <td>-0.612310</td>\n      <td>...</td>\n      <td>0.000314</td>\n      <td>0.247536</td>\n      <td>-0.127468</td>\n      <td>0.173863</td>\n      <td>-0.152374</td>\n      <td>0.131637</td>\n      <td>-0.165295</td>\n      <td>0.145346</td>\n      <td>-0.106033</td>\n      <td>0.131098</td>\n    </tr>\n    <tr>\n      <th>rms_mean</th>\n      <td>0.424706</td>\n      <td>1.000000</td>\n      <td>0.470781</td>\n      <td>0.495142</td>\n      <td>0.500178</td>\n      <td>0.293745</td>\n      <td>0.065134</td>\n      <td>-0.012401</td>\n      <td>0.795000</td>\n      <td>-0.453606</td>\n      <td>...</td>\n      <td>0.133593</td>\n      <td>0.134779</td>\n      <td>0.043769</td>\n      <td>0.113960</td>\n      <td>0.012184</td>\n      <td>0.055563</td>\n      <td>-0.013952</td>\n      <td>0.087615</td>\n      <td>0.024552</td>\n      <td>0.082251</td>\n    </tr>\n  </tbody>\n</table>\n<p>28 rows × 28 columns</p>\n</div>"
     },
     "metadata": {},
     "execution_count": 39
    }
   ],
   "source": [
    "corr.sort_values(by='rms_mean')"
   ]
  },
  {
   "cell_type": "code",
   "execution_count": 30,
   "metadata": {},
   "outputs": [
    {
     "output_type": "execute_result",
     "data": {
      "text/plain": [
       "<AxesSubplot:>"
      ]
     },
     "metadata": {},
     "execution_count": 30
    },
    {
     "output_type": "display_data",
     "data": {
      "text/plain": "<Figure size 432x288 with 2 Axes>",
      "image/png": "[encoded data removed]"
     },
     "metadata": {
      "needs_background": "light"
     }
    }
   ],
   "source": [
    "sns.heatmap(corr, cmap='YlGnBu')"
   ]
  },
  {
   "cell_type": "markdown",
   "metadata": {},
   "source": [
    "2. #### Draw a Countplot for the labels column"
   ]
  },
  {
   "cell_type": "code",
   "execution_count": 47,
   "metadata": {},
   "outputs": [
    {
     "output_type": "execute_result",
     "data": {
      "text/plain": [
       "country      569\n",
       "disco        509\n",
       "rock         425\n",
       "metal        400\n",
       "blues        365\n",
       "jazz         304\n",
       "hiphop       276\n",
       "reggae       212\n",
       "classical    194\n",
       "pop          188\n",
       "Name: label, dtype: int64"
      ]
     },
     "metadata": {},
     "execution_count": 47
    }
   ],
   "source": [
    "data['label'].value_counts()"
   ]
  },
  {
   "cell_type": "code",
   "execution_count": 46,
   "metadata": {},
   "outputs": [
    {
     "output_type": "execute_result",
     "data": {
      "text/plain": [
       "<AxesSubplot:xlabel='label', ylabel='count'>"
      ]
     },
     "metadata": {},
     "execution_count": 46
    },
    {
     "output_type": "display_data",
     "data": {
      "text/plain": "<Figure size 432x288 with 1 Axes>",
      "image/png": "[encoded data removed]"
     },
     "metadata": {
      "needs_background": "light"
     }
    }
   ],
   "source": [
    "# Cell to plot countplot.\n",
    "sns.countplot(x='label', data=data, order = data['label'].value_counts().index)"
   ]
  },
  {
   "cell_type": "markdown",
   "metadata": {},
   "source": [
    "3. #### Draw a boxplot for the tempo vs labels column. Think carefully about what a boxplot represents."
   ]
  },
  {
   "cell_type": "code",
   "execution_count": 13,
   "metadata": {},
   "outputs": [
    {
     "output_type": "execute_result",
     "data": {
      "text/plain": [
       "<AxesSubplot:xlabel='tempo', ylabel='label'>"
      ]
     },
     "metadata": {},
     "execution_count": 13
    },
    {
     "output_type": "display_data",
     "data": {
      "text/plain": "<Figure size 432x288 with 1 Axes>",
      "image/png": "[encoded data removed]"
     },
     "metadata": {
      "needs_background": "light"
     }
    }
   ],
   "source": [
    "# Cell to plot boxplot. A few lines to get you started.\n",
    "\n",
    "sns.boxplot(x = 'tempo', y='label', data=data)"
   ]
  },
  {
   "cell_type": "code",
   "execution_count": 51,
   "metadata": {},
   "outputs": [],
   "source": [
    "outliers=[]\n",
    "def detect_outlier(data_1):\n",
    "    \n",
    "    threshold=3\n",
    "    mean_1 = np.mean(data_1)\n",
    "    std_1 =np.std(data_1)\n",
    "    \n",
    "    \n",
    "    for y in data_1:\n",
    "        z_score= (y - mean_1)/std_1 \n",
    "        if np.abs(z_score) > threshold:\n",
    "            outliers.append(y)\n",
    "    return outliers"
   ]
  },
  {
   "cell_type": "code",
   "execution_count": 63,
   "metadata": {},
   "outputs": [
    {
     "output_type": "stream",
     "name": "stdout",
     "text": [
      "602\n641\n696\n743\n"
     ]
    }
   ],
   "source": [
    "print(len(detect_outlier(data['harmony_mean'])))\n",
    "print(len(detect_outlier(data['perceptr_mean'])))\n",
    "print(len(detect_outlier(data['zero_crossing_rate_var'])))\n",
    "print(len(detect_outlier(data['rms_var'])))"
   ]
  },
  {
   "cell_type": "markdown",
   "metadata": {},
   "source": [
    "Again, understand what a boxplot exactly represents. (Outlier analysis)"
   ]
  },
  {
   "cell_type": "markdown",
   "metadata": {},
   "source": [
    "### Now let's perform Machine Learning Classification. We'll be predicting the genre based on the given features."
   ]
  },
  {
   "cell_type": "code",
   "execution_count": 14,
   "metadata": {},
   "outputs": [],
   "source": [
    "# These are the import statements referred to below:\n",
    "\n",
    "from sklearn.naive_bayes import GaussianNB\n",
    "from sklearn.linear_model import LogisticRegression\n",
    "from sklearn.neighbors import KNeighborsClassifier\n",
    "from sklearn.tree import DecisionTreeClassifier\n",
    "from sklearn.ensemble import RandomForestClassifier\n",
    "from xgboost import XGBClassifier, XGBRFClassifier\n",
    "from xgboost import plot_tree, plot_importance\n",
    "from sklearn.ensemble import AdaBoostClassifier\n",
    "\n",
    "from sklearn.metrics import confusion_matrix, accuracy_score, roc_auc_score, roc_curve\n",
    "from sklearn import preprocessing\n",
    "from sklearn.model_selection import train_test_split\n",
    "from sklearn.feature_selection import RFE"
   ]
  },
  {
   "cell_type": "markdown",
   "metadata": {},
   "source": [
    "### Documentation of each model. You can refer to there whenever stuck.\n",
    "\n",
    "GaussianNB: https://scikit-learn.org/stable/modules/generated/sklearn.naive_bayes.GaussianNB.html <br>\n",
    "LogisticRegression: https://scikit-learn.org/stable/modules/generated/sklearn.linear_model.LogisticRegression.html <br>\n",
    "KNeighborsClassifier: https://scikit-learn.org/stable/modules/generated/sklearn.neighbors.KNeighborsClassifier.html <br>\n",
    "DecisionTreeClassifier: https://scikit-learn.org/stable/modules/generated/sklearn.tree.DecisionTreeClassifier.html <br>\n",
    "RandomForestClassifier: https://scikit-learn.org/stable/modules/generated/sklearn.ensemble.RandomForestClassifier.html <br>\n",
    "XGBoost: https://xgboost.readthedocs.io/en/latest/ <br>\n",
    "AdaBoostClassifier: https://scikit-learn.org/stable/modules/generated/sklearn.ensemble.AdaBoostClassifier.html <br>"
   ]
  },
  {
   "cell_type": "markdown",
   "metadata": {},
   "source": [
    "### Preprocess the data.\n",
    "\n",
    "Be careful when you play around with the cell below. Your final outputs depend on this."
   ]
  },
  {
   "cell_type": "code",
   "execution_count": 15,
   "metadata": {},
   "outputs": [
    {
     "output_type": "stream",
     "name": "stdout",
     "text": [
      "SHAPE: (3442, 59)\n"
     ]
    }
   ],
   "source": [
    "# DO NOT EDIT THIS CELL\n",
    "\n",
    "Q1 = data.quantile(0.25)\n",
    "Q3 = data.quantile(0.75)\n",
    "IQR = Q3 - Q1\n",
    "data = data[~((data < (Q1 - 1.5 * IQR)) |(data > (Q3 + 1.5 * IQR))).any(axis=1)]\n",
    "print(\"SHAPE:\",data.shape) #Why did the shape change? What happened?\n",
    "\n",
    "y = data['label'] # genre variable.\n",
    "X = data.loc[:, data.columns != 'label'] #select all columns but not the labels\n",
    "\n",
    "cols = X.columns\n",
    "min_max_scaler = preprocessing.MinMaxScaler()\n",
    "np_scaled = min_max_scaler.fit_transform(X)\n",
    "X = pd.DataFrame(np_scaled, columns = cols)"
   ]
  },
  {
   "cell_type": "markdown",
   "metadata": {},
   "source": [
    "Also pay attention to the preprocessing step. What did we exactly do?"
   ]
  },
  {
   "cell_type": "markdown",
   "metadata": {},
   "source": [
    "### Splitting the dataset: Do you know what stratify does?"
   ]
  },
  {
   "cell_type": "code",
   "execution_count": 16,
   "metadata": {},
   "outputs": [],
   "source": [
    "# DO NOT EDIT THIS CELL\n",
    "\n",
    "X_train, X_test, y_train, y_test = train_test_split(X, y,stratify = y,test_size=0.1, random_state=42)"
   ]
  },
  {
   "cell_type": "markdown",
   "metadata": {},
   "source": [
    "### Creating a Predefined function to assess the accuracy of a model. This will be the scoring function"
   ]
  },
  {
   "cell_type": "code",
   "execution_count": 17,
   "metadata": {},
   "outputs": [],
   "source": [
    "def score(model, title = \"Default\"):\n",
    "    model.fit(X_train, y_train)\n",
    "    preds = model.predict(X_test)\n",
    "#     print(confusion_matrix(y_test, preds))\n",
    "    accuracy = round(accuracy_score(y_test, preds), 5)\n",
    "    print('Accuracy for', title, ':', accuracy, '\\n')"
   ]
  },
  {
   "cell_type": "markdown",
   "metadata": {},
   "source": [
    "This function trains/fits the model by itself. Just pass the model as shown below."
   ]
  },
  {
   "cell_type": "markdown",
   "metadata": {},
   "source": [
    "### Let's see how a basic Logistic Regressor works on this!"
   ]
  },
  {
   "cell_type": "code",
   "execution_count": 18,
   "metadata": {},
   "outputs": [
    {
     "output_type": "stream",
     "name": "stdout",
     "text": [
      "Accuracy for Logistic Regression : 0.74493 \n\n"
     ]
    }
   ],
   "source": [
    "lg = LogisticRegression(random_state=0, solver='lbfgs', multi_class='multinomial')\n",
    "score(lg, \"Logistic Regression\")"
   ]
  },
  {
   "cell_type": "markdown",
   "metadata": {},
   "source": [
    "The accuracy hovers around 74%. Do you think you can beat this? The kaggle microcourses would've surely taught you more than this!\n",
    "\n",
    "#### Now it's your turn. Train the following: "
   ]
  },
  {
   "cell_type": "markdown",
   "metadata": {},
   "source": [
    "4. **AdaBoostClassifier** with n_estimators=1000 & random_state=0\n",
    "5. **RandomForestClassifier** with n_estimators=1000, max_depth=10, random_state=0\n",
    "\n",
    "**IMPORTANT**: Use the default values for other hyper parameters. Do **NOT** change these values "
   ]
  },
  {
   "cell_type": "code",
   "execution_count": 19,
   "metadata": {},
   "outputs": [
    {
     "output_type": "stream",
     "name": "stdout",
     "text": [
      "Accuracy for AdaBoostClaasification : 0.32464 \n\n"
     ]
    }
   ],
   "source": [
    "# AdaBoostClassifier\n",
    "#YOUR CODE HERE\n",
    "ada = AdaBoostClassifier(n_estimators=1000, random_state=0)\n",
    "score(ada, \"AdaBoostClaasification\")"
   ]
  },
  {
   "cell_type": "code",
   "execution_count": 20,
   "metadata": {},
   "outputs": [
    {
     "output_type": "stream",
     "name": "stdout",
     "text": [
      "Accuracy for RandomForestClassifier : 0.84348 \n\n"
     ]
    }
   ],
   "source": [
    "# Random Forest\n",
    "#YOUR CODE HERE\n",
    "rf = RandomForestClassifier(n_estimators=1000, max_depth=10, random_state=0)\n",
    "score(rf, \"RandomForestClassifier\")"
   ]
  },
  {
   "cell_type": "markdown",
   "metadata": {},
   "source": [
    "AdaBoost performs poorly, but Random Forest looks great!"
   ]
  },
  {
   "cell_type": "markdown",
   "metadata": {},
   "source": [
    "#### Now look at the import statements. There may be a few models you may or may not have seen. Use those models to beat the score you achieved in the cell above! Play around with their hyper parameters.\n",
    "\n",
    "We suggest going through their documentations before using them."
   ]
  },
  {
   "cell_type": "code",
   "execution_count": 21,
   "metadata": {},
   "outputs": [
    {
     "output_type": "stream",
     "name": "stdout",
     "text": [
      "Accuracy for GaussianNB : 0.52464 \n",
      "\n",
      "Accuracy for KNeighborClassifier : 0.84348 \n",
      "\n",
      "Accuracy for DecisionTreeClassifier : 0.64058 \n",
      "\n"
     ]
    }
   ],
   "source": [
    "# Naive Bayes: GaussianNB\n",
    "#YOUR CODE HERE\n",
    "gnb = GaussianNB()\n",
    "score(gnb, \"GaussianNB\")\n",
    "# KNN: KNeighborsClassifier\n",
    "#YOUR CODE HERE\n",
    "knn = KNeighborsClassifier()\n",
    "score(knn, 'KNeighborClassifier')\n",
    "# Decision trees: DecisionTreeClassifier\n",
    "#YOUR CODE HERE\n",
    "dtc = DecisionTreeClassifier()\n",
    "score(dtc, \"DecisionTreeClassifier\")"
   ]
  },
  {
   "cell_type": "markdown",
   "metadata": {},
   "source": [
    "6. Did you beat the score yet? Chances are you couldn't. Prove us wrong! Use **XGBClassifier** with n_estimators=1000 and learning_rate=0.05"
   ]
  },
  {
   "cell_type": "code",
   "execution_count": 22,
   "metadata": {},
   "outputs": [
    {
     "output_type": "stream",
     "name": "stdout",
     "text": [
      "[12:38:12] WARNING: C:/Users/Administrator/workspace/xgboost-win64_release_1.4.0/src/learner.cc:1095: Starting in XGBoost 1.3.0, the default evaluation metric used with the objective 'multi:softprob' was changed from 'merror' to 'mlogloss'. Explicitly set eval_metric if you'd like to restore the old behavior.\n",
      "Accuracy for XGBClassifier : 0.87246 \n",
      "\n"
     ]
    }
   ],
   "source": [
    "# XGBClassifier\n",
    "#YOUR CODE HERE\n",
    "xgb = XGBClassifier()\n",
    "score(xgb, \"XGBClassifier\")"
   ]
  },
  {
   "cell_type": "markdown",
   "metadata": {},
   "source": [
    "You should've beaten the score by now. Now, heres a task for you. Try **XGBRFClassifier** on your own."
   ]
  },
  {
   "cell_type": "code",
   "execution_count": 23,
   "metadata": {},
   "outputs": [
    {
     "output_type": "stream",
     "name": "stdout",
     "text": [
      "[12:38:32] WARNING: C:/Users/Administrator/workspace/xgboost-win64_release_1.4.0/src/learner.cc:1095: Starting in XGBoost 1.3.0, the default evaluation metric used with the objective 'multi:softprob' was changed from 'merror' to 'mlogloss'. Explicitly set eval_metric if you'd like to restore the old behavior.\n",
      "Accuracy for XGBRClassifier : 0.7913 \n",
      "\n"
     ]
    }
   ],
   "source": [
    "# XGBRFClassifier\n",
    "#YOUR CODE HERE\n",
    "xgbr = XGBRFClassifier()\n",
    "score(xgbr, \"XGBRClassifier\")"
   ]
  },
  {
   "cell_type": "markdown",
   "metadata": {},
   "source": [
    "### Till now, it looks like XGBClassifier performs the best. Let's experiment with it a bit more."
   ]
  },
  {
   "cell_type": "markdown",
   "metadata": {},
   "source": [
    "7. Plot the Confusion Matrix for XGBClassifier with parameters n_estimators=1000, learning_rate=0.05"
   ]
  },
  {
   "cell_type": "code",
   "execution_count": 24,
   "metadata": {},
   "outputs": [
    {
     "output_type": "stream",
     "name": "stdout",
     "text": [
      "[12:38:33] WARNING: C:/Users/Administrator/workspace/xgboost-win64_release_1.4.0/src/learner.cc:1095: Starting in XGBoost 1.3.0, the default evaluation metric used with the objective 'multi:softprob' was changed from 'merror' to 'mlogloss'. Explicitly set eval_metric if you'd like to restore the old behavior.\n",
      "Accuracy for XGBClassifier : 0.87246 \n",
      "\n"
     ]
    },
    {
     "output_type": "execute_result",
     "data": {
      "text/plain": [
       "<sklearn.metrics._plot.confusion_matrix.ConfusionMatrixDisplay at 0x238b2047160>"
      ]
     },
     "metadata": {},
     "execution_count": 24
    },
    {
     "output_type": "display_data",
     "data": {
      "text/plain": "<Figure size 432x288 with 2 Axes>",
      "image/png": "[encoded data removed]"
     },
     "metadata": {
      "needs_background": "light"
     }
    }
   ],
   "source": [
    "# Cell to plot Confusion Matrix\n",
    "#YOUR CODE HERE\n",
    "xgb = XGBClassifier(n_estimators = 1000, learning_rate=0.05)\n",
    "score(xgb, \"XGBClassifier\")\n",
    "from sklearn.metrics import plot_confusion_matrix\n",
    "plot_confusion_matrix(xgb, X_train, y_train )"
   ]
  },
  {
   "cell_type": "markdown",
   "metadata": {},
   "source": [
    "8. Find the feature importance for XGBClassifier. \n",
    "\n",
    "*Hint: It's an inbuilt member variable*"
   ]
  },
  {
   "cell_type": "code",
   "execution_count": 73,
   "metadata": {},
   "outputs": [
    {
     "output_type": "execute_result",
     "data": {
      "text/plain": [
       "['chroma_stft_mean',\n",
       " 'chroma_stft_var',\n",
       " 'harmony_mean',\n",
       " 'harmony_var',\n",
       " 'mfcc10_mean',\n",
       " 'mfcc10_var',\n",
       " 'mfcc11_mean',\n",
       " 'mfcc11_var',\n",
       " 'mfcc12_mean',\n",
       " 'mfcc12_var',\n",
       " 'mfcc13_mean',\n",
       " 'mfcc13_var',\n",
       " 'mfcc14_mean',\n",
       " 'mfcc14_var',\n",
       " 'mfcc15_mean',\n",
       " 'mfcc15_var',\n",
       " 'mfcc16_mean',\n",
       " 'mfcc16_var',\n",
       " 'mfcc17_mean',\n",
       " 'mfcc17_var',\n",
       " 'mfcc18_mean',\n",
       " 'mfcc18_var',\n",
       " 'mfcc19_mean',\n",
       " 'mfcc19_var',\n",
       " 'mfcc1_mean',\n",
       " 'mfcc1_var',\n",
       " 'mfcc20_mean',\n",
       " 'mfcc20_var',\n",
       " 'mfcc2_mean',\n",
       " 'mfcc2_var',\n",
       " 'mfcc3_mean',\n",
       " 'mfcc3_var',\n",
       " 'mfcc4_mean',\n",
       " 'mfcc4_var',\n",
       " 'mfcc5_mean',\n",
       " 'mfcc5_var',\n",
       " 'mfcc6_mean',\n",
       " 'mfcc6_var',\n",
       " 'mfcc7_mean',\n",
       " 'mfcc7_var',\n",
       " 'mfcc8_mean',\n",
       " 'mfcc8_var',\n",
       " 'mfcc9_mean',\n",
       " 'mfcc9_var',\n",
       " 'perceptr_mean',\n",
       " 'perceptr_var',\n",
       " 'rms_mean',\n",
       " 'rms_var',\n",
       " 'rolloff_mean',\n",
       " 'rolloff_var',\n",
       " 'spectral_bandwidth_mean',\n",
       " 'spectral_bandwidth_var',\n",
       " 'spectral_centroid_mean',\n",
       " 'spectral_centroid_var',\n",
       " 'tempo',\n",
       " 'zero_crossing_rate_mean',\n",
       " 'zero_crossing_rate_var']"
      ]
     },
     "metadata": {},
     "execution_count": 73
    }
   ],
   "source": [
    "sorted(xgb.get_booster().get_score(importance_type=\"weight\"))"
   ]
  },
  {
   "cell_type": "code",
   "execution_count": 25,
   "metadata": {},
   "outputs": [
    {
     "output_type": "execute_result",
     "data": {
      "text/plain": [
       "<AxesSubplot:title={'center':'Feature importance'}, xlabel='F score', ylabel='Features'>"
      ]
     },
     "metadata": {},
     "execution_count": 25
    },
    {
     "output_type": "display_data",
     "data": {
      "text/plain": "<Figure size 432x288 with 1 Axes>",
      "image/png": "[encoded data removed]"
     },
     "metadata": {
      "needs_background": "light"
     }
    }
   ],
   "source": [
    "# Cell to find Feature Importance\n",
    "#YOUR CODE HERE\n",
    "plot_importance(booster=xgb, height=1)"
   ]
  },
  {
   "cell_type": "code",
   "execution_count": 66,
   "metadata": {},
   "outputs": [
    {
     "output_type": "execute_result",
     "data": {
      "text/plain": [
       "'              precision    recall  f1-score   support\\n\\n       blues       0.91      0.84      0.87        37\\n   classical       0.94      0.89      0.92        19\\n     country       0.76      0.84      0.80        57\\n       disco       0.86      0.94      0.90        51\\n      hiphop       0.90      0.93      0.91        28\\n        jazz       0.79      0.87      0.83        30\\n       metal       0.93      0.93      0.93        40\\n         pop       1.00      0.79      0.88        19\\n      reggae       0.95      0.86      0.90        21\\n        rock       0.92      0.81      0.86        43\\n\\n    accuracy                           0.87       345\\n   macro avg       0.90      0.87      0.88       345\\nweighted avg       0.88      0.87      0.87       345\\n'"
      ]
     },
     "metadata": {},
     "execution_count": 66
    }
   ],
   "source": [
    "from sklearn.metrics import classification_report\n",
    "classification_report(y_true=y_test, y_pred= xgb.predict(X_test))"
   ]
  },
  {
   "cell_type": "code",
   "execution_count": null,
   "metadata": {},
   "outputs": [],
   "source": []
  }
 ],
 "metadata": {
  "kernelspec": {
   "name": "venv",
   "display_name": "Python 3.9.4 64-bit"
  },
  "language_info": {
   "codemirror_mode": {
    "name": "ipython",
    "version": 3
   },
   "file_extension": ".py",
   "mimetype": "text/x-python",
   "name": "python",
   "nbconvert_exporter": "python",
   "pygments_lexer": "ipython3",
   "version": "3.9.4"
  },
  "interpreter": {
   "hash": "380030d1298d5a27518acca789ff38fe82bbf2e68b73263de6a6bf23efb7704c"
  }
 },
 "nbformat": 4,
 "nbformat_minor": 4
}