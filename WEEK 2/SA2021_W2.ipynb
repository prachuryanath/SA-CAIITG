{
  "nbformat": 4,
  "nbformat_minor": 0,
  "metadata": {
    "colab": {
      "name": "SA2021_W2.ipynb",
      "provenance": [],
      "collapsed_sections": []
    },
    "kernelspec": {
      "name": "venv",
      "display_name": "Python 3.9.4 64-bit"
    },
    "language_info": {
      "codemirror_mode": {
        "name": "ipython",
        "version": 3
      },
      "file_extension": ".py",
      "mimetype": "text/x-python",
      "name": "python",
      "nbconvert_exporter": "python",
      "pygments_lexer": "ipython3",
      "version": "3.9.4"
    }
  },
  "cells": [
    {
      "cell_type": "markdown",
      "metadata": {
        "id": "M0YYLw6N_KCE"
      },
      "source": [
        "# Summer Analytics 2021\n",
        "# WEEK-2 Graded Assignment: Linear Regression\n",
        "\n",
        "## Introduction\n",
        "\n",
        "In this exercise, you will implement linear regression and get to see it work on data. Before starting on this programming exercise, we strongly recommend watching the video lectures and completing the review questions for the associated topics.\n",
        "\n",
        "All the information you need for solving this assignment is in this notebook, and all the code you will be implementing will take place within this notebook..\n",
        "\n",
        "Before we begin with the exercises, we need to import all libraries required for this programming exercise. Throughout the course, we will be using [`numpy`](http://www.numpy.org/) for all arrays and matrix operations, and [`matplotlib`](https://matplotlib.org/) for plotting.\n"
      ]
    },
    {
      "cell_type": "code",
      "metadata": {
        "id": "Rqms0xsm_KCF"
      },
      "source": [
        "# used for manipulating directory paths\n",
        "import os\n",
        "\n",
        "# Scientific and vector computation for python\n",
        "import numpy as np\n",
        "\n",
        "# Plotting library\n",
        "from matplotlib import pyplot\n",
        "from mpl_toolkits.mplot3d import Axes3D  # needed to plot 3-D surfaces\n",
        "\n",
        "# tells matplotlib to embed plots within the notebook\n",
        "%matplotlib inline"
      ],
      "execution_count": 1,
      "outputs": []
    },
    {
      "cell_type": "markdown",
      "metadata": {
        "id": "rbzq6tZr_KCJ"
      },
      "source": [
        "Complete the function to return an identity matrix of size 5."
      ]
    },
    {
      "cell_type": "code",
      "metadata": {
        "id": "8EfxnhE2_KCJ"
      },
      "source": [
        "def warmUpExercise():\n",
        "    \"\"\"\n",
        "    Example function in Python which computes the identity matrix.\n",
        "    Do not hard code kindly use numpy\n",
        "    Returns\n",
        "    -------\n",
        "    A : array_like\n",
        "        The 5x5 identity matrix.\n",
        "    \n",
        "    Instructions\n",
        "    ------------\n",
        "    Return the 5x5 identity matrix.\n",
        "    \"\"\"    \n",
        "    # ======== YOUR CODE HERE ======\n",
        "    A = np.identity(5)\n",
        "    # ==============================\n",
        "    return A"
      ],
      "execution_count": 2,
      "outputs": []
    },
    {
      "cell_type": "code",
      "metadata": {
        "id": "gkqOdcLn_KCM"
      },
      "source": [
        "warmUpExercise()"
      ],
      "execution_count": 3,
      "outputs": [
        {
          "output_type": "execute_result",
          "data": {
            "text/plain": [
              "array([[1., 0., 0., 0., 0.],\n",
              "       [0., 1., 0., 0., 0.],\n",
              "       [0., 0., 1., 0., 0.],\n",
              "       [0., 0., 0., 1., 0.],\n",
              "       [0., 0., 0., 0., 1.]])"
            ]
          },
          "metadata": {},
          "execution_count": 3
        }
      ]
    },
    {
      "cell_type": "markdown",
      "metadata": {
        "id": "jDl4Msj9_KCM"
      },
      "source": [
        "Your output should match this\n",
        "\n",
        "[array([[ 1.,  0.,  0.,  0.,  0.],<br>\n",
        "       [ 0.,  1.,  0.,  0.,  0.],<br>\n",
        "       [ 0.,  0.,  1.,  0.,  0.],<br>\n",
        "       [ 0.,  0.,  0.,  1.,  0.],<br>\n",
        "       [ 0.,  0.,  0.,  0.,  1.]]))]"
      ]
    },
    {
      "cell_type": "markdown",
      "metadata": {
        "id": "cidgOF0__KCP"
      },
      "source": [
        "## 2 Linear regression with one variable\n",
        "\n",
        "Now you will implement linear regression with one variable to predict profits for a food truck. Suppose you are the CEO of a restaurant franchise and are considering different cities for opening a new outlet. The chain already has trucks in various cities and you have data for profits and populations from the cities. You would like to use this data to help you select which city to expand to next. \n",
        "\n",
        "The file `ex1data1.txt` contains the dataset for our linear regression problem. The first column is the population of a city (in 10,000s) and the second column is the profit of a food truck in that city (in $10,000s). A negative value for profit indicates a loss. \n",
        "\n",
        "We provide you with the code needed to load this data. The dataset is loaded from the data file into the variables `x` and `y`:"
      ]
    },
    {
      "cell_type": "code",
      "metadata": {
        "id": "lLkbuDrM_KCP"
      },
      "source": [
        "# Read comma separated data\n",
        "data = np.loadtxt(os.path.join('SA2021_W2_Profit.txt'), delimiter=',')\n",
        "X, y = data[:, 0], data[:, 1]\n",
        "\n",
        "m = y.size  # number of training examples\n",
        "print(m)"
      ],
      "execution_count": 4,
      "outputs": [
        {
          "output_type": "stream",
          "name": "stdout",
          "text": [
            "97\n"
          ]
        }
      ]
    },
    {
      "cell_type": "markdown",
      "metadata": {
        "id": "06sqjf8D_KCS"
      },
      "source": [
        "### 2.1 Plotting the Data\n",
        "\n",
        "Before starting on any task, it is often useful to understand the data by visualizing it. For this dataset, you can use a scatter plot to visualize the data, since it has only two properties to plot (profit and population). Many other problems that you will encounter in real life are multi-dimensional and cannot be plotted on a 2-d plot. There are many plotting libraries in python (see this [blog post](https://blog.modeanalytics.com/python-data-visualization-libraries/) for a good summary of the most popular ones). \n",
        "\n",
        "In this course, we will be exclusively using `matplotlib` to do all our plotting. `matplotlib` is one of the most popular scientific plotting libraries in python and has extensive tools and functions to make beautiful plots. `pyplot` is a module within `matplotlib` which provides a simplified interface to `matplotlib`'s most common plotting tasks, mimicking MATLAB's plotting interface.\n",
        "\n",
        "<div class=\"alert alert-block alert-warning\">\n",
        "You might have noticed that we have imported the `pyplot` module at the beginning of this exercise using the command `from matplotlib import pyplot`. This is rather uncommon, and if you look at python code elsewhere or in the `matplotlib` tutorials, you will see that the module is named `plt`. This is used by module renaming by using the import command `import matplotlib.pyplot as plt`. We will not using the short name of `pyplot` module in this class exercises, but you should be aware of this deviation from norm.\n",
        "</div>\n",
        "\n",
        "\n",
        "In the following part, your first job is to complete the `plotData` function below. Modify the function and fill in the following code:\n",
        "\n",
        "```python\n",
        "    pyplot.plot(x, y, 'ro', ms=10, mec='k')\n",
        "    pyplot.ylabel('Profit in $10,000')\n",
        "    pyplot.xlabel('Population of City in 10,000s')\n",
        "```"
      ]
    },
    {
      "cell_type": "code",
      "metadata": {
        "id": "mtBRxxhF_KCS"
      },
      "source": [
        "def plotData(x, y):\n",
        "    \"\"\"\n",
        "    Plots the data points x and y into a new figure. Plots the data \n",
        "    points and gives the figure axes labels of population and profit.\n",
        "    \n",
        "    Parameters\n",
        "    ----------\n",
        "    x : array_like\n",
        "        Data point values for x-axis.\n",
        "\n",
        "    y : array_like\n",
        "        Data point values for y-axis. Note x and y should have the same size.\n",
        "    \n",
        "    Instructions\n",
        "    ------------\n",
        "    Plot the training data into a figure using the \"figure\" and \"plot\"\n",
        "    functions. Set the axes labels using the \"xlabel\" and \"ylabel\" functions.\n",
        "    Assume the population and revenue data have been passed in as the x\n",
        "    and y arguments of this function.    \n",
        "    \n",
        "    Hint\n",
        "    ----\n",
        "    You can use the 'ro' option with plot to have the markers\n",
        "    appear as red circles. Furthermore, you can make the markers larger by\n",
        "    using plot(..., 'ro', ms=10), where `ms` refers to marker size. You \n",
        "    can also set the marker edge color using the `mec` property.\n",
        "    \"\"\"\n",
        "    fig = pyplot.figure()  # open a new figure\n",
        "    \n",
        "    # ====================== YOUR CODE HERE ======================= \n",
        "    \n",
        "    pyplot.plot(x, y, 'ro', ms=10, mec='k')\n",
        "    pyplot.ylabel('Profit in $10,000')\n",
        "    pyplot.xlabel('Population of City in 10,000s')\n",
        "\n",
        "\n",
        "    \n",
        "    # =============================================================\n"
      ],
      "execution_count": 5,
      "outputs": []
    },
    {
      "cell_type": "markdown",
      "metadata": {
        "id": "9gBFxSv4_KCV"
      },
      "source": [
        "Now run the defined function with the loaded data to visualize the data. \n",
        "\n",
        "![](Figures/dataset1.png)\n",
        "\n",
        "Execute the next cell to visualize the data."
      ]
    },
    {
      "cell_type": "code",
      "metadata": {
        "id": "y4HqF5zT_KCV"
      },
      "source": [
        "plotData(X, y)"
      ],
      "execution_count": 6,
      "outputs": [
        {
          "output_type": "display_data",
          "data": {
            "text/plain": "<Figure size 432x288 with 1 Axes>",
            "image/svg+xml": "<?xml version=\"1.0\" encoding=\"utf-8\" standalone=\"no\"?>\r\n<!DOCTYPE svg PUBLIC \"-//W3C//DTD SVG 1.1//EN\"\r\n  \"http://www.w3.org/Graphics/SVG/1.1/DTD/svg11.dtd\">\r\n<svg height=\"262.396935pt\" version=\"1.1\" viewBox=\"0 0 383.78065 262.396935\" width=\"383.78065pt\" xmlns=\"http://www.w3.org/2000/svg\" xmlns:xlink=\"http://www.w3.org/1999/xlink\">\r\n <metadata>\r\n  <rdf:RDF xmlns:cc=\"http://creativecommons.org/ns#\" xmlns:dc=\"http://purl.org/dc/elements/1.1/\" xmlns:rdf=\"http://www.w3.org/1999/02/22-rdf-syntax-ns#\">\r\n   <cc:Work>\r\n    <dc:type rdf:resource=\"http://purl.org/dc/dcmitype/StillImage\"/>\r\n    <dc:date>2021-06-04T18:47:05.397728</dc:date>\r\n    <dc:format>image/svg+xml</dc:format>\r\n    <dc:creator>\r\n     <cc:Agent>\r\n      <dc:title>Matplotlib v3.4.2, https://matplotlib.org/</dc:title>\r\n     </cc:Agent>\r\n    </dc:creator>\r\n   </cc:Work>\r\n  </rdf:RDF>\r\n </metadata>\r\n <defs>\r\n  <style type=\"text/css\">*{stroke-linecap:butt;stroke-linejoin:round;}</style>\r\n </defs>\r\n <g id=\"figure_1\">\r\n  <g id=\"patch_1\">\r\n   <path d=\"M 0 262.396935 \r\nL 383.78065 262.396935 \r\nL 383.78065 0 \r\nL 0 0 \r\nz\r\n\" style=\"fill:none;\"/>\r\n  </g>\r\n  <g id=\"axes_1\">\r\n   <g id=\"patch_2\">\r\n    <path d=\"M 40.603125 224.840685 \r\nL 375.403125 224.840685 \r\nL 375.403125 7.400685 \r\nL 40.603125 7.400685 \r\nz\r\n\" style=\"fill:#ffffff;\"/>\r\n   </g>\r\n   <g id=\"matplotlib.axis_1\">\r\n    <g id=\"xtick_1\">\r\n     <g id=\"line2d_1\">\r\n      <defs>\r\n       <path d=\"M 0 0 \r\nL 0 3.5 \r\n\" id=\"mf70d11b362\" style=\"stroke:#000000;stroke-width:0.8;\"/>\r\n      </defs>\r\n      <g>\r\n       <use style=\"stroke:#000000;stroke-width:0.8;\" x=\"55.344634\" xlink:href=\"#mf70d11b362\" y=\"224.840685\"/>\r\n      </g>\r\n     </g>\r\n     <g id=\"text_1\">\r\n      <!-- 5.0 -->\r\n      <g transform=\"translate(47.393071 239.439122)scale(0.1 -0.1)\">\r\n       <defs>\r\n        <path d=\"M 691 4666 \r\nL 3169 4666 \r\nL 3169 4134 \r\nL 1269 4134 \r\nL 1269 2991 \r\nQ 1406 3038 1543 3061 \r\nQ 1681 3084 1819 3084 \r\nQ 2600 3084 3056 2656 \r\nQ 3513 2228 3513 1497 \r\nQ 3513 744 3044 326 \r\nQ 2575 -91 1722 -91 \r\nQ 1428 -91 1123 -41 \r\nQ 819 9 494 109 \r\nL 494 744 \r\nQ 775 591 1075 516 \r\nQ 1375 441 1709 441 \r\nQ 2250 441 2565 725 \r\nQ 2881 1009 2881 1497 \r\nQ 2881 1984 2565 2268 \r\nQ 2250 2553 1709 2553 \r\nQ 1456 2553 1204 2497 \r\nQ 953 2441 691 2322 \r\nL 691 4666 \r\nz\r\n\" id=\"DejaVuSans-35\" transform=\"scale(0.015625)\"/>\r\n        <path d=\"M 684 794 \r\nL 1344 794 \r\nL 1344 0 \r\nL 684 0 \r\nL 684 794 \r\nz\r\n\" id=\"DejaVuSans-2e\" transform=\"scale(0.015625)\"/>\r\n        <path d=\"M 2034 4250 \r\nQ 1547 4250 1301 3770 \r\nQ 1056 3291 1056 2328 \r\nQ 1056 1369 1301 889 \r\nQ 1547 409 2034 409 \r\nQ 2525 409 2770 889 \r\nQ 3016 1369 3016 2328 \r\nQ 3016 3291 2770 3770 \r\nQ 2525 4250 2034 4250 \r\nz\r\nM 2034 4750 \r\nQ 2819 4750 3233 4129 \r\nQ 3647 3509 3647 2328 \r\nQ 3647 1150 3233 529 \r\nQ 2819 -91 2034 -91 \r\nQ 1250 -91 836 529 \r\nQ 422 1150 422 2328 \r\nQ 422 3509 836 4129 \r\nQ 1250 4750 2034 4750 \r\nz\r\n\" id=\"DejaVuSans-30\" transform=\"scale(0.015625)\"/>\r\n       </defs>\r\n       <use xlink:href=\"#DejaVuSans-35\"/>\r\n       <use x=\"63.623047\" xlink:href=\"#DejaVuSans-2e\"/>\r\n       <use x=\"95.410156\" xlink:href=\"#DejaVuSans-30\"/>\r\n      </g>\r\n     </g>\r\n    </g>\r\n    <g id=\"xtick_2\">\r\n     <g id=\"line2d_2\">\r\n      <g>\r\n       <use style=\"stroke:#000000;stroke-width:0.8;\" x=\"99.645092\" xlink:href=\"#mf70d11b362\" y=\"224.840685\"/>\r\n      </g>\r\n     </g>\r\n     <g id=\"text_2\">\r\n      <!-- 7.5 -->\r\n      <g transform=\"translate(91.693529 239.439122)scale(0.1 -0.1)\">\r\n       <defs>\r\n        <path d=\"M 525 4666 \r\nL 3525 4666 \r\nL 3525 4397 \r\nL 1831 0 \r\nL 1172 0 \r\nL 2766 4134 \r\nL 525 4134 \r\nL 525 4666 \r\nz\r\n\" id=\"DejaVuSans-37\" transform=\"scale(0.015625)\"/>\r\n       </defs>\r\n       <use xlink:href=\"#DejaVuSans-37\"/>\r\n       <use x=\"63.623047\" xlink:href=\"#DejaVuSans-2e\"/>\r\n       <use x=\"95.410156\" xlink:href=\"#DejaVuSans-35\"/>\r\n      </g>\r\n     </g>\r\n    </g>\r\n    <g id=\"xtick_3\">\r\n     <g id=\"line2d_3\">\r\n      <g>\r\n       <use style=\"stroke:#000000;stroke-width:0.8;\" x=\"143.945549\" xlink:href=\"#mf70d11b362\" y=\"224.840685\"/>\r\n      </g>\r\n     </g>\r\n     <g id=\"text_3\">\r\n      <!-- 10.0 -->\r\n      <g transform=\"translate(132.812737 239.439122)scale(0.1 -0.1)\">\r\n       <defs>\r\n        <path d=\"M 794 531 \r\nL 1825 531 \r\nL 1825 4091 \r\nL 703 3866 \r\nL 703 4441 \r\nL 1819 4666 \r\nL 2450 4666 \r\nL 2450 531 \r\nL 3481 531 \r\nL 3481 0 \r\nL 794 0 \r\nL 794 531 \r\nz\r\n\" id=\"DejaVuSans-31\" transform=\"scale(0.015625)\"/>\r\n       </defs>\r\n       <use xlink:href=\"#DejaVuSans-31\"/>\r\n       <use x=\"63.623047\" xlink:href=\"#DejaVuSans-30\"/>\r\n       <use x=\"127.246094\" xlink:href=\"#DejaVuSans-2e\"/>\r\n       <use x=\"159.033203\" xlink:href=\"#DejaVuSans-30\"/>\r\n      </g>\r\n     </g>\r\n    </g>\r\n    <g id=\"xtick_4\">\r\n     <g id=\"line2d_4\">\r\n      <g>\r\n       <use style=\"stroke:#000000;stroke-width:0.8;\" x=\"188.246007\" xlink:href=\"#mf70d11b362\" y=\"224.840685\"/>\r\n      </g>\r\n     </g>\r\n     <g id=\"text_4\">\r\n      <!-- 12.5 -->\r\n      <g transform=\"translate(177.113194 239.439122)scale(0.1 -0.1)\">\r\n       <defs>\r\n        <path d=\"M 1228 531 \r\nL 3431 531 \r\nL 3431 0 \r\nL 469 0 \r\nL 469 531 \r\nQ 828 903 1448 1529 \r\nQ 2069 2156 2228 2338 \r\nQ 2531 2678 2651 2914 \r\nQ 2772 3150 2772 3378 \r\nQ 2772 3750 2511 3984 \r\nQ 2250 4219 1831 4219 \r\nQ 1534 4219 1204 4116 \r\nQ 875 4013 500 3803 \r\nL 500 4441 \r\nQ 881 4594 1212 4672 \r\nQ 1544 4750 1819 4750 \r\nQ 2544 4750 2975 4387 \r\nQ 3406 4025 3406 3419 \r\nQ 3406 3131 3298 2873 \r\nQ 3191 2616 2906 2266 \r\nQ 2828 2175 2409 1742 \r\nQ 1991 1309 1228 531 \r\nz\r\n\" id=\"DejaVuSans-32\" transform=\"scale(0.015625)\"/>\r\n       </defs>\r\n       <use xlink:href=\"#DejaVuSans-31\"/>\r\n       <use x=\"63.623047\" xlink:href=\"#DejaVuSans-32\"/>\r\n       <use x=\"127.246094\" xlink:href=\"#DejaVuSans-2e\"/>\r\n       <use x=\"159.033203\" xlink:href=\"#DejaVuSans-35\"/>\r\n      </g>\r\n     </g>\r\n    </g>\r\n    <g id=\"xtick_5\">\r\n     <g id=\"line2d_5\">\r\n      <g>\r\n       <use style=\"stroke:#000000;stroke-width:0.8;\" x=\"232.546465\" xlink:href=\"#mf70d11b362\" y=\"224.840685\"/>\r\n      </g>\r\n     </g>\r\n     <g id=\"text_5\">\r\n      <!-- 15.0 -->\r\n      <g transform=\"translate(221.413652 239.439122)scale(0.1 -0.1)\">\r\n       <use xlink:href=\"#DejaVuSans-31\"/>\r\n       <use x=\"63.623047\" xlink:href=\"#DejaVuSans-35\"/>\r\n       <use x=\"127.246094\" xlink:href=\"#DejaVuSans-2e\"/>\r\n       <use x=\"159.033203\" xlink:href=\"#DejaVuSans-30\"/>\r\n      </g>\r\n     </g>\r\n    </g>\r\n    <g id=\"xtick_6\">\r\n     <g id=\"line2d_6\">\r\n      <g>\r\n       <use style=\"stroke:#000000;stroke-width:0.8;\" x=\"276.846922\" xlink:href=\"#mf70d11b362\" y=\"224.840685\"/>\r\n      </g>\r\n     </g>\r\n     <g id=\"text_6\">\r\n      <!-- 17.5 -->\r\n      <g transform=\"translate(265.71411 239.439122)scale(0.1 -0.1)\">\r\n       <use xlink:href=\"#DejaVuSans-31\"/>\r\n       <use x=\"63.623047\" xlink:href=\"#DejaVuSans-37\"/>\r\n       <use x=\"127.246094\" xlink:href=\"#DejaVuSans-2e\"/>\r\n       <use x=\"159.033203\" xlink:href=\"#DejaVuSans-35\"/>\r\n      </g>\r\n     </g>\r\n    </g>\r\n    <g id=\"xtick_7\">\r\n     <g id=\"line2d_7\">\r\n      <g>\r\n       <use style=\"stroke:#000000;stroke-width:0.8;\" x=\"321.14738\" xlink:href=\"#mf70d11b362\" y=\"224.840685\"/>\r\n      </g>\r\n     </g>\r\n     <g id=\"text_7\">\r\n      <!-- 20.0 -->\r\n      <g transform=\"translate(310.014567 239.439122)scale(0.1 -0.1)\">\r\n       <use xlink:href=\"#DejaVuSans-32\"/>\r\n       <use x=\"63.623047\" xlink:href=\"#DejaVuSans-30\"/>\r\n       <use x=\"127.246094\" xlink:href=\"#DejaVuSans-2e\"/>\r\n       <use x=\"159.033203\" xlink:href=\"#DejaVuSans-30\"/>\r\n      </g>\r\n     </g>\r\n    </g>\r\n    <g id=\"xtick_8\">\r\n     <g id=\"line2d_8\">\r\n      <g>\r\n       <use style=\"stroke:#000000;stroke-width:0.8;\" x=\"365.447838\" xlink:href=\"#mf70d11b362\" y=\"224.840685\"/>\r\n      </g>\r\n     </g>\r\n     <g id=\"text_8\">\r\n      <!-- 22.5 -->\r\n      <g transform=\"translate(354.315025 239.439122)scale(0.1 -0.1)\">\r\n       <use xlink:href=\"#DejaVuSans-32\"/>\r\n       <use x=\"63.623047\" xlink:href=\"#DejaVuSans-32\"/>\r\n       <use x=\"127.246094\" xlink:href=\"#DejaVuSans-2e\"/>\r\n       <use x=\"159.033203\" xlink:href=\"#DejaVuSans-35\"/>\r\n      </g>\r\n     </g>\r\n    </g>\r\n    <g id=\"text_9\">\r\n     <!-- Population of City in 10,000s -->\r\n     <g transform=\"translate(136.103125 253.117247)scale(0.1 -0.1)\">\r\n      <defs>\r\n       <path d=\"M 1259 4147 \r\nL 1259 2394 \r\nL 2053 2394 \r\nQ 2494 2394 2734 2622 \r\nQ 2975 2850 2975 3272 \r\nQ 2975 3691 2734 3919 \r\nQ 2494 4147 2053 4147 \r\nL 1259 4147 \r\nz\r\nM 628 4666 \r\nL 2053 4666 \r\nQ 2838 4666 3239 4311 \r\nQ 3641 3956 3641 3272 \r\nQ 3641 2581 3239 2228 \r\nQ 2838 1875 2053 1875 \r\nL 1259 1875 \r\nL 1259 0 \r\nL 628 0 \r\nL 628 4666 \r\nz\r\n\" id=\"DejaVuSans-50\" transform=\"scale(0.015625)\"/>\r\n       <path d=\"M 1959 3097 \r\nQ 1497 3097 1228 2736 \r\nQ 959 2375 959 1747 \r\nQ 959 1119 1226 758 \r\nQ 1494 397 1959 397 \r\nQ 2419 397 2687 759 \r\nQ 2956 1122 2956 1747 \r\nQ 2956 2369 2687 2733 \r\nQ 2419 3097 1959 3097 \r\nz\r\nM 1959 3584 \r\nQ 2709 3584 3137 3096 \r\nQ 3566 2609 3566 1747 \r\nQ 3566 888 3137 398 \r\nQ 2709 -91 1959 -91 \r\nQ 1206 -91 779 398 \r\nQ 353 888 353 1747 \r\nQ 353 2609 779 3096 \r\nQ 1206 3584 1959 3584 \r\nz\r\n\" id=\"DejaVuSans-6f\" transform=\"scale(0.015625)\"/>\r\n       <path d=\"M 1159 525 \r\nL 1159 -1331 \r\nL 581 -1331 \r\nL 581 3500 \r\nL 1159 3500 \r\nL 1159 2969 \r\nQ 1341 3281 1617 3432 \r\nQ 1894 3584 2278 3584 \r\nQ 2916 3584 3314 3078 \r\nQ 3713 2572 3713 1747 \r\nQ 3713 922 3314 415 \r\nQ 2916 -91 2278 -91 \r\nQ 1894 -91 1617 61 \r\nQ 1341 213 1159 525 \r\nz\r\nM 3116 1747 \r\nQ 3116 2381 2855 2742 \r\nQ 2594 3103 2138 3103 \r\nQ 1681 3103 1420 2742 \r\nQ 1159 2381 1159 1747 \r\nQ 1159 1113 1420 752 \r\nQ 1681 391 2138 391 \r\nQ 2594 391 2855 752 \r\nQ 3116 1113 3116 1747 \r\nz\r\n\" id=\"DejaVuSans-70\" transform=\"scale(0.015625)\"/>\r\n       <path d=\"M 544 1381 \r\nL 544 3500 \r\nL 1119 3500 \r\nL 1119 1403 \r\nQ 1119 906 1312 657 \r\nQ 1506 409 1894 409 \r\nQ 2359 409 2629 706 \r\nQ 2900 1003 2900 1516 \r\nL 2900 3500 \r\nL 3475 3500 \r\nL 3475 0 \r\nL 2900 0 \r\nL 2900 538 \r\nQ 2691 219 2414 64 \r\nQ 2138 -91 1772 -91 \r\nQ 1169 -91 856 284 \r\nQ 544 659 544 1381 \r\nz\r\nM 1991 3584 \r\nL 1991 3584 \r\nz\r\n\" id=\"DejaVuSans-75\" transform=\"scale(0.015625)\"/>\r\n       <path d=\"M 603 4863 \r\nL 1178 4863 \r\nL 1178 0 \r\nL 603 0 \r\nL 603 4863 \r\nz\r\n\" id=\"DejaVuSans-6c\" transform=\"scale(0.015625)\"/>\r\n       <path d=\"M 2194 1759 \r\nQ 1497 1759 1228 1600 \r\nQ 959 1441 959 1056 \r\nQ 959 750 1161 570 \r\nQ 1363 391 1709 391 \r\nQ 2188 391 2477 730 \r\nQ 2766 1069 2766 1631 \r\nL 2766 1759 \r\nL 2194 1759 \r\nz\r\nM 3341 1997 \r\nL 3341 0 \r\nL 2766 0 \r\nL 2766 531 \r\nQ 2569 213 2275 61 \r\nQ 1981 -91 1556 -91 \r\nQ 1019 -91 701 211 \r\nQ 384 513 384 1019 \r\nQ 384 1609 779 1909 \r\nQ 1175 2209 1959 2209 \r\nL 2766 2209 \r\nL 2766 2266 \r\nQ 2766 2663 2505 2880 \r\nQ 2244 3097 1772 3097 \r\nQ 1472 3097 1187 3025 \r\nQ 903 2953 641 2809 \r\nL 641 3341 \r\nQ 956 3463 1253 3523 \r\nQ 1550 3584 1831 3584 \r\nQ 2591 3584 2966 3190 \r\nQ 3341 2797 3341 1997 \r\nz\r\n\" id=\"DejaVuSans-61\" transform=\"scale(0.015625)\"/>\r\n       <path d=\"M 1172 4494 \r\nL 1172 3500 \r\nL 2356 3500 \r\nL 2356 3053 \r\nL 1172 3053 \r\nL 1172 1153 \r\nQ 1172 725 1289 603 \r\nQ 1406 481 1766 481 \r\nL 2356 481 \r\nL 2356 0 \r\nL 1766 0 \r\nQ 1100 0 847 248 \r\nQ 594 497 594 1153 \r\nL 594 3053 \r\nL 172 3053 \r\nL 172 3500 \r\nL 594 3500 \r\nL 594 4494 \r\nL 1172 4494 \r\nz\r\n\" id=\"DejaVuSans-74\" transform=\"scale(0.015625)\"/>\r\n       <path d=\"M 603 3500 \r\nL 1178 3500 \r\nL 1178 0 \r\nL 603 0 \r\nL 603 3500 \r\nz\r\nM 603 4863 \r\nL 1178 4863 \r\nL 1178 4134 \r\nL 603 4134 \r\nL 603 4863 \r\nz\r\n\" id=\"DejaVuSans-69\" transform=\"scale(0.015625)\"/>\r\n       <path d=\"M 3513 2113 \r\nL 3513 0 \r\nL 2938 0 \r\nL 2938 2094 \r\nQ 2938 2591 2744 2837 \r\nQ 2550 3084 2163 3084 \r\nQ 1697 3084 1428 2787 \r\nQ 1159 2491 1159 1978 \r\nL 1159 0 \r\nL 581 0 \r\nL 581 3500 \r\nL 1159 3500 \r\nL 1159 2956 \r\nQ 1366 3272 1645 3428 \r\nQ 1925 3584 2291 3584 \r\nQ 2894 3584 3203 3211 \r\nQ 3513 2838 3513 2113 \r\nz\r\n\" id=\"DejaVuSans-6e\" transform=\"scale(0.015625)\"/>\r\n       <path id=\"DejaVuSans-20\" transform=\"scale(0.015625)\"/>\r\n       <path d=\"M 2375 4863 \r\nL 2375 4384 \r\nL 1825 4384 \r\nQ 1516 4384 1395 4259 \r\nQ 1275 4134 1275 3809 \r\nL 1275 3500 \r\nL 2222 3500 \r\nL 2222 3053 \r\nL 1275 3053 \r\nL 1275 0 \r\nL 697 0 \r\nL 697 3053 \r\nL 147 3053 \r\nL 147 3500 \r\nL 697 3500 \r\nL 697 3744 \r\nQ 697 4328 969 4595 \r\nQ 1241 4863 1831 4863 \r\nL 2375 4863 \r\nz\r\n\" id=\"DejaVuSans-66\" transform=\"scale(0.015625)\"/>\r\n       <path d=\"M 4122 4306 \r\nL 4122 3641 \r\nQ 3803 3938 3442 4084 \r\nQ 3081 4231 2675 4231 \r\nQ 1875 4231 1450 3742 \r\nQ 1025 3253 1025 2328 \r\nQ 1025 1406 1450 917 \r\nQ 1875 428 2675 428 \r\nQ 3081 428 3442 575 \r\nQ 3803 722 4122 1019 \r\nL 4122 359 \r\nQ 3791 134 3420 21 \r\nQ 3050 -91 2638 -91 \r\nQ 1578 -91 968 557 \r\nQ 359 1206 359 2328 \r\nQ 359 3453 968 4101 \r\nQ 1578 4750 2638 4750 \r\nQ 3056 4750 3426 4639 \r\nQ 3797 4528 4122 4306 \r\nz\r\n\" id=\"DejaVuSans-43\" transform=\"scale(0.015625)\"/>\r\n       <path d=\"M 2059 -325 \r\nQ 1816 -950 1584 -1140 \r\nQ 1353 -1331 966 -1331 \r\nL 506 -1331 \r\nL 506 -850 \r\nL 844 -850 \r\nQ 1081 -850 1212 -737 \r\nQ 1344 -625 1503 -206 \r\nL 1606 56 \r\nL 191 3500 \r\nL 800 3500 \r\nL 1894 763 \r\nL 2988 3500 \r\nL 3597 3500 \r\nL 2059 -325 \r\nz\r\n\" id=\"DejaVuSans-79\" transform=\"scale(0.015625)\"/>\r\n       <path d=\"M 750 794 \r\nL 1409 794 \r\nL 1409 256 \r\nL 897 -744 \r\nL 494 -744 \r\nL 750 256 \r\nL 750 794 \r\nz\r\n\" id=\"DejaVuSans-2c\" transform=\"scale(0.015625)\"/>\r\n       <path d=\"M 2834 3397 \r\nL 2834 2853 \r\nQ 2591 2978 2328 3040 \r\nQ 2066 3103 1784 3103 \r\nQ 1356 3103 1142 2972 \r\nQ 928 2841 928 2578 \r\nQ 928 2378 1081 2264 \r\nQ 1234 2150 1697 2047 \r\nL 1894 2003 \r\nQ 2506 1872 2764 1633 \r\nQ 3022 1394 3022 966 \r\nQ 3022 478 2636 193 \r\nQ 2250 -91 1575 -91 \r\nQ 1294 -91 989 -36 \r\nQ 684 19 347 128 \r\nL 347 722 \r\nQ 666 556 975 473 \r\nQ 1284 391 1588 391 \r\nQ 1994 391 2212 530 \r\nQ 2431 669 2431 922 \r\nQ 2431 1156 2273 1281 \r\nQ 2116 1406 1581 1522 \r\nL 1381 1569 \r\nQ 847 1681 609 1914 \r\nQ 372 2147 372 2553 \r\nQ 372 3047 722 3315 \r\nQ 1072 3584 1716 3584 \r\nQ 2034 3584 2315 3537 \r\nQ 2597 3491 2834 3397 \r\nz\r\n\" id=\"DejaVuSans-73\" transform=\"scale(0.015625)\"/>\r\n      </defs>\r\n      <use xlink:href=\"#DejaVuSans-50\"/>\r\n      <use x=\"56.677734\" xlink:href=\"#DejaVuSans-6f\"/>\r\n      <use x=\"117.859375\" xlink:href=\"#DejaVuSans-70\"/>\r\n      <use x=\"181.335938\" xlink:href=\"#DejaVuSans-75\"/>\r\n      <use x=\"244.714844\" xlink:href=\"#DejaVuSans-6c\"/>\r\n      <use x=\"272.498047\" xlink:href=\"#DejaVuSans-61\"/>\r\n      <use x=\"333.777344\" xlink:href=\"#DejaVuSans-74\"/>\r\n      <use x=\"372.986328\" xlink:href=\"#DejaVuSans-69\"/>\r\n      <use x=\"400.769531\" xlink:href=\"#DejaVuSans-6f\"/>\r\n      <use x=\"461.951172\" xlink:href=\"#DejaVuSans-6e\"/>\r\n      <use x=\"525.330078\" xlink:href=\"#DejaVuSans-20\"/>\r\n      <use x=\"557.117188\" xlink:href=\"#DejaVuSans-6f\"/>\r\n      <use x=\"618.298828\" xlink:href=\"#DejaVuSans-66\"/>\r\n      <use x=\"653.503906\" xlink:href=\"#DejaVuSans-20\"/>\r\n      <use x=\"685.291016\" xlink:href=\"#DejaVuSans-43\"/>\r\n      <use x=\"755.115234\" xlink:href=\"#DejaVuSans-69\"/>\r\n      <use x=\"782.898438\" xlink:href=\"#DejaVuSans-74\"/>\r\n      <use x=\"822.107422\" xlink:href=\"#DejaVuSans-79\"/>\r\n      <use x=\"881.287109\" xlink:href=\"#DejaVuSans-20\"/>\r\n      <use x=\"913.074219\" xlink:href=\"#DejaVuSans-69\"/>\r\n      <use x=\"940.857422\" xlink:href=\"#DejaVuSans-6e\"/>\r\n      <use x=\"1004.236328\" xlink:href=\"#DejaVuSans-20\"/>\r\n      <use x=\"1036.023438\" xlink:href=\"#DejaVuSans-31\"/>\r\n      <use x=\"1099.646484\" xlink:href=\"#DejaVuSans-30\"/>\r\n      <use x=\"1163.269531\" xlink:href=\"#DejaVuSans-2c\"/>\r\n      <use x=\"1195.056641\" xlink:href=\"#DejaVuSans-30\"/>\r\n      <use x=\"1258.679688\" xlink:href=\"#DejaVuSans-30\"/>\r\n      <use x=\"1322.302734\" xlink:href=\"#DejaVuSans-30\"/>\r\n      <use x=\"1385.925781\" xlink:href=\"#DejaVuSans-73\"/>\r\n     </g>\r\n    </g>\r\n   </g>\r\n   <g id=\"matplotlib.axis_2\">\r\n    <g id=\"ytick_1\">\r\n     <g id=\"line2d_9\">\r\n      <defs>\r\n       <path d=\"M 0 0 \r\nL -3.5 0 \r\n\" id=\"m522f5108a3\" style=\"stroke:#000000;stroke-width:0.8;\"/>\r\n      </defs>\r\n      <g>\r\n       <use style=\"stroke:#000000;stroke-width:0.8;\" x=\"40.603125\" xlink:href=\"#m522f5108a3\" y=\"195.205028\"/>\r\n      </g>\r\n     </g>\r\n     <g id=\"text_10\">\r\n      <!-- 0 -->\r\n      <g transform=\"translate(27.240625 199.004246)scale(0.1 -0.1)\">\r\n       <use xlink:href=\"#DejaVuSans-30\"/>\r\n      </g>\r\n     </g>\r\n    </g>\r\n    <g id=\"ytick_2\">\r\n     <g id=\"line2d_10\">\r\n      <g>\r\n       <use style=\"stroke:#000000;stroke-width:0.8;\" x=\"40.603125\" xlink:href=\"#m522f5108a3\" y=\"158.363866\"/>\r\n      </g>\r\n     </g>\r\n     <g id=\"text_11\">\r\n      <!-- 5 -->\r\n      <g transform=\"translate(27.240625 162.163085)scale(0.1 -0.1)\">\r\n       <use xlink:href=\"#DejaVuSans-35\"/>\r\n      </g>\r\n     </g>\r\n    </g>\r\n    <g id=\"ytick_3\">\r\n     <g id=\"line2d_11\">\r\n      <g>\r\n       <use style=\"stroke:#000000;stroke-width:0.8;\" x=\"40.603125\" xlink:href=\"#m522f5108a3\" y=\"121.522704\"/>\r\n      </g>\r\n     </g>\r\n     <g id=\"text_12\">\r\n      <!-- 10 -->\r\n      <g transform=\"translate(20.878125 125.321923)scale(0.1 -0.1)\">\r\n       <use xlink:href=\"#DejaVuSans-31\"/>\r\n       <use x=\"63.623047\" xlink:href=\"#DejaVuSans-30\"/>\r\n      </g>\r\n     </g>\r\n    </g>\r\n    <g id=\"ytick_4\">\r\n     <g id=\"line2d_12\">\r\n      <g>\r\n       <use style=\"stroke:#000000;stroke-width:0.8;\" x=\"40.603125\" xlink:href=\"#m522f5108a3\" y=\"84.681542\"/>\r\n      </g>\r\n     </g>\r\n     <g id=\"text_13\">\r\n      <!-- 15 -->\r\n      <g transform=\"translate(20.878125 88.480761)scale(0.1 -0.1)\">\r\n       <use xlink:href=\"#DejaVuSans-31\"/>\r\n       <use x=\"63.623047\" xlink:href=\"#DejaVuSans-35\"/>\r\n      </g>\r\n     </g>\r\n    </g>\r\n    <g id=\"ytick_5\">\r\n     <g id=\"line2d_13\">\r\n      <g>\r\n       <use style=\"stroke:#000000;stroke-width:0.8;\" x=\"40.603125\" xlink:href=\"#m522f5108a3\" y=\"47.840381\"/>\r\n      </g>\r\n     </g>\r\n     <g id=\"text_14\">\r\n      <!-- 20 -->\r\n      <g transform=\"translate(20.878125 51.639599)scale(0.1 -0.1)\">\r\n       <use xlink:href=\"#DejaVuSans-32\"/>\r\n       <use x=\"63.623047\" xlink:href=\"#DejaVuSans-30\"/>\r\n      </g>\r\n     </g>\r\n    </g>\r\n    <g id=\"ytick_6\">\r\n     <g id=\"line2d_14\">\r\n      <g>\r\n       <use style=\"stroke:#000000;stroke-width:0.8;\" x=\"40.603125\" xlink:href=\"#m522f5108a3\" y=\"10.999219\"/>\r\n      </g>\r\n     </g>\r\n     <g id=\"text_15\">\r\n      <!-- 25 -->\r\n      <g transform=\"translate(20.878125 14.798438)scale(0.1 -0.1)\">\r\n       <use xlink:href=\"#DejaVuSans-32\"/>\r\n       <use x=\"63.623047\" xlink:href=\"#DejaVuSans-35\"/>\r\n      </g>\r\n     </g>\r\n    </g>\r\n    <g id=\"text_16\">\r\n     <!-- Profit in $10,000 -->\r\n     <g transform=\"translate(14.798438 157.572247)rotate(-90)scale(0.1 -0.1)\">\r\n      <defs>\r\n       <path d=\"M 2631 2963 \r\nQ 2534 3019 2420 3045 \r\nQ 2306 3072 2169 3072 \r\nQ 1681 3072 1420 2755 \r\nQ 1159 2438 1159 1844 \r\nL 1159 0 \r\nL 581 0 \r\nL 581 3500 \r\nL 1159 3500 \r\nL 1159 2956 \r\nQ 1341 3275 1631 3429 \r\nQ 1922 3584 2338 3584 \r\nQ 2397 3584 2469 3576 \r\nQ 2541 3569 2628 3553 \r\nL 2631 2963 \r\nz\r\n\" id=\"DejaVuSans-72\" transform=\"scale(0.015625)\"/>\r\n       <path d=\"M 2163 -941 \r\nL 1850 -941 \r\nL 1847 0 \r\nQ 1519 6 1191 76 \r\nQ 863 147 531 288 \r\nL 531 850 \r\nQ 850 650 1176 548 \r\nQ 1503 447 1850 444 \r\nL 1850 1869 \r\nQ 1159 1981 845 2250 \r\nQ 531 2519 531 2988 \r\nQ 531 3497 872 3790 \r\nQ 1213 4084 1850 4128 \r\nL 1850 4863 \r\nL 2163 4863 \r\nL 2163 4138 \r\nQ 2453 4125 2725 4076 \r\nQ 2997 4028 3256 3944 \r\nL 3256 3397 \r\nQ 2997 3528 2723 3600 \r\nQ 2450 3672 2163 3684 \r\nL 2163 2350 \r\nQ 2872 2241 3206 1959 \r\nQ 3541 1678 3541 1191 \r\nQ 3541 663 3186 358 \r\nQ 2831 53 2163 6 \r\nL 2163 -941 \r\nz\r\nM 1850 2406 \r\nL 1850 3688 \r\nQ 1488 3647 1297 3481 \r\nQ 1106 3316 1106 3041 \r\nQ 1106 2772 1282 2622 \r\nQ 1459 2472 1850 2406 \r\nz\r\nM 2163 1806 \r\nL 2163 453 \r\nQ 2559 506 2761 678 \r\nQ 2963 850 2963 1131 \r\nQ 2963 1406 2770 1568 \r\nQ 2578 1731 2163 1806 \r\nz\r\n\" id=\"DejaVuSans-24\" transform=\"scale(0.015625)\"/>\r\n      </defs>\r\n      <use xlink:href=\"#DejaVuSans-50\"/>\r\n      <use x=\"58.552734\" xlink:href=\"#DejaVuSans-72\"/>\r\n      <use x=\"97.416016\" xlink:href=\"#DejaVuSans-6f\"/>\r\n      <use x=\"158.597656\" xlink:href=\"#DejaVuSans-66\"/>\r\n      <use x=\"193.802734\" xlink:href=\"#DejaVuSans-69\"/>\r\n      <use x=\"221.585938\" xlink:href=\"#DejaVuSans-74\"/>\r\n      <use x=\"260.794922\" xlink:href=\"#DejaVuSans-20\"/>\r\n      <use x=\"292.582031\" xlink:href=\"#DejaVuSans-69\"/>\r\n      <use x=\"320.365234\" xlink:href=\"#DejaVuSans-6e\"/>\r\n      <use x=\"383.744141\" xlink:href=\"#DejaVuSans-20\"/>\r\n      <use x=\"415.53125\" xlink:href=\"#DejaVuSans-24\"/>\r\n      <use x=\"479.154297\" xlink:href=\"#DejaVuSans-31\"/>\r\n      <use x=\"542.777344\" xlink:href=\"#DejaVuSans-30\"/>\r\n      <use x=\"606.400391\" xlink:href=\"#DejaVuSans-2c\"/>\r\n      <use x=\"638.1875\" xlink:href=\"#DejaVuSans-30\"/>\r\n      <use x=\"701.810547\" xlink:href=\"#DejaVuSans-30\"/>\r\n      <use x=\"765.433594\" xlink:href=\"#DejaVuSans-30\"/>\r\n     </g>\r\n    </g>\r\n   </g>\r\n   <g id=\"line2d_15\">\r\n    <defs>\r\n     <path d=\"M 0 5 \r\nC 1.326016 5 2.597899 4.473168 3.535534 3.535534 \r\nC 4.473168 2.597899 5 1.326016 5 0 \r\nC 5 -1.326016 4.473168 -2.597899 3.535534 -3.535534 \r\nC 2.597899 -4.473168 1.326016 -5 0 -5 \r\nC -1.326016 -5 -2.597899 -4.473168 -3.535534 -3.535534 \r\nC -4.473168 -2.597899 -5 -1.326016 -5 0 \r\nC -5 1.326016 -4.473168 2.597899 -3.535534 3.535534 \r\nC -2.597899 4.473168 -1.326016 5 0 5 \r\nz\r\n\" id=\"m4a92b9ff38\" style=\"stroke:#000000;\"/>\r\n    </defs>\r\n    <g clip-path=\"url(#p548074ba7a)\">\r\n     <use style=\"fill:#ff0000;stroke:#000000;\" x=\"75.015809\" xlink:href=\"#m4a92b9ff38\" y=\"65.583084\"/>\r\n     <use style=\"fill:#ff0000;stroke:#000000;\" x=\"64.695574\" xlink:href=\"#m4a92b9ff38\" y=\"127.931593\"/>\r\n     <use style=\"fill:#ff0000;stroke:#000000;\" x=\"117.69487\" xlink:href=\"#m4a92b9ff38\" y=\"94.540237\"/>\r\n     <use style=\"fill:#ff0000;stroke:#000000;\" x=\"90.841705\" xlink:href=\"#m4a92b9ff38\" y=\"107.862001\"/>\r\n     <use style=\"fill:#ff0000;stroke:#000000;\" x=\"70.580447\" xlink:href=\"#m4a92b9ff38\" y=\"144.929368\"/>\r\n     <use style=\"fill:#ff0000;stroke:#000000;\" x=\"115.290241\" xlink:href=\"#m4a92b9ff38\" y=\"107.626218\"/>\r\n     <use style=\"fill:#ff0000;stroke:#000000;\" x=\"99.226895\" xlink:href=\"#m4a92b9ff38\" y=\"163.165743\"/>\r\n     <use style=\"fill:#ff0000;stroke:#000000;\" x=\"118.749221\" xlink:href=\"#m4a92b9ff38\" y=\"106.786239\"/>\r\n     <use style=\"fill:#ff0000;stroke:#000000;\" x=\"81.68037\" xlink:href=\"#m4a92b9ff38\" y=\"146.584273\"/>\r\n     <use style=\"fill:#ff0000;stroke:#000000;\" x=\"56.312156\" xlink:href=\"#m4a92b9ff38\" y=\"167.083432\"/>\r\n     <use style=\"fill:#ff0000;stroke:#000000;\" x=\"67.938368\" xlink:href=\"#m4a92b9ff38\" y=\"171.242062\"/>\r\n     <use style=\"fill:#ff0000;stroke:#000000;\" x=\"217.732392\" xlink:href=\"#m4a92b9ff38\" y=\"80.960585\"/>\r\n     <use style=\"fill:#ff0000;stroke:#000000;\" x=\"68.351248\" xlink:href=\"#m4a92b9ff38\" y=\"171.957518\"/>\r\n     <use style=\"fill:#ff0000;stroke:#000000;\" x=\"115.742106\" xlink:href=\"#m4a92b9ff38\" y=\"141.963654\"/>\r\n     <use style=\"fill:#ff0000;stroke:#000000;\" x=\"66.697955\" xlink:href=\"#m4a92b9ff38\" y=\"189.928047\"/>\r\n     <use style=\"fill:#ff0000;stroke:#000000;\" x=\"62.067671\" xlink:href=\"#m4a92b9ff38\" y=\"169.321164\"/>\r\n     <use style=\"fill:#ff0000;stroke:#000000;\" x=\"79.539772\" xlink:href=\"#m4a92b9ff38\" y=\"156.118029\"/>\r\n     <use style=\"fill:#ff0000;stroke:#000000;\" x=\"57.65003\" xlink:href=\"#m4a92b9ff38\" y=\"191.073144\"/>\r\n     <use style=\"fill:#ff0000;stroke:#000000;\" x=\"80.677408\" xlink:href=\"#m4a92b9ff38\" y=\"168.297717\"/>\r\n     <use style=\"fill:#ff0000;stroke:#000000;\" x=\"92.039589\" xlink:href=\"#m4a92b9ff38\" y=\"155.495413\"/>\r\n     <use style=\"fill:#ff0000;stroke:#000000;\" x=\"76.415704\" xlink:href=\"#m4a92b9ff38\" y=\"172.079094\"/>\r\n     <use style=\"fill:#ff0000;stroke:#000000;\" x=\"325.931829\" xlink:href=\"#m4a92b9ff38\" y=\"34.820714\"/>\r\n     <use style=\"fill:#ff0000;stroke:#000000;\" x=\"64.029296\" xlink:href=\"#m4a92b9ff38\" y=\"163.794253\"/>\r\n     <use style=\"fill:#ff0000;stroke:#000000;\" x=\"78.843369\" xlink:href=\"#m4a92b9ff38\" y=\"156.982322\"/>\r\n     <use style=\"fill:#ff0000;stroke:#000000;\" x=\"65.354765\" xlink:href=\"#m4a92b9ff38\" y=\"172.492451\"/>\r\n     <use style=\"fill:#ff0000;stroke:#000000;\" x=\"302.452587\" xlink:href=\"#m4a92b9ff38\" y=\"28.402984\"/>\r\n     <use style=\"fill:#ff0000;stroke:#000000;\" x=\"194.058227\" xlink:href=\"#m4a92b9ff38\" y=\"95.726523\"/>\r\n     <use style=\"fill:#ff0000;stroke:#000000;\" x=\"160.903764\" xlink:href=\"#m4a92b9ff38\" y=\"143.283305\"/>\r\n     <use style=\"fill:#ff0000;stroke:#000000;\" x=\"200.224851\" xlink:href=\"#m4a92b9ff38\" y=\"86.950958\"/>\r\n     <use style=\"fill:#ff0000;stroke:#000000;\" x=\"360.184943\" xlink:href=\"#m4a92b9ff38\" y=\"17.284321\"/>\r\n     <use style=\"fill:#ff0000;stroke:#000000;\" x=\"59.817208\" xlink:href=\"#m4a92b9ff38\" y=\"204.194271\"/>\r\n     <use style=\"fill:#ff0000;stroke:#000000;\" x=\"83.509093\" xlink:href=\"#m4a92b9ff38\" y=\"151.020686\"/>\r\n     <use style=\"fill:#ff0000;stroke:#000000;\" x=\"130.623516\" xlink:href=\"#m4a92b9ff38\" y=\"105.798896\"/>\r\n     <use style=\"fill:#ff0000;stroke:#000000;\" x=\"71.147493\" xlink:href=\"#m4a92b9ff38\" y=\"181.577482\"/>\r\n     <use style=\"fill:#ff0000;stroke:#000000;\" x=\"112.245914\" xlink:href=\"#m4a92b9ff38\" y=\"146.997631\"/>\r\n     <use style=\"fill:#ff0000;stroke:#000000;\" x=\"107.325019\" xlink:href=\"#m4a92b9ff38\" y=\"161.588941\"/>\r\n     <use style=\"fill:#ff0000;stroke:#000000;\" x=\"110.204549\" xlink:href=\"#m4a92b9ff38\" y=\"164.874436\"/>\r\n     <use style=\"fill:#ff0000;stroke:#000000;\" x=\"66.088381\" xlink:href=\"#m4a92b9ff38\" y=\"170.206089\"/>\r\n     <use style=\"fill:#ff0000;stroke:#000000;\" x=\"194.199988\" xlink:href=\"#m4a92b9ff38\" y=\"120.660621\"/>\r\n     <use style=\"fill:#ff0000;stroke:#000000;\" x=\"79.32713\" xlink:href=\"#m4a92b9ff38\" y=\"154.698907\"/>\r\n     <use style=\"fill:#ff0000;stroke:#000000;\" x=\"62.554976\" xlink:href=\"#m4a92b9ff38\" y=\"191.104091\"/>\r\n     <use style=\"fill:#ff0000;stroke:#000000;\" x=\"88.702879\" xlink:href=\"#m4a92b9ff38\" y=\"166.384187\"/>\r\n     <use style=\"fill:#ff0000;stroke:#000000;\" x=\"174.211622\" xlink:href=\"#m4a92b9ff38\" y=\"155.524149\"/>\r\n     <use style=\"fill:#ff0000;stroke:#000000;\" x=\"69.05474\" xlink:href=\"#m4a92b9ff38\" y=\"177.22212\"/>\r\n     <use style=\"fill:#ff0000;stroke:#000000;\" x=\"105.398835\" xlink:href=\"#m4a92b9ff38\" y=\"145.603561\"/>\r\n     <use style=\"fill:#ff0000;stroke:#000000;\" x=\"92.434749\" xlink:href=\"#m4a92b9ff38\" y=\"187.495646\"/>\r\n     <use style=\"fill:#ff0000;stroke:#000000;\" x=\"56.588591\" xlink:href=\"#m4a92b9ff38\" y=\"157.378733\"/>\r\n     <use style=\"fill:#ff0000;stroke:#000000;\" x=\"69.545589\" xlink:href=\"#m4a92b9ff38\" y=\"181.618007\"/>\r\n     <use style=\"fill:#ff0000;stroke:#000000;\" x=\"174.06986\" xlink:href=\"#m4a92b9ff38\" y=\"136.227485\"/>\r\n     <use style=\"fill:#ff0000;stroke:#000000;\" x=\"64.941885\" xlink:href=\"#m4a92b9ff38\" y=\"187.704904\"/>\r\n     <use style=\"fill:#ff0000;stroke:#000000;\" x=\"100.357443\" xlink:href=\"#m4a92b9ff38\" y=\"145.466512\"/>\r\n     <use style=\"fill:#ff0000;stroke:#000000;\" x=\"60.797134\" xlink:href=\"#m4a92b9ff38\" y=\"181.650427\"/>\r\n     <use style=\"fill:#ff0000;stroke:#000000;\" x=\"98.296586\" xlink:href=\"#m4a92b9ff38\" y=\"163.606363\"/>\r\n     <use style=\"fill:#ff0000;stroke:#000000;\" x=\"101.472042\" xlink:href=\"#m4a92b9ff38\" y=\"158.377866\"/>\r\n     <use style=\"fill:#ff0000;stroke:#000000;\" x=\"78.962094\" xlink:href=\"#m4a92b9ff38\" y=\"184.717823\"/>\r\n     <use style=\"fill:#ff0000;stroke:#000000;\" x=\"79.424591\" xlink:href=\"#m4a92b9ff38\" y=\"205.676023\"/>\r\n     <use style=\"fill:#ff0000;stroke:#000000;\" x=\"77.923691\" xlink:href=\"#m4a92b9ff38\" y=\"176.964232\"/>\r\n     <use style=\"fill:#ff0000;stroke:#000000;\" x=\"66.680235\" xlink:href=\"#m4a92b9ff38\" y=\"161.280212\"/>\r\n     <use style=\"fill:#ff0000;stroke:#000000;\" x=\"131.722167\" xlink:href=\"#m4a92b9ff38\" y=\"166.009144\"/>\r\n     <use style=\"fill:#ff0000;stroke:#000000;\" x=\"134.263241\" xlink:href=\"#m4a92b9ff38\" y=\"155.312681\"/>\r\n     <use style=\"fill:#ff0000;stroke:#000000;\" x=\"123.131422\" xlink:href=\"#m4a92b9ff38\" y=\"157.115687\"/>\r\n     <use style=\"fill:#ff0000;stroke:#000000;\" x=\"58.521863\" xlink:href=\"#m4a92b9ff38\" y=\"200.678077\"/>\r\n     <use style=\"fill:#ff0000;stroke:#000000;\" x=\"343.811494\" xlink:href=\"#m4a92b9ff38\" y=\"63.09999\"/>\r\n     <use style=\"fill:#ff0000;stroke:#000000;\" x=\"230.916208\" xlink:href=\"#m4a92b9ff38\" y=\"106.388355\"/>\r\n     <use style=\"fill:#ff0000;stroke:#000000;\" x=\"302.700669\" xlink:href=\"#m4a92b9ff38\" y=\"69.547193\"/>\r\n     <use style=\"fill:#ff0000;stroke:#000000;\" x=\"94.651544\" xlink:href=\"#m4a92b9ff38\" y=\"159.209739\"/>\r\n     <use style=\"fill:#ff0000;stroke:#000000;\" x=\"113.734409\" xlink:href=\"#m4a92b9ff38\" y=\"152.880427\"/>\r\n     <use style=\"fill:#ff0000;stroke:#000000;\" x=\"148.127512\" xlink:href=\"#m4a92b9ff38\" y=\"137.914074\"/>\r\n     <use style=\"fill:#ff0000;stroke:#000000;\" x=\"64.194093\" xlink:href=\"#m4a92b9ff38\" y=\"187.709325\"/>\r\n     <use style=\"fill:#ff0000;stroke:#000000;\" x=\"327.189962\" xlink:href=\"#m4a92b9ff38\" y=\"40.531094\"/>\r\n     <use style=\"fill:#ff0000;stroke:#000000;\" x=\"146.355494\" xlink:href=\"#m4a92b9ff38\" y=\"145.985972\"/>\r\n     <use style=\"fill:#ff0000;stroke:#000000;\" x=\"96.712401\" xlink:href=\"#m4a92b9ff38\" y=\"165.541261\"/>\r\n     <use style=\"fill:#ff0000;stroke:#000000;\" x=\"73.174682\" xlink:href=\"#m4a92b9ff38\" y=\"185.785479\"/>\r\n     <use style=\"fill:#ff0000;stroke:#000000;\" x=\"94.787989\" xlink:href=\"#m4a92b9ff38\" y=\"170.587027\"/>\r\n     <use style=\"fill:#ff0000;stroke:#000000;\" x=\"55.821307\" xlink:href=\"#m4a92b9ff38\" y=\"214.957048\"/>\r\n     <use style=\"fill:#ff0000;stroke:#000000;\" x=\"82.773705\" xlink:href=\"#m4a92b9ff38\" y=\"193.018284\"/>\r\n     <use style=\"fill:#ff0000;stroke:#000000;\" x=\"100.329091\" xlink:href=\"#m4a92b9ff38\" y=\"166.583129\"/>\r\n     <use style=\"fill:#ff0000;stroke:#000000;\" x=\"55.991421\" xlink:href=\"#m4a92b9ff38\" y=\"153.195788\"/>\r\n     <use style=\"fill:#ff0000;stroke:#000000;\" x=\"148.800879\" xlink:href=\"#m4a92b9ff38\" y=\"145.450302\"/>\r\n     <use style=\"fill:#ff0000;stroke:#000000;\" x=\"57.253098\" xlink:href=\"#m4a92b9ff38\" y=\"180.044153\"/>\r\n     <use style=\"fill:#ff0000;stroke:#000000;\" x=\"68.266191\" xlink:href=\"#m4a92b9ff38\" y=\"191.671739\"/>\r\n     <use style=\"fill:#ff0000;stroke:#000000;\" x=\"58.683116\" xlink:href=\"#m4a92b9ff38\" y=\"193.700361\"/>\r\n     <use style=\"fill:#ff0000;stroke:#000000;\" x=\"79.367886\" xlink:href=\"#m4a92b9ff38\" y=\"190.204872\"/>\r\n     <use style=\"fill:#ff0000;stroke:#000000;\" x=\"139.846871\" xlink:href=\"#m4a92b9ff38\" y=\"139.622767\"/>\r\n     <use style=\"fill:#ff0000;stroke:#000000;\" x=\"82.206659\" xlink:href=\"#m4a92b9ff38\" y=\"155.832141\"/>\r\n     <use style=\"fill:#ff0000;stroke:#000000;\" x=\"117.670062\" xlink:href=\"#m4a92b9ff38\" y=\"163.95267\"/>\r\n     <use style=\"fill:#ff0000;stroke:#000000;\" x=\"129.418543\" xlink:href=\"#m4a92b9ff38\" y=\"145.115047\"/>\r\n     <use style=\"fill:#ff0000;stroke:#000000;\" x=\"73.100257\" xlink:href=\"#m4a92b9ff38\" y=\"188.375045\"/>\r\n     <use style=\"fill:#ff0000;stroke:#000000;\" x=\"64.566217\" xlink:href=\"#m4a92b9ff38\" y=\"194.085056\"/>\r\n     <use style=\"fill:#ff0000;stroke:#000000;\" x=\"56.397213\" xlink:href=\"#m4a92b9ff38\" y=\"174.416297\"/>\r\n     <use style=\"fill:#ff0000;stroke:#000000;\" x=\"67.885207\" xlink:href=\"#m4a92b9ff38\" y=\"181.609902\"/>\r\n     <use style=\"fill:#ff0000;stroke:#000000;\" x=\"102.065669\" xlink:href=\"#m4a92b9ff38\" y=\"163.551838\"/>\r\n     <use style=\"fill:#ff0000;stroke:#000000;\" x=\"70.773597\" xlink:href=\"#m4a92b9ff38\" y=\"142.132387\"/>\r\n     <use style=\"fill:#ff0000;stroke:#000000;\" x=\"60.756378\" xlink:href=\"#m4a92b9ff38\" y=\"180.565087\"/>\r\n     <use style=\"fill:#ff0000;stroke:#000000;\" x=\"113.704285\" xlink:href=\"#m4a92b9ff38\" y=\"194.140023\"/>\r\n     <use style=\"fill:#ff0000;stroke:#000000;\" x=\"204.087851\" xlink:href=\"#m4a92b9ff38\" y=\"128.484947\"/>\r\n     <use style=\"fill:#ff0000;stroke:#000000;\" x=\"63.086582\" xlink:href=\"#m4a92b9ff38\" y=\"190.65846\"/>\r\n    </g>\r\n   </g>\r\n   <g id=\"patch_3\">\r\n    <path d=\"M 40.603125 224.840685 \r\nL 40.603125 7.400685 \r\n\" style=\"fill:none;stroke:#000000;stroke-linecap:square;stroke-linejoin:miter;stroke-width:0.8;\"/>\r\n   </g>\r\n   <g id=\"patch_4\">\r\n    <path d=\"M 375.403125 224.840685 \r\nL 375.403125 7.400685 \r\n\" style=\"fill:none;stroke:#000000;stroke-linecap:square;stroke-linejoin:miter;stroke-width:0.8;\"/>\r\n   </g>\r\n   <g id=\"patch_5\">\r\n    <path d=\"M 40.603125 224.840685 \r\nL 375.403125 224.840685 \r\n\" style=\"fill:none;stroke:#000000;stroke-linecap:square;stroke-linejoin:miter;stroke-width:0.8;\"/>\r\n   </g>\r\n   <g id=\"patch_6\">\r\n    <path d=\"M 40.603125 7.400685 \r\nL 375.403125 7.400685 \r\n\" style=\"fill:none;stroke:#000000;stroke-linecap:square;stroke-linejoin:miter;stroke-width:0.8;\"/>\r\n   </g>\r\n  </g>\r\n </g>\r\n <defs>\r\n  <clipPath id=\"p548074ba7a\">\r\n   <rect height=\"217.44\" width=\"334.8\" x=\"40.603125\" y=\"7.400685\"/>\r\n  </clipPath>\r\n </defs>\r\n</svg>\r\n",
            "image/png": "[encoded data removed]"
          },
          "metadata": {
            "needs_background": "light"
          }
        }
      ]
    },
    {
      "cell_type": "markdown",
      "metadata": {
        "id": "JNdFstlL_KCa"
      },
      "source": [
        "To quickly learn more about the `matplotlib` plot function and what arguments you can provide to it, you can type `?pyplot.plot` in a cell within the jupyter notebook. This opens a separate page showing the documentation for the requested function. You can also search online for plotting documentation. \n",
        "\n",
        "To set the markers to red circles, we used the option `'or'` within the `plot` function."
      ]
    },
    {
      "cell_type": "code",
      "metadata": {
        "id": "vNUkRFE-_KCa"
      },
      "source": [
        "# IF NEEDED YOU CAN UNCOMMENT THE BELOW LINE AND RUN TO LEARN MORE ABOUT THE FUNCTION\n",
        "?pyplot.plot"
      ],
      "execution_count": 7,
      "outputs": [
        {
          "output_type": "stream",
          "text": [
            "\u001b[1;31mSignature:\u001b[0m \u001b[0mpyplot\u001b[0m\u001b[1;33m.\u001b[0m\u001b[0mplot\u001b[0m\u001b[1;33m(\u001b[0m\u001b[1;33m*\u001b[0m\u001b[0margs\u001b[0m\u001b[1;33m,\u001b[0m \u001b[0mscalex\u001b[0m\u001b[1;33m=\u001b[0m\u001b[1;32mTrue\u001b[0m\u001b[1;33m,\u001b[0m \u001b[0mscaley\u001b[0m\u001b[1;33m=\u001b[0m\u001b[1;32mTrue\u001b[0m\u001b[1;33m,\u001b[0m \u001b[0mdata\u001b[0m\u001b[1;33m=\u001b[0m\u001b[1;32mNone\u001b[0m\u001b[1;33m,\u001b[0m \u001b[1;33m**\u001b[0m\u001b[0mkwargs\u001b[0m\u001b[1;33m)\u001b[0m\u001b[1;33m\u001b[0m\u001b[1;33m\u001b[0m\u001b[0m\n",
            "\u001b[1;31mDocstring:\u001b[0m\n",
            "Plot y versus x as lines and/or markers.\n",
            "\n",
            "Call signatures::\n",
            "\n",
            "    plot([x], y, [fmt], *, data=None, **kwargs)\n",
            "    plot([x], y, [fmt], [x2], y2, [fmt2], ..., **kwargs)\n",
            "\n",
            "The coordinates of the points or line nodes are given by *x*, *y*.\n",
            "\n",
            "The optional parameter *fmt* is a convenient way for defining basic\n",
            "formatting like color, marker and linestyle. It's a shortcut string\n",
            "notation described in the *Notes* section below.\n",
            "\n",
            ">>> plot(x, y)        # plot x and y using default line style and color\n",
            ">>> plot(x, y, 'bo')  # plot x and y using blue circle markers\n",
            ">>> plot(y)           # plot y using x as index array 0..N-1\n",
            ">>> plot(y, 'r+')     # ditto, but with red plusses\n",
            "\n",
            "You can use `.Line2D` properties as keyword arguments for more\n",
            "control on the appearance. Line properties and *fmt* can be mixed.\n",
            "The following two calls yield identical results:\n",
            "\n",
            ">>> plot(x, y, 'go--', linewidth=2, markersize=12)\n",
            ">>> plot(x, y, color='green', marker='o', linestyle='dashed',\n",
            "...      linewidth=2, markersize=12)\n",
            "\n",
            "When conflicting with *fmt*, keyword arguments take precedence.\n",
            "\n",
            "\n",
            "**Plotting labelled data**\n",
            "\n",
            "There's a convenient way for plotting objects with labelled data (i.e.\n",
            "data that can be accessed by index ``obj['y']``). Instead of giving\n",
            "the data in *x* and *y*, you can provide the object in the *data*\n",
            "parameter and just give the labels for *x* and *y*::\n",
            "\n",
            ">>> plot('xlabel', 'ylabel', data=obj)\n",
            "\n",
            "All indexable objects are supported. This could e.g. be a `dict`, a\n",
            "`pandas.DataFrame` or a structured numpy array.\n",
            "\n",
            "\n",
            "**Plotting multiple sets of data**\n",
            "\n",
            "There are various ways to plot multiple sets of data.\n",
            "\n",
            "- The most straight forward way is just to call `plot` multiple times.\n",
            "  Example:\n",
            "\n",
            "  >>> plot(x1, y1, 'bo')\n",
            "  >>> plot(x2, y2, 'go')\n",
            "\n",
            "- If *x* and/or *y* are 2D arrays a separate data set will be drawn\n",
            "  for every column. If both *x* and *y* are 2D, they must have the\n",
            "  same shape. If only one of them is 2D with shape (N, m) the other\n",
            "  must have length N and will be used for every data set m.\n",
            "\n",
            "  Example:\n",
            "\n",
            "  >>> x = [1, 2, 3]\n",
            "  >>> y = np.array([[1, 2], [3, 4], [5, 6]])\n",
            "  >>> plot(x, y)\n",
            "\n",
            "  is equivalent to:\n",
            "\n",
            "  >>> for col in range(y.shape[1]):\n",
            "  ...     plot(x, y[:, col])\n",
            "\n",
            "- The third way is to specify multiple sets of *[x]*, *y*, *[fmt]*\n",
            "  groups::\n",
            "\n",
            "  >>> plot(x1, y1, 'g^', x2, y2, 'g-')\n",
            "\n",
            "  In this case, any additional keyword argument applies to all\n",
            "  datasets. Also this syntax cannot be combined with the *data*\n",
            "  parameter.\n",
            "\n",
            "By default, each line is assigned a different style specified by a\n",
            "'style cycle'. The *fmt* and line property parameters are only\n",
            "necessary if you want explicit deviations from these defaults.\n",
            "Alternatively, you can also change the style cycle using\n",
            ":rc:`axes.prop_cycle`.\n",
            "\n",
            "\n",
            "Parameters\n",
            "----------\n",
            "x, y : array-like or scalar\n",
            "    The horizontal / vertical coordinates of the data points.\n",
            "    *x* values are optional and default to ``range(len(y))``.\n",
            "\n",
            "    Commonly, these parameters are 1D arrays.\n",
            "\n",
            "    They can also be scalars, or two-dimensional (in that case, the\n",
            "    columns represent separate data sets).\n",
            "\n",
            "    These arguments cannot be passed as keywords.\n",
            "\n",
            "fmt : str, optional\n",
            "    A format string, e.g. 'ro' for red circles. See the *Notes*\n",
            "    section for a full description of the format strings.\n",
            "\n",
            "    Format strings are just an abbreviation for quickly setting\n",
            "    basic line properties. All of these and more can also be\n",
            "    controlled by keyword arguments.\n",
            "\n",
            "    This argument cannot be passed as keyword.\n",
            "\n",
            "data : indexable object, optional\n",
            "    An object with labelled data. If given, provide the label names to\n",
            "    plot in *x* and *y*.\n",
            "\n",
            "    .. note::\n",
            "        Technically there's a slight ambiguity in calls where the\n",
            "        second label is a valid *fmt*. ``plot('n', 'o', data=obj)``\n",
            "        could be ``plt(x, y)`` or ``plt(y, fmt)``. In such cases,\n",
            "        the former interpretation is chosen, but a warning is issued.\n",
            "        You may suppress the warning by adding an empty format string\n",
            "        ``plot('n', 'o', '', data=obj)``.\n",
            "\n",
            "Returns\n",
            "-------\n",
            "list of `.Line2D`\n",
            "    A list of lines representing the plotted data.\n",
            "\n",
            "Other Parameters\n",
            "----------------\n",
            "scalex, scaley : bool, default: True\n",
            "    These parameters determine if the view limits are adapted to the\n",
            "    data limits. The values are passed on to `autoscale_view`.\n",
            "\n",
            "**kwargs : `.Line2D` properties, optional\n",
            "    *kwargs* are used to specify properties like a line label (for\n",
            "    auto legends), linewidth, antialiasing, marker face color.\n",
            "    Example::\n",
            "\n",
            "    >>> plot([1, 2, 3], [1, 2, 3], 'go-', label='line 1', linewidth=2)\n",
            "    >>> plot([1, 2, 3], [1, 4, 9], 'rs', label='line 2')\n",
            "\n",
            "    If you specify multiple lines with one plot call, the kwargs apply\n",
            "    to all those lines. In case the label object is iterable, each\n",
            "    element is used as labels for each set of data.\n",
            "\n",
            "    Here is a list of available `.Line2D` properties:\n",
            "\n",
            "    Properties:\n",
            "    agg_filter: a filter function, which takes a (m, n, 3) float array and a dpi value, and returns a (m, n, 3) array\n",
            "    alpha: scalar or None\n",
            "    animated: bool\n",
            "    antialiased or aa: bool\n",
            "    clip_box: `.Bbox`\n",
            "    clip_on: bool\n",
            "    clip_path: Patch or (Path, Transform) or None\n",
            "    color or c: color\n",
            "    contains: unknown\n",
            "    dash_capstyle: `.CapStyle` or {'butt', 'projecting', 'round'}\n",
            "    dash_joinstyle: `.JoinStyle` or {'miter', 'round', 'bevel'}\n",
            "    dashes: sequence of floats (on/off ink in points) or (None, None)\n",
            "    data: (2, N) array or two 1D arrays\n",
            "    drawstyle or ds: {'default', 'steps', 'steps-pre', 'steps-mid', 'steps-post'}, default: 'default'\n",
            "    figure: `.Figure`\n",
            "    fillstyle: {'full', 'left', 'right', 'bottom', 'top', 'none'}\n",
            "    gid: str\n",
            "    in_layout: bool\n",
            "    label: object\n",
            "    linestyle or ls: {'-', '--', '-.', ':', '', (offset, on-off-seq), ...}\n",
            "    linewidth or lw: float\n",
            "    marker: marker style string, `~.path.Path` or `~.markers.MarkerStyle`\n",
            "    markeredgecolor or mec: color\n",
            "    markeredgewidth or mew: float\n",
            "    markerfacecolor or mfc: color\n",
            "    markerfacecoloralt or mfcalt: color\n",
            "    markersize or ms: float\n",
            "    markevery: None or int or (int, int) or slice or list[int] or float or (float, float) or list[bool]\n",
            "    path_effects: `.AbstractPathEffect`\n",
            "    picker: float or callable[[Artist, Event], tuple[bool, dict]]\n",
            "    pickradius: float\n",
            "    rasterized: bool\n",
            "    sketch_params: (scale: float, length: float, randomness: float)\n",
            "    snap: bool or None\n",
            "    solid_capstyle: `.CapStyle` or {'butt', 'projecting', 'round'}\n",
            "    solid_joinstyle: `.JoinStyle` or {'miter', 'round', 'bevel'}\n",
            "    transform: `matplotlib.transforms.Transform`\n",
            "    url: str\n",
            "    visible: bool\n",
            "    xdata: 1D array\n",
            "    ydata: 1D array\n",
            "    zorder: float\n",
            "\n",
            "See Also\n",
            "--------\n",
            "scatter : XY scatter plot with markers of varying size and/or color (\n",
            "    sometimes also called bubble chart).\n",
            "\n",
            "Notes\n",
            "-----\n",
            "**Format Strings**\n",
            "\n",
            "A format string consists of a part for color, marker and line::\n",
            "\n",
            "    fmt = '[marker][line][color]'\n",
            "\n",
            "Each of them is optional. If not provided, the value from the style\n",
            "cycle is used. Exception: If ``line`` is given, but no ``marker``,\n",
            "the data will be a line without markers.\n",
            "\n",
            "Other combinations such as ``[color][marker][line]`` are also\n",
            "supported, but note that their parsing may be ambiguous.\n",
            "\n",
            "**Markers**\n",
            "\n",
            "=============   ===============================\n",
            "character       description\n",
            "=============   ===============================\n",
            "``'.'``         point marker\n",
            "``','``         pixel marker\n",
            "``'o'``         circle marker\n",
            "``'v'``         triangle_down marker\n",
            "``'^'``         triangle_up marker\n",
            "``'<'``         triangle_left marker\n",
            "``'>'``         triangle_right marker\n",
            "``'1'``         tri_down marker\n",
            "``'2'``         tri_up marker\n",
            "``'3'``         tri_left marker\n",
            "``'4'``         tri_right marker\n",
            "``'8'``         octagon marker\n",
            "``'s'``         square marker\n",
            "``'p'``         pentagon marker\n",
            "``'P'``         plus (filled) marker\n",
            "``'*'``         star marker\n",
            "``'h'``         hexagon1 marker\n",
            "``'H'``         hexagon2 marker\n",
            "``'+'``         plus marker\n",
            "``'x'``         x marker\n",
            "``'X'``         x (filled) marker\n",
            "``'D'``         diamond marker\n",
            "``'d'``         thin_diamond marker\n",
            "``'|'``         vline marker\n",
            "``'_'``         hline marker\n",
            "=============   ===============================\n",
            "\n",
            "**Line Styles**\n",
            "\n",
            "=============    ===============================\n",
            "character        description\n",
            "=============    ===============================\n",
            "``'-'``          solid line style\n",
            "``'--'``         dashed line style\n",
            "``'-.'``         dash-dot line style\n",
            "``':'``          dotted line style\n",
            "=============    ===============================\n",
            "\n",
            "Example format strings::\n",
            "\n",
            "    'b'    # blue markers with default shape\n",
            "    'or'   # red circles\n",
            "    '-g'   # green solid line\n",
            "    '--'   # dashed line with default color\n",
            "    '^k:'  # black triangle_up markers connected by a dotted line\n",
            "\n",
            "**Colors**\n",
            "\n",
            "The supported color abbreviations are the single letter codes\n",
            "\n",
            "=============    ===============================\n",
            "character        color\n",
            "=============    ===============================\n",
            "``'b'``          blue\n",
            "``'g'``          green\n",
            "``'r'``          red\n",
            "``'c'``          cyan\n",
            "``'m'``          magenta\n",
            "``'y'``          yellow\n",
            "``'k'``          black\n",
            "``'w'``          white\n",
            "=============    ===============================\n",
            "\n",
            "and the ``'CN'`` colors that index into the default property cycle.\n",
            "\n",
            "If the color is the only part of the format string, you can\n",
            "additionally use any  `matplotlib.colors` spec, e.g. full names\n",
            "(``'green'``) or hex strings (``'#008000'``).\n",
            "\u001b[1;31mFile:\u001b[0m      c:\\users\\asus\\appdata\\roaming\\python\\python39\\site-packages\\matplotlib\\pyplot.py\n",
            "\u001b[1;31mType:\u001b[0m      function\n"
          ],
          "name": "stdout"
        }
      ]
    },
    {
      "cell_type": "markdown",
      "metadata": {
        "id": "kjXBs0ID_KCc"
      },
      "source": [
        "<a id=\"section2\"></a>\n",
        "### 2.2 Gradient Descent\n",
        "\n",
        "In this part, you will fit the linear regression parameters $\\theta$ to our dataset using gradient descent.\n",
        "\n",
        "#### 2.2.1 Update Equations\n",
        "\n",
        "The objective of linear regression is to minimize the cost function\n",
        "\n",
        "$$ J(\\theta) = \\frac{1}{2m} \\sum_{i=1}^m \\left( h_{\\theta}(x^{(i)}) - y^{(i)}\\right)^2$$\n",
        "\n",
        "where the hypothesis $h_\\theta(x)$ is given by the linear model\n",
        "$$ h_\\theta(x) = \\theta^Tx = \\theta_0 + \\theta_1 x_1$$\n",
        "\n",
        "Recall that the parameters of your model are the $\\theta_j$ values. These are\n",
        "the values you will adjust to minimize cost $J(\\theta)$. One way to do this is to\n",
        "use the batch gradient descent algorithm. In batch gradient descent, each\n",
        "iteration performs the update\n",
        "\n",
        "$$ \\theta_j = \\theta_j - \\alpha \\frac{1}{m} \\sum_{i=1}^m \\left( h_\\theta(x^{(i)}) - y^{(i)}\\right)x_j^{(i)} \\qquad \\text{simultaneously update } \\theta_j \\text{ for all } j$$\n",
        "\n",
        "With each step of gradient descent, your parameters $\\theta_j$ come closer to the optimal values that will achieve the lowest cost J($\\theta$).\n",
        "\n",
        "<div class=\"alert alert-block alert-warning\">\n",
        "**Implementation Note:** We store each example as a row in the the $X$ matrix in Python `numpy`. To take into account the intercept term ($\\theta_0$), we add an additional first column to $X$ and set it to all ones. This allows us to treat $\\theta_0$ as simply another 'feature'.\n",
        "</div>\n",
        "\n",
        "\n",
        "#### 2.2.2 Implementation\n",
        "\n",
        "We have already set up the data for linear regression. In the following cell, we add another dimension to our data to accommodate the $\\theta_0$ intercept term. Do NOT execute this cell more than once."
      ]
    },
    {
      "cell_type": "code",
      "metadata": {
        "id": "p9n9P0wW_KCd"
      },
      "source": [
        "# Add a column of ones to X. The numpy function stack joins arrays along a given axis. \n",
        "# The first axis (axis=0) refers to rows (training examples) \n",
        "# and second axis (axis=1) refers to columns (features).\n",
        "X = np.stack([np.ones(m), X], axis=1)"
      ],
      "execution_count": 8,
      "outputs": []
    },
    {
      "cell_type": "markdown",
      "metadata": {
        "id": "4-KOAfJR_KCf"
      },
      "source": [
        "<a id=\"section2\"></a>\n",
        "#### 2.2.3 Computing the cost $J(\\theta)$\n",
        "\n",
        "As you perform gradient descent to learn minimize the cost function $J(\\theta)$, it is helpful to monitor the convergence by computing the cost. In this section, you will implement a function to calculate $J(\\theta)$ so you can check the convergence of your gradient descent implementation. \n",
        "\n",
        "Your next task is to complete the code for the function `computeCost` which computes $J(\\theta)$. As you are doing this, remember that the variables $X$ and $y$ are not scalar values. $X$ is a matrix whose rows represent the examples from the training set and $y$ is a vector whose each elemennt represent the value at a given row of $X$.\n",
        "<a id=\"computeCost\"></a>"
      ]
    },
    {
      "cell_type": "code",
      "metadata": {
        "id": "0CSB132b_KCf"
      },
      "source": [
        "def computeCost(X, y, theta):\n",
        "    \"\"\"\n",
        "    Compute cost for linear regression. Computes the cost of using theta as the\n",
        "    parameter for linear regression to fit the data points in X and y.\n",
        "    \n",
        "    Parameters\n",
        "    ----------\n",
        "    X : array_like\n",
        "        The input dataset of shape (m x n+1), where m is the number of examples,\n",
        "        and n is the number of features. We assume a vector of one's already \n",
        "        appended to the features so we have n+1 columns.\n",
        "    \n",
        "    y : array_like\n",
        "        The values of the function at each data point. This is a vector of\n",
        "        shape (m, ).\n",
        "    \n",
        "    theta : array_like\n",
        "        The parameters for the regression function. This is a vector of \n",
        "        shape (n+1, ).\n",
        "    \n",
        "    Returns\n",
        "    -------\n",
        "    J : float\n",
        "        The value of the regression cost function.\n",
        "    \n",
        "    Instructions\n",
        "    ------------\n",
        "    Compute the cost of a particular choice of theta. \n",
        "    You should set J to the cost.\n",
        "    \"\"\"\n",
        "    \n",
        "    # initialize some useful values\n",
        "    m = y.size  # number of training examples\n",
        "    \n",
        "    # You need to return the following variables correctly\n",
        "    J = 0\n",
        "    # ====================== YOUR CODE HERE =====================\n",
        "    predictions = X.dot(theta)\n",
        "    square_err = (predictions - y)**2\n",
        "    cost_func = 1/(2*m) * np.sum(square_err)\n",
        "    J = cost_func\n",
        "    # ===========================================================\n",
        "    return J"
      ],
      "execution_count": 9,
      "outputs": []
    },
    {
      "cell_type": "markdown",
      "metadata": {
        "id": "7tVbRXA4_KCi"
      },
      "source": [
        "Once you have completed the function, You can initialize $\\theta$ differently . You will see the cost printed to the screen."
      ]
    },
    {
      "cell_type": "code",
      "metadata": {
        "id": "E_CwU1Zp_KCi"
      },
      "source": [
        "# YOU CAN CHANGE THE VALUE OF A,B FOR DIFFERENT INITIALIZATIONS OF THETA\n",
        "A = 0.69\n",
        "B = -0.42\n",
        "J = computeCost(X, y, theta=np.array([A, B]))\n",
        "print('With theta = [-1,2] \\nCost computed =%.3f' %J)"
      ],
      "execution_count": 36,
      "outputs": [
        {
          "output_type": "stream",
          "name": "stdout",
          "text": [
            "With theta = [-1,2] \nCost computed =60.535\n"
          ]
        }
      ]
    },
    {
      "cell_type": "markdown",
      "metadata": {
        "id": "4ChnU_FD_KCl"
      },
      "source": [
        "<a id=\"section3\"></a>\n",
        "#### 2.2.4 Gradient descent\n",
        "\n",
        "Next, you will complete a function which implements gradient descent.\n",
        "The loop structure has been written for you, and you only need to supply the updates to $\\theta$ within each iteration. \n",
        "\n",
        "As you program, make sure you understand what you are trying to optimize and what is being updated. Keep in mind that the cost $J(\\theta)$ is parameterized by the vector $\\theta$, not $X$ and $y$. That is, we minimize the value of $J(\\theta)$ by changing the values of the vector $\\theta$, not by changing $X$ or $y$. [Refer to the equations in this notebook](#section2) and to the video lectures if you are uncertain. A good way to verify that gradient descent is working correctly is to look at the value of $J(\\theta)$ and check that it is decreasing with each step. \n",
        "\n",
        "The starter code for the function `gradientDescent` calls `computeCost` on every iteration and saves the cost to a `python` list. Assuming you have implemented gradient descent and `computeCost` correctly, your value of $J(\\theta)$ should never increase, and should converge to a steady value by the end of the algorithm.\n",
        "\n",
        "<div class=\"alert alert-box alert-warning\">\n",
        "**Vectors and matrices in `numpy`** - Important implementation notes\n",
        "\n",
        "A vector in `numpy` is a one dimensional array, for example `np.array([1, 2, 3])` is a vector. A matrix in `numpy` is a two dimensional array, for example `np.array([[1, 2, 3], [4, 5, 6]])`. However, the following is still considered a matrix `np.array([[1, 2, 3]])` since it has two dimensions, even if it has a shape of 1x3 (which looks like a vector).\n",
        "\n",
        "Given the above, the function `np.dot` which we will use for all matrix/vector multiplication has the following properties:\n",
        "- It always performs inner products on vectors. If `x=np.array([1, 2, 3])`, then `np.dot(x, x)` is a scalar.\n",
        "- For matrix-vector multiplication, so if $X$ is a $m\\times n$ matrix and $y$ is a vector of length $m$, then the operation `np.dot(y, X)` considers $y$ as a $1 \\times m$ vector. On the other hand, if $y$ is a vector of length $n$, then the operation `np.dot(X, y)` considers $y$ as a $n \\times 1$ vector.\n",
        "- A vector can be promoted to a matrix using `y[None]` or `[y[np.newaxis]`. That is, if `y = np.array([1, 2, 3])` is a vector of size 3, then `y[None, :]` is a matrix of shape $1 \\times 3$. We can use `y[:, None]` to obtain a shape of $3 \\times 1$.\n",
        "<div>\n",
        "<a id=\"gradientDescent\"></a>"
      ]
    },
    {
      "cell_type": "code",
      "metadata": {
        "id": "904i3ztS_KCl"
      },
      "source": [
        "def gradientDescent(X, y, theta, alpha, num_iters):\n",
        "    \"\"\"\n",
        "    Performs gradient descent to learn `theta`. Updates theta by taking `num_iters`\n",
        "    gradient steps with learning rate `alpha`.\n",
        "    \n",
        "    Parameters\n",
        "    ----------\n",
        "    X : array_like\n",
        "        The input dataset of shape (m x n+1).\n",
        "    \n",
        "    y : arra_like\n",
        "        Value at given features. A vector of shape (m, ).\n",
        "    \n",
        "    theta : array_like\n",
        "        Initial values for the linear regression parameters. \n",
        "        A vector of shape (n+1, ).\n",
        "    \n",
        "    alpha : float\n",
        "        The learning rate.\n",
        "    \n",
        "    num_iters : int\n",
        "        The number of iterations for gradient descent. \n",
        "    \n",
        "    Returns\n",
        "    -------\n",
        "    theta : array_like\n",
        "        The learned linear regression parameters. A vector of shape (n+1, ).\n",
        "    \n",
        "    J_history : list\n",
        "        A python list for the values of the cost function after each iteration.\n",
        "    \n",
        "    Instructions\n",
        "    ------------\n",
        "    Peform a single gradient step on the parameter vector theta.\n",
        "\n",
        "    While debugging, it can be useful to print out the values of \n",
        "    the cost function (computeCost) and gradient here.\n",
        "    \"\"\"\n",
        "    # Initialize some useful values\n",
        "    m = y.shape[0]  # number of training examples\n",
        "    \n",
        "    # make a copy of theta, to avoid changing the original array, since numpy arrays\n",
        "    # are passed by reference to functions\n",
        "    theta = theta.copy()\n",
        "    \n",
        "    J_history = [] # Use a python list to save cost in every iteration\n",
        "    \n",
        "    for i in range(num_iters):\n",
        "        # ==================== YOUR CODE HERE =================================\n",
        "        predictions = X.dot(theta)\n",
        "        error = np.dot(X.transpose(), (predictions - y))\n",
        "        descent = alpha * 1/m * error\n",
        "        theta = theta.astype('float64')\n",
        "        theta -= descent\n",
        "        # =====================================================================\n",
        "        \n",
        "        # save the cost J in every iteration\n",
        "        J_history.append(computeCost(X, y, theta))\n",
        "    \n",
        "    return theta, J_history"
      ],
      "execution_count": 30,
      "outputs": []
    },
    {
      "cell_type": "markdown",
      "metadata": {
        "id": "VcqHtO8L_KCn"
      },
      "source": [
        "After you are finished call the implemented `gradientDescent` function and print the computed $\\theta$. We initialize the $\\theta$ parameters to 0 and the learning rate $\\alpha$ to 0.01. Execute the following cell to check your code."
      ]
    },
    {
      "cell_type": "code",
      "metadata": {
        "id": "NfzadPye_KCo"
      },
      "source": [
        "# initialize fitting parameters\n",
        "# FEEL FREE TO CHANGE ANY PARAMETER\n",
        "A = 2.0\n",
        "B = -1.0\n",
        "theta = np.array([A,B]) \n",
        "\n",
        "# some gradient descent settings\n",
        "iterations = 1500\n",
        "alpha = 0.001\n",
        "\n",
        "theta, J_history = gradientDescent(X ,y, theta, alpha, iterations)\n",
        "print('Theta found by gradient descent: {:.4f}, {:.4f}'.format(*theta))"
      ],
      "execution_count": 42,
      "outputs": [
        {
          "output_type": "stream",
          "name": "stdout",
          "text": [
            "Theta found by gradient descent: 0.7246, 0.7289\n"
          ]
        }
      ]
    },
    {
      "cell_type": "code",
      "metadata": {
        "id": "CDGtpQA4_KCq"
      },
      "source": [
        "# plot the linear fit\n",
        "plotData(X[:, 1], y)\n",
        "pyplot.plot(X[:, 1], np.dot(X, theta), '-')\n",
        "pyplot.legend(['Training data', 'Linear regression']);"
      ],
      "execution_count": 33,
      "outputs": [
        {
          "output_type": "display_data",
          "data": {
            "text/plain": "<Figure size 432x288 with 1 Axes>",
            "image/svg+xml": "<?xml version=\"1.0\" encoding=\"utf-8\" standalone=\"no\"?>\r\n<!DOCTYPE svg PUBLIC \"-//W3C//DTD SVG 1.1//EN\"\r\n  \"http://www.w3.org/Graphics/SVG/1.1/DTD/svg11.dtd\">\r\n<svg height=\"262.396935pt\" version=\"1.1\" viewBox=\"0 0 383.78065 262.396935\" width=\"383.78065pt\" xmlns=\"http://www.w3.org/2000/svg\" xmlns:xlink=\"http://www.w3.org/1999/xlink\">\r\n <metadata>\r\n  <rdf:RDF xmlns:cc=\"http://creativecommons.org/ns#\" xmlns:dc=\"http://purl.org/dc/elements/1.1/\" xmlns:rdf=\"http://www.w3.org/1999/02/22-rdf-syntax-ns#\">\r\n   <cc:Work>\r\n    <dc:type rdf:resource=\"http://purl.org/dc/dcmitype/StillImage\"/>\r\n    <dc:date>2021-06-04T18:55:43.579054</dc:date>\r\n    <dc:format>image/svg+xml</dc:format>\r\n    <dc:creator>\r\n     <cc:Agent>\r\n      <dc:title>Matplotlib v3.4.2, https://matplotlib.org/</dc:title>\r\n     </cc:Agent>\r\n    </dc:creator>\r\n   </cc:Work>\r\n  </rdf:RDF>\r\n </metadata>\r\n <defs>\r\n  <style type=\"text/css\">*{stroke-linecap:butt;stroke-linejoin:round;}</style>\r\n </defs>\r\n <g id=\"figure_1\">\r\n  <g id=\"patch_1\">\r\n   <path d=\"M 0 262.396935 \r\nL 383.78065 262.396935 \r\nL 383.78065 0 \r\nL 0 0 \r\nz\r\n\" style=\"fill:none;\"/>\r\n  </g>\r\n  <g id=\"axes_1\">\r\n   <g id=\"patch_2\">\r\n    <path d=\"M 40.603125 224.840685 \r\nL 375.403125 224.840685 \r\nL 375.403125 7.400685 \r\nL 40.603125 7.400685 \r\nz\r\n\" style=\"fill:#ffffff;\"/>\r\n   </g>\r\n   <g id=\"matplotlib.axis_1\">\r\n    <g id=\"xtick_1\">\r\n     <g id=\"line2d_1\">\r\n      <defs>\r\n       <path d=\"M 0 0 \r\nL 0 3.5 \r\n\" id=\"m0cbc07d38e\" style=\"stroke:#000000;stroke-width:0.8;\"/>\r\n      </defs>\r\n      <g>\r\n       <use style=\"stroke:#000000;stroke-width:0.8;\" x=\"55.344634\" xlink:href=\"#m0cbc07d38e\" y=\"224.840685\"/>\r\n      </g>\r\n     </g>\r\n     <g id=\"text_1\">\r\n      <!-- 5.0 -->\r\n      <g transform=\"translate(47.393071 239.439122)scale(0.1 -0.1)\">\r\n       <defs>\r\n        <path d=\"M 691 4666 \r\nL 3169 4666 \r\nL 3169 4134 \r\nL 1269 4134 \r\nL 1269 2991 \r\nQ 1406 3038 1543 3061 \r\nQ 1681 3084 1819 3084 \r\nQ 2600 3084 3056 2656 \r\nQ 3513 2228 3513 1497 \r\nQ 3513 744 3044 326 \r\nQ 2575 -91 1722 -91 \r\nQ 1428 -91 1123 -41 \r\nQ 819 9 494 109 \r\nL 494 744 \r\nQ 775 591 1075 516 \r\nQ 1375 441 1709 441 \r\nQ 2250 441 2565 725 \r\nQ 2881 1009 2881 1497 \r\nQ 2881 1984 2565 2268 \r\nQ 2250 2553 1709 2553 \r\nQ 1456 2553 1204 2497 \r\nQ 953 2441 691 2322 \r\nL 691 4666 \r\nz\r\n\" id=\"DejaVuSans-35\" transform=\"scale(0.015625)\"/>\r\n        <path d=\"M 684 794 \r\nL 1344 794 \r\nL 1344 0 \r\nL 684 0 \r\nL 684 794 \r\nz\r\n\" id=\"DejaVuSans-2e\" transform=\"scale(0.015625)\"/>\r\n        <path d=\"M 2034 4250 \r\nQ 1547 4250 1301 3770 \r\nQ 1056 3291 1056 2328 \r\nQ 1056 1369 1301 889 \r\nQ 1547 409 2034 409 \r\nQ 2525 409 2770 889 \r\nQ 3016 1369 3016 2328 \r\nQ 3016 3291 2770 3770 \r\nQ 2525 4250 2034 4250 \r\nz\r\nM 2034 4750 \r\nQ 2819 4750 3233 4129 \r\nQ 3647 3509 3647 2328 \r\nQ 3647 1150 3233 529 \r\nQ 2819 -91 2034 -91 \r\nQ 1250 -91 836 529 \r\nQ 422 1150 422 2328 \r\nQ 422 3509 836 4129 \r\nQ 1250 4750 2034 4750 \r\nz\r\n\" id=\"DejaVuSans-30\" transform=\"scale(0.015625)\"/>\r\n       </defs>\r\n       <use xlink:href=\"#DejaVuSans-35\"/>\r\n       <use x=\"63.623047\" xlink:href=\"#DejaVuSans-2e\"/>\r\n       <use x=\"95.410156\" xlink:href=\"#DejaVuSans-30\"/>\r\n      </g>\r\n     </g>\r\n    </g>\r\n    <g id=\"xtick_2\">\r\n     <g id=\"line2d_2\">\r\n      <g>\r\n       <use style=\"stroke:#000000;stroke-width:0.8;\" x=\"99.645092\" xlink:href=\"#m0cbc07d38e\" y=\"224.840685\"/>\r\n      </g>\r\n     </g>\r\n     <g id=\"text_2\">\r\n      <!-- 7.5 -->\r\n      <g transform=\"translate(91.693529 239.439122)scale(0.1 -0.1)\">\r\n       <defs>\r\n        <path d=\"M 525 4666 \r\nL 3525 4666 \r\nL 3525 4397 \r\nL 1831 0 \r\nL 1172 0 \r\nL 2766 4134 \r\nL 525 4134 \r\nL 525 4666 \r\nz\r\n\" id=\"DejaVuSans-37\" transform=\"scale(0.015625)\"/>\r\n       </defs>\r\n       <use xlink:href=\"#DejaVuSans-37\"/>\r\n       <use x=\"63.623047\" xlink:href=\"#DejaVuSans-2e\"/>\r\n       <use x=\"95.410156\" xlink:href=\"#DejaVuSans-35\"/>\r\n      </g>\r\n     </g>\r\n    </g>\r\n    <g id=\"xtick_3\">\r\n     <g id=\"line2d_3\">\r\n      <g>\r\n       <use style=\"stroke:#000000;stroke-width:0.8;\" x=\"143.945549\" xlink:href=\"#m0cbc07d38e\" y=\"224.840685\"/>\r\n      </g>\r\n     </g>\r\n     <g id=\"text_3\">\r\n      <!-- 10.0 -->\r\n      <g transform=\"translate(132.812737 239.439122)scale(0.1 -0.1)\">\r\n       <defs>\r\n        <path d=\"M 794 531 \r\nL 1825 531 \r\nL 1825 4091 \r\nL 703 3866 \r\nL 703 4441 \r\nL 1819 4666 \r\nL 2450 4666 \r\nL 2450 531 \r\nL 3481 531 \r\nL 3481 0 \r\nL 794 0 \r\nL 794 531 \r\nz\r\n\" id=\"DejaVuSans-31\" transform=\"scale(0.015625)\"/>\r\n       </defs>\r\n       <use xlink:href=\"#DejaVuSans-31\"/>\r\n       <use x=\"63.623047\" xlink:href=\"#DejaVuSans-30\"/>\r\n       <use x=\"127.246094\" xlink:href=\"#DejaVuSans-2e\"/>\r\n       <use x=\"159.033203\" xlink:href=\"#DejaVuSans-30\"/>\r\n      </g>\r\n     </g>\r\n    </g>\r\n    <g id=\"xtick_4\">\r\n     <g id=\"line2d_4\">\r\n      <g>\r\n       <use style=\"stroke:#000000;stroke-width:0.8;\" x=\"188.246007\" xlink:href=\"#m0cbc07d38e\" y=\"224.840685\"/>\r\n      </g>\r\n     </g>\r\n     <g id=\"text_4\">\r\n      <!-- 12.5 -->\r\n      <g transform=\"translate(177.113194 239.439122)scale(0.1 -0.1)\">\r\n       <defs>\r\n        <path d=\"M 1228 531 \r\nL 3431 531 \r\nL 3431 0 \r\nL 469 0 \r\nL 469 531 \r\nQ 828 903 1448 1529 \r\nQ 2069 2156 2228 2338 \r\nQ 2531 2678 2651 2914 \r\nQ 2772 3150 2772 3378 \r\nQ 2772 3750 2511 3984 \r\nQ 2250 4219 1831 4219 \r\nQ 1534 4219 1204 4116 \r\nQ 875 4013 500 3803 \r\nL 500 4441 \r\nQ 881 4594 1212 4672 \r\nQ 1544 4750 1819 4750 \r\nQ 2544 4750 2975 4387 \r\nQ 3406 4025 3406 3419 \r\nQ 3406 3131 3298 2873 \r\nQ 3191 2616 2906 2266 \r\nQ 2828 2175 2409 1742 \r\nQ 1991 1309 1228 531 \r\nz\r\n\" id=\"DejaVuSans-32\" transform=\"scale(0.015625)\"/>\r\n       </defs>\r\n       <use xlink:href=\"#DejaVuSans-31\"/>\r\n       <use x=\"63.623047\" xlink:href=\"#DejaVuSans-32\"/>\r\n       <use x=\"127.246094\" xlink:href=\"#DejaVuSans-2e\"/>\r\n       <use x=\"159.033203\" xlink:href=\"#DejaVuSans-35\"/>\r\n      </g>\r\n     </g>\r\n    </g>\r\n    <g id=\"xtick_5\">\r\n     <g id=\"line2d_5\">\r\n      <g>\r\n       <use style=\"stroke:#000000;stroke-width:0.8;\" x=\"232.546465\" xlink:href=\"#m0cbc07d38e\" y=\"224.840685\"/>\r\n      </g>\r\n     </g>\r\n     <g id=\"text_5\">\r\n      <!-- 15.0 -->\r\n      <g transform=\"translate(221.413652 239.439122)scale(0.1 -0.1)\">\r\n       <use xlink:href=\"#DejaVuSans-31\"/>\r\n       <use x=\"63.623047\" xlink:href=\"#DejaVuSans-35\"/>\r\n       <use x=\"127.246094\" xlink:href=\"#DejaVuSans-2e\"/>\r\n       <use x=\"159.033203\" xlink:href=\"#DejaVuSans-30\"/>\r\n      </g>\r\n     </g>\r\n    </g>\r\n    <g id=\"xtick_6\">\r\n     <g id=\"line2d_6\">\r\n      <g>\r\n       <use style=\"stroke:#000000;stroke-width:0.8;\" x=\"276.846922\" xlink:href=\"#m0cbc07d38e\" y=\"224.840685\"/>\r\n      </g>\r\n     </g>\r\n     <g id=\"text_6\">\r\n      <!-- 17.5 -->\r\n      <g transform=\"translate(265.71411 239.439122)scale(0.1 -0.1)\">\r\n       <use xlink:href=\"#DejaVuSans-31\"/>\r\n       <use x=\"63.623047\" xlink:href=\"#DejaVuSans-37\"/>\r\n       <use x=\"127.246094\" xlink:href=\"#DejaVuSans-2e\"/>\r\n       <use x=\"159.033203\" xlink:href=\"#DejaVuSans-35\"/>\r\n      </g>\r\n     </g>\r\n    </g>\r\n    <g id=\"xtick_7\">\r\n     <g id=\"line2d_7\">\r\n      <g>\r\n       <use style=\"stroke:#000000;stroke-width:0.8;\" x=\"321.14738\" xlink:href=\"#m0cbc07d38e\" y=\"224.840685\"/>\r\n      </g>\r\n     </g>\r\n     <g id=\"text_7\">\r\n      <!-- 20.0 -->\r\n      <g transform=\"translate(310.014567 239.439122)scale(0.1 -0.1)\">\r\n       <use xlink:href=\"#DejaVuSans-32\"/>\r\n       <use x=\"63.623047\" xlink:href=\"#DejaVuSans-30\"/>\r\n       <use x=\"127.246094\" xlink:href=\"#DejaVuSans-2e\"/>\r\n       <use x=\"159.033203\" xlink:href=\"#DejaVuSans-30\"/>\r\n      </g>\r\n     </g>\r\n    </g>\r\n    <g id=\"xtick_8\">\r\n     <g id=\"line2d_8\">\r\n      <g>\r\n       <use style=\"stroke:#000000;stroke-width:0.8;\" x=\"365.447838\" xlink:href=\"#m0cbc07d38e\" y=\"224.840685\"/>\r\n      </g>\r\n     </g>\r\n     <g id=\"text_8\">\r\n      <!-- 22.5 -->\r\n      <g transform=\"translate(354.315025 239.439122)scale(0.1 -0.1)\">\r\n       <use xlink:href=\"#DejaVuSans-32\"/>\r\n       <use x=\"63.623047\" xlink:href=\"#DejaVuSans-32\"/>\r\n       <use x=\"127.246094\" xlink:href=\"#DejaVuSans-2e\"/>\r\n       <use x=\"159.033203\" xlink:href=\"#DejaVuSans-35\"/>\r\n      </g>\r\n     </g>\r\n    </g>\r\n    <g id=\"text_9\">\r\n     <!-- Population of City in 10,000s -->\r\n     <g transform=\"translate(136.103125 253.117247)scale(0.1 -0.1)\">\r\n      <defs>\r\n       <path d=\"M 1259 4147 \r\nL 1259 2394 \r\nL 2053 2394 \r\nQ 2494 2394 2734 2622 \r\nQ 2975 2850 2975 3272 \r\nQ 2975 3691 2734 3919 \r\nQ 2494 4147 2053 4147 \r\nL 1259 4147 \r\nz\r\nM 628 4666 \r\nL 2053 4666 \r\nQ 2838 4666 3239 4311 \r\nQ 3641 3956 3641 3272 \r\nQ 3641 2581 3239 2228 \r\nQ 2838 1875 2053 1875 \r\nL 1259 1875 \r\nL 1259 0 \r\nL 628 0 \r\nL 628 4666 \r\nz\r\n\" id=\"DejaVuSans-50\" transform=\"scale(0.015625)\"/>\r\n       <path d=\"M 1959 3097 \r\nQ 1497 3097 1228 2736 \r\nQ 959 2375 959 1747 \r\nQ 959 1119 1226 758 \r\nQ 1494 397 1959 397 \r\nQ 2419 397 2687 759 \r\nQ 2956 1122 2956 1747 \r\nQ 2956 2369 2687 2733 \r\nQ 2419 3097 1959 3097 \r\nz\r\nM 1959 3584 \r\nQ 2709 3584 3137 3096 \r\nQ 3566 2609 3566 1747 \r\nQ 3566 888 3137 398 \r\nQ 2709 -91 1959 -91 \r\nQ 1206 -91 779 398 \r\nQ 353 888 353 1747 \r\nQ 353 2609 779 3096 \r\nQ 1206 3584 1959 3584 \r\nz\r\n\" id=\"DejaVuSans-6f\" transform=\"scale(0.015625)\"/>\r\n       <path d=\"M 1159 525 \r\nL 1159 -1331 \r\nL 581 -1331 \r\nL 581 3500 \r\nL 1159 3500 \r\nL 1159 2969 \r\nQ 1341 3281 1617 3432 \r\nQ 1894 3584 2278 3584 \r\nQ 2916 3584 3314 3078 \r\nQ 3713 2572 3713 1747 \r\nQ 3713 922 3314 415 \r\nQ 2916 -91 2278 -91 \r\nQ 1894 -91 1617 61 \r\nQ 1341 213 1159 525 \r\nz\r\nM 3116 1747 \r\nQ 3116 2381 2855 2742 \r\nQ 2594 3103 2138 3103 \r\nQ 1681 3103 1420 2742 \r\nQ 1159 2381 1159 1747 \r\nQ 1159 1113 1420 752 \r\nQ 1681 391 2138 391 \r\nQ 2594 391 2855 752 \r\nQ 3116 1113 3116 1747 \r\nz\r\n\" id=\"DejaVuSans-70\" transform=\"scale(0.015625)\"/>\r\n       <path d=\"M 544 1381 \r\nL 544 3500 \r\nL 1119 3500 \r\nL 1119 1403 \r\nQ 1119 906 1312 657 \r\nQ 1506 409 1894 409 \r\nQ 2359 409 2629 706 \r\nQ 2900 1003 2900 1516 \r\nL 2900 3500 \r\nL 3475 3500 \r\nL 3475 0 \r\nL 2900 0 \r\nL 2900 538 \r\nQ 2691 219 2414 64 \r\nQ 2138 -91 1772 -91 \r\nQ 1169 -91 856 284 \r\nQ 544 659 544 1381 \r\nz\r\nM 1991 3584 \r\nL 1991 3584 \r\nz\r\n\" id=\"DejaVuSans-75\" transform=\"scale(0.015625)\"/>\r\n       <path d=\"M 603 4863 \r\nL 1178 4863 \r\nL 1178 0 \r\nL 603 0 \r\nL 603 4863 \r\nz\r\n\" id=\"DejaVuSans-6c\" transform=\"scale(0.015625)\"/>\r\n       <path d=\"M 2194 1759 \r\nQ 1497 1759 1228 1600 \r\nQ 959 1441 959 1056 \r\nQ 959 750 1161 570 \r\nQ 1363 391 1709 391 \r\nQ 2188 391 2477 730 \r\nQ 2766 1069 2766 1631 \r\nL 2766 1759 \r\nL 2194 1759 \r\nz\r\nM 3341 1997 \r\nL 3341 0 \r\nL 2766 0 \r\nL 2766 531 \r\nQ 2569 213 2275 61 \r\nQ 1981 -91 1556 -91 \r\nQ 1019 -91 701 211 \r\nQ 384 513 384 1019 \r\nQ 384 1609 779 1909 \r\nQ 1175 2209 1959 2209 \r\nL 2766 2209 \r\nL 2766 2266 \r\nQ 2766 2663 2505 2880 \r\nQ 2244 3097 1772 3097 \r\nQ 1472 3097 1187 3025 \r\nQ 903 2953 641 2809 \r\nL 641 3341 \r\nQ 956 3463 1253 3523 \r\nQ 1550 3584 1831 3584 \r\nQ 2591 3584 2966 3190 \r\nQ 3341 2797 3341 1997 \r\nz\r\n\" id=\"DejaVuSans-61\" transform=\"scale(0.015625)\"/>\r\n       <path d=\"M 1172 4494 \r\nL 1172 3500 \r\nL 2356 3500 \r\nL 2356 3053 \r\nL 1172 3053 \r\nL 1172 1153 \r\nQ 1172 725 1289 603 \r\nQ 1406 481 1766 481 \r\nL 2356 481 \r\nL 2356 0 \r\nL 1766 0 \r\nQ 1100 0 847 248 \r\nQ 594 497 594 1153 \r\nL 594 3053 \r\nL 172 3053 \r\nL 172 3500 \r\nL 594 3500 \r\nL 594 4494 \r\nL 1172 4494 \r\nz\r\n\" id=\"DejaVuSans-74\" transform=\"scale(0.015625)\"/>\r\n       <path d=\"M 603 3500 \r\nL 1178 3500 \r\nL 1178 0 \r\nL 603 0 \r\nL 603 3500 \r\nz\r\nM 603 4863 \r\nL 1178 4863 \r\nL 1178 4134 \r\nL 603 4134 \r\nL 603 4863 \r\nz\r\n\" id=\"DejaVuSans-69\" transform=\"scale(0.015625)\"/>\r\n       <path d=\"M 3513 2113 \r\nL 3513 0 \r\nL 2938 0 \r\nL 2938 2094 \r\nQ 2938 2591 2744 2837 \r\nQ 2550 3084 2163 3084 \r\nQ 1697 3084 1428 2787 \r\nQ 1159 2491 1159 1978 \r\nL 1159 0 \r\nL 581 0 \r\nL 581 3500 \r\nL 1159 3500 \r\nL 1159 2956 \r\nQ 1366 3272 1645 3428 \r\nQ 1925 3584 2291 3584 \r\nQ 2894 3584 3203 3211 \r\nQ 3513 2838 3513 2113 \r\nz\r\n\" id=\"DejaVuSans-6e\" transform=\"scale(0.015625)\"/>\r\n       <path id=\"DejaVuSans-20\" transform=\"scale(0.015625)\"/>\r\n       <path d=\"M 2375 4863 \r\nL 2375 4384 \r\nL 1825 4384 \r\nQ 1516 4384 1395 4259 \r\nQ 1275 4134 1275 3809 \r\nL 1275 3500 \r\nL 2222 3500 \r\nL 2222 3053 \r\nL 1275 3053 \r\nL 1275 0 \r\nL 697 0 \r\nL 697 3053 \r\nL 147 3053 \r\nL 147 3500 \r\nL 697 3500 \r\nL 697 3744 \r\nQ 697 4328 969 4595 \r\nQ 1241 4863 1831 4863 \r\nL 2375 4863 \r\nz\r\n\" id=\"DejaVuSans-66\" transform=\"scale(0.015625)\"/>\r\n       <path d=\"M 4122 4306 \r\nL 4122 3641 \r\nQ 3803 3938 3442 4084 \r\nQ 3081 4231 2675 4231 \r\nQ 1875 4231 1450 3742 \r\nQ 1025 3253 1025 2328 \r\nQ 1025 1406 1450 917 \r\nQ 1875 428 2675 428 \r\nQ 3081 428 3442 575 \r\nQ 3803 722 4122 1019 \r\nL 4122 359 \r\nQ 3791 134 3420 21 \r\nQ 3050 -91 2638 -91 \r\nQ 1578 -91 968 557 \r\nQ 359 1206 359 2328 \r\nQ 359 3453 968 4101 \r\nQ 1578 4750 2638 4750 \r\nQ 3056 4750 3426 4639 \r\nQ 3797 4528 4122 4306 \r\nz\r\n\" id=\"DejaVuSans-43\" transform=\"scale(0.015625)\"/>\r\n       <path d=\"M 2059 -325 \r\nQ 1816 -950 1584 -1140 \r\nQ 1353 -1331 966 -1331 \r\nL 506 -1331 \r\nL 506 -850 \r\nL 844 -850 \r\nQ 1081 -850 1212 -737 \r\nQ 1344 -625 1503 -206 \r\nL 1606 56 \r\nL 191 3500 \r\nL 800 3500 \r\nL 1894 763 \r\nL 2988 3500 \r\nL 3597 3500 \r\nL 2059 -325 \r\nz\r\n\" id=\"DejaVuSans-79\" transform=\"scale(0.015625)\"/>\r\n       <path d=\"M 750 794 \r\nL 1409 794 \r\nL 1409 256 \r\nL 897 -744 \r\nL 494 -744 \r\nL 750 256 \r\nL 750 794 \r\nz\r\n\" id=\"DejaVuSans-2c\" transform=\"scale(0.015625)\"/>\r\n       <path d=\"M 2834 3397 \r\nL 2834 2853 \r\nQ 2591 2978 2328 3040 \r\nQ 2066 3103 1784 3103 \r\nQ 1356 3103 1142 2972 \r\nQ 928 2841 928 2578 \r\nQ 928 2378 1081 2264 \r\nQ 1234 2150 1697 2047 \r\nL 1894 2003 \r\nQ 2506 1872 2764 1633 \r\nQ 3022 1394 3022 966 \r\nQ 3022 478 2636 193 \r\nQ 2250 -91 1575 -91 \r\nQ 1294 -91 989 -36 \r\nQ 684 19 347 128 \r\nL 347 722 \r\nQ 666 556 975 473 \r\nQ 1284 391 1588 391 \r\nQ 1994 391 2212 530 \r\nQ 2431 669 2431 922 \r\nQ 2431 1156 2273 1281 \r\nQ 2116 1406 1581 1522 \r\nL 1381 1569 \r\nQ 847 1681 609 1914 \r\nQ 372 2147 372 2553 \r\nQ 372 3047 722 3315 \r\nQ 1072 3584 1716 3584 \r\nQ 2034 3584 2315 3537 \r\nQ 2597 3491 2834 3397 \r\nz\r\n\" id=\"DejaVuSans-73\" transform=\"scale(0.015625)\"/>\r\n      </defs>\r\n      <use xlink:href=\"#DejaVuSans-50\"/>\r\n      <use x=\"56.677734\" xlink:href=\"#DejaVuSans-6f\"/>\r\n      <use x=\"117.859375\" xlink:href=\"#DejaVuSans-70\"/>\r\n      <use x=\"181.335938\" xlink:href=\"#DejaVuSans-75\"/>\r\n      <use x=\"244.714844\" xlink:href=\"#DejaVuSans-6c\"/>\r\n      <use x=\"272.498047\" xlink:href=\"#DejaVuSans-61\"/>\r\n      <use x=\"333.777344\" xlink:href=\"#DejaVuSans-74\"/>\r\n      <use x=\"372.986328\" xlink:href=\"#DejaVuSans-69\"/>\r\n      <use x=\"400.769531\" xlink:href=\"#DejaVuSans-6f\"/>\r\n      <use x=\"461.951172\" xlink:href=\"#DejaVuSans-6e\"/>\r\n      <use x=\"525.330078\" xlink:href=\"#DejaVuSans-20\"/>\r\n      <use x=\"557.117188\" xlink:href=\"#DejaVuSans-6f\"/>\r\n      <use x=\"618.298828\" xlink:href=\"#DejaVuSans-66\"/>\r\n      <use x=\"653.503906\" xlink:href=\"#DejaVuSans-20\"/>\r\n      <use x=\"685.291016\" xlink:href=\"#DejaVuSans-43\"/>\r\n      <use x=\"755.115234\" xlink:href=\"#DejaVuSans-69\"/>\r\n      <use x=\"782.898438\" xlink:href=\"#DejaVuSans-74\"/>\r\n      <use x=\"822.107422\" xlink:href=\"#DejaVuSans-79\"/>\r\n      <use x=\"881.287109\" xlink:href=\"#DejaVuSans-20\"/>\r\n      <use x=\"913.074219\" xlink:href=\"#DejaVuSans-69\"/>\r\n      <use x=\"940.857422\" xlink:href=\"#DejaVuSans-6e\"/>\r\n      <use x=\"1004.236328\" xlink:href=\"#DejaVuSans-20\"/>\r\n      <use x=\"1036.023438\" xlink:href=\"#DejaVuSans-31\"/>\r\n      <use x=\"1099.646484\" xlink:href=\"#DejaVuSans-30\"/>\r\n      <use x=\"1163.269531\" xlink:href=\"#DejaVuSans-2c\"/>\r\n      <use x=\"1195.056641\" xlink:href=\"#DejaVuSans-30\"/>\r\n      <use x=\"1258.679688\" xlink:href=\"#DejaVuSans-30\"/>\r\n      <use x=\"1322.302734\" xlink:href=\"#DejaVuSans-30\"/>\r\n      <use x=\"1385.925781\" xlink:href=\"#DejaVuSans-73\"/>\r\n     </g>\r\n    </g>\r\n   </g>\r\n   <g id=\"matplotlib.axis_2\">\r\n    <g id=\"ytick_1\">\r\n     <g id=\"line2d_9\">\r\n      <defs>\r\n       <path d=\"M 0 0 \r\nL -3.5 0 \r\n\" id=\"m733e234f5a\" style=\"stroke:#000000;stroke-width:0.8;\"/>\r\n      </defs>\r\n      <g>\r\n       <use style=\"stroke:#000000;stroke-width:0.8;\" x=\"40.603125\" xlink:href=\"#m733e234f5a\" y=\"195.205028\"/>\r\n      </g>\r\n     </g>\r\n     <g id=\"text_10\">\r\n      <!-- 0 -->\r\n      <g transform=\"translate(27.240625 199.004246)scale(0.1 -0.1)\">\r\n       <use xlink:href=\"#DejaVuSans-30\"/>\r\n      </g>\r\n     </g>\r\n    </g>\r\n    <g id=\"ytick_2\">\r\n     <g id=\"line2d_10\">\r\n      <g>\r\n       <use style=\"stroke:#000000;stroke-width:0.8;\" x=\"40.603125\" xlink:href=\"#m733e234f5a\" y=\"158.363866\"/>\r\n      </g>\r\n     </g>\r\n     <g id=\"text_11\">\r\n      <!-- 5 -->\r\n      <g transform=\"translate(27.240625 162.163085)scale(0.1 -0.1)\">\r\n       <use xlink:href=\"#DejaVuSans-35\"/>\r\n      </g>\r\n     </g>\r\n    </g>\r\n    <g id=\"ytick_3\">\r\n     <g id=\"line2d_11\">\r\n      <g>\r\n       <use style=\"stroke:#000000;stroke-width:0.8;\" x=\"40.603125\" xlink:href=\"#m733e234f5a\" y=\"121.522704\"/>\r\n      </g>\r\n     </g>\r\n     <g id=\"text_12\">\r\n      <!-- 10 -->\r\n      <g transform=\"translate(20.878125 125.321923)scale(0.1 -0.1)\">\r\n       <use xlink:href=\"#DejaVuSans-31\"/>\r\n       <use x=\"63.623047\" xlink:href=\"#DejaVuSans-30\"/>\r\n      </g>\r\n     </g>\r\n    </g>\r\n    <g id=\"ytick_4\">\r\n     <g id=\"line2d_12\">\r\n      <g>\r\n       <use style=\"stroke:#000000;stroke-width:0.8;\" x=\"40.603125\" xlink:href=\"#m733e234f5a\" y=\"84.681542\"/>\r\n      </g>\r\n     </g>\r\n     <g id=\"text_13\">\r\n      <!-- 15 -->\r\n      <g transform=\"translate(20.878125 88.480761)scale(0.1 -0.1)\">\r\n       <use xlink:href=\"#DejaVuSans-31\"/>\r\n       <use x=\"63.623047\" xlink:href=\"#DejaVuSans-35\"/>\r\n      </g>\r\n     </g>\r\n    </g>\r\n    <g id=\"ytick_5\">\r\n     <g id=\"line2d_13\">\r\n      <g>\r\n       <use style=\"stroke:#000000;stroke-width:0.8;\" x=\"40.603125\" xlink:href=\"#m733e234f5a\" y=\"47.840381\"/>\r\n      </g>\r\n     </g>\r\n     <g id=\"text_14\">\r\n      <!-- 20 -->\r\n      <g transform=\"translate(20.878125 51.639599)scale(0.1 -0.1)\">\r\n       <use xlink:href=\"#DejaVuSans-32\"/>\r\n       <use x=\"63.623047\" xlink:href=\"#DejaVuSans-30\"/>\r\n      </g>\r\n     </g>\r\n    </g>\r\n    <g id=\"ytick_6\">\r\n     <g id=\"line2d_14\">\r\n      <g>\r\n       <use style=\"stroke:#000000;stroke-width:0.8;\" x=\"40.603125\" xlink:href=\"#m733e234f5a\" y=\"10.999219\"/>\r\n      </g>\r\n     </g>\r\n     <g id=\"text_15\">\r\n      <!-- 25 -->\r\n      <g transform=\"translate(20.878125 14.798438)scale(0.1 -0.1)\">\r\n       <use xlink:href=\"#DejaVuSans-32\"/>\r\n       <use x=\"63.623047\" xlink:href=\"#DejaVuSans-35\"/>\r\n      </g>\r\n     </g>\r\n    </g>\r\n    <g id=\"text_16\">\r\n     <!-- Profit in $10,000 -->\r\n     <g transform=\"translate(14.798438 157.572247)rotate(-90)scale(0.1 -0.1)\">\r\n      <defs>\r\n       <path d=\"M 2631 2963 \r\nQ 2534 3019 2420 3045 \r\nQ 2306 3072 2169 3072 \r\nQ 1681 3072 1420 2755 \r\nQ 1159 2438 1159 1844 \r\nL 1159 0 \r\nL 581 0 \r\nL 581 3500 \r\nL 1159 3500 \r\nL 1159 2956 \r\nQ 1341 3275 1631 3429 \r\nQ 1922 3584 2338 3584 \r\nQ 2397 3584 2469 3576 \r\nQ 2541 3569 2628 3553 \r\nL 2631 2963 \r\nz\r\n\" id=\"DejaVuSans-72\" transform=\"scale(0.015625)\"/>\r\n       <path d=\"M 2163 -941 \r\nL 1850 -941 \r\nL 1847 0 \r\nQ 1519 6 1191 76 \r\nQ 863 147 531 288 \r\nL 531 850 \r\nQ 850 650 1176 548 \r\nQ 1503 447 1850 444 \r\nL 1850 1869 \r\nQ 1159 1981 845 2250 \r\nQ 531 2519 531 2988 \r\nQ 531 3497 872 3790 \r\nQ 1213 4084 1850 4128 \r\nL 1850 4863 \r\nL 2163 4863 \r\nL 2163 4138 \r\nQ 2453 4125 2725 4076 \r\nQ 2997 4028 3256 3944 \r\nL 3256 3397 \r\nQ 2997 3528 2723 3600 \r\nQ 2450 3672 2163 3684 \r\nL 2163 2350 \r\nQ 2872 2241 3206 1959 \r\nQ 3541 1678 3541 1191 \r\nQ 3541 663 3186 358 \r\nQ 2831 53 2163 6 \r\nL 2163 -941 \r\nz\r\nM 1850 2406 \r\nL 1850 3688 \r\nQ 1488 3647 1297 3481 \r\nQ 1106 3316 1106 3041 \r\nQ 1106 2772 1282 2622 \r\nQ 1459 2472 1850 2406 \r\nz\r\nM 2163 1806 \r\nL 2163 453 \r\nQ 2559 506 2761 678 \r\nQ 2963 850 2963 1131 \r\nQ 2963 1406 2770 1568 \r\nQ 2578 1731 2163 1806 \r\nz\r\n\" id=\"DejaVuSans-24\" transform=\"scale(0.015625)\"/>\r\n      </defs>\r\n      <use xlink:href=\"#DejaVuSans-50\"/>\r\n      <use x=\"58.552734\" xlink:href=\"#DejaVuSans-72\"/>\r\n      <use x=\"97.416016\" xlink:href=\"#DejaVuSans-6f\"/>\r\n      <use x=\"158.597656\" xlink:href=\"#DejaVuSans-66\"/>\r\n      <use x=\"193.802734\" xlink:href=\"#DejaVuSans-69\"/>\r\n      <use x=\"221.585938\" xlink:href=\"#DejaVuSans-74\"/>\r\n      <use x=\"260.794922\" xlink:href=\"#DejaVuSans-20\"/>\r\n      <use x=\"292.582031\" xlink:href=\"#DejaVuSans-69\"/>\r\n      <use x=\"320.365234\" xlink:href=\"#DejaVuSans-6e\"/>\r\n      <use x=\"383.744141\" xlink:href=\"#DejaVuSans-20\"/>\r\n      <use x=\"415.53125\" xlink:href=\"#DejaVuSans-24\"/>\r\n      <use x=\"479.154297\" xlink:href=\"#DejaVuSans-31\"/>\r\n      <use x=\"542.777344\" xlink:href=\"#DejaVuSans-30\"/>\r\n      <use x=\"606.400391\" xlink:href=\"#DejaVuSans-2c\"/>\r\n      <use x=\"638.1875\" xlink:href=\"#DejaVuSans-30\"/>\r\n      <use x=\"701.810547\" xlink:href=\"#DejaVuSans-30\"/>\r\n      <use x=\"765.433594\" xlink:href=\"#DejaVuSans-30\"/>\r\n     </g>\r\n    </g>\r\n   </g>\r\n   <g id=\"line2d_15\">\r\n    <defs>\r\n     <path d=\"M 0 5 \r\nC 1.326016 5 2.597899 4.473168 3.535534 3.535534 \r\nC 4.473168 2.597899 5 1.326016 5 0 \r\nC 5 -1.326016 4.473168 -2.597899 3.535534 -3.535534 \r\nC 2.597899 -4.473168 1.326016 -5 0 -5 \r\nC -1.326016 -5 -2.597899 -4.473168 -3.535534 -3.535534 \r\nC -4.473168 -2.597899 -5 -1.326016 -5 0 \r\nC -5 1.326016 -4.473168 2.597899 -3.535534 3.535534 \r\nC -2.597899 4.473168 -1.326016 5 0 5 \r\nz\r\n\" id=\"m413d0cd2ed\" style=\"stroke:#000000;\"/>\r\n    </defs>\r\n    <g clip-path=\"url(#p4e9f36762a)\">\r\n     <use style=\"fill:#ff0000;stroke:#000000;\" x=\"75.015809\" xlink:href=\"#m413d0cd2ed\" y=\"65.583084\"/>\r\n     <use style=\"fill:#ff0000;stroke:#000000;\" x=\"64.695574\" xlink:href=\"#m413d0cd2ed\" y=\"127.931593\"/>\r\n     <use style=\"fill:#ff0000;stroke:#000000;\" x=\"117.69487\" xlink:href=\"#m413d0cd2ed\" y=\"94.540237\"/>\r\n     <use style=\"fill:#ff0000;stroke:#000000;\" x=\"90.841705\" xlink:href=\"#m413d0cd2ed\" y=\"107.862001\"/>\r\n     <use style=\"fill:#ff0000;stroke:#000000;\" x=\"70.580447\" xlink:href=\"#m413d0cd2ed\" y=\"144.929368\"/>\r\n     <use style=\"fill:#ff0000;stroke:#000000;\" x=\"115.290241\" xlink:href=\"#m413d0cd2ed\" y=\"107.626218\"/>\r\n     <use style=\"fill:#ff0000;stroke:#000000;\" x=\"99.226895\" xlink:href=\"#m413d0cd2ed\" y=\"163.165743\"/>\r\n     <use style=\"fill:#ff0000;stroke:#000000;\" x=\"118.749221\" xlink:href=\"#m413d0cd2ed\" y=\"106.786239\"/>\r\n     <use style=\"fill:#ff0000;stroke:#000000;\" x=\"81.68037\" xlink:href=\"#m413d0cd2ed\" y=\"146.584273\"/>\r\n     <use style=\"fill:#ff0000;stroke:#000000;\" x=\"56.312156\" xlink:href=\"#m413d0cd2ed\" y=\"167.083432\"/>\r\n     <use style=\"fill:#ff0000;stroke:#000000;\" x=\"67.938368\" xlink:href=\"#m413d0cd2ed\" y=\"171.242062\"/>\r\n     <use style=\"fill:#ff0000;stroke:#000000;\" x=\"217.732392\" xlink:href=\"#m413d0cd2ed\" y=\"80.960585\"/>\r\n     <use style=\"fill:#ff0000;stroke:#000000;\" x=\"68.351248\" xlink:href=\"#m413d0cd2ed\" y=\"171.957518\"/>\r\n     <use style=\"fill:#ff0000;stroke:#000000;\" x=\"115.742106\" xlink:href=\"#m413d0cd2ed\" y=\"141.963654\"/>\r\n     <use style=\"fill:#ff0000;stroke:#000000;\" x=\"66.697955\" xlink:href=\"#m413d0cd2ed\" y=\"189.928047\"/>\r\n     <use style=\"fill:#ff0000;stroke:#000000;\" x=\"62.067671\" xlink:href=\"#m413d0cd2ed\" y=\"169.321164\"/>\r\n     <use style=\"fill:#ff0000;stroke:#000000;\" x=\"79.539772\" xlink:href=\"#m413d0cd2ed\" y=\"156.118029\"/>\r\n     <use style=\"fill:#ff0000;stroke:#000000;\" x=\"57.65003\" xlink:href=\"#m413d0cd2ed\" y=\"191.073144\"/>\r\n     <use style=\"fill:#ff0000;stroke:#000000;\" x=\"80.677408\" xlink:href=\"#m413d0cd2ed\" y=\"168.297717\"/>\r\n     <use style=\"fill:#ff0000;stroke:#000000;\" x=\"92.039589\" xlink:href=\"#m413d0cd2ed\" y=\"155.495413\"/>\r\n     <use style=\"fill:#ff0000;stroke:#000000;\" x=\"76.415704\" xlink:href=\"#m413d0cd2ed\" y=\"172.079094\"/>\r\n     <use style=\"fill:#ff0000;stroke:#000000;\" x=\"325.931829\" xlink:href=\"#m413d0cd2ed\" y=\"34.820714\"/>\r\n     <use style=\"fill:#ff0000;stroke:#000000;\" x=\"64.029296\" xlink:href=\"#m413d0cd2ed\" y=\"163.794253\"/>\r\n     <use style=\"fill:#ff0000;stroke:#000000;\" x=\"78.843369\" xlink:href=\"#m413d0cd2ed\" y=\"156.982322\"/>\r\n     <use style=\"fill:#ff0000;stroke:#000000;\" x=\"65.354765\" xlink:href=\"#m413d0cd2ed\" y=\"172.492451\"/>\r\n     <use style=\"fill:#ff0000;stroke:#000000;\" x=\"302.452587\" xlink:href=\"#m413d0cd2ed\" y=\"28.402984\"/>\r\n     <use style=\"fill:#ff0000;stroke:#000000;\" x=\"194.058227\" xlink:href=\"#m413d0cd2ed\" y=\"95.726523\"/>\r\n     <use style=\"fill:#ff0000;stroke:#000000;\" x=\"160.903764\" xlink:href=\"#m413d0cd2ed\" y=\"143.283305\"/>\r\n     <use style=\"fill:#ff0000;stroke:#000000;\" x=\"200.224851\" xlink:href=\"#m413d0cd2ed\" y=\"86.950958\"/>\r\n     <use style=\"fill:#ff0000;stroke:#000000;\" x=\"360.184943\" xlink:href=\"#m413d0cd2ed\" y=\"17.284321\"/>\r\n     <use style=\"fill:#ff0000;stroke:#000000;\" x=\"59.817208\" xlink:href=\"#m413d0cd2ed\" y=\"204.194271\"/>\r\n     <use style=\"fill:#ff0000;stroke:#000000;\" x=\"83.509093\" xlink:href=\"#m413d0cd2ed\" y=\"151.020686\"/>\r\n     <use style=\"fill:#ff0000;stroke:#000000;\" x=\"130.623516\" xlink:href=\"#m413d0cd2ed\" y=\"105.798896\"/>\r\n     <use style=\"fill:#ff0000;stroke:#000000;\" x=\"71.147493\" xlink:href=\"#m413d0cd2ed\" y=\"181.577482\"/>\r\n     <use style=\"fill:#ff0000;stroke:#000000;\" x=\"112.245914\" xlink:href=\"#m413d0cd2ed\" y=\"146.997631\"/>\r\n     <use style=\"fill:#ff0000;stroke:#000000;\" x=\"107.325019\" xlink:href=\"#m413d0cd2ed\" y=\"161.588941\"/>\r\n     <use style=\"fill:#ff0000;stroke:#000000;\" x=\"110.204549\" xlink:href=\"#m413d0cd2ed\" y=\"164.874436\"/>\r\n     <use style=\"fill:#ff0000;stroke:#000000;\" x=\"66.088381\" xlink:href=\"#m413d0cd2ed\" y=\"170.206089\"/>\r\n     <use style=\"fill:#ff0000;stroke:#000000;\" x=\"194.199988\" xlink:href=\"#m413d0cd2ed\" y=\"120.660621\"/>\r\n     <use style=\"fill:#ff0000;stroke:#000000;\" x=\"79.32713\" xlink:href=\"#m413d0cd2ed\" y=\"154.698907\"/>\r\n     <use style=\"fill:#ff0000;stroke:#000000;\" x=\"62.554976\" xlink:href=\"#m413d0cd2ed\" y=\"191.104091\"/>\r\n     <use style=\"fill:#ff0000;stroke:#000000;\" x=\"88.702879\" xlink:href=\"#m413d0cd2ed\" y=\"166.384187\"/>\r\n     <use style=\"fill:#ff0000;stroke:#000000;\" x=\"174.211622\" xlink:href=\"#m413d0cd2ed\" y=\"155.524149\"/>\r\n     <use style=\"fill:#ff0000;stroke:#000000;\" x=\"69.05474\" xlink:href=\"#m413d0cd2ed\" y=\"177.22212\"/>\r\n     <use style=\"fill:#ff0000;stroke:#000000;\" x=\"105.398835\" xlink:href=\"#m413d0cd2ed\" y=\"145.603561\"/>\r\n     <use style=\"fill:#ff0000;stroke:#000000;\" x=\"92.434749\" xlink:href=\"#m413d0cd2ed\" y=\"187.495646\"/>\r\n     <use style=\"fill:#ff0000;stroke:#000000;\" x=\"56.588591\" xlink:href=\"#m413d0cd2ed\" y=\"157.378733\"/>\r\n     <use style=\"fill:#ff0000;stroke:#000000;\" x=\"69.545589\" xlink:href=\"#m413d0cd2ed\" y=\"181.618007\"/>\r\n     <use style=\"fill:#ff0000;stroke:#000000;\" x=\"174.06986\" xlink:href=\"#m413d0cd2ed\" y=\"136.227485\"/>\r\n     <use style=\"fill:#ff0000;stroke:#000000;\" x=\"64.941885\" xlink:href=\"#m413d0cd2ed\" y=\"187.704904\"/>\r\n     <use style=\"fill:#ff0000;stroke:#000000;\" x=\"100.357443\" xlink:href=\"#m413d0cd2ed\" y=\"145.466512\"/>\r\n     <use style=\"fill:#ff0000;stroke:#000000;\" x=\"60.797134\" xlink:href=\"#m413d0cd2ed\" y=\"181.650427\"/>\r\n     <use style=\"fill:#ff0000;stroke:#000000;\" x=\"98.296586\" xlink:href=\"#m413d0cd2ed\" y=\"163.606363\"/>\r\n     <use style=\"fill:#ff0000;stroke:#000000;\" x=\"101.472042\" xlink:href=\"#m413d0cd2ed\" y=\"158.377866\"/>\r\n     <use style=\"fill:#ff0000;stroke:#000000;\" x=\"78.962094\" xlink:href=\"#m413d0cd2ed\" y=\"184.717823\"/>\r\n     <use style=\"fill:#ff0000;stroke:#000000;\" x=\"79.424591\" xlink:href=\"#m413d0cd2ed\" y=\"205.676023\"/>\r\n     <use style=\"fill:#ff0000;stroke:#000000;\" x=\"77.923691\" xlink:href=\"#m413d0cd2ed\" y=\"176.964232\"/>\r\n     <use style=\"fill:#ff0000;stroke:#000000;\" x=\"66.680235\" xlink:href=\"#m413d0cd2ed\" y=\"161.280212\"/>\r\n     <use style=\"fill:#ff0000;stroke:#000000;\" x=\"131.722167\" xlink:href=\"#m413d0cd2ed\" y=\"166.009144\"/>\r\n     <use style=\"fill:#ff0000;stroke:#000000;\" x=\"134.263241\" xlink:href=\"#m413d0cd2ed\" y=\"155.312681\"/>\r\n     <use style=\"fill:#ff0000;stroke:#000000;\" x=\"123.131422\" xlink:href=\"#m413d0cd2ed\" y=\"157.115687\"/>\r\n     <use style=\"fill:#ff0000;stroke:#000000;\" x=\"58.521863\" xlink:href=\"#m413d0cd2ed\" y=\"200.678077\"/>\r\n     <use style=\"fill:#ff0000;stroke:#000000;\" x=\"343.811494\" xlink:href=\"#m413d0cd2ed\" y=\"63.09999\"/>\r\n     <use style=\"fill:#ff0000;stroke:#000000;\" x=\"230.916208\" xlink:href=\"#m413d0cd2ed\" y=\"106.388355\"/>\r\n     <use style=\"fill:#ff0000;stroke:#000000;\" x=\"302.700669\" xlink:href=\"#m413d0cd2ed\" y=\"69.547193\"/>\r\n     <use style=\"fill:#ff0000;stroke:#000000;\" x=\"94.651544\" xlink:href=\"#m413d0cd2ed\" y=\"159.209739\"/>\r\n     <use style=\"fill:#ff0000;stroke:#000000;\" x=\"113.734409\" xlink:href=\"#m413d0cd2ed\" y=\"152.880427\"/>\r\n     <use style=\"fill:#ff0000;stroke:#000000;\" x=\"148.127512\" xlink:href=\"#m413d0cd2ed\" y=\"137.914074\"/>\r\n     <use style=\"fill:#ff0000;stroke:#000000;\" x=\"64.194093\" xlink:href=\"#m413d0cd2ed\" y=\"187.709325\"/>\r\n     <use style=\"fill:#ff0000;stroke:#000000;\" x=\"327.189962\" xlink:href=\"#m413d0cd2ed\" y=\"40.531094\"/>\r\n     <use style=\"fill:#ff0000;stroke:#000000;\" x=\"146.355494\" xlink:href=\"#m413d0cd2ed\" y=\"145.985972\"/>\r\n     <use style=\"fill:#ff0000;stroke:#000000;\" x=\"96.712401\" xlink:href=\"#m413d0cd2ed\" y=\"165.541261\"/>\r\n     <use style=\"fill:#ff0000;stroke:#000000;\" x=\"73.174682\" xlink:href=\"#m413d0cd2ed\" y=\"185.785479\"/>\r\n     <use style=\"fill:#ff0000;stroke:#000000;\" x=\"94.787989\" xlink:href=\"#m413d0cd2ed\" y=\"170.587027\"/>\r\n     <use style=\"fill:#ff0000;stroke:#000000;\" x=\"55.821307\" xlink:href=\"#m413d0cd2ed\" y=\"214.957048\"/>\r\n     <use style=\"fill:#ff0000;stroke:#000000;\" x=\"82.773705\" xlink:href=\"#m413d0cd2ed\" y=\"193.018284\"/>\r\n     <use style=\"fill:#ff0000;stroke:#000000;\" x=\"100.329091\" xlink:href=\"#m413d0cd2ed\" y=\"166.583129\"/>\r\n     <use style=\"fill:#ff0000;stroke:#000000;\" x=\"55.991421\" xlink:href=\"#m413d0cd2ed\" y=\"153.195788\"/>\r\n     <use style=\"fill:#ff0000;stroke:#000000;\" x=\"148.800879\" xlink:href=\"#m413d0cd2ed\" y=\"145.450302\"/>\r\n     <use style=\"fill:#ff0000;stroke:#000000;\" x=\"57.253098\" xlink:href=\"#m413d0cd2ed\" y=\"180.044153\"/>\r\n     <use style=\"fill:#ff0000;stroke:#000000;\" x=\"68.266191\" xlink:href=\"#m413d0cd2ed\" y=\"191.671739\"/>\r\n     <use style=\"fill:#ff0000;stroke:#000000;\" x=\"58.683116\" xlink:href=\"#m413d0cd2ed\" y=\"193.700361\"/>\r\n     <use style=\"fill:#ff0000;stroke:#000000;\" x=\"79.367886\" xlink:href=\"#m413d0cd2ed\" y=\"190.204872\"/>\r\n     <use style=\"fill:#ff0000;stroke:#000000;\" x=\"139.846871\" xlink:href=\"#m413d0cd2ed\" y=\"139.622767\"/>\r\n     <use style=\"fill:#ff0000;stroke:#000000;\" x=\"82.206659\" xlink:href=\"#m413d0cd2ed\" y=\"155.832141\"/>\r\n     <use style=\"fill:#ff0000;stroke:#000000;\" x=\"117.670062\" xlink:href=\"#m413d0cd2ed\" y=\"163.95267\"/>\r\n     <use style=\"fill:#ff0000;stroke:#000000;\" x=\"129.418543\" xlink:href=\"#m413d0cd2ed\" y=\"145.115047\"/>\r\n     <use style=\"fill:#ff0000;stroke:#000000;\" x=\"73.100257\" xlink:href=\"#m413d0cd2ed\" y=\"188.375045\"/>\r\n     <use style=\"fill:#ff0000;stroke:#000000;\" x=\"64.566217\" xlink:href=\"#m413d0cd2ed\" y=\"194.085056\"/>\r\n     <use style=\"fill:#ff0000;stroke:#000000;\" x=\"56.397213\" xlink:href=\"#m413d0cd2ed\" y=\"174.416297\"/>\r\n     <use style=\"fill:#ff0000;stroke:#000000;\" x=\"67.885207\" xlink:href=\"#m413d0cd2ed\" y=\"181.609902\"/>\r\n     <use style=\"fill:#ff0000;stroke:#000000;\" x=\"102.065669\" xlink:href=\"#m413d0cd2ed\" y=\"163.551838\"/>\r\n     <use style=\"fill:#ff0000;stroke:#000000;\" x=\"70.773597\" xlink:href=\"#m413d0cd2ed\" y=\"142.132387\"/>\r\n     <use style=\"fill:#ff0000;stroke:#000000;\" x=\"60.756378\" xlink:href=\"#m413d0cd2ed\" y=\"180.565087\"/>\r\n     <use style=\"fill:#ff0000;stroke:#000000;\" x=\"113.704285\" xlink:href=\"#m413d0cd2ed\" y=\"194.140023\"/>\r\n     <use style=\"fill:#ff0000;stroke:#000000;\" x=\"204.087851\" xlink:href=\"#m413d0cd2ed\" y=\"128.484947\"/>\r\n     <use style=\"fill:#ff0000;stroke:#000000;\" x=\"63.086582\" xlink:href=\"#m413d0cd2ed\" y=\"190.65846\"/>\r\n    </g>\r\n   </g>\r\n   <g id=\"line2d_16\">\r\n    <path clip-path=\"url(#p4e9f36762a)\" d=\"M 75.015809 168.336929 \r\nL 64.695574 173.17444 \r\nL 117.69487 148.331529 \r\nL 90.841705 160.918693 \r\nL 70.580447 170.415963 \r\nL 115.290241 149.458676 \r\nL 99.226895 156.988215 \r\nL 118.749221 147.837313 \r\nL 81.68037 165.21298 \r\nL 56.312156 177.104087 \r\nL 67.938368 171.654412 \r\nL 217.732392 101.439902 \r\nL 68.351248 171.460878 \r\nL 115.742106 149.246869 \r\nL 66.697955 172.235843 \r\nL 62.067671 174.406245 \r\nL 79.539772 166.216365 \r\nL 57.65003 176.476972 \r\nL 80.677408 165.683109 \r\nL 92.039589 160.357196 \r\nL 76.415704 167.680742 \r\nL 325.931829 50.722455 \r\nL 64.029296 173.486752 \r\nL 78.843369 166.542798 \r\nL 65.354765 172.865451 \r\nL 302.452587 61.728124 \r\nL 194.058227 112.536939 \r\nL 160.903764 128.077775 \r\nL 200.224851 109.646394 \r\nL 360.184943 34.666637 \r\nL 59.817208 175.461128 \r\nL 83.509093 164.355784 \r\nL 130.623516 142.271351 \r\nL 71.147493 170.150165 \r\nL 112.245914 150.885675 \r\nL 107.325019 153.192298 \r\nL 110.204549 151.842546 \r\nL 66.088381 172.521576 \r\nL 194.199988 112.47049 \r\nL 79.32713 166.316039 \r\nL 62.554976 174.177825 \r\nL 88.702879 161.921247 \r\nL 174.211622 121.839845 \r\nL 69.05474 171.131123 \r\nL 105.398835 154.095178 \r\nL 92.434749 160.171969 \r\nL 56.588591 176.974511 \r\nL 69.545589 170.901043 \r\nL 174.06986 121.906294 \r\nL 64.941885 173.058985 \r\nL 100.357443 156.458282 \r\nL 60.797134 175.001797 \r\nL 98.296586 157.424289 \r\nL 101.472042 155.935824 \r\nL 78.962094 166.487146 \r\nL 79.424591 166.270355 \r\nL 77.923691 166.973888 \r\nL 66.680235 172.24415 \r\nL 131.722167 141.756369 \r\nL 134.263241 140.565265 \r\nL 123.131422 145.783198 \r\nL 58.521863 176.068308 \r\nL 343.811494 42.341534 \r\nL 230.916208 95.260115 \r\nL 302.700669 61.611838 \r\nL 94.651544 159.132867 \r\nL 113.734409 150.187957 \r\nL 148.127512 134.066521 \r\nL 64.194093 173.409505 \r\nL 327.189962 50.132717 \r\nL 146.355494 134.897137 \r\nL 96.712401 158.16686 \r\nL 73.174682 169.19994 \r\nL 94.787989 159.06891 \r\nL 55.821307 177.334168 \r\nL 82.773705 164.70049 \r\nL 100.329091 156.471572 \r\nL 55.991421 177.254429 \r\nL 148.800879 133.750886 \r\nL 57.253098 176.66303 \r\nL 68.266191 171.500748 \r\nL 58.683116 175.992722 \r\nL 79.367886 166.296935 \r\nL 139.846871 137.947992 \r\nL 82.206659 164.966287 \r\nL 117.670062 148.343158 \r\nL 129.418543 142.83617 \r\nL 73.100257 169.234826 \r\nL 64.566217 173.235075 \r\nL 56.397213 177.064218 \r\nL 67.885207 171.67933 \r\nL 102.065669 155.657568 \r\nL 70.773597 170.325425 \r\nL 60.756378 175.020901 \r\nL 113.704285 150.202078 \r\nL 204.087851 107.83565 \r\nL 63.086582 173.92864 \r\n\" style=\"fill:none;stroke:#1f77b4;stroke-linecap:square;stroke-width:1.5;\"/>\r\n   </g>\r\n   <g id=\"patch_3\">\r\n    <path d=\"M 40.603125 224.840685 \r\nL 40.603125 7.400685 \r\n\" style=\"fill:none;stroke:#000000;stroke-linecap:square;stroke-linejoin:miter;stroke-width:0.8;\"/>\r\n   </g>\r\n   <g id=\"patch_4\">\r\n    <path d=\"M 375.403125 224.840685 \r\nL 375.403125 7.400685 \r\n\" style=\"fill:none;stroke:#000000;stroke-linecap:square;stroke-linejoin:miter;stroke-width:0.8;\"/>\r\n   </g>\r\n   <g id=\"patch_5\">\r\n    <path d=\"M 40.603125 224.840685 \r\nL 375.403125 224.840685 \r\n\" style=\"fill:none;stroke:#000000;stroke-linecap:square;stroke-linejoin:miter;stroke-width:0.8;\"/>\r\n   </g>\r\n   <g id=\"patch_6\">\r\n    <path d=\"M 40.603125 7.400685 \r\nL 375.403125 7.400685 \r\n\" style=\"fill:none;stroke:#000000;stroke-linecap:square;stroke-linejoin:miter;stroke-width:0.8;\"/>\r\n   </g>\r\n   <g id=\"legend_1\">\r\n    <g id=\"patch_7\">\r\n     <path d=\"M 47.603125 44.756935 \r\nL 165.940625 44.756935 \r\nQ 167.940625 44.756935 167.940625 42.756935 \r\nL 167.940625 14.400685 \r\nQ 167.940625 12.400685 165.940625 12.400685 \r\nL 47.603125 12.400685 \r\nQ 45.603125 12.400685 45.603125 14.400685 \r\nL 45.603125 42.756935 \r\nQ 45.603125 44.756935 47.603125 44.756935 \r\nz\r\n\" style=\"fill:#ffffff;opacity:0.8;stroke:#cccccc;stroke-linejoin:miter;\"/>\r\n    </g>\r\n    <g id=\"line2d_17\"/>\r\n    <g id=\"line2d_18\">\r\n     <g>\r\n      <use style=\"fill:#ff0000;stroke:#000000;\" x=\"59.603125\" xlink:href=\"#m413d0cd2ed\" y=\"20.499122\"/>\r\n     </g>\r\n    </g>\r\n    <g id=\"text_17\">\r\n     <!-- Training data -->\r\n     <g transform=\"translate(77.603125 23.999122)scale(0.1 -0.1)\">\r\n      <defs>\r\n       <path d=\"M -19 4666 \r\nL 3928 4666 \r\nL 3928 4134 \r\nL 2272 4134 \r\nL 2272 0 \r\nL 1638 0 \r\nL 1638 4134 \r\nL -19 4134 \r\nL -19 4666 \r\nz\r\n\" id=\"DejaVuSans-54\" transform=\"scale(0.015625)\"/>\r\n       <path d=\"M 2906 1791 \r\nQ 2906 2416 2648 2759 \r\nQ 2391 3103 1925 3103 \r\nQ 1463 3103 1205 2759 \r\nQ 947 2416 947 1791 \r\nQ 947 1169 1205 825 \r\nQ 1463 481 1925 481 \r\nQ 2391 481 2648 825 \r\nQ 2906 1169 2906 1791 \r\nz\r\nM 3481 434 \r\nQ 3481 -459 3084 -895 \r\nQ 2688 -1331 1869 -1331 \r\nQ 1566 -1331 1297 -1286 \r\nQ 1028 -1241 775 -1147 \r\nL 775 -588 \r\nQ 1028 -725 1275 -790 \r\nQ 1522 -856 1778 -856 \r\nQ 2344 -856 2625 -561 \r\nQ 2906 -266 2906 331 \r\nL 2906 616 \r\nQ 2728 306 2450 153 \r\nQ 2172 0 1784 0 \r\nQ 1141 0 747 490 \r\nQ 353 981 353 1791 \r\nQ 353 2603 747 3093 \r\nQ 1141 3584 1784 3584 \r\nQ 2172 3584 2450 3431 \r\nQ 2728 3278 2906 2969 \r\nL 2906 3500 \r\nL 3481 3500 \r\nL 3481 434 \r\nz\r\n\" id=\"DejaVuSans-67\" transform=\"scale(0.015625)\"/>\r\n       <path d=\"M 2906 2969 \r\nL 2906 4863 \r\nL 3481 4863 \r\nL 3481 0 \r\nL 2906 0 \r\nL 2906 525 \r\nQ 2725 213 2448 61 \r\nQ 2172 -91 1784 -91 \r\nQ 1150 -91 751 415 \r\nQ 353 922 353 1747 \r\nQ 353 2572 751 3078 \r\nQ 1150 3584 1784 3584 \r\nQ 2172 3584 2448 3432 \r\nQ 2725 3281 2906 2969 \r\nz\r\nM 947 1747 \r\nQ 947 1113 1208 752 \r\nQ 1469 391 1925 391 \r\nQ 2381 391 2643 752 \r\nQ 2906 1113 2906 1747 \r\nQ 2906 2381 2643 2742 \r\nQ 2381 3103 1925 3103 \r\nQ 1469 3103 1208 2742 \r\nQ 947 2381 947 1747 \r\nz\r\n\" id=\"DejaVuSans-64\" transform=\"scale(0.015625)\"/>\r\n      </defs>\r\n      <use xlink:href=\"#DejaVuSans-54\"/>\r\n      <use x=\"46.333984\" xlink:href=\"#DejaVuSans-72\"/>\r\n      <use x=\"87.447266\" xlink:href=\"#DejaVuSans-61\"/>\r\n      <use x=\"148.726562\" xlink:href=\"#DejaVuSans-69\"/>\r\n      <use x=\"176.509766\" xlink:href=\"#DejaVuSans-6e\"/>\r\n      <use x=\"239.888672\" xlink:href=\"#DejaVuSans-69\"/>\r\n      <use x=\"267.671875\" xlink:href=\"#DejaVuSans-6e\"/>\r\n      <use x=\"331.050781\" xlink:href=\"#DejaVuSans-67\"/>\r\n      <use x=\"394.527344\" xlink:href=\"#DejaVuSans-20\"/>\r\n      <use x=\"426.314453\" xlink:href=\"#DejaVuSans-64\"/>\r\n      <use x=\"489.791016\" xlink:href=\"#DejaVuSans-61\"/>\r\n      <use x=\"551.070312\" xlink:href=\"#DejaVuSans-74\"/>\r\n      <use x=\"590.279297\" xlink:href=\"#DejaVuSans-61\"/>\r\n     </g>\r\n    </g>\r\n    <g id=\"line2d_19\">\r\n     <path d=\"M 49.603125 35.177247 \r\nL 69.603125 35.177247 \r\n\" style=\"fill:none;stroke:#1f77b4;stroke-linecap:square;stroke-width:1.5;\"/>\r\n    </g>\r\n    <g id=\"line2d_20\"/>\r\n    <g id=\"text_18\">\r\n     <!-- Linear regression -->\r\n     <g transform=\"translate(77.603125 38.677247)scale(0.1 -0.1)\">\r\n      <defs>\r\n       <path d=\"M 628 4666 \r\nL 1259 4666 \r\nL 1259 531 \r\nL 3531 531 \r\nL 3531 0 \r\nL 628 0 \r\nL 628 4666 \r\nz\r\n\" id=\"DejaVuSans-4c\" transform=\"scale(0.015625)\"/>\r\n       <path d=\"M 3597 1894 \r\nL 3597 1613 \r\nL 953 1613 \r\nQ 991 1019 1311 708 \r\nQ 1631 397 2203 397 \r\nQ 2534 397 2845 478 \r\nQ 3156 559 3463 722 \r\nL 3463 178 \r\nQ 3153 47 2828 -22 \r\nQ 2503 -91 2169 -91 \r\nQ 1331 -91 842 396 \r\nQ 353 884 353 1716 \r\nQ 353 2575 817 3079 \r\nQ 1281 3584 2069 3584 \r\nQ 2775 3584 3186 3129 \r\nQ 3597 2675 3597 1894 \r\nz\r\nM 3022 2063 \r\nQ 3016 2534 2758 2815 \r\nQ 2500 3097 2075 3097 \r\nQ 1594 3097 1305 2825 \r\nQ 1016 2553 972 2059 \r\nL 3022 2063 \r\nz\r\n\" id=\"DejaVuSans-65\" transform=\"scale(0.015625)\"/>\r\n      </defs>\r\n      <use xlink:href=\"#DejaVuSans-4c\"/>\r\n      <use x=\"55.712891\" xlink:href=\"#DejaVuSans-69\"/>\r\n      <use x=\"83.496094\" xlink:href=\"#DejaVuSans-6e\"/>\r\n      <use x=\"146.875\" xlink:href=\"#DejaVuSans-65\"/>\r\n      <use x=\"208.398438\" xlink:href=\"#DejaVuSans-61\"/>\r\n      <use x=\"269.677734\" xlink:href=\"#DejaVuSans-72\"/>\r\n      <use x=\"310.791016\" xlink:href=\"#DejaVuSans-20\"/>\r\n      <use x=\"342.578125\" xlink:href=\"#DejaVuSans-72\"/>\r\n      <use x=\"381.441406\" xlink:href=\"#DejaVuSans-65\"/>\r\n      <use x=\"442.964844\" xlink:href=\"#DejaVuSans-67\"/>\r\n      <use x=\"506.441406\" xlink:href=\"#DejaVuSans-72\"/>\r\n      <use x=\"545.304688\" xlink:href=\"#DejaVuSans-65\"/>\r\n      <use x=\"606.828125\" xlink:href=\"#DejaVuSans-73\"/>\r\n      <use x=\"658.927734\" xlink:href=\"#DejaVuSans-73\"/>\r\n      <use x=\"711.027344\" xlink:href=\"#DejaVuSans-69\"/>\r\n      <use x=\"738.810547\" xlink:href=\"#DejaVuSans-6f\"/>\r\n      <use x=\"799.992188\" xlink:href=\"#DejaVuSans-6e\"/>\r\n     </g>\r\n    </g>\r\n   </g>\r\n  </g>\r\n </g>\r\n <defs>\r\n  <clipPath id=\"p4e9f36762a\">\r\n   <rect height=\"217.44\" width=\"334.8\" x=\"40.603125\" y=\"7.400685\"/>\r\n  </clipPath>\r\n </defs>\r\n</svg>\r\n",
            "image/png": "[encoded data removed]"
          },
          "metadata": {
            "needs_background": "light"
          }
        }
      ]
    },
    {
      "cell_type": "markdown",
      "metadata": {
        "id": "U9shyrD8_KCq"
      },
      "source": [
        "<h5>We will use your final parameters to plot the linear fit. The results should look like the following figure.</h5>\n",
        "<img src=\"https://i.ibb.co/FY8L2mn/graph-w3.png\">"
      ]
    },
    {
      "cell_type": "markdown",
      "metadata": {
        "id": "JmrCXl34_KCs"
      },
      "source": [
        "Your final values for $\\theta$ will also be used to make predictions on profits in areas of 35,000 and 70,000 people.\n",
        "\n",
        "<div class=\"alert alert-block alert-success\">\n",
        "Note the way that the following lines use matrix multiplication, rather than explicit summation or looping, to calculate the predictions. This is an example of code vectorization in `numpy`.\n",
        "</div>\n",
        "\n",
        "<div class=\"alert alert-block alert-success\">\n",
        "Note that the first argument to the `numpy` function `dot` is a python list. `numpy` can internally converts **valid** python lists to numpy arrays when explicitly provided as arguments to `numpy` functions.\n",
        "</div>\n"
      ]
    },
    {
      "cell_type": "code",
      "metadata": {
        "id": "jcMSJyvI_KCs"
      },
      "source": [
        "# Now you can predict values for various population sizes.\n",
        "population_size = 13.5\n",
        "\n",
        "predict1 = np.dot([1, population_size], theta)\n",
        "print('For population = ' + str(population_size))\n",
        "print('we predict a profit of {:.2f}\\n'.format(predict1))"
      ],
      "execution_count": 40,
      "outputs": [
        {
          "output_type": "stream",
          "name": "stdout",
          "text": [
            "For population = 13.5\nwe predict a profit of 12.19\n\n"
          ]
        }
      ]
    },
    {
      "cell_type": "code",
      "metadata": {
        "id": "ry_f-5rxDRoE"
      },
      "source": [
        "# Now you can predict values for various population sizes.\n",
        "population_size = 8\n",
        "\n",
        "predict1 = np.dot([1, population_size], theta)\n",
        "print('For population = ' + str(population_size))\n",
        "print('we predict a profit of {:.2f}\\n'.format(predict1))"
      ],
      "execution_count": 43,
      "outputs": [
        {
          "output_type": "stream",
          "name": "stdout",
          "text": [
            "For population = 8\nwe predict a profit of 6.56\n\n"
          ]
        }
      ]
    },
    {
      "cell_type": "code",
      "metadata": {
        "id": "9IkHup7oDRoE"
      },
      "source": [],
      "execution_count": null,
      "outputs": []
    }
  ]
}