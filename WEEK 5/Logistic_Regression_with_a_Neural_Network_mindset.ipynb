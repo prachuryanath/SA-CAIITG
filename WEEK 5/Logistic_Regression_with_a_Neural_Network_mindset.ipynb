{
 "cells": [
  {
   "cell_type": "markdown",
   "metadata": {},
   "source": [
    "# Logistic Regression with a Neural Network mindset\n",
    "\n",
    "Welcome to your first (required) programming assignment! You will build a logistic regression classifier to recognize  cats. This assignment will step you through how to do this with a Neural Network mindset, and so will also hone your intuitions about deep learning.\n",
    "\n",
    "**Instructions:**\n",
    "- Do not use loops (for/while) in your code, unless the instructions explicitly ask you to do so.\n",
    "\n",
    "**You will learn to:**\n",
    "- Build the general architecture of a learning algorithm, including:\n",
    "    - Initializing parameters\n",
    "    - Calculating the cost function and its gradient\n",
    "    - Using an optimization algorithm (gradient descent) \n",
    "- Gather all three functions above into a main model function, in the right order."
   ]
  },
  {
   "cell_type": "markdown",
   "metadata": {},
   "source": [
    "## <font color='darkblue'>Updates</font>\n",
    "This notebook has been updated over the past few months.  The prior version was named \"v5\", and the current versionis now named '6a'\n",
    "\n",
    "#### If you were working on a previous version:\n",
    "* You can find your prior work by looking in the file directory for the older files (named by version name).\n",
    "* To view the file directory, click on the \"Coursera\" icon in the top left corner of this notebook.\n",
    "* Please copy your work from the older versions to the new version, in order to submit your work for grading.\n",
    "\n",
    "#### List of Updates\n",
    "* Forward propagation formula, indexing now starts at 1 instead of 0.\n",
    "* Optimization function comment now says \"print cost every 100 training iterations\" instead of \"examples\".\n",
    "* Fixed grammar in the comments.\n",
    "* Y_prediction_test variable name is used consistently.\n",
    "* Plot's axis label now says \"iterations (hundred)\" instead of \"iterations\".\n",
    "* When testing the model, the test image is normalized by dividing by 255."
   ]
  },
  {
   "cell_type": "markdown",
   "metadata": {},
   "source": [
    "## 1 - Packages ##\n",
    "\n",
    "First, let's run the cell below to import all the packages that you will need during this assignment. \n",
    "- [numpy](www.numpy.org) is the fundamental package for scientific computing with Python.\n",
    "- [h5py](http://www.h5py.org) is a common package to interact with a dataset that is stored on an H5 file.\n",
    "- [matplotlib](http://matplotlib.org) is a famous library to plot graphs in Python.\n",
    "- [PIL](http://www.pythonware.com/products/pil/) and [scipy](https://www.scipy.org/) are used here to test your model with your own picture at the end."
   ]
  },
  {
   "cell_type": "code",
   "execution_count": 1,
   "metadata": {},
   "outputs": [],
   "source": [
    "import numpy as np\n",
    "import matplotlib.pyplot as plt\n",
    "import h5py\n",
    "import scipy\n",
    "from PIL import Image\n",
    "from scipy import ndimage\n",
    "from lr_utils import load_dataset\n",
    "\n",
    "%matplotlib inline"
   ]
  },
  {
   "cell_type": "markdown",
   "metadata": {},
   "source": [
    "## 2 - Overview of the Problem set ##\n",
    "\n",
    "**Problem Statement**: You are given a dataset (\"data.h5\") containing:\n",
    "    - a training set of m_train images labeled as cat (y=1) or non-cat (y=0)\n",
    "    - a test set of m_test images labeled as cat or non-cat\n",
    "    - each image is of shape (num_px, num_px, 3) where 3 is for the 3 channels (RGB). Thus, each image is square (height = num_px) and (width = num_px).\n",
    "\n",
    "You will build a simple image-recognition algorithm that can correctly classify pictures as cat or non-cat.\n",
    "\n",
    "Let's get more familiar with the dataset. Load the data by running the following code."
   ]
  },
  {
   "cell_type": "code",
   "execution_count": 2,
   "metadata": {},
   "outputs": [],
   "source": [
    "# Loading the data (cat/non-cat)\n",
    "train_set_x_orig, train_set_y, test_set_x_orig, test_set_y, classes = load_dataset()"
   ]
  },
  {
   "cell_type": "markdown",
   "metadata": {},
   "source": [
    "We added \"_orig\" at the end of image datasets (train and test) because we are going to preprocess them. After preprocessing, we will end up with train_set_x and test_set_x (the labels train_set_y and test_set_y don't need any preprocessing).\n",
    "\n",
    "Each line of your train_set_x_orig and test_set_x_orig is an array representing an image. You can visualize an example by running the following code. Feel free also to change the `index` value and re-run to see other images. "
   ]
  },
  {
   "cell_type": "code",
   "execution_count": 3,
   "metadata": {},
   "outputs": [
    {
     "output_type": "stream",
     "name": "stdout",
     "text": [
      "y = [1], it's a 'cat' picture.\n"
     ]
    },
    {
     "output_type": "display_data",
     "data": {
      "text/plain": "<Figure size 432x288 with 1 Axes>",
      "image/svg+xml": "<?xml version=\"1.0\" encoding=\"utf-8\" standalone=\"no\"?>\r\n<!DOCTYPE svg PUBLIC \"-//W3C//DTD SVG 1.1//EN\"\r\n  \"http://www.w3.org/Graphics/SVG/1.1/DTD/svg11.dtd\">\r\n<svg height=\"250.618594pt\" version=\"1.1\" viewBox=\"0 0 251.565 250.618594\" width=\"251.565pt\" xmlns=\"http://www.w3.org/2000/svg\" xmlns:xlink=\"http://www.w3.org/1999/xlink\">\r\n <metadata>\r\n  <rdf:RDF xmlns:cc=\"http://creativecommons.org/ns#\" xmlns:dc=\"http://purl.org/dc/elements/1.1/\" xmlns:rdf=\"http://www.w3.org/1999/02/22-rdf-syntax-ns#\">\r\n   <cc:Work>\r\n    <dc:type rdf:resource=\"http://purl.org/dc/dcmitype/StillImage\"/>\r\n    <dc:date>2021-06-26T23:21:02.755898</dc:date>\r\n    <dc:format>image/svg+xml</dc:format>\r\n    <dc:creator>\r\n     <cc:Agent>\r\n      <dc:title>Matplotlib v3.4.2, https://matplotlib.org/</dc:title>\r\n     </cc:Agent>\r\n    </dc:creator>\r\n   </cc:Work>\r\n  </rdf:RDF>\r\n </metadata>\r\n <defs>\r\n  <style type=\"text/css\">*{stroke-linecap:butt;stroke-linejoin:round;}</style>\r\n </defs>\r\n <g id=\"figure_1\">\r\n  <g id=\"patch_1\">\r\n   <path d=\"M 0 250.618594 \r\nL 251.565 250.618594 \r\nL 251.565 0 \r\nL 0 0 \r\nz\r\n\" style=\"fill:none;\"/>\r\n  </g>\r\n  <g id=\"axes_1\">\r\n   <g id=\"patch_2\">\r\n    <path d=\"M 26.925 226.740469 \r\nL 244.365 226.740469 \r\nL 244.365 9.300469 \r\nL 26.925 9.300469 \r\nz\r\n\" style=\"fill:#ffffff;\"/>\r\n   </g>\r\n   <g clip-path=\"url(#p57bc365c5b)\">\r\n    <image height=\"218\" id=\"image05c7304cac\" transform=\"scale(1 -1)translate(0 -218)\" width=\"218\" x=\"26.925\" xlink:href=\"data:image/png;base64,\r\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\" y=\"-8.740469\"/>\r\n   </g>\r\n   <g id=\"matplotlib.axis_1\">\r\n    <g id=\"xtick_1\">\r\n     <g id=\"line2d_1\">\r\n      <defs>\r\n       <path d=\"M 0 0 \r\nL 0 3.5 \r\n\" id=\"m2455840120\" style=\"stroke:#000000;stroke-width:0.8;\"/>\r\n      </defs>\r\n      <g>\r\n       <use style=\"stroke:#000000;stroke-width:0.8;\" x=\"28.62375\" xlink:href=\"#m2455840120\" y=\"226.740469\"/>\r\n      </g>\r\n     </g>\r\n     <g id=\"text_1\">\r\n      <!-- 0 -->\r\n      <g transform=\"translate(25.4425 241.338906)scale(0.1 -0.1)\">\r\n       <defs>\r\n        <path d=\"M 2034 4250 \r\nQ 1547 4250 1301 3770 \r\nQ 1056 3291 1056 2328 \r\nQ 1056 1369 1301 889 \r\nQ 1547 409 2034 409 \r\nQ 2525 409 2770 889 \r\nQ 3016 1369 3016 2328 \r\nQ 3016 3291 2770 3770 \r\nQ 2525 4250 2034 4250 \r\nz\r\nM 2034 4750 \r\nQ 2819 4750 3233 4129 \r\nQ 3647 3509 3647 2328 \r\nQ 3647 1150 3233 529 \r\nQ 2819 -91 2034 -91 \r\nQ 1250 -91 836 529 \r\nQ 422 1150 422 2328 \r\nQ 422 3509 836 4129 \r\nQ 1250 4750 2034 4750 \r\nz\r\n\" id=\"DejaVuSans-30\" transform=\"scale(0.015625)\"/>\r\n       </defs>\r\n       <use xlink:href=\"#DejaVuSans-30\"/>\r\n      </g>\r\n     </g>\r\n    </g>\r\n    <g id=\"xtick_2\">\r\n     <g id=\"line2d_2\">\r\n      <g>\r\n       <use style=\"stroke:#000000;stroke-width:0.8;\" x=\"62.59875\" xlink:href=\"#m2455840120\" y=\"226.740469\"/>\r\n      </g>\r\n     </g>\r\n     <g id=\"text_2\">\r\n      <!-- 10 -->\r\n      <g transform=\"translate(56.23625 241.338906)scale(0.1 -0.1)\">\r\n       <defs>\r\n        <path d=\"M 794 531 \r\nL 1825 531 \r\nL 1825 4091 \r\nL 703 3866 \r\nL 703 4441 \r\nL 1819 4666 \r\nL 2450 4666 \r\nL 2450 531 \r\nL 3481 531 \r\nL 3481 0 \r\nL 794 0 \r\nL 794 531 \r\nz\r\n\" id=\"DejaVuSans-31\" transform=\"scale(0.015625)\"/>\r\n       </defs>\r\n       <use xlink:href=\"#DejaVuSans-31\"/>\r\n       <use x=\"63.623047\" xlink:href=\"#DejaVuSans-30\"/>\r\n      </g>\r\n     </g>\r\n    </g>\r\n    <g id=\"xtick_3\">\r\n     <g id=\"line2d_3\">\r\n      <g>\r\n       <use style=\"stroke:#000000;stroke-width:0.8;\" x=\"96.57375\" xlink:href=\"#m2455840120\" y=\"226.740469\"/>\r\n      </g>\r\n     </g>\r\n     <g id=\"text_3\">\r\n      <!-- 20 -->\r\n      <g transform=\"translate(90.21125 241.338906)scale(0.1 -0.1)\">\r\n       <defs>\r\n        <path d=\"M 1228 531 \r\nL 3431 531 \r\nL 3431 0 \r\nL 469 0 \r\nL 469 531 \r\nQ 828 903 1448 1529 \r\nQ 2069 2156 2228 2338 \r\nQ 2531 2678 2651 2914 \r\nQ 2772 3150 2772 3378 \r\nQ 2772 3750 2511 3984 \r\nQ 2250 4219 1831 4219 \r\nQ 1534 4219 1204 4116 \r\nQ 875 4013 500 3803 \r\nL 500 4441 \r\nQ 881 4594 1212 4672 \r\nQ 1544 4750 1819 4750 \r\nQ 2544 4750 2975 4387 \r\nQ 3406 4025 3406 3419 \r\nQ 3406 3131 3298 2873 \r\nQ 3191 2616 2906 2266 \r\nQ 2828 2175 2409 1742 \r\nQ 1991 1309 1228 531 \r\nz\r\n\" id=\"DejaVuSans-32\" transform=\"scale(0.015625)\"/>\r\n       </defs>\r\n       <use xlink:href=\"#DejaVuSans-32\"/>\r\n       <use x=\"63.623047\" xlink:href=\"#DejaVuSans-30\"/>\r\n      </g>\r\n     </g>\r\n    </g>\r\n    <g id=\"xtick_4\">\r\n     <g id=\"line2d_4\">\r\n      <g>\r\n       <use style=\"stroke:#000000;stroke-width:0.8;\" x=\"130.54875\" xlink:href=\"#m2455840120\" y=\"226.740469\"/>\r\n      </g>\r\n     </g>\r\n     <g id=\"text_4\">\r\n      <!-- 30 -->\r\n      <g transform=\"translate(124.18625 241.338906)scale(0.1 -0.1)\">\r\n       <defs>\r\n        <path d=\"M 2597 2516 \r\nQ 3050 2419 3304 2112 \r\nQ 3559 1806 3559 1356 \r\nQ 3559 666 3084 287 \r\nQ 2609 -91 1734 -91 \r\nQ 1441 -91 1130 -33 \r\nQ 819 25 488 141 \r\nL 488 750 \r\nQ 750 597 1062 519 \r\nQ 1375 441 1716 441 \r\nQ 2309 441 2620 675 \r\nQ 2931 909 2931 1356 \r\nQ 2931 1769 2642 2001 \r\nQ 2353 2234 1838 2234 \r\nL 1294 2234 \r\nL 1294 2753 \r\nL 1863 2753 \r\nQ 2328 2753 2575 2939 \r\nQ 2822 3125 2822 3475 \r\nQ 2822 3834 2567 4026 \r\nQ 2313 4219 1838 4219 \r\nQ 1578 4219 1281 4162 \r\nQ 984 4106 628 3988 \r\nL 628 4550 \r\nQ 988 4650 1302 4700 \r\nQ 1616 4750 1894 4750 \r\nQ 2613 4750 3031 4423 \r\nQ 3450 4097 3450 3541 \r\nQ 3450 3153 3228 2886 \r\nQ 3006 2619 2597 2516 \r\nz\r\n\" id=\"DejaVuSans-33\" transform=\"scale(0.015625)\"/>\r\n       </defs>\r\n       <use xlink:href=\"#DejaVuSans-33\"/>\r\n       <use x=\"63.623047\" xlink:href=\"#DejaVuSans-30\"/>\r\n      </g>\r\n     </g>\r\n    </g>\r\n    <g id=\"xtick_5\">\r\n     <g id=\"line2d_5\">\r\n      <g>\r\n       <use style=\"stroke:#000000;stroke-width:0.8;\" x=\"164.52375\" xlink:href=\"#m2455840120\" y=\"226.740469\"/>\r\n      </g>\r\n     </g>\r\n     <g id=\"text_5\">\r\n      <!-- 40 -->\r\n      <g transform=\"translate(158.16125 241.338906)scale(0.1 -0.1)\">\r\n       <defs>\r\n        <path d=\"M 2419 4116 \r\nL 825 1625 \r\nL 2419 1625 \r\nL 2419 4116 \r\nz\r\nM 2253 4666 \r\nL 3047 4666 \r\nL 3047 1625 \r\nL 3713 1625 \r\nL 3713 1100 \r\nL 3047 1100 \r\nL 3047 0 \r\nL 2419 0 \r\nL 2419 1100 \r\nL 313 1100 \r\nL 313 1709 \r\nL 2253 4666 \r\nz\r\n\" id=\"DejaVuSans-34\" transform=\"scale(0.015625)\"/>\r\n       </defs>\r\n       <use xlink:href=\"#DejaVuSans-34\"/>\r\n       <use x=\"63.623047\" xlink:href=\"#DejaVuSans-30\"/>\r\n      </g>\r\n     </g>\r\n    </g>\r\n    <g id=\"xtick_6\">\r\n     <g id=\"line2d_6\">\r\n      <g>\r\n       <use style=\"stroke:#000000;stroke-width:0.8;\" x=\"198.49875\" xlink:href=\"#m2455840120\" y=\"226.740469\"/>\r\n      </g>\r\n     </g>\r\n     <g id=\"text_6\">\r\n      <!-- 50 -->\r\n      <g transform=\"translate(192.13625 241.338906)scale(0.1 -0.1)\">\r\n       <defs>\r\n        <path d=\"M 691 4666 \r\nL 3169 4666 \r\nL 3169 4134 \r\nL 1269 4134 \r\nL 1269 2991 \r\nQ 1406 3038 1543 3061 \r\nQ 1681 3084 1819 3084 \r\nQ 2600 3084 3056 2656 \r\nQ 3513 2228 3513 1497 \r\nQ 3513 744 3044 326 \r\nQ 2575 -91 1722 -91 \r\nQ 1428 -91 1123 -41 \r\nQ 819 9 494 109 \r\nL 494 744 \r\nQ 775 591 1075 516 \r\nQ 1375 441 1709 441 \r\nQ 2250 441 2565 725 \r\nQ 2881 1009 2881 1497 \r\nQ 2881 1984 2565 2268 \r\nQ 2250 2553 1709 2553 \r\nQ 1456 2553 1204 2497 \r\nQ 953 2441 691 2322 \r\nL 691 4666 \r\nz\r\n\" id=\"DejaVuSans-35\" transform=\"scale(0.015625)\"/>\r\n       </defs>\r\n       <use xlink:href=\"#DejaVuSans-35\"/>\r\n       <use x=\"63.623047\" xlink:href=\"#DejaVuSans-30\"/>\r\n      </g>\r\n     </g>\r\n    </g>\r\n    <g id=\"xtick_7\">\r\n     <g id=\"line2d_7\">\r\n      <g>\r\n       <use style=\"stroke:#000000;stroke-width:0.8;\" x=\"232.47375\" xlink:href=\"#m2455840120\" y=\"226.740469\"/>\r\n      </g>\r\n     </g>\r\n     <g id=\"text_7\">\r\n      <!-- 60 -->\r\n      <g transform=\"translate(226.11125 241.338906)scale(0.1 -0.1)\">\r\n       <defs>\r\n        <path d=\"M 2113 2584 \r\nQ 1688 2584 1439 2293 \r\nQ 1191 2003 1191 1497 \r\nQ 1191 994 1439 701 \r\nQ 1688 409 2113 409 \r\nQ 2538 409 2786 701 \r\nQ 3034 994 3034 1497 \r\nQ 3034 2003 2786 2293 \r\nQ 2538 2584 2113 2584 \r\nz\r\nM 3366 4563 \r\nL 3366 3988 \r\nQ 3128 4100 2886 4159 \r\nQ 2644 4219 2406 4219 \r\nQ 1781 4219 1451 3797 \r\nQ 1122 3375 1075 2522 \r\nQ 1259 2794 1537 2939 \r\nQ 1816 3084 2150 3084 \r\nQ 2853 3084 3261 2657 \r\nQ 3669 2231 3669 1497 \r\nQ 3669 778 3244 343 \r\nQ 2819 -91 2113 -91 \r\nQ 1303 -91 875 529 \r\nQ 447 1150 447 2328 \r\nQ 447 3434 972 4092 \r\nQ 1497 4750 2381 4750 \r\nQ 2619 4750 2861 4703 \r\nQ 3103 4656 3366 4563 \r\nz\r\n\" id=\"DejaVuSans-36\" transform=\"scale(0.015625)\"/>\r\n       </defs>\r\n       <use xlink:href=\"#DejaVuSans-36\"/>\r\n       <use x=\"63.623047\" xlink:href=\"#DejaVuSans-30\"/>\r\n      </g>\r\n     </g>\r\n    </g>\r\n   </g>\r\n   <g id=\"matplotlib.axis_2\">\r\n    <g id=\"ytick_1\">\r\n     <g id=\"line2d_8\">\r\n      <defs>\r\n       <path d=\"M 0 0 \r\nL -3.5 0 \r\n\" id=\"m427cffddcc\" style=\"stroke:#000000;stroke-width:0.8;\"/>\r\n      </defs>\r\n      <g>\r\n       <use style=\"stroke:#000000;stroke-width:0.8;\" x=\"26.925\" xlink:href=\"#m427cffddcc\" y=\"10.999219\"/>\r\n      </g>\r\n     </g>\r\n     <g id=\"text_8\">\r\n      <!-- 0 -->\r\n      <g transform=\"translate(13.5625 14.798437)scale(0.1 -0.1)\">\r\n       <use xlink:href=\"#DejaVuSans-30\"/>\r\n      </g>\r\n     </g>\r\n    </g>\r\n    <g id=\"ytick_2\">\r\n     <g id=\"line2d_9\">\r\n      <g>\r\n       <use style=\"stroke:#000000;stroke-width:0.8;\" x=\"26.925\" xlink:href=\"#m427cffddcc\" y=\"44.974219\"/>\r\n      </g>\r\n     </g>\r\n     <g id=\"text_9\">\r\n      <!-- 10 -->\r\n      <g transform=\"translate(7.2 48.773437)scale(0.1 -0.1)\">\r\n       <use xlink:href=\"#DejaVuSans-31\"/>\r\n       <use x=\"63.623047\" xlink:href=\"#DejaVuSans-30\"/>\r\n      </g>\r\n     </g>\r\n    </g>\r\n    <g id=\"ytick_3\">\r\n     <g id=\"line2d_10\">\r\n      <g>\r\n       <use style=\"stroke:#000000;stroke-width:0.8;\" x=\"26.925\" xlink:href=\"#m427cffddcc\" y=\"78.949219\"/>\r\n      </g>\r\n     </g>\r\n     <g id=\"text_10\">\r\n      <!-- 20 -->\r\n      <g transform=\"translate(7.2 82.748437)scale(0.1 -0.1)\">\r\n       <use xlink:href=\"#DejaVuSans-32\"/>\r\n       <use x=\"63.623047\" xlink:href=\"#DejaVuSans-30\"/>\r\n      </g>\r\n     </g>\r\n    </g>\r\n    <g id=\"ytick_4\">\r\n     <g id=\"line2d_11\">\r\n      <g>\r\n       <use style=\"stroke:#000000;stroke-width:0.8;\" x=\"26.925\" xlink:href=\"#m427cffddcc\" y=\"112.924219\"/>\r\n      </g>\r\n     </g>\r\n     <g id=\"text_11\">\r\n      <!-- 30 -->\r\n      <g transform=\"translate(7.2 116.723437)scale(0.1 -0.1)\">\r\n       <use xlink:href=\"#DejaVuSans-33\"/>\r\n       <use x=\"63.623047\" xlink:href=\"#DejaVuSans-30\"/>\r\n      </g>\r\n     </g>\r\n    </g>\r\n    <g id=\"ytick_5\">\r\n     <g id=\"line2d_12\">\r\n      <g>\r\n       <use style=\"stroke:#000000;stroke-width:0.8;\" x=\"26.925\" xlink:href=\"#m427cffddcc\" y=\"146.899219\"/>\r\n      </g>\r\n     </g>\r\n     <g id=\"text_12\">\r\n      <!-- 40 -->\r\n      <g transform=\"translate(7.2 150.698437)scale(0.1 -0.1)\">\r\n       <use xlink:href=\"#DejaVuSans-34\"/>\r\n       <use x=\"63.623047\" xlink:href=\"#DejaVuSans-30\"/>\r\n      </g>\r\n     </g>\r\n    </g>\r\n    <g id=\"ytick_6\">\r\n     <g id=\"line2d_13\">\r\n      <g>\r\n       <use style=\"stroke:#000000;stroke-width:0.8;\" x=\"26.925\" xlink:href=\"#m427cffddcc\" y=\"180.874219\"/>\r\n      </g>\r\n     </g>\r\n     <g id=\"text_13\">\r\n      <!-- 50 -->\r\n      <g transform=\"translate(7.2 184.673437)scale(0.1 -0.1)\">\r\n       <use xlink:href=\"#DejaVuSans-35\"/>\r\n       <use x=\"63.623047\" xlink:href=\"#DejaVuSans-30\"/>\r\n      </g>\r\n     </g>\r\n    </g>\r\n    <g id=\"ytick_7\">\r\n     <g id=\"line2d_14\">\r\n      <g>\r\n       <use style=\"stroke:#000000;stroke-width:0.8;\" x=\"26.925\" xlink:href=\"#m427cffddcc\" y=\"214.849219\"/>\r\n      </g>\r\n     </g>\r\n     <g id=\"text_14\">\r\n      <!-- 60 -->\r\n      <g transform=\"translate(7.2 218.648437)scale(0.1 -0.1)\">\r\n       <use xlink:href=\"#DejaVuSans-36\"/>\r\n       <use x=\"63.623047\" xlink:href=\"#DejaVuSans-30\"/>\r\n      </g>\r\n     </g>\r\n    </g>\r\n   </g>\r\n   <g id=\"patch_3\">\r\n    <path d=\"M 26.925 226.740469 \r\nL 26.925 9.300469 \r\n\" style=\"fill:none;stroke:#000000;stroke-linecap:square;stroke-linejoin:miter;stroke-width:0.8;\"/>\r\n   </g>\r\n   <g id=\"patch_4\">\r\n    <path d=\"M 244.365 226.740469 \r\nL 244.365 9.300469 \r\n\" style=\"fill:none;stroke:#000000;stroke-linecap:square;stroke-linejoin:miter;stroke-width:0.8;\"/>\r\n   </g>\r\n   <g id=\"patch_5\">\r\n    <path d=\"M 26.925 226.740469 \r\nL 244.365 226.740469 \r\n\" style=\"fill:none;stroke:#000000;stroke-linecap:square;stroke-linejoin:miter;stroke-width:0.8;\"/>\r\n   </g>\r\n   <g id=\"patch_6\">\r\n    <path d=\"M 26.925 9.300469 \r\nL 244.365 9.300469 \r\n\" style=\"fill:none;stroke:#000000;stroke-linecap:square;stroke-linejoin:miter;stroke-width:0.8;\"/>\r\n   </g>\r\n  </g>\r\n </g>\r\n <defs>\r\n  <clipPath id=\"p57bc365c5b\">\r\n   <rect height=\"217.44\" width=\"217.44\" x=\"26.925\" y=\"9.300469\"/>\r\n  </clipPath>\r\n </defs>\r\n</svg>\r\n",
      "image/png": "[encoded data removed]"
     },
     "metadata": {
      "needs_background": "light"
     }
    }
   ],
   "source": [
    "# Example of a picture\n",
    "index = 25\n",
    "plt.imshow(train_set_x_orig[index])\n",
    "print (\"y = \" + str(train_set_y[:, index]) + \", it's a '\" + classes[np.squeeze(train_set_y[:, index])].decode(\"utf-8\") +  \"' picture.\")"
   ]
  },
  {
   "cell_type": "markdown",
   "metadata": {},
   "source": [
    "Many software bugs in deep learning come from having matrix/vector dimensions that don't fit. If you can keep your matrix/vector dimensions straight you will go a long way toward eliminating many bugs. \n",
    "\n",
    "**Exercise:** Find the values for:\n",
    "    - m_train (number of training examples)\n",
    "    - m_test (number of test examples)\n",
    "    - num_px (= height = width of a training image)\n",
    "Remember that `train_set_x_orig` is a numpy-array of shape (m_train, num_px, num_px, 3). For instance, you can access `m_train` by writing `train_set_x_orig.shape[0]`."
   ]
  },
  {
   "cell_type": "code",
   "execution_count": 4,
   "metadata": {
    "scrolled": true
   },
   "outputs": [
    {
     "output_type": "stream",
     "name": "stdout",
     "text": [
      "Number of training examples: m_train = 209\nNumber of testing examples: m_test = 50\nHeight/Width of each image: num_px = 64\nEach image is of size: (64, 64, 3)\ntrain_set_x shape: (209, 64, 64, 3)\ntrain_set_y shape: (1, 209)\ntest_set_x shape: (50, 64, 64, 3)\ntest_set_y shape: (1, 50)\n"
     ]
    }
   ],
   "source": [
    "### START CODE HERE ### (≈ 3 lines of code)\n",
    "m_train = train_set_x_orig.shape[0]\n",
    "m_test = test_set_x_orig.shape[0]\n",
    "num_px = train_set_x_orig.shape[1]\n",
    "### END CODE HERE ###\n",
    "\n",
    "print (\"Number of training examples: m_train = \" + str(m_train))\n",
    "print (\"Number of testing examples: m_test = \" + str(m_test))\n",
    "print (\"Height/Width of each image: num_px = \" + str(num_px))\n",
    "print (\"Each image is of size: (\" + str(num_px) + \", \" + str(num_px) + \", 3)\")\n",
    "print (\"train_set_x shape: \" + str(train_set_x_orig.shape))\n",
    "print (\"train_set_y shape: \" + str(train_set_y.shape))\n",
    "print (\"test_set_x shape: \" + str(test_set_x_orig.shape))\n",
    "print (\"test_set_y shape: \" + str(test_set_y.shape))"
   ]
  },
  {
   "cell_type": "markdown",
   "metadata": {},
   "source": [
    "For convenience, you should now reshape images of shape (num_px, num_px, 3) in a numpy-array of shape (num_px $*$ num_px $*$ 3, 1). After this, our training (and test) dataset is a numpy-array where each column represents a flattened image. There should be m_train (respectively m_test) columns.\n",
    "\n",
    "**Exercise:** Reshape the training and test data sets so that images of size (num_px, num_px, 3) are flattened into single vectors of shape (num\\_px $*$ num\\_px $*$ 3, 1).\n",
    "\n",
    "A trick when you want to flatten a matrix X of shape (a,b,c,d) to a matrix X_flatten of shape (b$*$c$*$d, a) is to use: \n",
    "```python\n",
    "X_flatten = X.reshape(X.shape[0], -1).T      # X.T is the transpose of X\n",
    "```"
   ]
  },
  {
   "cell_type": "code",
   "execution_count": 7,
   "metadata": {},
   "outputs": [
    {
     "output_type": "error",
     "ename": "TypeError",
     "evalue": "only integer scalar arrays can be converted to a scalar index",
     "traceback": [
      "\u001b[1;31m---------------------------------------------------------------------------\u001b[0m",
      "\u001b[1;31mTypeError\u001b[0m                                 Traceback (most recent call last)",
      "\u001b[1;32m<ipython-input-7-785e66b0e728>\u001b[0m in \u001b[0;36m<module>\u001b[1;34m\u001b[0m\n\u001b[0;32m      2\u001b[0m \u001b[1;33m\u001b[0m\u001b[0m\n\u001b[0;32m      3\u001b[0m \u001b[1;31m### START CODE HERE ### (≈ 2 lines of code)\u001b[0m\u001b[1;33m\u001b[0m\u001b[1;33m\u001b[0m\u001b[1;33m\u001b[0m\u001b[0m\n\u001b[1;32m----> 4\u001b[1;33m \u001b[0mtrain_set_x_flatten\u001b[0m \u001b[1;33m=\u001b[0m \u001b[0mtrain_set_x_orig\u001b[0m\u001b[1;33m.\u001b[0m\u001b[0mreshape\u001b[0m\u001b[1;33m(\u001b[0m\u001b[0mtrain_set_x_orig\u001b[0m\u001b[1;33m[\u001b[0m\u001b[1;36m1\u001b[0m\u001b[1;33m]\u001b[0m\u001b[1;33m,\u001b[0m \u001b[1;33m-\u001b[0m\u001b[1;36m1\u001b[0m\u001b[1;33m)\u001b[0m\u001b[1;33m.\u001b[0m\u001b[0mT\u001b[0m\u001b[1;33m\u001b[0m\u001b[1;33m\u001b[0m\u001b[0m\n\u001b[0m\u001b[0;32m      5\u001b[0m \u001b[0mtest_set_x_flatten\u001b[0m \u001b[1;33m=\u001b[0m \u001b[0mtest_set_x_orig\u001b[0m\u001b[1;33m.\u001b[0m\u001b[0mreshape\u001b[0m\u001b[1;33m(\u001b[0m\u001b[0mtest_set_x_orig\u001b[0m\u001b[1;33m[\u001b[0m\u001b[1;36m1\u001b[0m\u001b[1;33m]\u001b[0m\u001b[1;33m,\u001b[0m \u001b[1;33m-\u001b[0m\u001b[1;36m1\u001b[0m\u001b[1;33m)\u001b[0m\u001b[1;33m.\u001b[0m\u001b[0mT\u001b[0m\u001b[1;33m\u001b[0m\u001b[1;33m\u001b[0m\u001b[0m\n\u001b[0;32m      6\u001b[0m \u001b[1;31m### END CODE HERE ###\u001b[0m\u001b[1;33m\u001b[0m\u001b[1;33m\u001b[0m\u001b[1;33m\u001b[0m\u001b[0m\n",
      "\u001b[1;31mTypeError\u001b[0m: only integer scalar arrays can be converted to a scalar index"
     ]
    }
   ],
   "source": [
    "# Reshape the training and test examples\n",
    "\n",
    "### START CODE HERE ### (≈ 2 lines of code)\n",
    "train_set_x_flatten = train_set_x_orig.reshape(train_set_x_orig[0], -1).T\n",
    "test_set_x_flatten = test_set_x_orig.reshape(test_set_x_orig[0], -1).T\n",
    "### END CODE HERE ###\n",
    "\n",
    "print (\"train_set_x_flatten shape: \" + str(train_set_x_flatten.shape))\n",
    "print (\"train_set_y shape: \" + str(train_set_y.shape))\n",
    "print (\"test_set_x_flatten shape: \" + str(test_set_x_flatten.shape))\n",
    "print (\"test_set_y shape: \" + str(test_set_y.shape))\n",
    "print (\"sanity check after reshaping: \" + str(train_set_x_flatten[0:5,0]))"
   ]
  },
  {
   "cell_type": "markdown",
   "metadata": {},
   "source": [
    "**Expected Output**: \n",
    "\n",
    "<table style=\"width:35%\">\n",
    "  <tr>\n",
    "    <td>**train_set_x_flatten shape**</td>\n",
    "    <td> (12288, 209)</td> \n",
    "  </tr>\n",
    "  <tr>\n",
    "    <td>**train_set_y shape**</td>\n",
    "    <td>(1, 209)</td> \n",
    "  </tr>\n",
    "  <tr>\n",
    "    <td>**test_set_x_flatten shape**</td>\n",
    "    <td>(12288, 50)</td> \n",
    "  </tr>\n",
    "  <tr>\n",
    "    <td>**test_set_y shape**</td>\n",
    "    <td>(1, 50)</td> \n",
    "  </tr>\n",
    "  <tr>\n",
    "  <td>**sanity check after reshaping**</td>\n",
    "  <td>[17 31 56 22 33]</td> \n",
    "  </tr>\n",
    "</table>"
   ]
  },
  {
   "cell_type": "markdown",
   "metadata": {},
   "source": [
    "To represent color images, the red, green and blue channels (RGB) must be specified for each pixel, and so the pixel value is actually a vector of three numbers ranging from 0 to 255.\n",
    "\n",
    "One common preprocessing step in machine learning is to center and standardize your dataset, meaning that you substract the mean of the whole numpy array from each example, and then divide each example by the standard deviation of the whole numpy array. But for picture datasets, it is simpler and more convenient and works almost as well to just divide every row of the dataset by 255 (the maximum value of a pixel channel).\n",
    "\n",
    "<!-- During the training of your model, you're going to multiply weights and add biases to some initial inputs in order to observe neuron activations. Then you backpropogate with the gradients to train the model. But, it is extremely important for each feature to have a similar range such that our gradients don't explode. You will see that more in detail later in the lectures. !--> \n",
    "\n",
    "Let's standardize our dataset."
   ]
  },
  {
   "cell_type": "code",
   "execution_count": null,
   "metadata": {},
   "outputs": [],
   "source": [
    "train_set_x = train_set_x_flatten/255.\n",
    "test_set_x = test_set_x_flatten/255."
   ]
  },
  {
   "cell_type": "markdown",
   "metadata": {},
   "source": [
    "<font color='blue'>\n",
    "**What you need to remember:**\n",
    "\n",
    "Common steps for pre-processing a new dataset are:\n",
    "- Figure out the dimensions and shapes of the problem (m_train, m_test, num_px, ...)\n",
    "- Reshape the datasets such that each example is now a vector of size (num_px \\* num_px \\* 3, 1)\n",
    "- \"Standardize\" the data"
   ]
  },
  {
   "cell_type": "markdown",
   "metadata": {},
   "source": [
    "## 3 - General Architecture of the learning algorithm ##\n",
    "\n",
    "It's time to design a simple algorithm to distinguish cat images from non-cat images.\n",
    "\n",
    "You will build a Logistic Regression, using a Neural Network mindset. The following Figure explains why **Logistic Regression is actually a very simple Neural Network!**\n",
    "\n",
    "<img src=\"images/LogReg_kiank.png\" style=\"width:650px;height:400px;\">\n",
    "\n",
    "**Mathematical expression of the algorithm**:\n",
    "\n",
    "For one example $x^{(i)}$:\n",
    "$$z^{(i)} = w^T x^{(i)} + b \\tag{1}$$\n",
    "$$\\hat{y}^{(i)} = a^{(i)} = sigmoid(z^{(i)})\\tag{2}$$ \n",
    "$$ \\mathcal{L}(a^{(i)}, y^{(i)}) =  - y^{(i)}  \\log(a^{(i)}) - (1-y^{(i)} )  \\log(1-a^{(i)})\\tag{3}$$\n",
    "\n",
    "The cost is then computed by summing over all training examples:\n",
    "$$ J = \\frac{1}{m} \\sum_{i=1}^m \\mathcal{L}(a^{(i)}, y^{(i)})\\tag{6}$$\n",
    "\n",
    "**Key steps**:\n",
    "In this exercise, you will carry out the following steps: \n",
    "    - Initialize the parameters of the model\n",
    "    - Learn the parameters for the model by minimizing the cost  \n",
    "    - Use the learned parameters to make predictions (on the test set)\n",
    "    - Analyse the results and conclude"
   ]
  },
  {
   "cell_type": "markdown",
   "metadata": {},
   "source": [
    "## 4 - Building the parts of our algorithm ## \n",
    "\n",
    "The main steps for building a Neural Network are:\n",
    "1. Define the model structure (such as number of input features) \n",
    "2. Initialize the model's parameters\n",
    "3. Loop:\n",
    "    - Calculate current loss (forward propagation)\n",
    "    - Calculate current gradient (backward propagation)\n",
    "    - Update parameters (gradient descent)\n",
    "\n",
    "You often build 1-3 separately and integrate them into one function we call `model()`.\n",
    "\n",
    "### 4.1 - Helper functions\n",
    "\n",
    "**Exercise**: Using your code from \"Python Basics\", implement `sigmoid()`. As you've seen in the figure above, you need to compute $sigmoid( w^T x + b) = \\frac{1}{1 + e^{-(w^T x + b)}}$ to make predictions. Use np.exp()."
   ]
  },
  {
   "cell_type": "code",
   "execution_count": null,
   "metadata": {},
   "outputs": [],
   "source": [
    "# GRADED FUNCTION: sigmoid\n",
    "\n",
    "def sigmoid(z):\n",
    "    \"\"\"\n",
    "    Compute the sigmoid of z\n",
    "\n",
    "    Arguments:\n",
    "    z -- A scalar or numpy array of any size.\n",
    "\n",
    "    Return:\n",
    "    s -- sigmoid(z)\n",
    "    \"\"\"\n",
    "\n",
    "    ### START CODE HERE ### (≈ 1 line of code)\n",
    "    s = None\n",
    "    ### END CODE HERE ###\n",
    "    \n",
    "    return s"
   ]
  },
  {
   "cell_type": "code",
   "execution_count": null,
   "metadata": {
    "scrolled": true
   },
   "outputs": [],
   "source": [
    "print (\"sigmoid([0, 2]) = \" + str(sigmoid(np.array([0,2]))))"
   ]
  },
  {
   "cell_type": "markdown",
   "metadata": {},
   "source": [
    "**Expected Output**: \n",
    "\n",
    "<table>\n",
    "  <tr>\n",
    "    <td>**sigmoid([0, 2])**</td>\n",
    "    <td> [ 0.5         0.88079708]</td> \n",
    "  </tr>\n",
    "</table>"
   ]
  },
  {
   "cell_type": "markdown",
   "metadata": {},
   "source": [
    "### 4.2 - Initializing parameters\n",
    "\n",
    "**Exercise:** Implement parameter initialization in the cell below. You have to initialize w as a vector of zeros. If you don't know what numpy function to use, look up np.zeros() in the Numpy library's documentation."
   ]
  },
  {
   "cell_type": "code",
   "execution_count": null,
   "metadata": {},
   "outputs": [],
   "source": [
    "# GRADED FUNCTION: initialize_with_zeros\n",
    "\n",
    "def initialize_with_zeros(dim):\n",
    "    \"\"\"\n",
    "    This function creates a vector of zeros of shape (dim, 1) for w and initializes b to 0.\n",
    "    \n",
    "    Argument:\n",
    "    dim -- size of the w vector we want (or number of parameters in this case)\n",
    "    \n",
    "    Returns:\n",
    "    w -- initialized vector of shape (dim, 1)\n",
    "    b -- initialized scalar (corresponds to the bias)\n",
    "    \"\"\"\n",
    "    \n",
    "    ### START CODE HERE ### (≈ 1 line of code)\n",
    "    w = None\n",
    "    b = None\n",
    "    ### END CODE HERE ###\n",
    "\n",
    "    assert(w.shape == (dim, 1))\n",
    "    assert(isinstance(b, float) or isinstance(b, int))\n",
    "    \n",
    "    return w, b"
   ]
  },
  {
   "cell_type": "code",
   "execution_count": null,
   "metadata": {},
   "outputs": [],
   "source": [
    "dim = 2\n",
    "w, b = initialize_with_zeros(dim)\n",
    "print (\"w = \" + str(w))\n",
    "print (\"b = \" + str(b))"
   ]
  },
  {
   "cell_type": "markdown",
   "metadata": {},
   "source": [
    "**Expected Output**: \n",
    "\n",
    "\n",
    "<table style=\"width:15%\">\n",
    "    <tr>\n",
    "        <td>  ** w **  </td>\n",
    "        <td> [[ 0.]\n",
    " [ 0.]] </td>\n",
    "    </tr>\n",
    "    <tr>\n",
    "        <td>  ** b **  </td>\n",
    "        <td> 0 </td>\n",
    "    </tr>\n",
    "</table>\n",
    "\n",
    "For image inputs, w will be of shape (num_px $\\times$ num_px $\\times$ 3, 1)."
   ]
  },
  {
   "cell_type": "markdown",
   "metadata": {},
   "source": [
    "### 4.3 - Forward and Backward propagation\n",
    "\n",
    "Now that your parameters are initialized, you can do the \"forward\" and \"backward\" propagation steps for learning the parameters.\n",
    "\n",
    "**Exercise:** Implement a function `propagate()` that computes the cost function and its gradient.\n",
    "\n",
    "**Hints**:\n",
    "\n",
    "Forward Propagation:\n",
    "- You get X\n",
    "- You compute $A = \\sigma(w^T X + b) = (a^{(1)}, a^{(2)}, ..., a^{(m-1)}, a^{(m)})$\n",
    "- You calculate the cost function: $J = -\\frac{1}{m}\\sum_{i=1}^{m}y^{(i)}\\log(a^{(i)})+(1-y^{(i)})\\log(1-a^{(i)})$\n",
    "\n",
    "Here are the two formulas you will be using: \n",
    "\n",
    "$$ \\frac{\\partial J}{\\partial w} = \\frac{1}{m}X(A-Y)^T\\tag{7}$$\n",
    "$$ \\frac{\\partial J}{\\partial b} = \\frac{1}{m} \\sum_{i=1}^m (a^{(i)}-y^{(i)})\\tag{8}$$"
   ]
  },
  {
   "cell_type": "code",
   "execution_count": null,
   "metadata": {},
   "outputs": [],
   "source": [
    "# GRADED FUNCTION: propagate\n",
    "\n",
    "def propagate(w, b, X, Y):\n",
    "    \"\"\"\n",
    "    Implement the cost function and its gradient for the propagation explained above\n",
    "\n",
    "    Arguments:\n",
    "    w -- weights, a numpy array of size (num_px * num_px * 3, 1)\n",
    "    b -- bias, a scalar\n",
    "    X -- data of size (num_px * num_px * 3, number of examples)\n",
    "    Y -- true \"label\" vector (containing 0 if non-cat, 1 if cat) of size (1, number of examples)\n",
    "\n",
    "    Return:\n",
    "    cost -- negative log-likelihood cost for logistic regression\n",
    "    dw -- gradient of the loss with respect to w, thus same shape as w\n",
    "    db -- gradient of the loss with respect to b, thus same shape as b\n",
    "    \n",
    "    Tips:\n",
    "    - Write your code step by step for the propagation. np.log(), np.dot()\n",
    "    \"\"\"\n",
    "    \n",
    "    m = X.shape[1]\n",
    "    \n",
    "    # FORWARD PROPAGATION (FROM X TO COST)\n",
    "    ### START CODE HERE ### (≈ 2 lines of code)\n",
    "    A = None                                    # compute activation\n",
    "    cost = None                                 # compute cost\n",
    "    ### END CODE HERE ###\n",
    "    \n",
    "    # BACKWARD PROPAGATION (TO FIND GRAD)\n",
    "    ### START CODE HERE ### (≈ 2 lines of code)\n",
    "    dw = None\n",
    "    db = None\n",
    "    ### END CODE HERE ###\n",
    "\n",
    "    assert(dw.shape == w.shape)\n",
    "    assert(db.dtype == float)\n",
    "    cost = np.squeeze(cost)\n",
    "    assert(cost.shape == ())\n",
    "    \n",
    "    grads = {\"dw\": dw,\n",
    "             \"db\": db}\n",
    "    \n",
    "    return grads, cost"
   ]
  },
  {
   "cell_type": "code",
   "execution_count": null,
   "metadata": {},
   "outputs": [],
   "source": [
    "### YOUR CODE HERE (Calculate cost before optimization)(From Graded Quiz)"
   ]
  },
  {
   "cell_type": "markdown",
   "metadata": {},
   "source": [
    "### 4.4 - Optimization\n",
    "- You have initialized your parameters.\n",
    "- You are also able to compute a cost function and its gradient.\n",
    "- Now, you want to update the parameters using gradient descent.\n",
    "\n",
    "**Exercise:** Write down the optimization function. The goal is to learn $w$ and $b$ by minimizing the cost function $J$. For a parameter $\\theta$, the update rule is $ \\theta = \\theta - \\alpha \\text{ } d\\theta$, where $\\alpha$ is the learning rate."
   ]
  },
  {
   "cell_type": "code",
   "execution_count": null,
   "metadata": {},
   "outputs": [],
   "source": [
    "# GRADED FUNCTION: optimize\n",
    "\n",
    "def optimize(w, b, X, Y, num_iterations, learning_rate, print_cost = False):\n",
    "    \"\"\"\n",
    "    This function optimizes w and b by running a gradient descent algorithm\n",
    "    \n",
    "    Arguments:\n",
    "    w -- weights, a numpy array of size (num_px * num_px * 3, 1)\n",
    "    b -- bias, a scalar\n",
    "    X -- data of shape (num_px * num_px * 3, number of examples)\n",
    "    Y -- true \"label\" vector (containing 0 if non-cat, 1 if cat), of shape (1, number of examples)\n",
    "    num_iterations -- number of iterations of the optimization loop\n",
    "    learning_rate -- learning rate of the gradient descent update rule\n",
    "    print_cost -- True to print the loss every 100 steps\n",
    "    \n",
    "    Returns:\n",
    "    params -- dictionary containing the weights w and bias b\n",
    "    grads -- dictionary containing the gradients of the weights and bias with respect to the cost function\n",
    "    costs -- list of all the costs computed during the optimization, this will be used to plot the learning curve.\n",
    "    \n",
    "    Tips:\n",
    "    You basically need to write down two steps and iterate through them:\n",
    "        1) Calculate the cost and the gradient for the current parameters. Use propagate().\n",
    "        2) Update the parameters using gradient descent rule for w and b.\n",
    "    \"\"\"\n",
    "    \n",
    "    costs = []\n",
    "    \n",
    "    for i in range(num_iterations):\n",
    "        \n",
    "        \n",
    "        # Cost and gradient calculation (≈ 1-4 lines of code)\n",
    "        ### START CODE HERE ### \n",
    "        grads, cost = None\n",
    "        ### END CODE HERE ###\n",
    "        \n",
    "        # Retrieve derivatives from grads\n",
    "        dw = grads[\"dw\"]\n",
    "        db = grads[\"db\"]\n",
    "        \n",
    "        # update rule (≈ 2 lines of code)\n",
    "        ### START CODE HERE ###\n",
    "        w = None\n",
    "        b = None\n",
    "        ### END CODE HERE ###\n",
    "        \n",
    "        # Record the costs\n",
    "        if i % 100 == 0:\n",
    "            costs.append(cost)\n",
    "        \n",
    "        # Print the cost every 100 training iterations\n",
    "        if print_cost and i % 100 == 0:\n",
    "            print (\"Cost after iteration %i: %f\" %(i, cost))\n",
    "    \n",
    "    params = {\"w\": w,\n",
    "              \"b\": b}\n",
    "    \n",
    "    grads = {\"dw\": dw,\n",
    "             \"db\": db}\n",
    "    \n",
    "    return params, grads, costs"
   ]
  },
  {
   "cell_type": "code",
   "execution_count": null,
   "metadata": {},
   "outputs": [],
   "source": [
    "### YOUR CODE HERE (Calculate cost after optimization)(From Graded Quiz)"
   ]
  },
  {
   "cell_type": "markdown",
   "metadata": {},
   "source": [
    "**Exercise:** The previous function will output the learned w and b. We are able to use w and b to predict the labels for a dataset X. Implement the `predict()` function. There are two steps to computing predictions:\n",
    "\n",
    "1. Calculate $\\hat{Y} = A = \\sigma(w^T X + b)$\n",
    "\n",
    "2. Convert the entries of a into 0 (if activation <= 0.5) or 1 (if activation > 0.5), stores the predictions in a vector `Y_prediction`. If you wish, you can use an `if`/`else` statement in a `for` loop (though there is also a way to vectorize this). "
   ]
  },
  {
   "cell_type": "code",
   "execution_count": null,
   "metadata": {},
   "outputs": [],
   "source": [
    "# GRADED FUNCTION: predict\n",
    "\n",
    "def predict(w, b, X):\n",
    "    '''\n",
    "    Predict whether the label is 0 or 1 using learned logistic regression parameters (w, b)\n",
    "    \n",
    "    Arguments:\n",
    "    w -- weights, a numpy array of size (num_px * num_px * 3, 1)\n",
    "    b -- bias, a scalar\n",
    "    X -- data of size (num_px * num_px * 3, number of examples)\n",
    "    \n",
    "    Returns:\n",
    "    Y_prediction -- a numpy array (vector) containing all predictions (0/1) for the examples in X\n",
    "    '''\n",
    "    \n",
    "    m = X.shape[1]\n",
    "    Y_prediction = np.zeros((1,m))\n",
    "    w = w.reshape(X.shape[0], 1)\n",
    "    \n",
    "    # Compute vector \"A\" predicting the probabilities of a cat being present in the picture\n",
    "    ### START CODE HERE ### (≈ 1 line of code)\n",
    "    A = None\n",
    "    ### END CODE HERE ###\n",
    "    \n",
    "    for i in range(A.shape[1]):\n",
    "        \n",
    "        # Convert probabilities A[0,i] to actual predictions p[0,i]\n",
    "        ### START CODE HERE ### (≈ 4 lines of code)\n",
    "        pass\n",
    "        ### END CODE HERE ###\n",
    "    \n",
    "    assert(Y_prediction.shape == (1, m))\n",
    "    \n",
    "    return Y_prediction"
   ]
  },
  {
   "cell_type": "code",
   "execution_count": null,
   "metadata": {},
   "outputs": [],
   "source": [
    "### YOUR CODE HERE (For Prediction)(From Graded Quiz)"
   ]
  },
  {
   "cell_type": "markdown",
   "metadata": {},
   "source": [
    "<font color='blue'>\n",
    "**What to remember:**\n",
    "You've implemented several functions that:\n",
    "- Initialize (w,b)\n",
    "- Optimize the loss iteratively to learn parameters (w,b):\n",
    "    - computing the cost and its gradient \n",
    "    - updating the parameters using gradient descent\n",
    "- Use the learned (w,b) to predict the labels for a given set of examples"
   ]
  },
  {
   "cell_type": "markdown",
   "metadata": {},
   "source": [
    "## 5 - Merge all functions into a model ##\n",
    "\n",
    "You will now see how the overall model is structured by putting together all the building blocks (functions implemented in the previous parts) together, in the right order.\n",
    "\n",
    "**Exercise:** Implement the model function. Use the following notation:\n",
    "    - Y_prediction_test for your predictions on the test set\n",
    "    - Y_prediction_train for your predictions on the train set\n",
    "    - w, costs, grads for the outputs of optimize()"
   ]
  },
  {
   "cell_type": "code",
   "execution_count": null,
   "metadata": {},
   "outputs": [],
   "source": [
    "# GRADED FUNCTION: model\n",
    "\n",
    "def model(X_train, Y_train, X_test, Y_test, num_iterations = 2000, learning_rate = 0.5, print_cost = False):\n",
    "    \"\"\"\n",
    "    Builds the logistic regression model by calling the function you've implemented previously\n",
    "    \n",
    "    Arguments:\n",
    "    X_train -- training set represented by a numpy array of shape (num_px * num_px * 3, m_train)\n",
    "    Y_train -- training labels represented by a numpy array (vector) of shape (1, m_train)\n",
    "    X_test -- test set represented by a numpy array of shape (num_px * num_px * 3, m_test)\n",
    "    Y_test -- test labels represented by a numpy array (vector) of shape (1, m_test)\n",
    "    num_iterations -- hyperparameter representing the number of iterations to optimize the parameters\n",
    "    learning_rate -- hyperparameter representing the learning rate used in the update rule of optimize()\n",
    "    print_cost -- Set to true to print the cost every 100 iterations\n",
    "    \n",
    "    Returns:\n",
    "    d -- dictionary containing information about the model.\n",
    "    \"\"\"\n",
    "    \n",
    "    ### START CODE HERE ###\n",
    "    \n",
    "    # initialize parameters with zeros (≈ 1 line of code)\n",
    "    w, b = None\n",
    "\n",
    "    # Gradient descent (≈ 1 line of code)\n",
    "    parameters, grads, costs = None\n",
    "    \n",
    "    # Retrieve parameters w and b from dictionary \"parameters\"\n",
    "    w = parameters[\"w\"]\n",
    "    b = parameters[\"b\"]\n",
    "    \n",
    "    # Predict test/train set examples (≈ 2 lines of code)\n",
    "    Y_prediction_test = None\n",
    "    Y_prediction_train = None\n",
    "\n",
    "    ### END CODE HERE ###\n",
    "\n",
    "    # Print train/test Errors\n",
    "    print(\"train accuracy: {} %\".format(100 - np.mean(np.abs(Y_prediction_train - Y_train)) * 100))\n",
    "    print(\"test accuracy: {} %\".format(100 - np.mean(np.abs(Y_prediction_test - Y_test)) * 100))\n",
    "\n",
    "    \n",
    "    d = {\"costs\": costs,\n",
    "         \"Y_prediction_test\": Y_prediction_test, \n",
    "         \"Y_prediction_train\" : Y_prediction_train, \n",
    "         \"w\" : w, \n",
    "         \"b\" : b,\n",
    "         \"learning_rate\" : learning_rate,\n",
    "         \"num_iterations\": num_iterations}\n",
    "    \n",
    "    return d"
   ]
  },
  {
   "cell_type": "code",
   "execution_count": null,
   "metadata": {},
   "outputs": [],
   "source": [
    "### YOUR CODE HERE (Calculating Training and Test Accuracy)(From Graded quiz)\n",
    "# Initialize with variable \"d\", which will be used in further cells\n",
    "# d = model() "
   ]
  },
  {
   "cell_type": "code",
   "execution_count": null,
   "metadata": {},
   "outputs": [],
   "source": [
    "# Example of a picture that was wrongly classified.\n",
    "index = 1\n",
    "plt.imshow(test_set_x[:,index].reshape((num_px, num_px, 3)))\n",
    "print (\"y = \" + str(test_set_y[0,index]) + \", you predicted that it is a \\\"\" + classes[int(d[\"Y_prediction_test\"][0,index])].decode(\"utf-8\") +  \"\\\" picture.\")"
   ]
  },
  {
   "cell_type": "markdown",
   "metadata": {},
   "source": [
    "Let's also plot the cost function and the gradients."
   ]
  },
  {
   "cell_type": "code",
   "execution_count": null,
   "metadata": {},
   "outputs": [],
   "source": [
    "# Plot learning curve (with costs)\n",
    "costs = np.squeeze(d['costs'])\n",
    "plt.plot(costs)\n",
    "plt.ylabel('cost')\n",
    "plt.xlabel('iterations (per hundreds)')\n",
    "plt.title(\"Learning rate =\" + str(d[\"learning_rate\"]))\n",
    "plt.show()"
   ]
  },
  {
   "cell_type": "markdown",
   "metadata": {},
   "source": [
    "**Interpretation**:\n",
    "You can see the cost decreasing. It shows that the parameters are being learned. However, you see that you could train the model even more on the training set. Try to increase the number of iterations in the cell above and rerun the cells. You might see that the training set accuracy goes up, but the test set accuracy goes down. This is called overfitting. "
   ]
  },
  {
   "cell_type": "markdown",
   "metadata": {},
   "source": [
    "## 6 - Further analysis (optional/ungraded exercise) ##\n",
    "\n",
    "Congratulations on building your first image classification model. Let's analyze it further, and examine possible choices for the learning rate $\\alpha$. "
   ]
  },
  {
   "cell_type": "markdown",
   "metadata": {},
   "source": [
    "#### Choice of learning rate ####\n",
    "\n",
    "**Reminder**:\n",
    "In order for Gradient Descent to work you must choose the learning rate wisely. The learning rate $\\alpha$  determines how rapidly we update the parameters. If the learning rate is too large we may \"overshoot\" the optimal value. Similarly, if it is too small we will need too many iterations to converge to the best values. That's why it is crucial to use a well-tuned learning rate.\n",
    "\n",
    "Let's compare the learning curve of our model with several choices of learning rates. Run the cell below. This should take about 1 minute. Feel free also to try different values than the three we have initialized the `learning_rates` variable to contain, and see what happens. "
   ]
  },
  {
   "cell_type": "code",
   "execution_count": null,
   "metadata": {},
   "outputs": [],
   "source": [
    "learning_rates = [0.01, 0.001, 0.0001]\n",
    "models = {}\n",
    "for i in learning_rates:\n",
    "    print (\"learning rate is: \" + str(i))\n",
    "    models[str(i)] = model(train_set_x, train_set_y, test_set_x, test_set_y, num_iterations = 1500, learning_rate = i, print_cost = False)\n",
    "    print ('\\n' + \"-------------------------------------------------------\" + '\\n')\n",
    "\n",
    "for i in learning_rates:\n",
    "    plt.plot(np.squeeze(models[str(i)][\"costs\"]), label= str(models[str(i)][\"learning_rate\"]))\n",
    "\n",
    "plt.ylabel('cost')\n",
    "plt.xlabel('iterations (hundreds)')\n",
    "\n",
    "legend = plt.legend(loc='upper center', shadow=True)\n",
    "frame = legend.get_frame()\n",
    "frame.set_facecolor('0.90')\n",
    "plt.show()"
   ]
  },
  {
   "cell_type": "markdown",
   "metadata": {},
   "source": [
    "**Interpretation**: \n",
    "- Different learning rates give different costs and thus different predictions results.\n",
    "- If the learning rate is too large (0.01), the cost may oscillate up and down. It may even diverge (though in this example, using 0.01 still eventually ends up at a good value for the cost). \n",
    "- A lower cost doesn't mean a better model. You have to check if there is possibly overfitting. It happens when the training accuracy is a lot higher than the test accuracy.\n",
    "- In deep learning, we usually recommend that you: \n",
    "    - Choose the learning rate that better minimizes the cost function.\n",
    "    - If your model overfits, use other techniques to reduce overfitting. (We'll talk about this in later videos.) \n"
   ]
  },
  {
   "cell_type": "markdown",
   "metadata": {},
   "source": [
    "## 7 - Test with your own image (optional/ungraded exercise) ##\n",
    "\n",
    "Congratulations on finishing this assignment. You can use your own image and see the output of your model. To do that:\n",
    "    1. Click on \"File\" in the upper bar of this notebook, then click \"Open\" to go on your Coursera Hub.\n",
    "    2. Add your image to this Jupyter Notebook's directory, in the \"images\" folder\n",
    "    3. Change your image's name in the following code\n",
    "    4. Run the code and check if the algorithm is right (1 = cat, 0 = non-cat)!"
   ]
  },
  {
   "cell_type": "code",
   "execution_count": null,
   "metadata": {
    "scrolled": false
   },
   "outputs": [],
   "source": [
    "## START CODE HERE ## (PUT YOUR IMAGE NAME) \n",
    "my_image = \"my_image.jpg\"   # change this to the name of your image file \n",
    "## END CODE HERE ##\n",
    "\n",
    "# We preprocess the image to fit your algorithm.\n",
    "fname = \"images/\" + my_image\n",
    "image = np.array(ndimage.imread(fname, flatten=False))\n",
    "image = image/255.\n",
    "my_image = scipy.misc.imresize(image, size=(num_px,num_px)).reshape((1, num_px*num_px*3)).T\n",
    "my_predicted_image = predict(d[\"w\"], d[\"b\"], my_image)\n",
    "\n",
    "plt.imshow(image)\n",
    "print(\"y = \" + str(np.squeeze(my_predicted_image)) + \", your algorithm predicts a \\\"\" + classes[int(np.squeeze(my_predicted_image)),].decode(\"utf-8\") +  \"\\\" picture.\")"
   ]
  },
  {
   "cell_type": "markdown",
   "metadata": {},
   "source": [
    "<font color='blue'>\n",
    "**What to remember from this assignment:**\n",
    "1. Preprocessing the dataset is important.\n",
    "2. You implemented each function separately: initialize(), propagate(), optimize(). Then you built a model().\n",
    "3. Tuning the learning rate (which is an example of a \"hyperparameter\") can make a big difference to the algorithm. You will see more examples of this later in this course!"
   ]
  },
  {
   "cell_type": "markdown",
   "metadata": {},
   "source": [
    "Finally, if you'd like, we invite you to try different things on this Notebook. Make sure you submit before trying anything. Once you submit, things you can play with include:\n",
    "    - Play with the learning rate and the number of iterations\n",
    "    - Try different initialization methods and compare the results\n",
    "    - Test other preprocessings (center the data, or divide each row by its standard deviation)"
   ]
  },
  {
   "cell_type": "markdown",
   "metadata": {},
   "source": [
    "Bibliography:\n",
    "- http://www.wildml.com/2015/09/implementing-a-neural-network-from-scratch/\n",
    "- https://stats.stackexchange.com/questions/211436/why-do-we-normalize-images-by-subtracting-the-datasets-image-mean-and-not-the-c"
   ]
  }
 ],
 "metadata": {
  "coursera": {
   "course_slug": "neural-networks-deep-learning",
   "graded_item_id": "XaIWT",
   "launcher_item_id": "zAgPl"
  },
  "kernelspec": {
   "name": "venv",
   "display_name": "Python 3.9.4 64-bit"
  },
  "language_info": {
   "codemirror_mode": {
    "name": "ipython",
    "version": 3
   },
   "file_extension": ".py",
   "mimetype": "text/x-python",
   "name": "python",
   "nbconvert_exporter": "python",
   "pygments_lexer": "ipython3",
   "version": "3.9.4"
  },
  "interpreter": {
   "hash": "380030d1298d5a27518acca789ff38fe82bbf2e68b73263de6a6bf23efb7704c"
  }
 },
 "nbformat": 4,
 "nbformat_minor": 2
}