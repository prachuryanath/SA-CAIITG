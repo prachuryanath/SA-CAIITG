{
  "nbformat": 4,
  "nbformat_minor": 0,
  "metadata": {
    "kernelspec": {
      "name": "venv",
      "display_name": "Python 3.9.4 64-bit"
    },
    "language_info": {
      "codemirror_mode": {
        "name": "ipython",
        "version": 3
      },
      "file_extension": ".py",
      "mimetype": "text/x-python",
      "name": "python",
      "nbconvert_exporter": "python",
      "pygments_lexer": "ipython3",
      "version": "3.9.4"
    },
    "colab": {
      "name": "SA2021_W3.ipynb",
      "provenance": []
    }
  },
  "cells": [
    {
      "cell_type": "markdown",
      "metadata": {
        "id": "XU2nvCxTvpar"
      },
      "source": [
        "<br>\n",
        "<h1 style = \"font-size:40px; font-family:monospace ; font-weight : bold; color : #3C0096; text-align: center; border-radius: 5px 25px;\">SA-2021 Week 3 Graded Assignment</h1>\n",
        "<br>"
      ]
    },
    {
      "cell_type": "markdown",
      "metadata": {
        "id": "vziCwtYSvpav"
      },
      "source": [
        "<br>\n",
        "<h1 style = \"font-size:30px; font-family:monospace ; font-weight : bold; color : #AE0052; text-align: center; border-radius: 10px 10px;\">☔Rain Prediction in Australia☔</h1>\n",
        "<br>"
      ]
    },
    {
      "cell_type": "markdown",
      "metadata": {
        "id": "qrhh_RHuvpav"
      },
      "source": [
        "![](https://media0.giphy.com/media/tkMeNtj9FQYx2/giphy.gif)"
      ]
    },
    {
      "cell_type": "markdown",
      "metadata": {
        "id": "mRQUWnirvpaw"
      },
      "source": [
        "<span style=\"font-size:20px;color:#0026D8;font-weight : bold\">Dataset Description:</span>\n",
        "\n",
        "**This dataset contains daily weather observations from numerous Australian weather stations.**\n",
        "- **Date** - The date of observation<br>\n",
        "- **Location** - The common name of the location of the weather station<br>\n",
        "- **MinTemp** - The minimum temperature in degrees celsius<br>\n",
        "- **MaxTemp** - The maximum temperature in degrees celsius<br>\n",
        "- **Rainfall** - The amount of rainfall recorded for the day in mm<br>\n",
        "- **Evaporation** - The so-called Class A pan evaporation (mm) in the 24 hours to 9am<br>\n",
        "- **Sunshine** - The number of hours of bright sunshine in the day.<br>\n",
        "- **WindGustDir** - The direction of the strongest wind gust in the 24 hours to midnight<br>\n",
        "- **WindGustSpeed** - The speed (km/h) of the strongest wind gust in the 24 hours to midnight<br>\n",
        "- **WindDir9am** - Direction of the wind at 9am<br>\n",
        "- **WindDir3pm** - Direction of the wind at 3pm<br>\n",
        "- **WindSpeed9am** - Wind speed (km/hr) averaged over 10 minutes prior to 9am<br>\n",
        "- **WindSpeed3pm** - Wind speed (km/hr) averaged over 10 minutes prior to 3pm<br>\n",
        "- **Humidity9am** - Humidity (percent) at 9am<br>\n",
        "- **Humidity3pm** - Humidity (percent) at 3pm<br>\n",
        "- **Pressure9am** - Atmospheric pressure (hpa) reduced to mean sea level at 9am<br>\n",
        "- **Pressure3pm** - Atmospheric pressure (hpa) reduced to mean sea level at 3pm<br>\n",
        "- **Cloud9am** - Fraction of sky obscured by cloud at 9am. This is measured in \"oktas\", which are a unit of                    eigths. It records how many eigths of the sky are obscured by cloud. A 0 measure indicates                    completely clear sky whilst an 8 indicates that it is completely overcast.<br>\n",
        "- **Cloud3pm** - Fraction of sky obscured by cloud (in \"oktas\": eighths) at 3pm. See Cload9am for a description                of the values<br>\n",
        "- **Temp9am** - Temperature (degrees C) at 9am<br>\n",
        "- **Temp3pm** - Temperature (degrees C) at 3pm<br>\n",
        "- **RainToday** - Boolean: 1 if precipitation (mm) in the 24 hours to 9am exceeds 1mm, otherwise 0<br>\n",
        "- **RainTomorrow** - The target variable. Will it rain tomorrow?"
      ]
    },
    {
      "cell_type": "markdown",
      "metadata": {
        "id": "rsH1_6fPvpaw"
      },
      "source": [
        "### It is highly recommended to read the documentation before implementing any alogorithm."
      ]
    },
    {
      "cell_type": "markdown",
      "metadata": {
        "id": "tEcIZ5qdvpax"
      },
      "source": [
        "- **Logistic Regression** : https://scikit-learn.org/stable/modules/generated/sklearn.linear_model.LogisticRegression.html <br>\n",
        "- **SVM** : https://scikit-learn.org/stable/modules/svm.html <br>\n",
        "- **Confusion Matrix** : https://scikit-learn.org/stable/modules/generated/sklearn.metrics.confusion_matrix.html <br>\n",
        "- **Plot Confusion Matrix** : https://scikit-learn.org/stable/modules/generated/sklearn.metrics.plot_confusion_matrix.html <br>\n",
        "- **ROC_AUC Score** : https://scikit-learn.org/stable/modules/generated/sklearn.metrics.roc_auc_score.html#sklearn.metrics.roc_auc_score <br>\n",
        "- **Classification Report** : https://scikit-learn.org/stable/modules/generated/sklearn.metrics.classification_report.html <br>\n",
        "- **Label Encoder** : https://scikit-learn.org/stable/modules/generated/sklearn.preprocessing.LabelEncoder.html <br>\n",
        "- **Label Binarizer** : https://scikit-learn.org/stable/modules/generated/sklearn.preprocessing.LabelBinarizer.html <br>\n",
        "- **Standard Scaler** : https://scikit-learn.org/stable/modules/generated/sklearn.preprocessing.StandardScaler.html <br>\n",
        "- **Cross Val Score** : https://scikit-learn.org/stable/modules/generated/sklearn.model_selection.cross_val_score.html <br>\n",
        "\n"
      ]
    },
    {
      "cell_type": "code",
      "metadata": {
        "id": "1_Q5m8Xmvpax",
        "outputId": "1acb512f-6742-4e5b-e337-aca067972937"
      },
      "source": [
        "## ======== Run this Cell as it is======== ##\n",
        "\n",
        "from IPython.display import HTML\n",
        "HTML(\"\"\"\n",
        "<style>\n",
        "h1,h2,h3 {\n",
        "\tmargin: 1em 0 0.5em 0;\n",
        "\tfont-weight: 600;\n",
        "\tfont-family: 'Titillium Web', sans-serif;\n",
        "\tposition: relative;  \n",
        "\tfont-size: 36px;\n",
        "\tline-height: 40px;\n",
        "\tpadding: 15px 15px 15px 2.5%;\n",
        "\tcolor: #13003A;\n",
        "\tbox-shadow: \n",
        "\t\tinset 0 0 0 1px rgba(53,86,129, 1), \n",
        "\t\tinset 0 0 5px rgba(53,86,129, 1),\n",
        "\t\tinset -285px 0 35px white;\n",
        "\tborder-radius: 0 10px 0 15px;\n",
        "\tbackground: #fff\n",
        "    \n",
        "}\n",
        "</style>\n",
        "\"\"\")\n",
        "\n",
        "\n",
        "## ================================ ##"
      ],
      "execution_count": 1,
      "outputs": [
        {
          "output_type": "execute_result",
          "data": {
            "text/plain": [
              "<IPython.core.display.HTML object>"
            ],
            "text/html": "\n<style>\nh1,h2,h3 {\n\tmargin: 1em 0 0.5em 0;\n\tfont-weight: 600;\n\tfont-family: 'Titillium Web', sans-serif;\n\tposition: relative;  \n\tfont-size: 36px;\n\tline-height: 40px;\n\tpadding: 15px 15px 15px 2.5%;\n\tcolor: #13003A;\n\tbox-shadow: \n\t\tinset 0 0 0 1px rgba(53,86,129, 1), \n\t\tinset 0 0 5px rgba(53,86,129, 1),\n\t\tinset -285px 0 35px white;\n\tborder-radius: 0 10px 0 15px;\n\tbackground: #fff\n    \n}\n</style>\n"
          },
          "metadata": {},
          "execution_count": 1
        }
      ]
    },
    {
      "cell_type": "markdown",
      "metadata": {
        "id": "tQG2K5CQvpaz"
      },
      "source": [
        "<h1 style=\"background-color:#ABFF9B;font-size:20px;color:#00033E;font-weight : bold\">✅ Importing Required Libraries</h1>"
      ]
    },
    {
      "cell_type": "code",
      "metadata": {
        "id": "DHyUvB8tvpa0"
      },
      "source": [
        "## ======== YOUR CODE HERE ======== ##\n",
        "\n",
        "## Import numpy, pandas, matplotlib, seaborn\n",
        "import numpy as np\n",
        "import pandas as pd\n",
        "import matplotlib.pyplot as plt\n",
        "import seaborn as sns\n",
        "## Import Logistic regression and SVC\n",
        "from sklearn.linear_model import LogisticRegression\n",
        "from sklearn.svm import SVC\n",
        "\n",
        "## Import Confusion matrix, plot confusion matrix, classification report, accuracy score, auc-roc score and roc curve\n",
        "from sklearn.metrics import confusion_matrix, classification_report, roc_auc_score, roc_curve, accuracy_score, plot_confusion_matrix\n",
        "\n",
        "## Import Label encoder, label binarizer and Standard Scaler\n",
        "from sklearn.preprocessing import LabelEncoder, LabelBinarizer, StandardScaler\n",
        "\n",
        "## ================================ ##\n",
        "\n",
        "from sklearn.model_selection import train_test_split\n",
        "from sklearn.model_selection import cross_val_score\n",
        "import warnings\n",
        "warnings.filterwarnings(\"ignore\")"
      ],
      "execution_count": 2,
      "outputs": []
    },
    {
      "cell_type": "markdown",
      "metadata": {
        "id": "r-tHNg8qvpa0"
      },
      "source": [
        "<h1 style=\"background-color:#ABFF9B;font-size:20px;color:#00033E;font-weight : bold\">Read the data </h1>"
      ]
    },
    {
      "cell_type": "code",
      "metadata": {
        "id": "m-owrU7vvpa0"
      },
      "source": [
        "## ======== YOUR CODE HERE ======== ##\n",
        "data = pd.read_csv('SA2021_W3_Data.csv')\n",
        "## ================================ ##"
      ],
      "execution_count": 3,
      "outputs": []
    },
    {
      "cell_type": "code",
      "metadata": {
        "id": "mxownAh7vpa1"
      },
      "source": [
        "## Check the shape of data. It should be (24196,23)\n",
        "\n",
        "## ======== YOUR CODE HERE ======== ##\n",
        "data.shape\n",
        "## ================================ ##"
      ],
      "execution_count": 4,
      "outputs": [
        {
          "output_type": "execute_result",
          "data": {
            "text/plain": [
              "(24196, 23)"
            ]
          },
          "metadata": {},
          "execution_count": 4
        }
      ]
    },
    {
      "cell_type": "code",
      "execution_count": 10,
      "metadata": {},
      "outputs": [
        {
          "output_type": "execute_result",
          "data": {
            "text/plain": [
              "   Date  Location  MinTemp  MaxTemp  Rainfall  Evaporation  Sunshine  \\\n",
              "0  2856        11     18.3     35.4       0.0         10.7       8.2   \n",
              "1   575         0     12.0     21.1       0.0          2.4       4.9   \n",
              "2  2037         6     11.9     17.0       1.6          5.6       0.8   \n",
              "3  2010        19      1.3     10.2       4.2          2.6       4.4   \n",
              "4  2895        18     23.7     31.5       0.0         11.0      12.1   \n",
              "\n",
              "   WindGustDir  WindGustSpeed  WindDir9am  ...  Humidity9am  Humidity3pm  \\\n",
              "0           15             31           0  ...           17           14   \n",
              "1           11             22          15  ...           70           60   \n",
              "2            5             48           4  ...           71           88   \n",
              "3           15             33          15  ...           87           64   \n",
              "4            4             35           2  ...           53           50   \n",
              "\n",
              "   Pressure9am  Pressure3pm  Cloud9am  Cloud3pm  Temp9am  Temp3pm  RainToday  \\\n",
              "0       1012.8       1010.7         3         7     26.3     34.0          0   \n",
              "1       1022.3       1020.2         2         7     16.2     19.4          0   \n",
              "2       1008.4       1004.7         7         7     14.6     13.3          1   \n",
              "3       1018.4       1016.8         7         7      3.8      8.5          1   \n",
              "4       1014.2       1010.2         3         1     29.1     30.4          0   \n",
              "\n",
              "   RainTomorrow  \n",
              "0             1  \n",
              "1             0  \n",
              "2             1  \n",
              "3             0  \n",
              "4             0  \n",
              "\n",
              "[5 rows x 23 columns]"
            ],
            "text/html": "<div>\n<style scoped>\n    .dataframe tbody tr th:only-of-type {\n        vertical-align: middle;\n    }\n\n    .dataframe tbody tr th {\n        vertical-align: top;\n    }\n\n    .dataframe thead th {\n        text-align: right;\n    }\n</style>\n<table border=\"1\" class=\"dataframe\">\n  <thead>\n    <tr style=\"text-align: right;\">\n      <th></th>\n      <th>Date</th>\n      <th>Location</th>\n      <th>MinTemp</th>\n      <th>MaxTemp</th>\n      <th>Rainfall</th>\n      <th>Evaporation</th>\n      <th>Sunshine</th>\n      <th>WindGustDir</th>\n      <th>WindGustSpeed</th>\n      <th>WindDir9am</th>\n      <th>...</th>\n      <th>Humidity9am</th>\n      <th>Humidity3pm</th>\n      <th>Pressure9am</th>\n      <th>Pressure3pm</th>\n      <th>Cloud9am</th>\n      <th>Cloud3pm</th>\n      <th>Temp9am</th>\n      <th>Temp3pm</th>\n      <th>RainToday</th>\n      <th>RainTomorrow</th>\n    </tr>\n  </thead>\n  <tbody>\n    <tr>\n      <th>0</th>\n      <td>2856</td>\n      <td>11</td>\n      <td>18.3</td>\n      <td>35.4</td>\n      <td>0.0</td>\n      <td>10.7</td>\n      <td>8.2</td>\n      <td>15</td>\n      <td>31</td>\n      <td>0</td>\n      <td>...</td>\n      <td>17</td>\n      <td>14</td>\n      <td>1012.8</td>\n      <td>1010.7</td>\n      <td>3</td>\n      <td>7</td>\n      <td>26.3</td>\n      <td>34.0</td>\n      <td>0</td>\n      <td>1</td>\n    </tr>\n    <tr>\n      <th>1</th>\n      <td>575</td>\n      <td>0</td>\n      <td>12.0</td>\n      <td>21.1</td>\n      <td>0.0</td>\n      <td>2.4</td>\n      <td>4.9</td>\n      <td>11</td>\n      <td>22</td>\n      <td>15</td>\n      <td>...</td>\n      <td>70</td>\n      <td>60</td>\n      <td>1022.3</td>\n      <td>1020.2</td>\n      <td>2</td>\n      <td>7</td>\n      <td>16.2</td>\n      <td>19.4</td>\n      <td>0</td>\n      <td>0</td>\n    </tr>\n    <tr>\n      <th>2</th>\n      <td>2037</td>\n      <td>6</td>\n      <td>11.9</td>\n      <td>17.0</td>\n      <td>1.6</td>\n      <td>5.6</td>\n      <td>0.8</td>\n      <td>5</td>\n      <td>48</td>\n      <td>4</td>\n      <td>...</td>\n      <td>71</td>\n      <td>88</td>\n      <td>1008.4</td>\n      <td>1004.7</td>\n      <td>7</td>\n      <td>7</td>\n      <td>14.6</td>\n      <td>13.3</td>\n      <td>1</td>\n      <td>1</td>\n    </tr>\n    <tr>\n      <th>3</th>\n      <td>2010</td>\n      <td>19</td>\n      <td>1.3</td>\n      <td>10.2</td>\n      <td>4.2</td>\n      <td>2.6</td>\n      <td>4.4</td>\n      <td>15</td>\n      <td>33</td>\n      <td>15</td>\n      <td>...</td>\n      <td>87</td>\n      <td>64</td>\n      <td>1018.4</td>\n      <td>1016.8</td>\n      <td>7</td>\n      <td>7</td>\n      <td>3.8</td>\n      <td>8.5</td>\n      <td>1</td>\n      <td>0</td>\n    </tr>\n    <tr>\n      <th>4</th>\n      <td>2895</td>\n      <td>18</td>\n      <td>23.7</td>\n      <td>31.5</td>\n      <td>0.0</td>\n      <td>11.0</td>\n      <td>12.1</td>\n      <td>4</td>\n      <td>35</td>\n      <td>2</td>\n      <td>...</td>\n      <td>53</td>\n      <td>50</td>\n      <td>1014.2</td>\n      <td>1010.2</td>\n      <td>3</td>\n      <td>1</td>\n      <td>29.1</td>\n      <td>30.4</td>\n      <td>0</td>\n      <td>0</td>\n    </tr>\n  </tbody>\n</table>\n<p>5 rows × 23 columns</p>\n</div>"
          },
          "metadata": {},
          "execution_count": 10
        }
      ],
      "source": [
        "data.head()"
      ]
    },
    {
      "cell_type": "code",
      "metadata": {
        "id": "sMBhA4H3vpa1"
      },
      "source": [
        "## Apply describe on dataframe\n",
        "\n",
        "## ======== YOUR CODE HERE ======== ##\n",
        "data.describe()\n",
        "## ================================ ##"
      ],
      "execution_count": 5,
      "outputs": [
        {
          "output_type": "execute_result",
          "data": {
            "text/plain": [
              "               Date      Location       MinTemp       MaxTemp      Rainfall  \\\n",
              "count  24196.000000  24196.000000  24196.000000  24196.000000  24196.000000   \n",
              "mean    1702.554430     11.126880     13.281232     23.124078      3.008857   \n",
              "std      837.645705      6.397324      6.084032      6.681013      8.399269   \n",
              "min        0.000000      0.000000     -4.700000      4.100000      0.000000   \n",
              "25%      984.000000      6.000000      8.600000     17.900000      0.000000   \n",
              "50%     1651.000000     11.000000     13.100000     22.700000      0.000000   \n",
              "75%     2381.000000     17.000000     18.000000     28.100000      1.800000   \n",
              "max     3415.000000     22.000000     31.400000     46.800000    206.200000   \n",
              "\n",
              "        Evaporation      Sunshine   WindGustDir  WindGustSpeed    WindDir9am  \\\n",
              "count  24196.000000  24196.000000  24196.000000   24196.000000  24196.000000   \n",
              "mean       5.114329      6.700591      7.752273      42.371880      7.315424   \n",
              "std        3.549384      3.958287      4.788052      14.221336      4.634019   \n",
              "min        0.000000      0.000000      0.000000       9.000000      0.000000   \n",
              "25%        2.400000      3.400000      3.000000      31.000000      3.000000   \n",
              "50%        4.400000      7.200000      8.000000      41.000000      7.000000   \n",
              "75%        7.000000     10.000000     12.000000      50.000000     11.000000   \n",
              "max       59.800000     14.500000     15.000000     122.000000     15.000000   \n",
              "\n",
              "       ...   Humidity9am   Humidity3pm   Pressure9am   Pressure3pm  \\\n",
              "count  ...  24196.000000  24196.000000  24196.000000  24196.000000   \n",
              "mean   ...     69.505621     55.335345   1016.774682   1014.508518   \n",
              "std    ...     17.671186     20.907040      6.987625      6.877345   \n",
              "min    ...      3.000000      0.000000    980.500000    979.000000   \n",
              "25%    ...     58.000000     41.000000   1012.200000   1009.900000   \n",
              "50%    ...     70.000000     56.000000   1016.800000   1014.400000   \n",
              "75%    ...     83.000000     70.000000   1021.400000   1019.000000   \n",
              "max    ...    100.000000    100.000000   1040.200000   1037.000000   \n",
              "\n",
              "           Cloud9am      Cloud3pm       Temp9am       Temp3pm     RainToday  \\\n",
              "count  24196.000000  24196.000000  24196.000000  24196.000000  24196.000000   \n",
              "mean       4.767152      4.926682     17.609216     21.493420      0.293396   \n",
              "std        2.741416      2.586083      6.189396      6.535474      0.455328   \n",
              "min        0.000000      0.000000     -0.700000      3.700000      0.000000   \n",
              "25%        2.000000      3.000000     12.700000     16.500000      0.000000   \n",
              "50%        6.000000      6.000000     17.300000     21.100000      0.000000   \n",
              "75%        7.000000      7.000000     22.300000     26.200000      1.000000   \n",
              "max        8.000000      9.000000     39.400000     46.100000      1.000000   \n",
              "\n",
              "       RainTomorrow  \n",
              "count  24196.000000  \n",
              "mean       0.453918  \n",
              "std        0.497882  \n",
              "min        0.000000  \n",
              "25%        0.000000  \n",
              "50%        0.000000  \n",
              "75%        1.000000  \n",
              "max        1.000000  \n",
              "\n",
              "[8 rows x 23 columns]"
            ],
            "text/html": "<div>\n<style scoped>\n    .dataframe tbody tr th:only-of-type {\n        vertical-align: middle;\n    }\n\n    .dataframe tbody tr th {\n        vertical-align: top;\n    }\n\n    .dataframe thead th {\n        text-align: right;\n    }\n</style>\n<table border=\"1\" class=\"dataframe\">\n  <thead>\n    <tr style=\"text-align: right;\">\n      <th></th>\n      <th>Date</th>\n      <th>Location</th>\n      <th>MinTemp</th>\n      <th>MaxTemp</th>\n      <th>Rainfall</th>\n      <th>Evaporation</th>\n      <th>Sunshine</th>\n      <th>WindGustDir</th>\n      <th>WindGustSpeed</th>\n      <th>WindDir9am</th>\n      <th>...</th>\n      <th>Humidity9am</th>\n      <th>Humidity3pm</th>\n      <th>Pressure9am</th>\n      <th>Pressure3pm</th>\n      <th>Cloud9am</th>\n      <th>Cloud3pm</th>\n      <th>Temp9am</th>\n      <th>Temp3pm</th>\n      <th>RainToday</th>\n      <th>RainTomorrow</th>\n    </tr>\n  </thead>\n  <tbody>\n    <tr>\n      <th>count</th>\n      <td>24196.000000</td>\n      <td>24196.000000</td>\n      <td>24196.000000</td>\n      <td>24196.000000</td>\n      <td>24196.000000</td>\n      <td>24196.000000</td>\n      <td>24196.000000</td>\n      <td>24196.000000</td>\n      <td>24196.000000</td>\n      <td>24196.000000</td>\n      <td>...</td>\n      <td>24196.000000</td>\n      <td>24196.000000</td>\n      <td>24196.000000</td>\n      <td>24196.000000</td>\n      <td>24196.000000</td>\n      <td>24196.000000</td>\n      <td>24196.000000</td>\n      <td>24196.000000</td>\n      <td>24196.000000</td>\n      <td>24196.000000</td>\n    </tr>\n    <tr>\n      <th>mean</th>\n      <td>1702.554430</td>\n      <td>11.126880</td>\n      <td>13.281232</td>\n      <td>23.124078</td>\n      <td>3.008857</td>\n      <td>5.114329</td>\n      <td>6.700591</td>\n      <td>7.752273</td>\n      <td>42.371880</td>\n      <td>7.315424</td>\n      <td>...</td>\n      <td>69.505621</td>\n      <td>55.335345</td>\n      <td>1016.774682</td>\n      <td>1014.508518</td>\n      <td>4.767152</td>\n      <td>4.926682</td>\n      <td>17.609216</td>\n      <td>21.493420</td>\n      <td>0.293396</td>\n      <td>0.453918</td>\n    </tr>\n    <tr>\n      <th>std</th>\n      <td>837.645705</td>\n      <td>6.397324</td>\n      <td>6.084032</td>\n      <td>6.681013</td>\n      <td>8.399269</td>\n      <td>3.549384</td>\n      <td>3.958287</td>\n      <td>4.788052</td>\n      <td>14.221336</td>\n      <td>4.634019</td>\n      <td>...</td>\n      <td>17.671186</td>\n      <td>20.907040</td>\n      <td>6.987625</td>\n      <td>6.877345</td>\n      <td>2.741416</td>\n      <td>2.586083</td>\n      <td>6.189396</td>\n      <td>6.535474</td>\n      <td>0.455328</td>\n      <td>0.497882</td>\n    </tr>\n    <tr>\n      <th>min</th>\n      <td>0.000000</td>\n      <td>0.000000</td>\n      <td>-4.700000</td>\n      <td>4.100000</td>\n      <td>0.000000</td>\n      <td>0.000000</td>\n      <td>0.000000</td>\n      <td>0.000000</td>\n      <td>9.000000</td>\n      <td>0.000000</td>\n      <td>...</td>\n      <td>3.000000</td>\n      <td>0.000000</td>\n      <td>980.500000</td>\n      <td>979.000000</td>\n      <td>0.000000</td>\n      <td>0.000000</td>\n      <td>-0.700000</td>\n      <td>3.700000</td>\n      <td>0.000000</td>\n      <td>0.000000</td>\n    </tr>\n    <tr>\n      <th>25%</th>\n      <td>984.000000</td>\n      <td>6.000000</td>\n      <td>8.600000</td>\n      <td>17.900000</td>\n      <td>0.000000</td>\n      <td>2.400000</td>\n      <td>3.400000</td>\n      <td>3.000000</td>\n      <td>31.000000</td>\n      <td>3.000000</td>\n      <td>...</td>\n      <td>58.000000</td>\n      <td>41.000000</td>\n      <td>1012.200000</td>\n      <td>1009.900000</td>\n      <td>2.000000</td>\n      <td>3.000000</td>\n      <td>12.700000</td>\n      <td>16.500000</td>\n      <td>0.000000</td>\n      <td>0.000000</td>\n    </tr>\n    <tr>\n      <th>50%</th>\n      <td>1651.000000</td>\n      <td>11.000000</td>\n      <td>13.100000</td>\n      <td>22.700000</td>\n      <td>0.000000</td>\n      <td>4.400000</td>\n      <td>7.200000</td>\n      <td>8.000000</td>\n      <td>41.000000</td>\n      <td>7.000000</td>\n      <td>...</td>\n      <td>70.000000</td>\n      <td>56.000000</td>\n      <td>1016.800000</td>\n      <td>1014.400000</td>\n      <td>6.000000</td>\n      <td>6.000000</td>\n      <td>17.300000</td>\n      <td>21.100000</td>\n      <td>0.000000</td>\n      <td>0.000000</td>\n    </tr>\n    <tr>\n      <th>75%</th>\n      <td>2381.000000</td>\n      <td>17.000000</td>\n      <td>18.000000</td>\n      <td>28.100000</td>\n      <td>1.800000</td>\n      <td>7.000000</td>\n      <td>10.000000</td>\n      <td>12.000000</td>\n      <td>50.000000</td>\n      <td>11.000000</td>\n      <td>...</td>\n      <td>83.000000</td>\n      <td>70.000000</td>\n      <td>1021.400000</td>\n      <td>1019.000000</td>\n      <td>7.000000</td>\n      <td>7.000000</td>\n      <td>22.300000</td>\n      <td>26.200000</td>\n      <td>1.000000</td>\n      <td>1.000000</td>\n    </tr>\n    <tr>\n      <th>max</th>\n      <td>3415.000000</td>\n      <td>22.000000</td>\n      <td>31.400000</td>\n      <td>46.800000</td>\n      <td>206.200000</td>\n      <td>59.800000</td>\n      <td>14.500000</td>\n      <td>15.000000</td>\n      <td>122.000000</td>\n      <td>15.000000</td>\n      <td>...</td>\n      <td>100.000000</td>\n      <td>100.000000</td>\n      <td>1040.200000</td>\n      <td>1037.000000</td>\n      <td>8.000000</td>\n      <td>9.000000</td>\n      <td>39.400000</td>\n      <td>46.100000</td>\n      <td>1.000000</td>\n      <td>1.000000</td>\n    </tr>\n  </tbody>\n</table>\n<p>8 rows × 23 columns</p>\n</div>"
          },
          "metadata": {},
          "execution_count": 5
        }
      ]
    },
    {
      "cell_type": "markdown",
      "metadata": {
        "id": "0rh7Jr4tvpa1"
      },
      "source": [
        "<h1 style=\"background-color:#ABFF9B;font-size:20px;color:#00033E;font-weight : bold\">Check missing values in the dataset and fill them by any method</h1>"
      ]
    },
    {
      "cell_type": "code",
      "metadata": {
        "id": "4z466pWsvpa1"
      },
      "source": [
        "## Check if there any null value in the dataset.\n",
        "\n",
        "## ======== YOUR CODE HERE ======== ##\n",
        "data.isnull().sum()\n",
        "## ================================ ##"
      ],
      "execution_count": 9,
      "outputs": [
        {
          "output_type": "execute_result",
          "data": {
            "text/plain": [
              "Date             0\n",
              "Location         0\n",
              "MinTemp          0\n",
              "MaxTemp          0\n",
              "Rainfall         0\n",
              "Evaporation      0\n",
              "Sunshine         0\n",
              "WindGustDir      0\n",
              "WindGustSpeed    0\n",
              "WindDir9am       0\n",
              "WindDir3pm       0\n",
              "WindSpeed9am     0\n",
              "WindSpeed3pm     0\n",
              "Humidity9am      0\n",
              "Humidity3pm      0\n",
              "Pressure9am      0\n",
              "Pressure3pm      0\n",
              "Cloud9am         0\n",
              "Cloud3pm         0\n",
              "Temp9am          0\n",
              "Temp3pm          0\n",
              "RainToday        0\n",
              "RainTomorrow     0\n",
              "dtype: int64"
            ]
          },
          "metadata": {},
          "execution_count": 9
        }
      ]
    },
    {
      "cell_type": "markdown",
      "metadata": {
        "id": "c-BNxcmrvpa2"
      },
      "source": [
        "<h1 style=\"background-color:#ABFF9B;font-size:20px;color:#00033E;font-weight : bold\">Use Feature Encoding :</h1>"
      ]
    },
    {
      "cell_type": "code",
      "metadata": {
        "id": "FZmvqTMxvpa2"
      },
      "source": [
        "## ======== YOUR CODE HERE ======== ##\n",
        "\n",
        "## Use one hot encoding on dataframe\n",
        "from sklearn.preprocessing import OneHotEncoder\n",
        "ohe = OneHotEncoder(sparse=False)\n",
        "ohe.fit_transform(data)\n",
        "## ================================ ##"
      ],
      "execution_count": 12,
      "outputs": [
        {
          "output_type": "execute_result",
          "data": {
            "text/plain": [
              "array([[0., 0., 0., ..., 0., 0., 1.],\n",
              "       [0., 0., 0., ..., 0., 1., 0.],\n",
              "       [0., 0., 0., ..., 1., 0., 1.],\n",
              "       ...,\n",
              "       [0., 0., 0., ..., 0., 1., 0.],\n",
              "       [0., 0., 0., ..., 0., 0., 1.],\n",
              "       [0., 0., 0., ..., 0., 1., 0.]])"
            ]
          },
          "metadata": {},
          "execution_count": 12
        }
      ]
    },
    {
      "cell_type": "markdown",
      "metadata": {
        "id": "pm9NZc9Bvpa2"
      },
      "source": [
        "<h1 style=\"background-color:#ABFF9B;font-size:20px;color:#00033E;font-weight : bold\">Split the data into train and test.</h1>"
      ]
    },
    {
      "cell_type": "code",
      "metadata": {
        "id": "ENos_-58vpa2"
      },
      "source": [
        "## ======== YOUR CODE HERE ======== ##\n",
        " \n",
        "## Test size should be 25% of the full dataset and use random state = 2021\n",
        "X = data.drop(['RainTomorrow'], axis='columns')\n",
        "y = data['RainTomorrow']\n",
        "X_train, X_test, y_train, y_test = train_test_split(X, y, test_size=0.25, random_state=2021)\n",
        "## ================================ ##"
      ],
      "execution_count": 26,
      "outputs": []
    },
    {
      "cell_type": "code",
      "metadata": {
        "id": "9z0dhowPvpa2"
      },
      "source": [
        "## ======== YOUR CODE HERE ======== ##\n",
        "\n",
        "   ## Let us print the shapes:\n",
        "    \n",
        "print(\"X_train:\", X_train.shape) # X_train\n",
        "print(\"X_test:\",X_test.shape) # X_test\n",
        "print(\"y_train:\", y_train.shape) # y_train\n",
        "print(\"y_test:\",y_test.shape) # y_test\n",
        "\n",
        "## ================================ ##"
      ],
      "execution_count": 27,
      "outputs": [
        {
          "output_type": "stream",
          "name": "stdout",
          "text": [
            "X_train: (18147, 22)\nX_test: (6049, 22)\ny_train: (18147,)\ny_test: (6049,)\n"
          ]
        }
      ]
    },
    {
      "cell_type": "markdown",
      "metadata": {
        "id": "qgbT2Gqdvpa3"
      },
      "source": [
        "<h1 style=\"background-color:#ABFF9B;font-size:20px;color:#00033E;font-weight : bold\">Scale the data using Standard Scaler :</h1>"
      ]
    },
    {
      "cell_type": "code",
      "metadata": {
        "id": "3n7PsXYnvpa3"
      },
      "source": [
        "## Use Standard Scaler to scale the train and test data\n",
        "\n",
        "## ======== YOUR CODE HERE ======== ##\n",
        "from sklearn.preprocessing import StandardScaler\n",
        "scaler = StandardScaler()\n",
        "\n",
        "X_train_scaled = scaler.fit_transform(X_train)\n",
        "X_train_scaled\n",
        "\n",
        "X_test_scaled = scaler.transform(X_test)\n",
        "X_test_scaled\n",
        "## ================================ ##"
      ],
      "execution_count": 28,
      "outputs": [
        {
          "output_type": "execute_result",
          "data": {
            "text/plain": [
              "array([[-1.05226062,  1.54331975,  0.76727192, ...,  1.31554845,\n",
              "         2.21219416, -0.64692358],\n",
              "       [-1.35815615, -0.80055304, -1.60931751, ..., -1.68402594,\n",
              "        -1.59303294,  1.54577762],\n",
              "       [ 1.45106417,  0.76202882,  1.47205361, ...,  1.0413938 ,\n",
              "         0.89793902, -0.64692358],\n",
              "       ...,\n",
              "       [ 0.01359414, -0.01926211, -1.9043424 , ..., -1.58726547,\n",
              "        -0.64554667, -0.64692358],\n",
              "       [-0.73800075, -0.64429486,  1.75068823, ...,  1.76709729,\n",
              "         1.23414382, -0.64692358],\n",
              "       [ 0.00881452,  0.60577063, -1.92073268, ..., -1.16797013,\n",
              "        -0.47744427, -0.64692358]])"
            ]
          },
          "metadata": {},
          "execution_count": 28
        }
      ]
    },
    {
      "cell_type": "markdown",
      "metadata": {
        "id": "IY8VC5sBvpa3"
      },
      "source": [
        "<h1 style=\"background-color:#ABFF9B;font-size:20px;color:#00033E;font-weight : bold\">Train a Logistic Regression with all default parameters</h1>"
      ]
    },
    {
      "cell_type": "code",
      "metadata": {
        "id": "8vZV0RUhvpa3"
      },
      "source": [
        "## Use Random state = 2021 and fit the LR model\n",
        "\n",
        "## ======== YOUR CODE HERE ======== ##\n",
        "classification = LogisticRegression()\n",
        "classification.fit(X_train_scaled, y_train)\n",
        "## ================================ ##"
      ],
      "execution_count": 29,
      "outputs": [
        {
          "output_type": "execute_result",
          "data": {
            "text/plain": [
              "LogisticRegression()"
            ]
          },
          "metadata": {},
          "execution_count": 29
        }
      ]
    },
    {
      "cell_type": "code",
      "execution_count": 33,
      "metadata": {},
      "outputs": [],
      "source": [
        "y_pred = classification.predict(X_test_scaled)"
      ]
    },
    {
      "cell_type": "markdown",
      "metadata": {
        "id": "bnmjHAupvpa4"
      },
      "source": [
        "<h1 style=\"background-color:#ABFF9B;font-size:20px;color:#00033E;font-weight : bold\">Plot Confusion Matrix using plot_confusion_matrix module :</h1>"
      ]
    },
    {
      "cell_type": "code",
      "metadata": {
        "id": "E1SXfdSUvpa4"
      },
      "source": [
        "## ======== YOUR CODE HERE ======== ##\n",
        "\n",
        "## Use display labels as per your choice.\n",
        "\n",
        "plot_confusion_matrix(classification, X_train_scaled, y_train)\n",
        "## ================================ ##"
      ],
      "execution_count": 31,
      "outputs": [
        {
          "output_type": "execute_result",
          "data": {
            "text/plain": [
              "<sklearn.metrics._plot.confusion_matrix.ConfusionMatrixDisplay at 0x26e414d4550>"
            ]
          },
          "metadata": {},
          "execution_count": 31
        },
        {
          "output_type": "display_data",
          "data": {
            "text/plain": "<Figure size 432x288 with 2 Axes>",
            "image/svg+xml": "<?xml version=\"1.0\" encoding=\"utf-8\" standalone=\"no\"?>\r\n<!DOCTYPE svg PUBLIC \"-//W3C//DTD SVG 1.1//EN\"\r\n  \"http://www.w3.org/Graphics/SVG/1.1/DTD/svg11.dtd\">\r\n<svg height=\"262.19625pt\" version=\"1.1\" viewBox=\"0 0 318.942625 262.19625\" width=\"318.942625pt\" xmlns=\"http://www.w3.org/2000/svg\" xmlns:xlink=\"http://www.w3.org/1999/xlink\">\r\n <metadata>\r\n  <rdf:RDF xmlns:cc=\"http://creativecommons.org/ns#\" xmlns:dc=\"http://purl.org/dc/elements/1.1/\" xmlns:rdf=\"http://www.w3.org/1999/02/22-rdf-syntax-ns#\">\r\n   <cc:Work>\r\n    <dc:type rdf:resource=\"http://purl.org/dc/dcmitype/StillImage\"/>\r\n    <dc:date>2021-06-11T14:06:14.953238</dc:date>\r\n    <dc:format>image/svg+xml</dc:format>\r\n    <dc:creator>\r\n     <cc:Agent>\r\n      <dc:title>Matplotlib v3.4.2, https://matplotlib.org/</dc:title>\r\n     </cc:Agent>\r\n    </dc:creator>\r\n   </cc:Work>\r\n  </rdf:RDF>\r\n </metadata>\r\n <defs>\r\n  <style type=\"text/css\">*{stroke-linecap:butt;stroke-linejoin:round;}</style>\r\n </defs>\r\n <g id=\"figure_1\">\r\n  <g id=\"patch_1\">\r\n   <path d=\"M 0 262.19625 \r\nL 318.942625 262.19625 \r\nL 318.942625 0 \r\nL 0 0 \r\nz\r\n\" style=\"fill:none;\"/>\r\n  </g>\r\n  <g id=\"axes_1\">\r\n   <g id=\"patch_2\">\r\n    <path d=\"M 34.240625 224.64 \r\nL 251.680625 224.64 \r\nL 251.680625 7.2 \r\nL 34.240625 7.2 \r\nz\r\n\" style=\"fill:#ffffff;\"/>\r\n   </g>\r\n   <g clip-path=\"url(#pea4519f2f9)\">\r\n    <image height=\"218\" id=\"image0646b0604b\" transform=\"scale(1 -1)translate(0 -218)\" width=\"218\" x=\"34.240625\" xlink:href=\"data:image/png;base64,\r\niVBORw0KGgoAAAANSUhEUgAAANoAAADaCAYAAADAHVzbAAACmUlEQVR4nO3VsQ3CQAAEQUxKTEJMAXThUtyaO6MGAmTX8Mm+EDMVXLK6Zb1vx4Wf8tlvsycw6Dp7APwDoUFAaBAQGgSEBgGhQUBoEBAaBIQGAaFBQGgQEBoEhAYBoUFAaBAQGgSEBgGhQUBoEBAaBIQGAaFBQGgQEBoEhAYBoUFAaBAQGgSEBgGhQUBoEBAaBIQGAaFBQGgQEBoEhAYBoUFAaBAQGgSEBgGhQUBoEBAaBIQGAaFBQGgQEBoEhAYBoUFAaBAQGgSEBgGhQUBoEBAaBIQGAaFBQGgQEBoEhAYBoUFAaBAQGgSEBgGhQUBoEBAaBIQGAaFBQGgQEBoEhAYBoUFAaBAQGgSEBgGhQUBoEBAaBIQGAaFBQGgQEBoEhAYBoUFAaBAQGgSEBgGhQUBoEBAaBIQGAaFBQGgQEBoEhAYBoUFAaBAQGgSEBgGhQUBoEBAaBIQGAaFBQGgQEBoElu/7ecwewZj18Zo9gUEeDQJCg4DQICA0CAgNAkKDgNAgIDQICA0CQoOA0CAgNAgIDQJCg4DQICA0CAgNAkKDgNAgIDQICA0CQoOA0CAgNAgIDQJCg4DQICA0CAgNAkKDgNAgIDQICA0CQoOA0CAgNAgIDQJCg4DQICA0CAgNAkKDgNAgIDQICA0CQoOA0CAgNAgIDQJCg4DQICA0CAgNAkKDgNAgIDQICA0CQoOA0CAgNAgIDQJCg4DQICA0CAgNAkKDgNAgIDQICA0CQoOA0CAgNAgIDQJCg4DQICA0CAgNAkKDgNAgIDQICA0CQoOA0CAgNAgIDQJCg4DQICA0CAgNAkKDgNAgIDQICA0CQoOA0CAgNAgIDQJCg4DQICA0CAgNAkKDgNAgIDQICA0CQoOA0CAgNAicLHoIuS8/0TsAAAAASUVORK5CYII=\" y=\"-6.64\"/>\r\n   </g>\r\n   <g id=\"matplotlib.axis_1\">\r\n    <g id=\"xtick_1\">\r\n     <g id=\"line2d_1\">\r\n      <defs>\r\n       <path d=\"M 0 0 \r\nL 0 3.5 \r\n\" id=\"m7d149d916f\" style=\"stroke:#000000;stroke-width:0.8;\"/>\r\n      </defs>\r\n      <g>\r\n       <use style=\"stroke:#000000;stroke-width:0.8;\" x=\"88.600625\" xlink:href=\"#m7d149d916f\" y=\"224.64\"/>\r\n      </g>\r\n     </g>\r\n     <g id=\"text_1\">\r\n      <!-- 0 -->\r\n      <g transform=\"translate(85.419375 239.238438)scale(0.1 -0.1)\">\r\n       <defs>\r\n        <path d=\"M 2034 4250 \r\nQ 1547 4250 1301 3770 \r\nQ 1056 3291 1056 2328 \r\nQ 1056 1369 1301 889 \r\nQ 1547 409 2034 409 \r\nQ 2525 409 2770 889 \r\nQ 3016 1369 3016 2328 \r\nQ 3016 3291 2770 3770 \r\nQ 2525 4250 2034 4250 \r\nz\r\nM 2034 4750 \r\nQ 2819 4750 3233 4129 \r\nQ 3647 3509 3647 2328 \r\nQ 3647 1150 3233 529 \r\nQ 2819 -91 2034 -91 \r\nQ 1250 -91 836 529 \r\nQ 422 1150 422 2328 \r\nQ 422 3509 836 4129 \r\nQ 1250 4750 2034 4750 \r\nz\r\n\" id=\"DejaVuSans-30\" transform=\"scale(0.015625)\"/>\r\n       </defs>\r\n       <use xlink:href=\"#DejaVuSans-30\"/>\r\n      </g>\r\n     </g>\r\n    </g>\r\n    <g id=\"xtick_2\">\r\n     <g id=\"line2d_2\">\r\n      <g>\r\n       <use style=\"stroke:#000000;stroke-width:0.8;\" x=\"197.320625\" xlink:href=\"#m7d149d916f\" y=\"224.64\"/>\r\n      </g>\r\n     </g>\r\n     <g id=\"text_2\">\r\n      <!-- 1 -->\r\n      <g transform=\"translate(194.139375 239.238438)scale(0.1 -0.1)\">\r\n       <defs>\r\n        <path d=\"M 794 531 \r\nL 1825 531 \r\nL 1825 4091 \r\nL 703 3866 \r\nL 703 4441 \r\nL 1819 4666 \r\nL 2450 4666 \r\nL 2450 531 \r\nL 3481 531 \r\nL 3481 0 \r\nL 794 0 \r\nL 794 531 \r\nz\r\n\" id=\"DejaVuSans-31\" transform=\"scale(0.015625)\"/>\r\n       </defs>\r\n       <use xlink:href=\"#DejaVuSans-31\"/>\r\n      </g>\r\n     </g>\r\n    </g>\r\n    <g id=\"text_3\">\r\n     <!-- Predicted label -->\r\n     <g transform=\"translate(105.808281 252.916563)scale(0.1 -0.1)\">\r\n      <defs>\r\n       <path d=\"M 1259 4147 \r\nL 1259 2394 \r\nL 2053 2394 \r\nQ 2494 2394 2734 2622 \r\nQ 2975 2850 2975 3272 \r\nQ 2975 3691 2734 3919 \r\nQ 2494 4147 2053 4147 \r\nL 1259 4147 \r\nz\r\nM 628 4666 \r\nL 2053 4666 \r\nQ 2838 4666 3239 4311 \r\nQ 3641 3956 3641 3272 \r\nQ 3641 2581 3239 2228 \r\nQ 2838 1875 2053 1875 \r\nL 1259 1875 \r\nL 1259 0 \r\nL 628 0 \r\nL 628 4666 \r\nz\r\n\" id=\"DejaVuSans-50\" transform=\"scale(0.015625)\"/>\r\n       <path d=\"M 2631 2963 \r\nQ 2534 3019 2420 3045 \r\nQ 2306 3072 2169 3072 \r\nQ 1681 3072 1420 2755 \r\nQ 1159 2438 1159 1844 \r\nL 1159 0 \r\nL 581 0 \r\nL 581 3500 \r\nL 1159 3500 \r\nL 1159 2956 \r\nQ 1341 3275 1631 3429 \r\nQ 1922 3584 2338 3584 \r\nQ 2397 3584 2469 3576 \r\nQ 2541 3569 2628 3553 \r\nL 2631 2963 \r\nz\r\n\" id=\"DejaVuSans-72\" transform=\"scale(0.015625)\"/>\r\n       <path d=\"M 3597 1894 \r\nL 3597 1613 \r\nL 953 1613 \r\nQ 991 1019 1311 708 \r\nQ 1631 397 2203 397 \r\nQ 2534 397 2845 478 \r\nQ 3156 559 3463 722 \r\nL 3463 178 \r\nQ 3153 47 2828 -22 \r\nQ 2503 -91 2169 -91 \r\nQ 1331 -91 842 396 \r\nQ 353 884 353 1716 \r\nQ 353 2575 817 3079 \r\nQ 1281 3584 2069 3584 \r\nQ 2775 3584 3186 3129 \r\nQ 3597 2675 3597 1894 \r\nz\r\nM 3022 2063 \r\nQ 3016 2534 2758 2815 \r\nQ 2500 3097 2075 3097 \r\nQ 1594 3097 1305 2825 \r\nQ 1016 2553 972 2059 \r\nL 3022 2063 \r\nz\r\n\" id=\"DejaVuSans-65\" transform=\"scale(0.015625)\"/>\r\n       <path d=\"M 2906 2969 \r\nL 2906 4863 \r\nL 3481 4863 \r\nL 3481 0 \r\nL 2906 0 \r\nL 2906 525 \r\nQ 2725 213 2448 61 \r\nQ 2172 -91 1784 -91 \r\nQ 1150 -91 751 415 \r\nQ 353 922 353 1747 \r\nQ 353 2572 751 3078 \r\nQ 1150 3584 1784 3584 \r\nQ 2172 3584 2448 3432 \r\nQ 2725 3281 2906 2969 \r\nz\r\nM 947 1747 \r\nQ 947 1113 1208 752 \r\nQ 1469 391 1925 391 \r\nQ 2381 391 2643 752 \r\nQ 2906 1113 2906 1747 \r\nQ 2906 2381 2643 2742 \r\nQ 2381 3103 1925 3103 \r\nQ 1469 3103 1208 2742 \r\nQ 947 2381 947 1747 \r\nz\r\n\" id=\"DejaVuSans-64\" transform=\"scale(0.015625)\"/>\r\n       <path d=\"M 603 3500 \r\nL 1178 3500 \r\nL 1178 0 \r\nL 603 0 \r\nL 603 3500 \r\nz\r\nM 603 4863 \r\nL 1178 4863 \r\nL 1178 4134 \r\nL 603 4134 \r\nL 603 4863 \r\nz\r\n\" id=\"DejaVuSans-69\" transform=\"scale(0.015625)\"/>\r\n       <path d=\"M 3122 3366 \r\nL 3122 2828 \r\nQ 2878 2963 2633 3030 \r\nQ 2388 3097 2138 3097 \r\nQ 1578 3097 1268 2742 \r\nQ 959 2388 959 1747 \r\nQ 959 1106 1268 751 \r\nQ 1578 397 2138 397 \r\nQ 2388 397 2633 464 \r\nQ 2878 531 3122 666 \r\nL 3122 134 \r\nQ 2881 22 2623 -34 \r\nQ 2366 -91 2075 -91 \r\nQ 1284 -91 818 406 \r\nQ 353 903 353 1747 \r\nQ 353 2603 823 3093 \r\nQ 1294 3584 2113 3584 \r\nQ 2378 3584 2631 3529 \r\nQ 2884 3475 3122 3366 \r\nz\r\n\" id=\"DejaVuSans-63\" transform=\"scale(0.015625)\"/>\r\n       <path d=\"M 1172 4494 \r\nL 1172 3500 \r\nL 2356 3500 \r\nL 2356 3053 \r\nL 1172 3053 \r\nL 1172 1153 \r\nQ 1172 725 1289 603 \r\nQ 1406 481 1766 481 \r\nL 2356 481 \r\nL 2356 0 \r\nL 1766 0 \r\nQ 1100 0 847 248 \r\nQ 594 497 594 1153 \r\nL 594 3053 \r\nL 172 3053 \r\nL 172 3500 \r\nL 594 3500 \r\nL 594 4494 \r\nL 1172 4494 \r\nz\r\n\" id=\"DejaVuSans-74\" transform=\"scale(0.015625)\"/>\r\n       <path id=\"DejaVuSans-20\" transform=\"scale(0.015625)\"/>\r\n       <path d=\"M 603 4863 \r\nL 1178 4863 \r\nL 1178 0 \r\nL 603 0 \r\nL 603 4863 \r\nz\r\n\" id=\"DejaVuSans-6c\" transform=\"scale(0.015625)\"/>\r\n       <path d=\"M 2194 1759 \r\nQ 1497 1759 1228 1600 \r\nQ 959 1441 959 1056 \r\nQ 959 750 1161 570 \r\nQ 1363 391 1709 391 \r\nQ 2188 391 2477 730 \r\nQ 2766 1069 2766 1631 \r\nL 2766 1759 \r\nL 2194 1759 \r\nz\r\nM 3341 1997 \r\nL 3341 0 \r\nL 2766 0 \r\nL 2766 531 \r\nQ 2569 213 2275 61 \r\nQ 1981 -91 1556 -91 \r\nQ 1019 -91 701 211 \r\nQ 384 513 384 1019 \r\nQ 384 1609 779 1909 \r\nQ 1175 2209 1959 2209 \r\nL 2766 2209 \r\nL 2766 2266 \r\nQ 2766 2663 2505 2880 \r\nQ 2244 3097 1772 3097 \r\nQ 1472 3097 1187 3025 \r\nQ 903 2953 641 2809 \r\nL 641 3341 \r\nQ 956 3463 1253 3523 \r\nQ 1550 3584 1831 3584 \r\nQ 2591 3584 2966 3190 \r\nQ 3341 2797 3341 1997 \r\nz\r\n\" id=\"DejaVuSans-61\" transform=\"scale(0.015625)\"/>\r\n       <path d=\"M 3116 1747 \r\nQ 3116 2381 2855 2742 \r\nQ 2594 3103 2138 3103 \r\nQ 1681 3103 1420 2742 \r\nQ 1159 2381 1159 1747 \r\nQ 1159 1113 1420 752 \r\nQ 1681 391 2138 391 \r\nQ 2594 391 2855 752 \r\nQ 3116 1113 3116 1747 \r\nz\r\nM 1159 2969 \r\nQ 1341 3281 1617 3432 \r\nQ 1894 3584 2278 3584 \r\nQ 2916 3584 3314 3078 \r\nQ 3713 2572 3713 1747 \r\nQ 3713 922 3314 415 \r\nQ 2916 -91 2278 -91 \r\nQ 1894 -91 1617 61 \r\nQ 1341 213 1159 525 \r\nL 1159 0 \r\nL 581 0 \r\nL 581 4863 \r\nL 1159 4863 \r\nL 1159 2969 \r\nz\r\n\" id=\"DejaVuSans-62\" transform=\"scale(0.015625)\"/>\r\n      </defs>\r\n      <use xlink:href=\"#DejaVuSans-50\"/>\r\n      <use x=\"58.552734\" xlink:href=\"#DejaVuSans-72\"/>\r\n      <use x=\"97.416016\" xlink:href=\"#DejaVuSans-65\"/>\r\n      <use x=\"158.939453\" xlink:href=\"#DejaVuSans-64\"/>\r\n      <use x=\"222.416016\" xlink:href=\"#DejaVuSans-69\"/>\r\n      <use x=\"250.199219\" xlink:href=\"#DejaVuSans-63\"/>\r\n      <use x=\"305.179688\" xlink:href=\"#DejaVuSans-74\"/>\r\n      <use x=\"344.388672\" xlink:href=\"#DejaVuSans-65\"/>\r\n      <use x=\"405.912109\" xlink:href=\"#DejaVuSans-64\"/>\r\n      <use x=\"469.388672\" xlink:href=\"#DejaVuSans-20\"/>\r\n      <use x=\"501.175781\" xlink:href=\"#DejaVuSans-6c\"/>\r\n      <use x=\"528.958984\" xlink:href=\"#DejaVuSans-61\"/>\r\n      <use x=\"590.238281\" xlink:href=\"#DejaVuSans-62\"/>\r\n      <use x=\"653.714844\" xlink:href=\"#DejaVuSans-65\"/>\r\n      <use x=\"715.238281\" xlink:href=\"#DejaVuSans-6c\"/>\r\n     </g>\r\n    </g>\r\n   </g>\r\n   <g id=\"matplotlib.axis_2\">\r\n    <g id=\"ytick_1\">\r\n     <g id=\"line2d_3\">\r\n      <defs>\r\n       <path d=\"M 0 0 \r\nL -3.5 0 \r\n\" id=\"m8e1eddd881\" style=\"stroke:#000000;stroke-width:0.8;\"/>\r\n      </defs>\r\n      <g>\r\n       <use style=\"stroke:#000000;stroke-width:0.8;\" x=\"34.240625\" xlink:href=\"#m8e1eddd881\" y=\"61.56\"/>\r\n      </g>\r\n     </g>\r\n     <g id=\"text_4\">\r\n      <!-- 0 -->\r\n      <g transform=\"translate(20.878125 65.359219)scale(0.1 -0.1)\">\r\n       <use xlink:href=\"#DejaVuSans-30\"/>\r\n      </g>\r\n     </g>\r\n    </g>\r\n    <g id=\"ytick_2\">\r\n     <g id=\"line2d_4\">\r\n      <g>\r\n       <use style=\"stroke:#000000;stroke-width:0.8;\" x=\"34.240625\" xlink:href=\"#m8e1eddd881\" y=\"170.28\"/>\r\n      </g>\r\n     </g>\r\n     <g id=\"text_5\">\r\n      <!-- 1 -->\r\n      <g transform=\"translate(20.878125 174.079219)scale(0.1 -0.1)\">\r\n       <use xlink:href=\"#DejaVuSans-31\"/>\r\n      </g>\r\n     </g>\r\n    </g>\r\n    <g id=\"text_6\">\r\n     <!-- True label -->\r\n     <g transform=\"translate(14.798437 140.219219)rotate(-90)scale(0.1 -0.1)\">\r\n      <defs>\r\n       <path d=\"M -19 4666 \r\nL 3928 4666 \r\nL 3928 4134 \r\nL 2272 4134 \r\nL 2272 0 \r\nL 1638 0 \r\nL 1638 4134 \r\nL -19 4134 \r\nL -19 4666 \r\nz\r\n\" id=\"DejaVuSans-54\" transform=\"scale(0.015625)\"/>\r\n       <path d=\"M 544 1381 \r\nL 544 3500 \r\nL 1119 3500 \r\nL 1119 1403 \r\nQ 1119 906 1312 657 \r\nQ 1506 409 1894 409 \r\nQ 2359 409 2629 706 \r\nQ 2900 1003 2900 1516 \r\nL 2900 3500 \r\nL 3475 3500 \r\nL 3475 0 \r\nL 2900 0 \r\nL 2900 538 \r\nQ 2691 219 2414 64 \r\nQ 2138 -91 1772 -91 \r\nQ 1169 -91 856 284 \r\nQ 544 659 544 1381 \r\nz\r\nM 1991 3584 \r\nL 1991 3584 \r\nz\r\n\" id=\"DejaVuSans-75\" transform=\"scale(0.015625)\"/>\r\n      </defs>\r\n      <use xlink:href=\"#DejaVuSans-54\"/>\r\n      <use x=\"46.333984\" xlink:href=\"#DejaVuSans-72\"/>\r\n      <use x=\"87.447266\" xlink:href=\"#DejaVuSans-75\"/>\r\n      <use x=\"150.826172\" xlink:href=\"#DejaVuSans-65\"/>\r\n      <use x=\"212.349609\" xlink:href=\"#DejaVuSans-20\"/>\r\n      <use x=\"244.136719\" xlink:href=\"#DejaVuSans-6c\"/>\r\n      <use x=\"271.919922\" xlink:href=\"#DejaVuSans-61\"/>\r\n      <use x=\"333.199219\" xlink:href=\"#DejaVuSans-62\"/>\r\n      <use x=\"396.675781\" xlink:href=\"#DejaVuSans-65\"/>\r\n      <use x=\"458.199219\" xlink:href=\"#DejaVuSans-6c\"/>\r\n     </g>\r\n    </g>\r\n   </g>\r\n   <g id=\"patch_3\">\r\n    <path d=\"M 34.240625 224.64 \r\nL 34.240625 7.2 \r\n\" style=\"fill:none;stroke:#000000;stroke-linecap:square;stroke-linejoin:miter;stroke-width:0.8;\"/>\r\n   </g>\r\n   <g id=\"patch_4\">\r\n    <path d=\"M 251.680625 224.64 \r\nL 251.680625 7.2 \r\n\" style=\"fill:none;stroke:#000000;stroke-linecap:square;stroke-linejoin:miter;stroke-width:0.8;\"/>\r\n   </g>\r\n   <g id=\"patch_5\">\r\n    <path d=\"M 34.240625 224.64 \r\nL 251.680625 224.64 \r\n\" style=\"fill:none;stroke:#000000;stroke-linecap:square;stroke-linejoin:miter;stroke-width:0.8;\"/>\r\n   </g>\r\n   <g id=\"patch_6\">\r\n    <path d=\"M 34.240625 7.2 \r\nL 251.680625 7.2 \r\n\" style=\"fill:none;stroke:#000000;stroke-linecap:square;stroke-linejoin:miter;stroke-width:0.8;\"/>\r\n   </g>\r\n   <g id=\"text_7\">\r\n    <!-- 8271 -->\r\n    <g style=\"fill:#440154;\" transform=\"translate(75.875625 64.319375)scale(0.1 -0.1)\">\r\n     <defs>\r\n      <path d=\"M 2034 2216 \r\nQ 1584 2216 1326 1975 \r\nQ 1069 1734 1069 1313 \r\nQ 1069 891 1326 650 \r\nQ 1584 409 2034 409 \r\nQ 2484 409 2743 651 \r\nQ 3003 894 3003 1313 \r\nQ 3003 1734 2745 1975 \r\nQ 2488 2216 2034 2216 \r\nz\r\nM 1403 2484 \r\nQ 997 2584 770 2862 \r\nQ 544 3141 544 3541 \r\nQ 544 4100 942 4425 \r\nQ 1341 4750 2034 4750 \r\nQ 2731 4750 3128 4425 \r\nQ 3525 4100 3525 3541 \r\nQ 3525 3141 3298 2862 \r\nQ 3072 2584 2669 2484 \r\nQ 3125 2378 3379 2068 \r\nQ 3634 1759 3634 1313 \r\nQ 3634 634 3220 271 \r\nQ 2806 -91 2034 -91 \r\nQ 1263 -91 848 271 \r\nQ 434 634 434 1313 \r\nQ 434 1759 690 2068 \r\nQ 947 2378 1403 2484 \r\nz\r\nM 1172 3481 \r\nQ 1172 3119 1398 2916 \r\nQ 1625 2713 2034 2713 \r\nQ 2441 2713 2670 2916 \r\nQ 2900 3119 2900 3481 \r\nQ 2900 3844 2670 4047 \r\nQ 2441 4250 2034 4250 \r\nQ 1625 4250 1398 4047 \r\nQ 1172 3844 1172 3481 \r\nz\r\n\" id=\"DejaVuSans-38\" transform=\"scale(0.015625)\"/>\r\n      <path d=\"M 1228 531 \r\nL 3431 531 \r\nL 3431 0 \r\nL 469 0 \r\nL 469 531 \r\nQ 828 903 1448 1529 \r\nQ 2069 2156 2228 2338 \r\nQ 2531 2678 2651 2914 \r\nQ 2772 3150 2772 3378 \r\nQ 2772 3750 2511 3984 \r\nQ 2250 4219 1831 4219 \r\nQ 1534 4219 1204 4116 \r\nQ 875 4013 500 3803 \r\nL 500 4441 \r\nQ 881 4594 1212 4672 \r\nQ 1544 4750 1819 4750 \r\nQ 2544 4750 2975 4387 \r\nQ 3406 4025 3406 3419 \r\nQ 3406 3131 3298 2873 \r\nQ 3191 2616 2906 2266 \r\nQ 2828 2175 2409 1742 \r\nQ 1991 1309 1228 531 \r\nz\r\n\" id=\"DejaVuSans-32\" transform=\"scale(0.015625)\"/>\r\n      <path d=\"M 525 4666 \r\nL 3525 4666 \r\nL 3525 4397 \r\nL 1831 0 \r\nL 1172 0 \r\nL 2766 4134 \r\nL 525 4134 \r\nL 525 4666 \r\nz\r\n\" id=\"DejaVuSans-37\" transform=\"scale(0.015625)\"/>\r\n     </defs>\r\n     <use xlink:href=\"#DejaVuSans-38\"/>\r\n     <use x=\"63.623047\" xlink:href=\"#DejaVuSans-32\"/>\r\n     <use x=\"127.246094\" xlink:href=\"#DejaVuSans-37\"/>\r\n     <use x=\"190.869141\" xlink:href=\"#DejaVuSans-31\"/>\r\n    </g>\r\n   </g>\r\n   <g id=\"text_8\">\r\n    <!-- 1642 -->\r\n    <g style=\"fill:#fde725;\" transform=\"translate(184.595625 64.319375)scale(0.1 -0.1)\">\r\n     <defs>\r\n      <path d=\"M 2113 2584 \r\nQ 1688 2584 1439 2293 \r\nQ 1191 2003 1191 1497 \r\nQ 1191 994 1439 701 \r\nQ 1688 409 2113 409 \r\nQ 2538 409 2786 701 \r\nQ 3034 994 3034 1497 \r\nQ 3034 2003 2786 2293 \r\nQ 2538 2584 2113 2584 \r\nz\r\nM 3366 4563 \r\nL 3366 3988 \r\nQ 3128 4100 2886 4159 \r\nQ 2644 4219 2406 4219 \r\nQ 1781 4219 1451 3797 \r\nQ 1122 3375 1075 2522 \r\nQ 1259 2794 1537 2939 \r\nQ 1816 3084 2150 3084 \r\nQ 2853 3084 3261 2657 \r\nQ 3669 2231 3669 1497 \r\nQ 3669 778 3244 343 \r\nQ 2819 -91 2113 -91 \r\nQ 1303 -91 875 529 \r\nQ 447 1150 447 2328 \r\nQ 447 3434 972 4092 \r\nQ 1497 4750 2381 4750 \r\nQ 2619 4750 2861 4703 \r\nQ 3103 4656 3366 4563 \r\nz\r\n\" id=\"DejaVuSans-36\" transform=\"scale(0.015625)\"/>\r\n      <path d=\"M 2419 4116 \r\nL 825 1625 \r\nL 2419 1625 \r\nL 2419 4116 \r\nz\r\nM 2253 4666 \r\nL 3047 4666 \r\nL 3047 1625 \r\nL 3713 1625 \r\nL 3713 1100 \r\nL 3047 1100 \r\nL 3047 0 \r\nL 2419 0 \r\nL 2419 1100 \r\nL 313 1100 \r\nL 313 1709 \r\nL 2253 4666 \r\nz\r\n\" id=\"DejaVuSans-34\" transform=\"scale(0.015625)\"/>\r\n     </defs>\r\n     <use xlink:href=\"#DejaVuSans-31\"/>\r\n     <use x=\"63.623047\" xlink:href=\"#DejaVuSans-36\"/>\r\n     <use x=\"127.246094\" xlink:href=\"#DejaVuSans-34\"/>\r\n     <use x=\"190.869141\" xlink:href=\"#DejaVuSans-32\"/>\r\n    </g>\r\n   </g>\r\n   <g id=\"text_9\">\r\n    <!-- 2007 -->\r\n    <g style=\"fill:#fde725;\" transform=\"translate(75.875625 173.039375)scale(0.1 -0.1)\">\r\n     <use xlink:href=\"#DejaVuSans-32\"/>\r\n     <use x=\"63.623047\" xlink:href=\"#DejaVuSans-30\"/>\r\n     <use x=\"127.246094\" xlink:href=\"#DejaVuSans-30\"/>\r\n     <use x=\"190.869141\" xlink:href=\"#DejaVuSans-37\"/>\r\n    </g>\r\n   </g>\r\n   <g id=\"text_10\">\r\n    <!-- 6227 -->\r\n    <g style=\"fill:#440154;\" transform=\"translate(184.595625 173.039375)scale(0.1 -0.1)\">\r\n     <use xlink:href=\"#DejaVuSans-36\"/>\r\n     <use x=\"63.623047\" xlink:href=\"#DejaVuSans-32\"/>\r\n     <use x=\"127.246094\" xlink:href=\"#DejaVuSans-32\"/>\r\n     <use x=\"190.869141\" xlink:href=\"#DejaVuSans-37\"/>\r\n    </g>\r\n   </g>\r\n  </g>\r\n  <g id=\"axes_2\">\r\n   <g id=\"patch_7\">\r\n    <path d=\"M 268.420625 224.64 \r\nL 279.292625 224.64 \r\nL 279.292625 7.2 \r\nL 268.420625 7.2 \r\nz\r\n\" style=\"fill:#ffffff;\"/>\r\n   </g>\r\n   <g id=\"patch_8\">\r\n    <path clip-path=\"url(#pc8bca15875)\" d=\"M 268.420625 224.64 \r\nL 268.420625 223.790625 \r\nL 268.420625 8.049375 \r\nL 268.420625 7.2 \r\nL 279.292625 7.2 \r\nL 279.292625 8.049375 \r\nL 279.292625 223.790625 \r\nL 279.292625 224.64 \r\nL 279.292625 224.64 \r\nz\r\n\" style=\"fill:#ffffff;stroke:#ffffff;stroke-linejoin:miter;stroke-width:0.01;\"/>\r\n   </g>\r\n   <image height=\"217\" id=\"image1770b6968f\" transform=\"scale(1 -1)translate(0 -217)\" width=\"11\" x=\"268\" xlink:href=\"data:image/png;base64,\r\niVBORw0KGgoAAAANSUhEUgAAAAsAAADZCAYAAAD2WsoCAAABUklEQVR4nN2awQ3CQAwEz/aFyqiB/gsBQguex0g+eK9W6/HmAiTxzNe9mp8dGV3t2iuyL/acF3GOKhKDZE6SmTnPGHAIDSQuL4ZVUZGzFuNmmdtak8aUzB7n0pz7Wjog4Xx7lxUZ0CsSckboYOuQMxGTDaIYJ9KAA2p9ZuiI85BzY8YGj+yGdxRoFR2ylCk0+lo184wT6f/XPSTzgc5DYsDy96/vM9GNoAFCyDTAgN4GEWdYfssZfLs0B/Q4h5bZdCbi/FrOM9Cltm5Ew4wBxEWOAsZ5jUBXrM9WkSANK8YmNLwBmbNHIzQanjPhvPPTF5e4botGTaHhDWg5X4FooBhAjDaInNmAMzbIOBN0V7xJDK+iqBsInUYDDUiWgtaNrhQ4oHWHZRvUYjxYRdtamrlvvDZ4zrx2gd9L+yLPgJI4oxjMmWTeC7yuU+SdkwR/Uv0A7xuAaGKmOKMAAAAASUVORK5CYII=\" y=\"-7\"/>\r\n   <g id=\"matplotlib.axis_3\"/>\r\n   <g id=\"matplotlib.axis_4\">\r\n    <g id=\"ytick_3\">\r\n     <g id=\"line2d_5\">\r\n      <defs>\r\n       <path d=\"M 0 0 \r\nL 3.5 0 \r\n\" id=\"mc08715a01c\" style=\"stroke:#000000;stroke-width:0.8;\"/>\r\n      </defs>\r\n      <g>\r\n       <use style=\"stroke:#000000;stroke-width:0.8;\" x=\"279.292625\" xlink:href=\"#mc08715a01c\" y=\"212.897125\"/>\r\n      </g>\r\n     </g>\r\n     <g id=\"text_11\">\r\n      <!-- 2000 -->\r\n      <g transform=\"translate(286.292625 216.696344)scale(0.1 -0.1)\">\r\n       <use xlink:href=\"#DejaVuSans-32\"/>\r\n       <use x=\"63.623047\" xlink:href=\"#DejaVuSans-30\"/>\r\n       <use x=\"127.246094\" xlink:href=\"#DejaVuSans-30\"/>\r\n       <use x=\"190.869141\" xlink:href=\"#DejaVuSans-30\"/>\r\n      </g>\r\n     </g>\r\n    </g>\r\n    <g id=\"ytick_4\">\r\n     <g id=\"line2d_6\">\r\n      <g>\r\n       <use style=\"stroke:#000000;stroke-width:0.8;\" x=\"279.292625\" xlink:href=\"#mc08715a01c\" y=\"180.095797\"/>\r\n      </g>\r\n     </g>\r\n     <g id=\"text_12\">\r\n      <!-- 3000 -->\r\n      <g transform=\"translate(286.292625 183.895016)scale(0.1 -0.1)\">\r\n       <defs>\r\n        <path d=\"M 2597 2516 \r\nQ 3050 2419 3304 2112 \r\nQ 3559 1806 3559 1356 \r\nQ 3559 666 3084 287 \r\nQ 2609 -91 1734 -91 \r\nQ 1441 -91 1130 -33 \r\nQ 819 25 488 141 \r\nL 488 750 \r\nQ 750 597 1062 519 \r\nQ 1375 441 1716 441 \r\nQ 2309 441 2620 675 \r\nQ 2931 909 2931 1356 \r\nQ 2931 1769 2642 2001 \r\nQ 2353 2234 1838 2234 \r\nL 1294 2234 \r\nL 1294 2753 \r\nL 1863 2753 \r\nQ 2328 2753 2575 2939 \r\nQ 2822 3125 2822 3475 \r\nQ 2822 3834 2567 4026 \r\nQ 2313 4219 1838 4219 \r\nQ 1578 4219 1281 4162 \r\nQ 984 4106 628 3988 \r\nL 628 4550 \r\nQ 988 4650 1302 4700 \r\nQ 1616 4750 1894 4750 \r\nQ 2613 4750 3031 4423 \r\nQ 3450 4097 3450 3541 \r\nQ 3450 3153 3228 2886 \r\nQ 3006 2619 2597 2516 \r\nz\r\n\" id=\"DejaVuSans-33\" transform=\"scale(0.015625)\"/>\r\n       </defs>\r\n       <use xlink:href=\"#DejaVuSans-33\"/>\r\n       <use x=\"63.623047\" xlink:href=\"#DejaVuSans-30\"/>\r\n       <use x=\"127.246094\" xlink:href=\"#DejaVuSans-30\"/>\r\n       <use x=\"190.869141\" xlink:href=\"#DejaVuSans-30\"/>\r\n      </g>\r\n     </g>\r\n    </g>\r\n    <g id=\"ytick_5\">\r\n     <g id=\"line2d_7\">\r\n      <g>\r\n       <use style=\"stroke:#000000;stroke-width:0.8;\" x=\"279.292625\" xlink:href=\"#mc08715a01c\" y=\"147.29447\"/>\r\n      </g>\r\n     </g>\r\n     <g id=\"text_13\">\r\n      <!-- 4000 -->\r\n      <g transform=\"translate(286.292625 151.093689)scale(0.1 -0.1)\">\r\n       <use xlink:href=\"#DejaVuSans-34\"/>\r\n       <use x=\"63.623047\" xlink:href=\"#DejaVuSans-30\"/>\r\n       <use x=\"127.246094\" xlink:href=\"#DejaVuSans-30\"/>\r\n       <use x=\"190.869141\" xlink:href=\"#DejaVuSans-30\"/>\r\n      </g>\r\n     </g>\r\n    </g>\r\n    <g id=\"ytick_6\">\r\n     <g id=\"line2d_8\">\r\n      <g>\r\n       <use style=\"stroke:#000000;stroke-width:0.8;\" x=\"279.292625\" xlink:href=\"#mc08715a01c\" y=\"114.493142\"/>\r\n      </g>\r\n     </g>\r\n     <g id=\"text_14\">\r\n      <!-- 5000 -->\r\n      <g transform=\"translate(286.292625 118.292361)scale(0.1 -0.1)\">\r\n       <defs>\r\n        <path d=\"M 691 4666 \r\nL 3169 4666 \r\nL 3169 4134 \r\nL 1269 4134 \r\nL 1269 2991 \r\nQ 1406 3038 1543 3061 \r\nQ 1681 3084 1819 3084 \r\nQ 2600 3084 3056 2656 \r\nQ 3513 2228 3513 1497 \r\nQ 3513 744 3044 326 \r\nQ 2575 -91 1722 -91 \r\nQ 1428 -91 1123 -41 \r\nQ 819 9 494 109 \r\nL 494 744 \r\nQ 775 591 1075 516 \r\nQ 1375 441 1709 441 \r\nQ 2250 441 2565 725 \r\nQ 2881 1009 2881 1497 \r\nQ 2881 1984 2565 2268 \r\nQ 2250 2553 1709 2553 \r\nQ 1456 2553 1204 2497 \r\nQ 953 2441 691 2322 \r\nL 691 4666 \r\nz\r\n\" id=\"DejaVuSans-35\" transform=\"scale(0.015625)\"/>\r\n       </defs>\r\n       <use xlink:href=\"#DejaVuSans-35\"/>\r\n       <use x=\"63.623047\" xlink:href=\"#DejaVuSans-30\"/>\r\n       <use x=\"127.246094\" xlink:href=\"#DejaVuSans-30\"/>\r\n       <use x=\"190.869141\" xlink:href=\"#DejaVuSans-30\"/>\r\n      </g>\r\n     </g>\r\n    </g>\r\n    <g id=\"ytick_7\">\r\n     <g id=\"line2d_9\">\r\n      <g>\r\n       <use style=\"stroke:#000000;stroke-width:0.8;\" x=\"279.292625\" xlink:href=\"#mc08715a01c\" y=\"81.691815\"/>\r\n      </g>\r\n     </g>\r\n     <g id=\"text_15\">\r\n      <!-- 6000 -->\r\n      <g transform=\"translate(286.292625 85.491034)scale(0.1 -0.1)\">\r\n       <use xlink:href=\"#DejaVuSans-36\"/>\r\n       <use x=\"63.623047\" xlink:href=\"#DejaVuSans-30\"/>\r\n       <use x=\"127.246094\" xlink:href=\"#DejaVuSans-30\"/>\r\n       <use x=\"190.869141\" xlink:href=\"#DejaVuSans-30\"/>\r\n      </g>\r\n     </g>\r\n    </g>\r\n    <g id=\"ytick_8\">\r\n     <g id=\"line2d_10\">\r\n      <g>\r\n       <use style=\"stroke:#000000;stroke-width:0.8;\" x=\"279.292625\" xlink:href=\"#mc08715a01c\" y=\"48.890487\"/>\r\n      </g>\r\n     </g>\r\n     <g id=\"text_16\">\r\n      <!-- 7000 -->\r\n      <g transform=\"translate(286.292625 52.689706)scale(0.1 -0.1)\">\r\n       <use xlink:href=\"#DejaVuSans-37\"/>\r\n       <use x=\"63.623047\" xlink:href=\"#DejaVuSans-30\"/>\r\n       <use x=\"127.246094\" xlink:href=\"#DejaVuSans-30\"/>\r\n       <use x=\"190.869141\" xlink:href=\"#DejaVuSans-30\"/>\r\n      </g>\r\n     </g>\r\n    </g>\r\n    <g id=\"ytick_9\">\r\n     <g id=\"line2d_11\">\r\n      <g>\r\n       <use style=\"stroke:#000000;stroke-width:0.8;\" x=\"279.292625\" xlink:href=\"#mc08715a01c\" y=\"16.08916\"/>\r\n      </g>\r\n     </g>\r\n     <g id=\"text_17\">\r\n      <!-- 8000 -->\r\n      <g transform=\"translate(286.292625 19.888379)scale(0.1 -0.1)\">\r\n       <use xlink:href=\"#DejaVuSans-38\"/>\r\n       <use x=\"63.623047\" xlink:href=\"#DejaVuSans-30\"/>\r\n       <use x=\"127.246094\" xlink:href=\"#DejaVuSans-30\"/>\r\n       <use x=\"190.869141\" xlink:href=\"#DejaVuSans-30\"/>\r\n      </g>\r\n     </g>\r\n    </g>\r\n   </g>\r\n   <g id=\"LineCollection_1\"/>\r\n   <g id=\"patch_9\">\r\n    <path d=\"M 268.420625 224.64 \r\nL 268.420625 223.790625 \r\nL 268.420625 8.049375 \r\nL 268.420625 7.2 \r\nL 279.292625 7.2 \r\nL 279.292625 8.049375 \r\nL 279.292625 223.790625 \r\nL 279.292625 224.64 \r\nz\r\n\" style=\"fill:none;stroke:#000000;stroke-linecap:square;stroke-linejoin:miter;stroke-width:0.8;\"/>\r\n   </g>\r\n  </g>\r\n </g>\r\n <defs>\r\n  <clipPath id=\"pea4519f2f9\">\r\n   <rect height=\"217.44\" width=\"217.44\" x=\"34.240625\" y=\"7.2\"/>\r\n  </clipPath>\r\n  <clipPath id=\"pc8bca15875\">\r\n   <rect height=\"217.44\" width=\"10.872\" x=\"268.420625\" y=\"7.2\"/>\r\n  </clipPath>\r\n </defs>\r\n</svg>\r\n",
            "image/png": "[encoded data removed]"
          },
          "metadata": {
            "needs_background": "light"
          }
        }
      ]
    },
    {
      "cell_type": "code",
      "execution_count": 32,
      "metadata": {},
      "outputs": [
        {
          "output_type": "execute_result",
          "data": {
            "text/plain": [
              "<sklearn.metrics._plot.confusion_matrix.ConfusionMatrixDisplay at 0x26e439350a0>"
            ]
          },
          "metadata": {},
          "execution_count": 32
        },
        {
          "output_type": "display_data",
          "data": {
            "text/plain": "<Figure size 432x288 with 2 Axes>",
            "image/svg+xml": "<?xml version=\"1.0\" encoding=\"utf-8\" standalone=\"no\"?>\r\n<!DOCTYPE svg PUBLIC \"-//W3C//DTD SVG 1.1//EN\"\r\n  \"http://www.w3.org/Graphics/SVG/1.1/DTD/svg11.dtd\">\r\n<svg height=\"265.896722pt\" version=\"1.1\" viewBox=\"0 0 318.942625 265.896722\" width=\"318.942625pt\" xmlns=\"http://www.w3.org/2000/svg\" xmlns:xlink=\"http://www.w3.org/1999/xlink\">\r\n <metadata>\r\n  <rdf:RDF xmlns:cc=\"http://creativecommons.org/ns#\" xmlns:dc=\"http://purl.org/dc/elements/1.1/\" xmlns:rdf=\"http://www.w3.org/1999/02/22-rdf-syntax-ns#\">\r\n   <cc:Work>\r\n    <dc:type rdf:resource=\"http://purl.org/dc/dcmitype/StillImage\"/>\r\n    <dc:date>2021-06-11T14:06:37.423251</dc:date>\r\n    <dc:format>image/svg+xml</dc:format>\r\n    <dc:creator>\r\n     <cc:Agent>\r\n      <dc:title>Matplotlib v3.4.2, https://matplotlib.org/</dc:title>\r\n     </cc:Agent>\r\n    </dc:creator>\r\n   </cc:Work>\r\n  </rdf:RDF>\r\n </metadata>\r\n <defs>\r\n  <style type=\"text/css\">*{stroke-linecap:butt;stroke-linejoin:round;}</style>\r\n </defs>\r\n <g id=\"figure_1\">\r\n  <g id=\"patch_1\">\r\n   <path d=\"M 0 265.896722 \r\nL 318.942625 265.896722 \r\nL 318.942625 0 \r\nL 0 0 \r\nz\r\n\" style=\"fill:none;\"/>\r\n  </g>\r\n  <g id=\"axes_1\">\r\n   <g id=\"patch_2\">\r\n    <path d=\"M 34.240625 228.340472 \r\nL 251.680625 228.340472 \r\nL 251.680625 10.900472 \r\nL 34.240625 10.900472 \r\nz\r\n\" style=\"fill:#ffffff;\"/>\r\n   </g>\r\n   <g clip-path=\"url(#pb99ddce856)\">\r\n    <image height=\"218\" id=\"image903dcc0fd1\" transform=\"scale(1 -1)translate(0 -218)\" width=\"218\" x=\"34.240625\" xlink:href=\"data:image/png;base64,\r\niVBORw0KGgoAAAANSUhEUgAAANoAAADaCAYAAADAHVzbAAACmklEQVR4nO3VMRHCUAAFQUKJAApqBOAiWmIs1pBAxSQafnN/GHYVvObmLet9Oy78lM9+mz2BQdfZA+AfCA0CQoOA0CAgNAgIDQJCg4DQICA0CAgNAkKDgNAgIDQICA0CQoOA0CAgNAgIDQJCg4DQICA0CAgNAkKDgNAgIDQICA0CQoOA0CAgNAgIDQJCg4DQICA0CAgNAkKDgNAgIDQICA0CQoOA0CAgNAgIDQJCg4DQICA0CAgNAkKDgNAgIDQICA0CQoOA0CAgNAgIDQJCg4DQICA0CAgNAkKDgNAgIDQICA0CQoOA0CAgNAgIDQJCg4DQICA0CAgNAkKDgNAgIDQICA0CQoOA0CAgNAgIDQJCg4DQICA0CAgNAkKDgNAgIDQICA0CQoOA0CAgNAgIDQJCg4DQICA0CAgNAkKDgNAgIDQICA0CQoOA0CAgNAgIDQJCg4DQICA0CAgNAkKDgNAgsHzfz2P2CMasj9fsCQzyaBAQGgSEBgGhQUBoEBAaBIQGAaFBQGgQEBoEhAYBoUFAaBAQGgSEBgGhQUBoEBAaBIQGAaFBQGgQEBoEhAYBoUFAaBAQGgSEBgGhQUBoEBAaBIQGAaFBQGgQEBoEhAYBoUFAaBAQGgSEBgGhQUBoEBAaBIQGAaFBQGgQEBoEhAYBoUFAaBAQGgSEBgGhQUBoEBAaBIQGAaFBQGgQEBoEhAYBoUFAaBAQGgSEBgGhQUBoEBAaBIQGAaFBQGgQEBoEhAYBoUFAaBAQGgSEBgGhQUBoEBAaBIQGAaFBQGgQEBoEhAYBoUFAaBAQGgSEBgGhQUBoEBAaBIQGAaFBQGgQEBoEhAYBoUFAaBAQGgSEBgGhQUBoEBAaBIQGAaFBQGgQEBoEhAYBoUHgBGXRCLcuUbtwAAAAAElFTkSuQmCC\" y=\"-10.340472\"/>\r\n   </g>\r\n   <g id=\"matplotlib.axis_1\">\r\n    <g id=\"xtick_1\">\r\n     <g id=\"line2d_1\">\r\n      <defs>\r\n       <path d=\"M 0 0 \r\nL 0 3.5 \r\n\" id=\"m2dc6b58c8f\" style=\"stroke:#000000;stroke-width:0.8;\"/>\r\n      </defs>\r\n      <g>\r\n       <use style=\"stroke:#000000;stroke-width:0.8;\" x=\"88.600625\" xlink:href=\"#m2dc6b58c8f\" y=\"228.340472\"/>\r\n      </g>\r\n     </g>\r\n     <g id=\"text_1\">\r\n      <!-- 0 -->\r\n      <g transform=\"translate(85.419375 242.93891)scale(0.1 -0.1)\">\r\n       <defs>\r\n        <path d=\"M 2034 4250 \r\nQ 1547 4250 1301 3770 \r\nQ 1056 3291 1056 2328 \r\nQ 1056 1369 1301 889 \r\nQ 1547 409 2034 409 \r\nQ 2525 409 2770 889 \r\nQ 3016 1369 3016 2328 \r\nQ 3016 3291 2770 3770 \r\nQ 2525 4250 2034 4250 \r\nz\r\nM 2034 4750 \r\nQ 2819 4750 3233 4129 \r\nQ 3647 3509 3647 2328 \r\nQ 3647 1150 3233 529 \r\nQ 2819 -91 2034 -91 \r\nQ 1250 -91 836 529 \r\nQ 422 1150 422 2328 \r\nQ 422 3509 836 4129 \r\nQ 1250 4750 2034 4750 \r\nz\r\n\" id=\"DejaVuSans-30\" transform=\"scale(0.015625)\"/>\r\n       </defs>\r\n       <use xlink:href=\"#DejaVuSans-30\"/>\r\n      </g>\r\n     </g>\r\n    </g>\r\n    <g id=\"xtick_2\">\r\n     <g id=\"line2d_2\">\r\n      <g>\r\n       <use style=\"stroke:#000000;stroke-width:0.8;\" x=\"197.320625\" xlink:href=\"#m2dc6b58c8f\" y=\"228.340472\"/>\r\n      </g>\r\n     </g>\r\n     <g id=\"text_2\">\r\n      <!-- 1 -->\r\n      <g transform=\"translate(194.139375 242.93891)scale(0.1 -0.1)\">\r\n       <defs>\r\n        <path d=\"M 794 531 \r\nL 1825 531 \r\nL 1825 4091 \r\nL 703 3866 \r\nL 703 4441 \r\nL 1819 4666 \r\nL 2450 4666 \r\nL 2450 531 \r\nL 3481 531 \r\nL 3481 0 \r\nL 794 0 \r\nL 794 531 \r\nz\r\n\" id=\"DejaVuSans-31\" transform=\"scale(0.015625)\"/>\r\n       </defs>\r\n       <use xlink:href=\"#DejaVuSans-31\"/>\r\n      </g>\r\n     </g>\r\n    </g>\r\n    <g id=\"text_3\">\r\n     <!-- Predicted label -->\r\n     <g transform=\"translate(105.808281 256.617035)scale(0.1 -0.1)\">\r\n      <defs>\r\n       <path d=\"M 1259 4147 \r\nL 1259 2394 \r\nL 2053 2394 \r\nQ 2494 2394 2734 2622 \r\nQ 2975 2850 2975 3272 \r\nQ 2975 3691 2734 3919 \r\nQ 2494 4147 2053 4147 \r\nL 1259 4147 \r\nz\r\nM 628 4666 \r\nL 2053 4666 \r\nQ 2838 4666 3239 4311 \r\nQ 3641 3956 3641 3272 \r\nQ 3641 2581 3239 2228 \r\nQ 2838 1875 2053 1875 \r\nL 1259 1875 \r\nL 1259 0 \r\nL 628 0 \r\nL 628 4666 \r\nz\r\n\" id=\"DejaVuSans-50\" transform=\"scale(0.015625)\"/>\r\n       <path d=\"M 2631 2963 \r\nQ 2534 3019 2420 3045 \r\nQ 2306 3072 2169 3072 \r\nQ 1681 3072 1420 2755 \r\nQ 1159 2438 1159 1844 \r\nL 1159 0 \r\nL 581 0 \r\nL 581 3500 \r\nL 1159 3500 \r\nL 1159 2956 \r\nQ 1341 3275 1631 3429 \r\nQ 1922 3584 2338 3584 \r\nQ 2397 3584 2469 3576 \r\nQ 2541 3569 2628 3553 \r\nL 2631 2963 \r\nz\r\n\" id=\"DejaVuSans-72\" transform=\"scale(0.015625)\"/>\r\n       <path d=\"M 3597 1894 \r\nL 3597 1613 \r\nL 953 1613 \r\nQ 991 1019 1311 708 \r\nQ 1631 397 2203 397 \r\nQ 2534 397 2845 478 \r\nQ 3156 559 3463 722 \r\nL 3463 178 \r\nQ 3153 47 2828 -22 \r\nQ 2503 -91 2169 -91 \r\nQ 1331 -91 842 396 \r\nQ 353 884 353 1716 \r\nQ 353 2575 817 3079 \r\nQ 1281 3584 2069 3584 \r\nQ 2775 3584 3186 3129 \r\nQ 3597 2675 3597 1894 \r\nz\r\nM 3022 2063 \r\nQ 3016 2534 2758 2815 \r\nQ 2500 3097 2075 3097 \r\nQ 1594 3097 1305 2825 \r\nQ 1016 2553 972 2059 \r\nL 3022 2063 \r\nz\r\n\" id=\"DejaVuSans-65\" transform=\"scale(0.015625)\"/>\r\n       <path d=\"M 2906 2969 \r\nL 2906 4863 \r\nL 3481 4863 \r\nL 3481 0 \r\nL 2906 0 \r\nL 2906 525 \r\nQ 2725 213 2448 61 \r\nQ 2172 -91 1784 -91 \r\nQ 1150 -91 751 415 \r\nQ 353 922 353 1747 \r\nQ 353 2572 751 3078 \r\nQ 1150 3584 1784 3584 \r\nQ 2172 3584 2448 3432 \r\nQ 2725 3281 2906 2969 \r\nz\r\nM 947 1747 \r\nQ 947 1113 1208 752 \r\nQ 1469 391 1925 391 \r\nQ 2381 391 2643 752 \r\nQ 2906 1113 2906 1747 \r\nQ 2906 2381 2643 2742 \r\nQ 2381 3103 1925 3103 \r\nQ 1469 3103 1208 2742 \r\nQ 947 2381 947 1747 \r\nz\r\n\" id=\"DejaVuSans-64\" transform=\"scale(0.015625)\"/>\r\n       <path d=\"M 603 3500 \r\nL 1178 3500 \r\nL 1178 0 \r\nL 603 0 \r\nL 603 3500 \r\nz\r\nM 603 4863 \r\nL 1178 4863 \r\nL 1178 4134 \r\nL 603 4134 \r\nL 603 4863 \r\nz\r\n\" id=\"DejaVuSans-69\" transform=\"scale(0.015625)\"/>\r\n       <path d=\"M 3122 3366 \r\nL 3122 2828 \r\nQ 2878 2963 2633 3030 \r\nQ 2388 3097 2138 3097 \r\nQ 1578 3097 1268 2742 \r\nQ 959 2388 959 1747 \r\nQ 959 1106 1268 751 \r\nQ 1578 397 2138 397 \r\nQ 2388 397 2633 464 \r\nQ 2878 531 3122 666 \r\nL 3122 134 \r\nQ 2881 22 2623 -34 \r\nQ 2366 -91 2075 -91 \r\nQ 1284 -91 818 406 \r\nQ 353 903 353 1747 \r\nQ 353 2603 823 3093 \r\nQ 1294 3584 2113 3584 \r\nQ 2378 3584 2631 3529 \r\nQ 2884 3475 3122 3366 \r\nz\r\n\" id=\"DejaVuSans-63\" transform=\"scale(0.015625)\"/>\r\n       <path d=\"M 1172 4494 \r\nL 1172 3500 \r\nL 2356 3500 \r\nL 2356 3053 \r\nL 1172 3053 \r\nL 1172 1153 \r\nQ 1172 725 1289 603 \r\nQ 1406 481 1766 481 \r\nL 2356 481 \r\nL 2356 0 \r\nL 1766 0 \r\nQ 1100 0 847 248 \r\nQ 594 497 594 1153 \r\nL 594 3053 \r\nL 172 3053 \r\nL 172 3500 \r\nL 594 3500 \r\nL 594 4494 \r\nL 1172 4494 \r\nz\r\n\" id=\"DejaVuSans-74\" transform=\"scale(0.015625)\"/>\r\n       <path id=\"DejaVuSans-20\" transform=\"scale(0.015625)\"/>\r\n       <path d=\"M 603 4863 \r\nL 1178 4863 \r\nL 1178 0 \r\nL 603 0 \r\nL 603 4863 \r\nz\r\n\" id=\"DejaVuSans-6c\" transform=\"scale(0.015625)\"/>\r\n       <path d=\"M 2194 1759 \r\nQ 1497 1759 1228 1600 \r\nQ 959 1441 959 1056 \r\nQ 959 750 1161 570 \r\nQ 1363 391 1709 391 \r\nQ 2188 391 2477 730 \r\nQ 2766 1069 2766 1631 \r\nL 2766 1759 \r\nL 2194 1759 \r\nz\r\nM 3341 1997 \r\nL 3341 0 \r\nL 2766 0 \r\nL 2766 531 \r\nQ 2569 213 2275 61 \r\nQ 1981 -91 1556 -91 \r\nQ 1019 -91 701 211 \r\nQ 384 513 384 1019 \r\nQ 384 1609 779 1909 \r\nQ 1175 2209 1959 2209 \r\nL 2766 2209 \r\nL 2766 2266 \r\nQ 2766 2663 2505 2880 \r\nQ 2244 3097 1772 3097 \r\nQ 1472 3097 1187 3025 \r\nQ 903 2953 641 2809 \r\nL 641 3341 \r\nQ 956 3463 1253 3523 \r\nQ 1550 3584 1831 3584 \r\nQ 2591 3584 2966 3190 \r\nQ 3341 2797 3341 1997 \r\nz\r\n\" id=\"DejaVuSans-61\" transform=\"scale(0.015625)\"/>\r\n       <path d=\"M 3116 1747 \r\nQ 3116 2381 2855 2742 \r\nQ 2594 3103 2138 3103 \r\nQ 1681 3103 1420 2742 \r\nQ 1159 2381 1159 1747 \r\nQ 1159 1113 1420 752 \r\nQ 1681 391 2138 391 \r\nQ 2594 391 2855 752 \r\nQ 3116 1113 3116 1747 \r\nz\r\nM 1159 2969 \r\nQ 1341 3281 1617 3432 \r\nQ 1894 3584 2278 3584 \r\nQ 2916 3584 3314 3078 \r\nQ 3713 2572 3713 1747 \r\nQ 3713 922 3314 415 \r\nQ 2916 -91 2278 -91 \r\nQ 1894 -91 1617 61 \r\nQ 1341 213 1159 525 \r\nL 1159 0 \r\nL 581 0 \r\nL 581 4863 \r\nL 1159 4863 \r\nL 1159 2969 \r\nz\r\n\" id=\"DejaVuSans-62\" transform=\"scale(0.015625)\"/>\r\n      </defs>\r\n      <use xlink:href=\"#DejaVuSans-50\"/>\r\n      <use x=\"58.552734\" xlink:href=\"#DejaVuSans-72\"/>\r\n      <use x=\"97.416016\" xlink:href=\"#DejaVuSans-65\"/>\r\n      <use x=\"158.939453\" xlink:href=\"#DejaVuSans-64\"/>\r\n      <use x=\"222.416016\" xlink:href=\"#DejaVuSans-69\"/>\r\n      <use x=\"250.199219\" xlink:href=\"#DejaVuSans-63\"/>\r\n      <use x=\"305.179688\" xlink:href=\"#DejaVuSans-74\"/>\r\n      <use x=\"344.388672\" xlink:href=\"#DejaVuSans-65\"/>\r\n      <use x=\"405.912109\" xlink:href=\"#DejaVuSans-64\"/>\r\n      <use x=\"469.388672\" xlink:href=\"#DejaVuSans-20\"/>\r\n      <use x=\"501.175781\" xlink:href=\"#DejaVuSans-6c\"/>\r\n      <use x=\"528.958984\" xlink:href=\"#DejaVuSans-61\"/>\r\n      <use x=\"590.238281\" xlink:href=\"#DejaVuSans-62\"/>\r\n      <use x=\"653.714844\" xlink:href=\"#DejaVuSans-65\"/>\r\n      <use x=\"715.238281\" xlink:href=\"#DejaVuSans-6c\"/>\r\n     </g>\r\n    </g>\r\n   </g>\r\n   <g id=\"matplotlib.axis_2\">\r\n    <g id=\"ytick_1\">\r\n     <g id=\"line2d_3\">\r\n      <defs>\r\n       <path d=\"M 0 0 \r\nL -3.5 0 \r\n\" id=\"mbb461ff604\" style=\"stroke:#000000;stroke-width:0.8;\"/>\r\n      </defs>\r\n      <g>\r\n       <use style=\"stroke:#000000;stroke-width:0.8;\" x=\"34.240625\" xlink:href=\"#mbb461ff604\" y=\"65.260472\"/>\r\n      </g>\r\n     </g>\r\n     <g id=\"text_4\">\r\n      <!-- 0 -->\r\n      <g transform=\"translate(20.878125 69.059691)scale(0.1 -0.1)\">\r\n       <use xlink:href=\"#DejaVuSans-30\"/>\r\n      </g>\r\n     </g>\r\n    </g>\r\n    <g id=\"ytick_2\">\r\n     <g id=\"line2d_4\">\r\n      <g>\r\n       <use style=\"stroke:#000000;stroke-width:0.8;\" x=\"34.240625\" xlink:href=\"#mbb461ff604\" y=\"173.980472\"/>\r\n      </g>\r\n     </g>\r\n     <g id=\"text_5\">\r\n      <!-- 1 -->\r\n      <g transform=\"translate(20.878125 177.779691)scale(0.1 -0.1)\">\r\n       <use xlink:href=\"#DejaVuSans-31\"/>\r\n      </g>\r\n     </g>\r\n    </g>\r\n    <g id=\"text_6\">\r\n     <!-- True label -->\r\n     <g transform=\"translate(14.798437 143.919691)rotate(-90)scale(0.1 -0.1)\">\r\n      <defs>\r\n       <path d=\"M -19 4666 \r\nL 3928 4666 \r\nL 3928 4134 \r\nL 2272 4134 \r\nL 2272 0 \r\nL 1638 0 \r\nL 1638 4134 \r\nL -19 4134 \r\nL -19 4666 \r\nz\r\n\" id=\"DejaVuSans-54\" transform=\"scale(0.015625)\"/>\r\n       <path d=\"M 544 1381 \r\nL 544 3500 \r\nL 1119 3500 \r\nL 1119 1403 \r\nQ 1119 906 1312 657 \r\nQ 1506 409 1894 409 \r\nQ 2359 409 2629 706 \r\nQ 2900 1003 2900 1516 \r\nL 2900 3500 \r\nL 3475 3500 \r\nL 3475 0 \r\nL 2900 0 \r\nL 2900 538 \r\nQ 2691 219 2414 64 \r\nQ 2138 -91 1772 -91 \r\nQ 1169 -91 856 284 \r\nQ 544 659 544 1381 \r\nz\r\nM 1991 3584 \r\nL 1991 3584 \r\nz\r\n\" id=\"DejaVuSans-75\" transform=\"scale(0.015625)\"/>\r\n      </defs>\r\n      <use xlink:href=\"#DejaVuSans-54\"/>\r\n      <use x=\"46.333984\" xlink:href=\"#DejaVuSans-72\"/>\r\n      <use x=\"87.447266\" xlink:href=\"#DejaVuSans-75\"/>\r\n      <use x=\"150.826172\" xlink:href=\"#DejaVuSans-65\"/>\r\n      <use x=\"212.349609\" xlink:href=\"#DejaVuSans-20\"/>\r\n      <use x=\"244.136719\" xlink:href=\"#DejaVuSans-6c\"/>\r\n      <use x=\"271.919922\" xlink:href=\"#DejaVuSans-61\"/>\r\n      <use x=\"333.199219\" xlink:href=\"#DejaVuSans-62\"/>\r\n      <use x=\"396.675781\" xlink:href=\"#DejaVuSans-65\"/>\r\n      <use x=\"458.199219\" xlink:href=\"#DejaVuSans-6c\"/>\r\n     </g>\r\n    </g>\r\n   </g>\r\n   <g id=\"patch_3\">\r\n    <path d=\"M 34.240625 228.340472 \r\nL 34.240625 10.900472 \r\n\" style=\"fill:none;stroke:#000000;stroke-linecap:square;stroke-linejoin:miter;stroke-width:0.8;\"/>\r\n   </g>\r\n   <g id=\"patch_4\">\r\n    <path d=\"M 251.680625 228.340472 \r\nL 251.680625 10.900472 \r\n\" style=\"fill:none;stroke:#000000;stroke-linecap:square;stroke-linejoin:miter;stroke-width:0.8;\"/>\r\n   </g>\r\n   <g id=\"patch_5\">\r\n    <path d=\"M 34.240625 228.340472 \r\nL 251.680625 228.340472 \r\n\" style=\"fill:none;stroke:#000000;stroke-linecap:square;stroke-linejoin:miter;stroke-width:0.8;\"/>\r\n   </g>\r\n   <g id=\"patch_6\">\r\n    <path d=\"M 34.240625 10.900472 \r\nL 251.680625 10.900472 \r\n\" style=\"fill:none;stroke:#000000;stroke-linecap:square;stroke-linejoin:miter;stroke-width:0.8;\"/>\r\n   </g>\r\n   <g id=\"text_7\">\r\n    <!-- 2751 -->\r\n    <g style=\"fill:#440154;\" transform=\"translate(75.875625 68.019847)scale(0.1 -0.1)\">\r\n     <defs>\r\n      <path d=\"M 1228 531 \r\nL 3431 531 \r\nL 3431 0 \r\nL 469 0 \r\nL 469 531 \r\nQ 828 903 1448 1529 \r\nQ 2069 2156 2228 2338 \r\nQ 2531 2678 2651 2914 \r\nQ 2772 3150 2772 3378 \r\nQ 2772 3750 2511 3984 \r\nQ 2250 4219 1831 4219 \r\nQ 1534 4219 1204 4116 \r\nQ 875 4013 500 3803 \r\nL 500 4441 \r\nQ 881 4594 1212 4672 \r\nQ 1544 4750 1819 4750 \r\nQ 2544 4750 2975 4387 \r\nQ 3406 4025 3406 3419 \r\nQ 3406 3131 3298 2873 \r\nQ 3191 2616 2906 2266 \r\nQ 2828 2175 2409 1742 \r\nQ 1991 1309 1228 531 \r\nz\r\n\" id=\"DejaVuSans-32\" transform=\"scale(0.015625)\"/>\r\n      <path d=\"M 525 4666 \r\nL 3525 4666 \r\nL 3525 4397 \r\nL 1831 0 \r\nL 1172 0 \r\nL 2766 4134 \r\nL 525 4134 \r\nL 525 4666 \r\nz\r\n\" id=\"DejaVuSans-37\" transform=\"scale(0.015625)\"/>\r\n      <path d=\"M 691 4666 \r\nL 3169 4666 \r\nL 3169 4134 \r\nL 1269 4134 \r\nL 1269 2991 \r\nQ 1406 3038 1543 3061 \r\nQ 1681 3084 1819 3084 \r\nQ 2600 3084 3056 2656 \r\nQ 3513 2228 3513 1497 \r\nQ 3513 744 3044 326 \r\nQ 2575 -91 1722 -91 \r\nQ 1428 -91 1123 -41 \r\nQ 819 9 494 109 \r\nL 494 744 \r\nQ 775 591 1075 516 \r\nQ 1375 441 1709 441 \r\nQ 2250 441 2565 725 \r\nQ 2881 1009 2881 1497 \r\nQ 2881 1984 2565 2268 \r\nQ 2250 2553 1709 2553 \r\nQ 1456 2553 1204 2497 \r\nQ 953 2441 691 2322 \r\nL 691 4666 \r\nz\r\n\" id=\"DejaVuSans-35\" transform=\"scale(0.015625)\"/>\r\n     </defs>\r\n     <use xlink:href=\"#DejaVuSans-32\"/>\r\n     <use x=\"63.623047\" xlink:href=\"#DejaVuSans-37\"/>\r\n     <use x=\"127.246094\" xlink:href=\"#DejaVuSans-35\"/>\r\n     <use x=\"190.869141\" xlink:href=\"#DejaVuSans-31\"/>\r\n    </g>\r\n   </g>\r\n   <g id=\"text_8\">\r\n    <!-- 549 -->\r\n    <g style=\"fill:#fde725;\" transform=\"translate(187.776875 68.019847)scale(0.1 -0.1)\">\r\n     <defs>\r\n      <path d=\"M 2419 4116 \r\nL 825 1625 \r\nL 2419 1625 \r\nL 2419 4116 \r\nz\r\nM 2253 4666 \r\nL 3047 4666 \r\nL 3047 1625 \r\nL 3713 1625 \r\nL 3713 1100 \r\nL 3047 1100 \r\nL 3047 0 \r\nL 2419 0 \r\nL 2419 1100 \r\nL 313 1100 \r\nL 313 1709 \r\nL 2253 4666 \r\nz\r\n\" id=\"DejaVuSans-34\" transform=\"scale(0.015625)\"/>\r\n      <path d=\"M 703 97 \r\nL 703 672 \r\nQ 941 559 1184 500 \r\nQ 1428 441 1663 441 \r\nQ 2288 441 2617 861 \r\nQ 2947 1281 2994 2138 \r\nQ 2813 1869 2534 1725 \r\nQ 2256 1581 1919 1581 \r\nQ 1219 1581 811 2004 \r\nQ 403 2428 403 3163 \r\nQ 403 3881 828 4315 \r\nQ 1253 4750 1959 4750 \r\nQ 2769 4750 3195 4129 \r\nQ 3622 3509 3622 2328 \r\nQ 3622 1225 3098 567 \r\nQ 2575 -91 1691 -91 \r\nQ 1453 -91 1209 -44 \r\nQ 966 3 703 97 \r\nz\r\nM 1959 2075 \r\nQ 2384 2075 2632 2365 \r\nQ 2881 2656 2881 3163 \r\nQ 2881 3666 2632 3958 \r\nQ 2384 4250 1959 4250 \r\nQ 1534 4250 1286 3958 \r\nQ 1038 3666 1038 3163 \r\nQ 1038 2656 1286 2365 \r\nQ 1534 2075 1959 2075 \r\nz\r\n\" id=\"DejaVuSans-39\" transform=\"scale(0.015625)\"/>\r\n     </defs>\r\n     <use xlink:href=\"#DejaVuSans-35\"/>\r\n     <use x=\"63.623047\" xlink:href=\"#DejaVuSans-34\"/>\r\n     <use x=\"127.246094\" xlink:href=\"#DejaVuSans-39\"/>\r\n    </g>\r\n   </g>\r\n   <g id=\"text_9\">\r\n    <!-- 679 -->\r\n    <g style=\"fill:#fde725;\" transform=\"translate(79.056875 176.739847)scale(0.1 -0.1)\">\r\n     <defs>\r\n      <path d=\"M 2113 2584 \r\nQ 1688 2584 1439 2293 \r\nQ 1191 2003 1191 1497 \r\nQ 1191 994 1439 701 \r\nQ 1688 409 2113 409 \r\nQ 2538 409 2786 701 \r\nQ 3034 994 3034 1497 \r\nQ 3034 2003 2786 2293 \r\nQ 2538 2584 2113 2584 \r\nz\r\nM 3366 4563 \r\nL 3366 3988 \r\nQ 3128 4100 2886 4159 \r\nQ 2644 4219 2406 4219 \r\nQ 1781 4219 1451 3797 \r\nQ 1122 3375 1075 2522 \r\nQ 1259 2794 1537 2939 \r\nQ 1816 3084 2150 3084 \r\nQ 2853 3084 3261 2657 \r\nQ 3669 2231 3669 1497 \r\nQ 3669 778 3244 343 \r\nQ 2819 -91 2113 -91 \r\nQ 1303 -91 875 529 \r\nQ 447 1150 447 2328 \r\nQ 447 3434 972 4092 \r\nQ 1497 4750 2381 4750 \r\nQ 2619 4750 2861 4703 \r\nQ 3103 4656 3366 4563 \r\nz\r\n\" id=\"DejaVuSans-36\" transform=\"scale(0.015625)\"/>\r\n     </defs>\r\n     <use xlink:href=\"#DejaVuSans-36\"/>\r\n     <use x=\"63.623047\" xlink:href=\"#DejaVuSans-37\"/>\r\n     <use x=\"127.246094\" xlink:href=\"#DejaVuSans-39\"/>\r\n    </g>\r\n   </g>\r\n   <g id=\"text_10\">\r\n    <!-- 2070 -->\r\n    <g style=\"fill:#440154;\" transform=\"translate(184.595625 176.739847)scale(0.1 -0.1)\">\r\n     <use xlink:href=\"#DejaVuSans-32\"/>\r\n     <use x=\"63.623047\" xlink:href=\"#DejaVuSans-30\"/>\r\n     <use x=\"127.246094\" xlink:href=\"#DejaVuSans-37\"/>\r\n     <use x=\"190.869141\" xlink:href=\"#DejaVuSans-30\"/>\r\n    </g>\r\n   </g>\r\n  </g>\r\n  <g id=\"axes_2\">\r\n   <g id=\"patch_7\">\r\n    <path d=\"M 268.420625 228.340472 \r\nL 279.292625 228.340472 \r\nL 279.292625 10.900472 \r\nL 268.420625 10.900472 \r\nz\r\n\" style=\"fill:#ffffff;\"/>\r\n   </g>\r\n   <g id=\"patch_8\">\r\n    <path clip-path=\"url(#p1b2cbfbc39)\" d=\"M 268.420625 228.340472 \r\nL 268.420625 227.491097 \r\nL 268.420625 11.749847 \r\nL 268.420625 10.900472 \r\nL 279.292625 10.900472 \r\nL 279.292625 11.749847 \r\nL 279.292625 227.491097 \r\nL 279.292625 228.340472 \r\nL 279.292625 228.340472 \r\nz\r\n\" style=\"fill:#ffffff;stroke:#ffffff;stroke-linejoin:miter;stroke-width:0.01;\"/>\r\n   </g>\r\n   <image height=\"217\" id=\"imagebc4c87e814\" transform=\"scale(1 -1)translate(0 -217)\" width=\"11\" x=\"268\" xlink:href=\"data:image/png;base64,\r\niVBORw0KGgoAAAANSUhEUgAAAAsAAADZCAYAAAD2WsoCAAABUklEQVR4nN2awQ3CQAwEz/aFyqiB/gsBQguex0g+eK9W6/HmAiTxzNe9mp8dGV3t2iuyL/acF3GOKhKDZE6SmTnPGHAIDSQuL4ZVUZGzFuNmmdtak8aUzB7n0pz7Wjog4Xx7lxUZ0CsSckboYOuQMxGTDaIYJ9KAA2p9ZuiI85BzY8YGj+yGdxRoFR2ylCk0+lo184wT6f/XPSTzgc5DYsDy96/vM9GNoAFCyDTAgN4GEWdYfssZfLs0B/Q4h5bZdCbi/FrOM9Cltm5Ew4wBxEWOAsZ5jUBXrM9WkSANK8YmNLwBmbNHIzQanjPhvPPTF5e4botGTaHhDWg5X4FooBhAjDaInNmAMzbIOBN0V7xJDK+iqBsInUYDDUiWgtaNrhQ4oHWHZRvUYjxYRdtamrlvvDZ4zrx2gd9L+yLPgJI4oxjMmWTeC7yuU+SdkwR/Uv0A7xuAaGKmOKMAAAAASUVORK5CYII=\" y=\"-10\"/>\r\n   <g id=\"matplotlib.axis_3\"/>\r\n   <g id=\"matplotlib.axis_4\">\r\n    <g id=\"ytick_3\">\r\n     <g id=\"line2d_5\">\r\n      <defs>\r\n       <path d=\"M 0 0 \r\nL 3.5 0 \r\n\" id=\"m557e9d45bf\" style=\"stroke:#000000;stroke-width:0.8;\"/>\r\n      </defs>\r\n      <g>\r\n       <use style=\"stroke:#000000;stroke-width:0.8;\" x=\"279.292625\" xlink:href=\"#m557e9d45bf\" y=\"208.492407\"/>\r\n      </g>\r\n     </g>\r\n     <g id=\"text_11\">\r\n      <!-- 750 -->\r\n      <g transform=\"translate(286.292625 212.291626)scale(0.1 -0.1)\">\r\n       <use xlink:href=\"#DejaVuSans-37\"/>\r\n       <use x=\"63.623047\" xlink:href=\"#DejaVuSans-35\"/>\r\n       <use x=\"127.246094\" xlink:href=\"#DejaVuSans-30\"/>\r\n      </g>\r\n     </g>\r\n    </g>\r\n    <g id=\"ytick_4\">\r\n     <g id=\"line2d_6\">\r\n      <g>\r\n       <use style=\"stroke:#000000;stroke-width:0.8;\" x=\"279.292625\" xlink:href=\"#m557e9d45bf\" y=\"183.805758\"/>\r\n      </g>\r\n     </g>\r\n     <g id=\"text_12\">\r\n      <!-- 1000 -->\r\n      <g transform=\"translate(286.292625 187.604977)scale(0.1 -0.1)\">\r\n       <use xlink:href=\"#DejaVuSans-31\"/>\r\n       <use x=\"63.623047\" xlink:href=\"#DejaVuSans-30\"/>\r\n       <use x=\"127.246094\" xlink:href=\"#DejaVuSans-30\"/>\r\n       <use x=\"190.869141\" xlink:href=\"#DejaVuSans-30\"/>\r\n      </g>\r\n     </g>\r\n    </g>\r\n    <g id=\"ytick_5\">\r\n     <g id=\"line2d_7\">\r\n      <g>\r\n       <use style=\"stroke:#000000;stroke-width:0.8;\" x=\"279.292625\" xlink:href=\"#m557e9d45bf\" y=\"159.11911\"/>\r\n      </g>\r\n     </g>\r\n     <g id=\"text_13\">\r\n      <!-- 1250 -->\r\n      <g transform=\"translate(286.292625 162.918329)scale(0.1 -0.1)\">\r\n       <use xlink:href=\"#DejaVuSans-31\"/>\r\n       <use x=\"63.623047\" xlink:href=\"#DejaVuSans-32\"/>\r\n       <use x=\"127.246094\" xlink:href=\"#DejaVuSans-35\"/>\r\n       <use x=\"190.869141\" xlink:href=\"#DejaVuSans-30\"/>\r\n      </g>\r\n     </g>\r\n    </g>\r\n    <g id=\"ytick_6\">\r\n     <g id=\"line2d_8\">\r\n      <g>\r\n       <use style=\"stroke:#000000;stroke-width:0.8;\" x=\"279.292625\" xlink:href=\"#m557e9d45bf\" y=\"134.432461\"/>\r\n      </g>\r\n     </g>\r\n     <g id=\"text_14\">\r\n      <!-- 1500 -->\r\n      <g transform=\"translate(286.292625 138.23168)scale(0.1 -0.1)\">\r\n       <use xlink:href=\"#DejaVuSans-31\"/>\r\n       <use x=\"63.623047\" xlink:href=\"#DejaVuSans-35\"/>\r\n       <use x=\"127.246094\" xlink:href=\"#DejaVuSans-30\"/>\r\n       <use x=\"190.869141\" xlink:href=\"#DejaVuSans-30\"/>\r\n      </g>\r\n     </g>\r\n    </g>\r\n    <g id=\"ytick_7\">\r\n     <g id=\"line2d_9\">\r\n      <g>\r\n       <use style=\"stroke:#000000;stroke-width:0.8;\" x=\"279.292625\" xlink:href=\"#m557e9d45bf\" y=\"109.745813\"/>\r\n      </g>\r\n     </g>\r\n     <g id=\"text_15\">\r\n      <!-- 1750 -->\r\n      <g transform=\"translate(286.292625 113.545032)scale(0.1 -0.1)\">\r\n       <use xlink:href=\"#DejaVuSans-31\"/>\r\n       <use x=\"63.623047\" xlink:href=\"#DejaVuSans-37\"/>\r\n       <use x=\"127.246094\" xlink:href=\"#DejaVuSans-35\"/>\r\n       <use x=\"190.869141\" xlink:href=\"#DejaVuSans-30\"/>\r\n      </g>\r\n     </g>\r\n    </g>\r\n    <g id=\"ytick_8\">\r\n     <g id=\"line2d_10\">\r\n      <g>\r\n       <use style=\"stroke:#000000;stroke-width:0.8;\" x=\"279.292625\" xlink:href=\"#m557e9d45bf\" y=\"85.059164\"/>\r\n      </g>\r\n     </g>\r\n     <g id=\"text_16\">\r\n      <!-- 2000 -->\r\n      <g transform=\"translate(286.292625 88.858383)scale(0.1 -0.1)\">\r\n       <use xlink:href=\"#DejaVuSans-32\"/>\r\n       <use x=\"63.623047\" xlink:href=\"#DejaVuSans-30\"/>\r\n       <use x=\"127.246094\" xlink:href=\"#DejaVuSans-30\"/>\r\n       <use x=\"190.869141\" xlink:href=\"#DejaVuSans-30\"/>\r\n      </g>\r\n     </g>\r\n    </g>\r\n    <g id=\"ytick_9\">\r\n     <g id=\"line2d_11\">\r\n      <g>\r\n       <use style=\"stroke:#000000;stroke-width:0.8;\" x=\"279.292625\" xlink:href=\"#m557e9d45bf\" y=\"60.372516\"/>\r\n      </g>\r\n     </g>\r\n     <g id=\"text_17\">\r\n      <!-- 2250 -->\r\n      <g transform=\"translate(286.292625 64.171735)scale(0.1 -0.1)\">\r\n       <use xlink:href=\"#DejaVuSans-32\"/>\r\n       <use x=\"63.623047\" xlink:href=\"#DejaVuSans-32\"/>\r\n       <use x=\"127.246094\" xlink:href=\"#DejaVuSans-35\"/>\r\n       <use x=\"190.869141\" xlink:href=\"#DejaVuSans-30\"/>\r\n      </g>\r\n     </g>\r\n    </g>\r\n    <g id=\"ytick_10\">\r\n     <g id=\"line2d_12\">\r\n      <g>\r\n       <use style=\"stroke:#000000;stroke-width:0.8;\" x=\"279.292625\" xlink:href=\"#m557e9d45bf\" y=\"35.685867\"/>\r\n      </g>\r\n     </g>\r\n     <g id=\"text_18\">\r\n      <!-- 2500 -->\r\n      <g transform=\"translate(286.292625 39.485086)scale(0.1 -0.1)\">\r\n       <use xlink:href=\"#DejaVuSans-32\"/>\r\n       <use x=\"63.623047\" xlink:href=\"#DejaVuSans-35\"/>\r\n       <use x=\"127.246094\" xlink:href=\"#DejaVuSans-30\"/>\r\n       <use x=\"190.869141\" xlink:href=\"#DejaVuSans-30\"/>\r\n      </g>\r\n     </g>\r\n    </g>\r\n    <g id=\"ytick_11\">\r\n     <g id=\"line2d_13\">\r\n      <g>\r\n       <use style=\"stroke:#000000;stroke-width:0.8;\" x=\"279.292625\" xlink:href=\"#m557e9d45bf\" y=\"10.999219\"/>\r\n      </g>\r\n     </g>\r\n     <g id=\"text_19\">\r\n      <!-- 2750 -->\r\n      <g transform=\"translate(286.292625 14.798438)scale(0.1 -0.1)\">\r\n       <use xlink:href=\"#DejaVuSans-32\"/>\r\n       <use x=\"63.623047\" xlink:href=\"#DejaVuSans-37\"/>\r\n       <use x=\"127.246094\" xlink:href=\"#DejaVuSans-35\"/>\r\n       <use x=\"190.869141\" xlink:href=\"#DejaVuSans-30\"/>\r\n      </g>\r\n     </g>\r\n    </g>\r\n   </g>\r\n   <g id=\"LineCollection_1\"/>\r\n   <g id=\"patch_9\">\r\n    <path d=\"M 268.420625 228.340472 \r\nL 268.420625 227.491097 \r\nL 268.420625 11.749847 \r\nL 268.420625 10.900472 \r\nL 279.292625 10.900472 \r\nL 279.292625 11.749847 \r\nL 279.292625 227.491097 \r\nL 279.292625 228.340472 \r\nz\r\n\" style=\"fill:none;stroke:#000000;stroke-linecap:square;stroke-linejoin:miter;stroke-width:0.8;\"/>\r\n   </g>\r\n  </g>\r\n </g>\r\n <defs>\r\n  <clipPath id=\"pb99ddce856\">\r\n   <rect height=\"217.44\" width=\"217.44\" x=\"34.240625\" y=\"10.900472\"/>\r\n  </clipPath>\r\n  <clipPath id=\"p1b2cbfbc39\">\r\n   <rect height=\"217.44\" width=\"10.872\" x=\"268.420625\" y=\"10.900472\"/>\r\n  </clipPath>\r\n </defs>\r\n</svg>\r\n",
            "image/png": "[encoded data removed]"
          },
          "metadata": {
            "needs_background": "light"
          }
        }
      ],
      "source": [
        "plot_confusion_matrix(classification, X_test_scaled, y_test)"
      ]
    },
    {
      "cell_type": "markdown",
      "metadata": {
        "id": "pgN165X7vpa4"
      },
      "source": [
        "<h1 style=\"background-color:#ABFF9B;font-size:20px;color:#00033E;font-weight : bold\">Print out Classification Report for LR :</h1>"
      ]
    },
    {
      "cell_type": "code",
      "execution_count": null,
      "metadata": {},
      "outputs": [],
      "source": []
    },
    {
      "cell_type": "code",
      "metadata": {
        "id": "FzcnzDD9vpa4"
      },
      "source": [
        "## ======== YOUR CODE HERE ======== ##\n",
        "classification_report(y_test, y_pred)\n",
        "## ================================ ##\n"
      ],
      "execution_count": 35,
      "outputs": [
        {
          "output_type": "execute_result",
          "data": {
            "text/plain": [
              "'              precision    recall  f1-score   support\\n\\n           0       0.80      0.83      0.82      3300\\n           1       0.79      0.75      0.77      2749\\n\\n    accuracy                           0.80      6049\\n   macro avg       0.80      0.79      0.79      6049\\nweighted avg       0.80      0.80      0.80      6049\\n'"
            ]
          },
          "metadata": {},
          "execution_count": 35
        }
      ]
    },
    {
      "cell_type": "markdown",
      "metadata": {
        "id": "Xle8Hr2vvpa4"
      },
      "source": [
        "<h1 style=\"background-color:#ABFF9B;font-size:20px;color:#00033E;font-weight : bold\">Print Training and Testing Score along with Accuracy score for LR :</h1> "
      ]
    },
    {
      "cell_type": "code",
      "metadata": {
        "id": "ND1kWpJMvpa5"
      },
      "source": [
        "## ======== YOUR CODE HERE ======== ##\n",
        "print(\"Train Accuracy:\",classification.score(X_train_scaled, y_train))\n",
        "print(\"Test Accuracy:\",classification.score(X_test_scaled, y_test))\n",
        "## ================================ ##"
      ],
      "execution_count": 52,
      "outputs": [
        {
          "output_type": "stream",
          "name": "stdout",
          "text": [
            "Train Accuracy: 0.7989199316691464\nTest Accuracy: 0.7969912382211936\n"
          ]
        }
      ]
    },
    {
      "cell_type": "code",
      "metadata": {
        "id": "jm3sW4ZTvpa5"
      },
      "source": [
        "## ======== YOUR CODE HERE ======== ##\n",
        "\n",
        "## Print Accuracy Score for LR\n",
        "print('Accuracy score for test', accuracy_score(y_test, y_pred)*100)\n",
        "## ================================ ##"
      ],
      "execution_count": 53,
      "outputs": [
        {
          "output_type": "stream",
          "name": "stdout",
          "text": [
            "Accuracy score for test 79.69912382211936\n"
          ]
        }
      ]
    },
    {
      "cell_type": "markdown",
      "metadata": {
        "id": "T16gbfRQvpa5"
      },
      "source": [
        "<h1 style=\"background-color:#ABFF9B;font-size:20px;color:#00033E;font-weight : bold\">Print ROC - AUC Score for LR :</h1> "
      ]
    },
    {
      "cell_type": "code",
      "metadata": {
        "id": "IV0ubSL9vpa5"
      },
      "source": [
        "## ======== YOUR CODE HERE ======== ##\n",
        "\n",
        "roc_auc_score(y_test,y_pred)\n",
        "\n",
        "## ================================ ##"
      ],
      "execution_count": 54,
      "outputs": [
        {
          "output_type": "execute_result",
          "data": {
            "text/plain": [
              "0.7933187274711465"
            ]
          },
          "metadata": {},
          "execution_count": 54
        }
      ]
    },
    {
      "cell_type": "markdown",
      "metadata": {
        "id": "og34rzbSvpa5"
      },
      "source": [
        "<h1 style=\"background-color:#ABFF9B;font-size:20px;color:#00033E;font-weight : bold\">Train SVM with C = 50 and gamma = scale :</h1>"
      ]
    },
    {
      "cell_type": "code",
      "metadata": {
        "id": "_fw1j2cxvpa5"
      },
      "source": [
        "## ======== YOUR CODE HERE ======== ##\n",
        "\n",
        "## Set probability = True \n",
        "\n",
        "svm = SVC(C = 50, gamma= 'scale', probability=True)\n",
        "svm.fit(X_train_scaled, y_train)\n",
        "## ================================ ##"
      ],
      "execution_count": 46,
      "outputs": [
        {
          "output_type": "execute_result",
          "data": {
            "text/plain": [
              "SVC(C=50, probability=True)"
            ]
          },
          "metadata": {},
          "execution_count": 46
        }
      ]
    },
    {
      "cell_type": "markdown",
      "metadata": {
        "id": "y8VRDRHXvpa6"
      },
      "source": [
        "<h1 style=\"background-color:#ABFF9B;font-size:20px;color:#00033E;font-weight : bold\">Plot Confusion Matrix for SVM :</h1>"
      ]
    },
    {
      "cell_type": "code",
      "metadata": {
        "id": "1TTVlekPvpa6"
      },
      "source": [
        "## ======== YOUR CODE HERE ======== ##\n",
        "\n",
        "## Use display labels as per your choice.\n",
        "\n",
        "plot_confusion_matrix(svm, X_train_scaled, y_train )\n",
        "\n",
        "## ================================ ##\n"
      ],
      "execution_count": 47,
      "outputs": [
        {
          "output_type": "execute_result",
          "data": {
            "text/plain": [
              "<sklearn.metrics._plot.confusion_matrix.ConfusionMatrixDisplay at 0x26e4412f7c0>"
            ]
          },
          "metadata": {},
          "execution_count": 47
        },
        {
          "output_type": "display_data",
          "data": {
            "text/plain": "<Figure size 432x288 with 2 Axes>",
            "image/svg+xml": "<?xml version=\"1.0\" encoding=\"utf-8\" standalone=\"no\"?>\r\n<!DOCTYPE svg PUBLIC \"-//W3C//DTD SVG 1.1//EN\"\r\n  \"http://www.w3.org/Graphics/SVG/1.1/DTD/svg11.dtd\">\r\n<svg height=\"262.19625pt\" version=\"1.1\" viewBox=\"0 0 318.942625 262.19625\" width=\"318.942625pt\" xmlns=\"http://www.w3.org/2000/svg\" xmlns:xlink=\"http://www.w3.org/1999/xlink\">\r\n <metadata>\r\n  <rdf:RDF xmlns:cc=\"http://creativecommons.org/ns#\" xmlns:dc=\"http://purl.org/dc/elements/1.1/\" xmlns:rdf=\"http://www.w3.org/1999/02/22-rdf-syntax-ns#\">\r\n   <cc:Work>\r\n    <dc:type rdf:resource=\"http://purl.org/dc/dcmitype/StillImage\"/>\r\n    <dc:date>2021-06-11T14:30:58.085447</dc:date>\r\n    <dc:format>image/svg+xml</dc:format>\r\n    <dc:creator>\r\n     <cc:Agent>\r\n      <dc:title>Matplotlib v3.4.2, https://matplotlib.org/</dc:title>\r\n     </cc:Agent>\r\n    </dc:creator>\r\n   </cc:Work>\r\n  </rdf:RDF>\r\n </metadata>\r\n <defs>\r\n  <style type=\"text/css\">*{stroke-linecap:butt;stroke-linejoin:round;}</style>\r\n </defs>\r\n <g id=\"figure_1\">\r\n  <g id=\"patch_1\">\r\n   <path d=\"M 0 262.19625 \r\nL 318.942625 262.19625 \r\nL 318.942625 0 \r\nL 0 0 \r\nz\r\n\" style=\"fill:none;\"/>\r\n  </g>\r\n  <g id=\"axes_1\">\r\n   <g id=\"patch_2\">\r\n    <path d=\"M 34.240625 224.64 \r\nL 251.680625 224.64 \r\nL 251.680625 7.2 \r\nL 34.240625 7.2 \r\nz\r\n\" style=\"fill:#ffffff;\"/>\r\n   </g>\r\n   <g clip-path=\"url(#p55aade6de9)\">\r\n    <image height=\"218\" id=\"image22ada698a5\" transform=\"scale(1 -1)translate(0 -218)\" width=\"218\" x=\"34.240625\" xlink:href=\"data:image/png;base64,\r\niVBORw0KGgoAAAANSUhEUgAAANoAAADaCAYAAADAHVzbAAACmklEQVR4nO3VwQnCUAAFQSPYhGcLkPQgacGeLcQeBElq+Jf9iDMVvMvylsfluZ/4KevrM3sCg86zB8A/EBoEhAYBoUFAaBAQGgSEBgGhQUBoEBAaBIQGAaFBQGgQEBoEhAYBoUFAaBAQGgSEBgGhQUBoEBAaBIQGAaFBQGgQEBoEhAYBoUFAaBAQGgSEBgGhQUBoEBAaBIQGAaFBQGgQEBoEhAYBoUFAaBAQGgSEBgGhQUBoEBAaBIQGAaFBQGgQEBoEhAYBoUFAaBAQGgSEBgGhQUBoEBAaBIQGAaFBQGgQEBoEhAYBoUFAaBAQGgSEBgGhQUBoEBAaBIQGAaFBQGgQEBoEhAYBoUFAaBAQGgSEBgGhQUBoEBAaBIQGAaFBQGgQEBoEhAYBoUFAaBAQGgSEBgGhQUBoEBAaBIQGAaFBQGgQEBoEhAYBoUFAaBAQGgSEBgGhQUBoEBAaBIQGAaFBYPm+b/vsEYzZrvfZExjk0SAgNAgIDQJCg4DQICA0CAgNAkKDgNAgIDQICA0CQoOA0CAgNAgIDQJCg4DQICA0CAgNAkKDgNAgIDQICA0CQoOA0CAgNAgIDQJCg4DQICA0CAgNAkKDgNAgIDQICA0CQoOA0CAgNAgIDQJCg4DQICA0CAgNAkKDgNAgIDQICA0CQoOA0CAgNAgIDQJCg4DQICA0CAgNAkKDgNAgIDQICA0CQoOA0CAgNAgIDQJCg4DQICA0CAgNAkKDgNAgIDQICA0CQoOA0CAgNAgIDQJCg4DQICA0CAgNAkKDgNAgIDQICA0CQoOA0CAgNAgIDQJCg4DQICA0CAgNAkKDgNAgIDQICA0CQoOA0CAgNAgIDQJCg4DQICA0CAgNAkKDgNAgIDQICA0CQoPAAak8COPfOV+YAAAAAElFTkSuQmCC\" y=\"-6.64\"/>\r\n   </g>\r\n   <g id=\"matplotlib.axis_1\">\r\n    <g id=\"xtick_1\">\r\n     <g id=\"line2d_1\">\r\n      <defs>\r\n       <path d=\"M 0 0 \r\nL 0 3.5 \r\n\" id=\"m5c0169008d\" style=\"stroke:#000000;stroke-width:0.8;\"/>\r\n      </defs>\r\n      <g>\r\n       <use style=\"stroke:#000000;stroke-width:0.8;\" x=\"88.600625\" xlink:href=\"#m5c0169008d\" y=\"224.64\"/>\r\n      </g>\r\n     </g>\r\n     <g id=\"text_1\">\r\n      <!-- 0 -->\r\n      <g transform=\"translate(85.419375 239.238437)scale(0.1 -0.1)\">\r\n       <defs>\r\n        <path d=\"M 2034 4250 \r\nQ 1547 4250 1301 3770 \r\nQ 1056 3291 1056 2328 \r\nQ 1056 1369 1301 889 \r\nQ 1547 409 2034 409 \r\nQ 2525 409 2770 889 \r\nQ 3016 1369 3016 2328 \r\nQ 3016 3291 2770 3770 \r\nQ 2525 4250 2034 4250 \r\nz\r\nM 2034 4750 \r\nQ 2819 4750 3233 4129 \r\nQ 3647 3509 3647 2328 \r\nQ 3647 1150 3233 529 \r\nQ 2819 -91 2034 -91 \r\nQ 1250 -91 836 529 \r\nQ 422 1150 422 2328 \r\nQ 422 3509 836 4129 \r\nQ 1250 4750 2034 4750 \r\nz\r\n\" id=\"DejaVuSans-30\" transform=\"scale(0.015625)\"/>\r\n       </defs>\r\n       <use xlink:href=\"#DejaVuSans-30\"/>\r\n      </g>\r\n     </g>\r\n    </g>\r\n    <g id=\"xtick_2\">\r\n     <g id=\"line2d_2\">\r\n      <g>\r\n       <use style=\"stroke:#000000;stroke-width:0.8;\" x=\"197.320625\" xlink:href=\"#m5c0169008d\" y=\"224.64\"/>\r\n      </g>\r\n     </g>\r\n     <g id=\"text_2\">\r\n      <!-- 1 -->\r\n      <g transform=\"translate(194.139375 239.238437)scale(0.1 -0.1)\">\r\n       <defs>\r\n        <path d=\"M 794 531 \r\nL 1825 531 \r\nL 1825 4091 \r\nL 703 3866 \r\nL 703 4441 \r\nL 1819 4666 \r\nL 2450 4666 \r\nL 2450 531 \r\nL 3481 531 \r\nL 3481 0 \r\nL 794 0 \r\nL 794 531 \r\nz\r\n\" id=\"DejaVuSans-31\" transform=\"scale(0.015625)\"/>\r\n       </defs>\r\n       <use xlink:href=\"#DejaVuSans-31\"/>\r\n      </g>\r\n     </g>\r\n    </g>\r\n    <g id=\"text_3\">\r\n     <!-- Predicted label -->\r\n     <g transform=\"translate(105.808281 252.916562)scale(0.1 -0.1)\">\r\n      <defs>\r\n       <path d=\"M 1259 4147 \r\nL 1259 2394 \r\nL 2053 2394 \r\nQ 2494 2394 2734 2622 \r\nQ 2975 2850 2975 3272 \r\nQ 2975 3691 2734 3919 \r\nQ 2494 4147 2053 4147 \r\nL 1259 4147 \r\nz\r\nM 628 4666 \r\nL 2053 4666 \r\nQ 2838 4666 3239 4311 \r\nQ 3641 3956 3641 3272 \r\nQ 3641 2581 3239 2228 \r\nQ 2838 1875 2053 1875 \r\nL 1259 1875 \r\nL 1259 0 \r\nL 628 0 \r\nL 628 4666 \r\nz\r\n\" id=\"DejaVuSans-50\" transform=\"scale(0.015625)\"/>\r\n       <path d=\"M 2631 2963 \r\nQ 2534 3019 2420 3045 \r\nQ 2306 3072 2169 3072 \r\nQ 1681 3072 1420 2755 \r\nQ 1159 2438 1159 1844 \r\nL 1159 0 \r\nL 581 0 \r\nL 581 3500 \r\nL 1159 3500 \r\nL 1159 2956 \r\nQ 1341 3275 1631 3429 \r\nQ 1922 3584 2338 3584 \r\nQ 2397 3584 2469 3576 \r\nQ 2541 3569 2628 3553 \r\nL 2631 2963 \r\nz\r\n\" id=\"DejaVuSans-72\" transform=\"scale(0.015625)\"/>\r\n       <path d=\"M 3597 1894 \r\nL 3597 1613 \r\nL 953 1613 \r\nQ 991 1019 1311 708 \r\nQ 1631 397 2203 397 \r\nQ 2534 397 2845 478 \r\nQ 3156 559 3463 722 \r\nL 3463 178 \r\nQ 3153 47 2828 -22 \r\nQ 2503 -91 2169 -91 \r\nQ 1331 -91 842 396 \r\nQ 353 884 353 1716 \r\nQ 353 2575 817 3079 \r\nQ 1281 3584 2069 3584 \r\nQ 2775 3584 3186 3129 \r\nQ 3597 2675 3597 1894 \r\nz\r\nM 3022 2063 \r\nQ 3016 2534 2758 2815 \r\nQ 2500 3097 2075 3097 \r\nQ 1594 3097 1305 2825 \r\nQ 1016 2553 972 2059 \r\nL 3022 2063 \r\nz\r\n\" id=\"DejaVuSans-65\" transform=\"scale(0.015625)\"/>\r\n       <path d=\"M 2906 2969 \r\nL 2906 4863 \r\nL 3481 4863 \r\nL 3481 0 \r\nL 2906 0 \r\nL 2906 525 \r\nQ 2725 213 2448 61 \r\nQ 2172 -91 1784 -91 \r\nQ 1150 -91 751 415 \r\nQ 353 922 353 1747 \r\nQ 353 2572 751 3078 \r\nQ 1150 3584 1784 3584 \r\nQ 2172 3584 2448 3432 \r\nQ 2725 3281 2906 2969 \r\nz\r\nM 947 1747 \r\nQ 947 1113 1208 752 \r\nQ 1469 391 1925 391 \r\nQ 2381 391 2643 752 \r\nQ 2906 1113 2906 1747 \r\nQ 2906 2381 2643 2742 \r\nQ 2381 3103 1925 3103 \r\nQ 1469 3103 1208 2742 \r\nQ 947 2381 947 1747 \r\nz\r\n\" id=\"DejaVuSans-64\" transform=\"scale(0.015625)\"/>\r\n       <path d=\"M 603 3500 \r\nL 1178 3500 \r\nL 1178 0 \r\nL 603 0 \r\nL 603 3500 \r\nz\r\nM 603 4863 \r\nL 1178 4863 \r\nL 1178 4134 \r\nL 603 4134 \r\nL 603 4863 \r\nz\r\n\" id=\"DejaVuSans-69\" transform=\"scale(0.015625)\"/>\r\n       <path d=\"M 3122 3366 \r\nL 3122 2828 \r\nQ 2878 2963 2633 3030 \r\nQ 2388 3097 2138 3097 \r\nQ 1578 3097 1268 2742 \r\nQ 959 2388 959 1747 \r\nQ 959 1106 1268 751 \r\nQ 1578 397 2138 397 \r\nQ 2388 397 2633 464 \r\nQ 2878 531 3122 666 \r\nL 3122 134 \r\nQ 2881 22 2623 -34 \r\nQ 2366 -91 2075 -91 \r\nQ 1284 -91 818 406 \r\nQ 353 903 353 1747 \r\nQ 353 2603 823 3093 \r\nQ 1294 3584 2113 3584 \r\nQ 2378 3584 2631 3529 \r\nQ 2884 3475 3122 3366 \r\nz\r\n\" id=\"DejaVuSans-63\" transform=\"scale(0.015625)\"/>\r\n       <path d=\"M 1172 4494 \r\nL 1172 3500 \r\nL 2356 3500 \r\nL 2356 3053 \r\nL 1172 3053 \r\nL 1172 1153 \r\nQ 1172 725 1289 603 \r\nQ 1406 481 1766 481 \r\nL 2356 481 \r\nL 2356 0 \r\nL 1766 0 \r\nQ 1100 0 847 248 \r\nQ 594 497 594 1153 \r\nL 594 3053 \r\nL 172 3053 \r\nL 172 3500 \r\nL 594 3500 \r\nL 594 4494 \r\nL 1172 4494 \r\nz\r\n\" id=\"DejaVuSans-74\" transform=\"scale(0.015625)\"/>\r\n       <path id=\"DejaVuSans-20\" transform=\"scale(0.015625)\"/>\r\n       <path d=\"M 603 4863 \r\nL 1178 4863 \r\nL 1178 0 \r\nL 603 0 \r\nL 603 4863 \r\nz\r\n\" id=\"DejaVuSans-6c\" transform=\"scale(0.015625)\"/>\r\n       <path d=\"M 2194 1759 \r\nQ 1497 1759 1228 1600 \r\nQ 959 1441 959 1056 \r\nQ 959 750 1161 570 \r\nQ 1363 391 1709 391 \r\nQ 2188 391 2477 730 \r\nQ 2766 1069 2766 1631 \r\nL 2766 1759 \r\nL 2194 1759 \r\nz\r\nM 3341 1997 \r\nL 3341 0 \r\nL 2766 0 \r\nL 2766 531 \r\nQ 2569 213 2275 61 \r\nQ 1981 -91 1556 -91 \r\nQ 1019 -91 701 211 \r\nQ 384 513 384 1019 \r\nQ 384 1609 779 1909 \r\nQ 1175 2209 1959 2209 \r\nL 2766 2209 \r\nL 2766 2266 \r\nQ 2766 2663 2505 2880 \r\nQ 2244 3097 1772 3097 \r\nQ 1472 3097 1187 3025 \r\nQ 903 2953 641 2809 \r\nL 641 3341 \r\nQ 956 3463 1253 3523 \r\nQ 1550 3584 1831 3584 \r\nQ 2591 3584 2966 3190 \r\nQ 3341 2797 3341 1997 \r\nz\r\n\" id=\"DejaVuSans-61\" transform=\"scale(0.015625)\"/>\r\n       <path d=\"M 3116 1747 \r\nQ 3116 2381 2855 2742 \r\nQ 2594 3103 2138 3103 \r\nQ 1681 3103 1420 2742 \r\nQ 1159 2381 1159 1747 \r\nQ 1159 1113 1420 752 \r\nQ 1681 391 2138 391 \r\nQ 2594 391 2855 752 \r\nQ 3116 1113 3116 1747 \r\nz\r\nM 1159 2969 \r\nQ 1341 3281 1617 3432 \r\nQ 1894 3584 2278 3584 \r\nQ 2916 3584 3314 3078 \r\nQ 3713 2572 3713 1747 \r\nQ 3713 922 3314 415 \r\nQ 2916 -91 2278 -91 \r\nQ 1894 -91 1617 61 \r\nQ 1341 213 1159 525 \r\nL 1159 0 \r\nL 581 0 \r\nL 581 4863 \r\nL 1159 4863 \r\nL 1159 2969 \r\nz\r\n\" id=\"DejaVuSans-62\" transform=\"scale(0.015625)\"/>\r\n      </defs>\r\n      <use xlink:href=\"#DejaVuSans-50\"/>\r\n      <use x=\"58.552734\" xlink:href=\"#DejaVuSans-72\"/>\r\n      <use x=\"97.416016\" xlink:href=\"#DejaVuSans-65\"/>\r\n      <use x=\"158.939453\" xlink:href=\"#DejaVuSans-64\"/>\r\n      <use x=\"222.416016\" xlink:href=\"#DejaVuSans-69\"/>\r\n      <use x=\"250.199219\" xlink:href=\"#DejaVuSans-63\"/>\r\n      <use x=\"305.179688\" xlink:href=\"#DejaVuSans-74\"/>\r\n      <use x=\"344.388672\" xlink:href=\"#DejaVuSans-65\"/>\r\n      <use x=\"405.912109\" xlink:href=\"#DejaVuSans-64\"/>\r\n      <use x=\"469.388672\" xlink:href=\"#DejaVuSans-20\"/>\r\n      <use x=\"501.175781\" xlink:href=\"#DejaVuSans-6c\"/>\r\n      <use x=\"528.958984\" xlink:href=\"#DejaVuSans-61\"/>\r\n      <use x=\"590.238281\" xlink:href=\"#DejaVuSans-62\"/>\r\n      <use x=\"653.714844\" xlink:href=\"#DejaVuSans-65\"/>\r\n      <use x=\"715.238281\" xlink:href=\"#DejaVuSans-6c\"/>\r\n     </g>\r\n    </g>\r\n   </g>\r\n   <g id=\"matplotlib.axis_2\">\r\n    <g id=\"ytick_1\">\r\n     <g id=\"line2d_3\">\r\n      <defs>\r\n       <path d=\"M 0 0 \r\nL -3.5 0 \r\n\" id=\"m440a9689e4\" style=\"stroke:#000000;stroke-width:0.8;\"/>\r\n      </defs>\r\n      <g>\r\n       <use style=\"stroke:#000000;stroke-width:0.8;\" x=\"34.240625\" xlink:href=\"#m440a9689e4\" y=\"61.56\"/>\r\n      </g>\r\n     </g>\r\n     <g id=\"text_4\">\r\n      <!-- 0 -->\r\n      <g transform=\"translate(20.878125 65.359219)scale(0.1 -0.1)\">\r\n       <use xlink:href=\"#DejaVuSans-30\"/>\r\n      </g>\r\n     </g>\r\n    </g>\r\n    <g id=\"ytick_2\">\r\n     <g id=\"line2d_4\">\r\n      <g>\r\n       <use style=\"stroke:#000000;stroke-width:0.8;\" x=\"34.240625\" xlink:href=\"#m440a9689e4\" y=\"170.28\"/>\r\n      </g>\r\n     </g>\r\n     <g id=\"text_5\">\r\n      <!-- 1 -->\r\n      <g transform=\"translate(20.878125 174.079219)scale(0.1 -0.1)\">\r\n       <use xlink:href=\"#DejaVuSans-31\"/>\r\n      </g>\r\n     </g>\r\n    </g>\r\n    <g id=\"text_6\">\r\n     <!-- True label -->\r\n     <g transform=\"translate(14.798437 140.219219)rotate(-90)scale(0.1 -0.1)\">\r\n      <defs>\r\n       <path d=\"M -19 4666 \r\nL 3928 4666 \r\nL 3928 4134 \r\nL 2272 4134 \r\nL 2272 0 \r\nL 1638 0 \r\nL 1638 4134 \r\nL -19 4134 \r\nL -19 4666 \r\nz\r\n\" id=\"DejaVuSans-54\" transform=\"scale(0.015625)\"/>\r\n       <path d=\"M 544 1381 \r\nL 544 3500 \r\nL 1119 3500 \r\nL 1119 1403 \r\nQ 1119 906 1312 657 \r\nQ 1506 409 1894 409 \r\nQ 2359 409 2629 706 \r\nQ 2900 1003 2900 1516 \r\nL 2900 3500 \r\nL 3475 3500 \r\nL 3475 0 \r\nL 2900 0 \r\nL 2900 538 \r\nQ 2691 219 2414 64 \r\nQ 2138 -91 1772 -91 \r\nQ 1169 -91 856 284 \r\nQ 544 659 544 1381 \r\nz\r\nM 1991 3584 \r\nL 1991 3584 \r\nz\r\n\" id=\"DejaVuSans-75\" transform=\"scale(0.015625)\"/>\r\n      </defs>\r\n      <use xlink:href=\"#DejaVuSans-54\"/>\r\n      <use x=\"46.333984\" xlink:href=\"#DejaVuSans-72\"/>\r\n      <use x=\"87.447266\" xlink:href=\"#DejaVuSans-75\"/>\r\n      <use x=\"150.826172\" xlink:href=\"#DejaVuSans-65\"/>\r\n      <use x=\"212.349609\" xlink:href=\"#DejaVuSans-20\"/>\r\n      <use x=\"244.136719\" xlink:href=\"#DejaVuSans-6c\"/>\r\n      <use x=\"271.919922\" xlink:href=\"#DejaVuSans-61\"/>\r\n      <use x=\"333.199219\" xlink:href=\"#DejaVuSans-62\"/>\r\n      <use x=\"396.675781\" xlink:href=\"#DejaVuSans-65\"/>\r\n      <use x=\"458.199219\" xlink:href=\"#DejaVuSans-6c\"/>\r\n     </g>\r\n    </g>\r\n   </g>\r\n   <g id=\"patch_3\">\r\n    <path d=\"M 34.240625 224.64 \r\nL 34.240625 7.2 \r\n\" style=\"fill:none;stroke:#000000;stroke-linecap:square;stroke-linejoin:miter;stroke-width:0.8;\"/>\r\n   </g>\r\n   <g id=\"patch_4\">\r\n    <path d=\"M 251.680625 224.64 \r\nL 251.680625 7.2 \r\n\" style=\"fill:none;stroke:#000000;stroke-linecap:square;stroke-linejoin:miter;stroke-width:0.8;\"/>\r\n   </g>\r\n   <g id=\"patch_5\">\r\n    <path d=\"M 34.240625 224.64 \r\nL 251.680625 224.64 \r\n\" style=\"fill:none;stroke:#000000;stroke-linecap:square;stroke-linejoin:miter;stroke-width:0.8;\"/>\r\n   </g>\r\n   <g id=\"patch_6\">\r\n    <path d=\"M 34.240625 7.2 \r\nL 251.680625 7.2 \r\n\" style=\"fill:none;stroke:#000000;stroke-linecap:square;stroke-linejoin:miter;stroke-width:0.8;\"/>\r\n   </g>\r\n   <g id=\"text_7\">\r\n    <!-- 9325 -->\r\n    <g style=\"fill:#440154;\" transform=\"translate(75.875625 64.319375)scale(0.1 -0.1)\">\r\n     <defs>\r\n      <path d=\"M 703 97 \r\nL 703 672 \r\nQ 941 559 1184 500 \r\nQ 1428 441 1663 441 \r\nQ 2288 441 2617 861 \r\nQ 2947 1281 2994 2138 \r\nQ 2813 1869 2534 1725 \r\nQ 2256 1581 1919 1581 \r\nQ 1219 1581 811 2004 \r\nQ 403 2428 403 3163 \r\nQ 403 3881 828 4315 \r\nQ 1253 4750 1959 4750 \r\nQ 2769 4750 3195 4129 \r\nQ 3622 3509 3622 2328 \r\nQ 3622 1225 3098 567 \r\nQ 2575 -91 1691 -91 \r\nQ 1453 -91 1209 -44 \r\nQ 966 3 703 97 \r\nz\r\nM 1959 2075 \r\nQ 2384 2075 2632 2365 \r\nQ 2881 2656 2881 3163 \r\nQ 2881 3666 2632 3958 \r\nQ 2384 4250 1959 4250 \r\nQ 1534 4250 1286 3958 \r\nQ 1038 3666 1038 3163 \r\nQ 1038 2656 1286 2365 \r\nQ 1534 2075 1959 2075 \r\nz\r\n\" id=\"DejaVuSans-39\" transform=\"scale(0.015625)\"/>\r\n      <path d=\"M 2597 2516 \r\nQ 3050 2419 3304 2112 \r\nQ 3559 1806 3559 1356 \r\nQ 3559 666 3084 287 \r\nQ 2609 -91 1734 -91 \r\nQ 1441 -91 1130 -33 \r\nQ 819 25 488 141 \r\nL 488 750 \r\nQ 750 597 1062 519 \r\nQ 1375 441 1716 441 \r\nQ 2309 441 2620 675 \r\nQ 2931 909 2931 1356 \r\nQ 2931 1769 2642 2001 \r\nQ 2353 2234 1838 2234 \r\nL 1294 2234 \r\nL 1294 2753 \r\nL 1863 2753 \r\nQ 2328 2753 2575 2939 \r\nQ 2822 3125 2822 3475 \r\nQ 2822 3834 2567 4026 \r\nQ 2313 4219 1838 4219 \r\nQ 1578 4219 1281 4162 \r\nQ 984 4106 628 3988 \r\nL 628 4550 \r\nQ 988 4650 1302 4700 \r\nQ 1616 4750 1894 4750 \r\nQ 2613 4750 3031 4423 \r\nQ 3450 4097 3450 3541 \r\nQ 3450 3153 3228 2886 \r\nQ 3006 2619 2597 2516 \r\nz\r\n\" id=\"DejaVuSans-33\" transform=\"scale(0.015625)\"/>\r\n      <path d=\"M 1228 531 \r\nL 3431 531 \r\nL 3431 0 \r\nL 469 0 \r\nL 469 531 \r\nQ 828 903 1448 1529 \r\nQ 2069 2156 2228 2338 \r\nQ 2531 2678 2651 2914 \r\nQ 2772 3150 2772 3378 \r\nQ 2772 3750 2511 3984 \r\nQ 2250 4219 1831 4219 \r\nQ 1534 4219 1204 4116 \r\nQ 875 4013 500 3803 \r\nL 500 4441 \r\nQ 881 4594 1212 4672 \r\nQ 1544 4750 1819 4750 \r\nQ 2544 4750 2975 4387 \r\nQ 3406 4025 3406 3419 \r\nQ 3406 3131 3298 2873 \r\nQ 3191 2616 2906 2266 \r\nQ 2828 2175 2409 1742 \r\nQ 1991 1309 1228 531 \r\nz\r\n\" id=\"DejaVuSans-32\" transform=\"scale(0.015625)\"/>\r\n      <path d=\"M 691 4666 \r\nL 3169 4666 \r\nL 3169 4134 \r\nL 1269 4134 \r\nL 1269 2991 \r\nQ 1406 3038 1543 3061 \r\nQ 1681 3084 1819 3084 \r\nQ 2600 3084 3056 2656 \r\nQ 3513 2228 3513 1497 \r\nQ 3513 744 3044 326 \r\nQ 2575 -91 1722 -91 \r\nQ 1428 -91 1123 -41 \r\nQ 819 9 494 109 \r\nL 494 744 \r\nQ 775 591 1075 516 \r\nQ 1375 441 1709 441 \r\nQ 2250 441 2565 725 \r\nQ 2881 1009 2881 1497 \r\nQ 2881 1984 2565 2268 \r\nQ 2250 2553 1709 2553 \r\nQ 1456 2553 1204 2497 \r\nQ 953 2441 691 2322 \r\nL 691 4666 \r\nz\r\n\" id=\"DejaVuSans-35\" transform=\"scale(0.015625)\"/>\r\n     </defs>\r\n     <use xlink:href=\"#DejaVuSans-39\"/>\r\n     <use x=\"63.623047\" xlink:href=\"#DejaVuSans-33\"/>\r\n     <use x=\"127.246094\" xlink:href=\"#DejaVuSans-32\"/>\r\n     <use x=\"190.869141\" xlink:href=\"#DejaVuSans-35\"/>\r\n    </g>\r\n   </g>\r\n   <g id=\"text_8\">\r\n    <!-- 588 -->\r\n    <g style=\"fill:#fde725;\" transform=\"translate(187.776875 64.319375)scale(0.1 -0.1)\">\r\n     <defs>\r\n      <path d=\"M 2034 2216 \r\nQ 1584 2216 1326 1975 \r\nQ 1069 1734 1069 1313 \r\nQ 1069 891 1326 650 \r\nQ 1584 409 2034 409 \r\nQ 2484 409 2743 651 \r\nQ 3003 894 3003 1313 \r\nQ 3003 1734 2745 1975 \r\nQ 2488 2216 2034 2216 \r\nz\r\nM 1403 2484 \r\nQ 997 2584 770 2862 \r\nQ 544 3141 544 3541 \r\nQ 544 4100 942 4425 \r\nQ 1341 4750 2034 4750 \r\nQ 2731 4750 3128 4425 \r\nQ 3525 4100 3525 3541 \r\nQ 3525 3141 3298 2862 \r\nQ 3072 2584 2669 2484 \r\nQ 3125 2378 3379 2068 \r\nQ 3634 1759 3634 1313 \r\nQ 3634 634 3220 271 \r\nQ 2806 -91 2034 -91 \r\nQ 1263 -91 848 271 \r\nQ 434 634 434 1313 \r\nQ 434 1759 690 2068 \r\nQ 947 2378 1403 2484 \r\nz\r\nM 1172 3481 \r\nQ 1172 3119 1398 2916 \r\nQ 1625 2713 2034 2713 \r\nQ 2441 2713 2670 2916 \r\nQ 2900 3119 2900 3481 \r\nQ 2900 3844 2670 4047 \r\nQ 2441 4250 2034 4250 \r\nQ 1625 4250 1398 4047 \r\nQ 1172 3844 1172 3481 \r\nz\r\n\" id=\"DejaVuSans-38\" transform=\"scale(0.015625)\"/>\r\n     </defs>\r\n     <use xlink:href=\"#DejaVuSans-35\"/>\r\n     <use x=\"63.623047\" xlink:href=\"#DejaVuSans-38\"/>\r\n     <use x=\"127.246094\" xlink:href=\"#DejaVuSans-38\"/>\r\n    </g>\r\n   </g>\r\n   <g id=\"text_9\">\r\n    <!-- 698 -->\r\n    <g style=\"fill:#fde725;\" transform=\"translate(79.056875 173.039375)scale(0.1 -0.1)\">\r\n     <defs>\r\n      <path d=\"M 2113 2584 \r\nQ 1688 2584 1439 2293 \r\nQ 1191 2003 1191 1497 \r\nQ 1191 994 1439 701 \r\nQ 1688 409 2113 409 \r\nQ 2538 409 2786 701 \r\nQ 3034 994 3034 1497 \r\nQ 3034 2003 2786 2293 \r\nQ 2538 2584 2113 2584 \r\nz\r\nM 3366 4563 \r\nL 3366 3988 \r\nQ 3128 4100 2886 4159 \r\nQ 2644 4219 2406 4219 \r\nQ 1781 4219 1451 3797 \r\nQ 1122 3375 1075 2522 \r\nQ 1259 2794 1537 2939 \r\nQ 1816 3084 2150 3084 \r\nQ 2853 3084 3261 2657 \r\nQ 3669 2231 3669 1497 \r\nQ 3669 778 3244 343 \r\nQ 2819 -91 2113 -91 \r\nQ 1303 -91 875 529 \r\nQ 447 1150 447 2328 \r\nQ 447 3434 972 4092 \r\nQ 1497 4750 2381 4750 \r\nQ 2619 4750 2861 4703 \r\nQ 3103 4656 3366 4563 \r\nz\r\n\" id=\"DejaVuSans-36\" transform=\"scale(0.015625)\"/>\r\n     </defs>\r\n     <use xlink:href=\"#DejaVuSans-36\"/>\r\n     <use x=\"63.623047\" xlink:href=\"#DejaVuSans-39\"/>\r\n     <use x=\"127.246094\" xlink:href=\"#DejaVuSans-38\"/>\r\n    </g>\r\n   </g>\r\n   <g id=\"text_10\">\r\n    <!-- 7536 -->\r\n    <g style=\"fill:#440154;\" transform=\"translate(184.595625 173.039375)scale(0.1 -0.1)\">\r\n     <defs>\r\n      <path d=\"M 525 4666 \r\nL 3525 4666 \r\nL 3525 4397 \r\nL 1831 0 \r\nL 1172 0 \r\nL 2766 4134 \r\nL 525 4134 \r\nL 525 4666 \r\nz\r\n\" id=\"DejaVuSans-37\" transform=\"scale(0.015625)\"/>\r\n     </defs>\r\n     <use xlink:href=\"#DejaVuSans-37\"/>\r\n     <use x=\"63.623047\" xlink:href=\"#DejaVuSans-35\"/>\r\n     <use x=\"127.246094\" xlink:href=\"#DejaVuSans-33\"/>\r\n     <use x=\"190.869141\" xlink:href=\"#DejaVuSans-36\"/>\r\n    </g>\r\n   </g>\r\n  </g>\r\n  <g id=\"axes_2\">\r\n   <g id=\"patch_7\">\r\n    <path d=\"M 268.420625 224.64 \r\nL 279.292625 224.64 \r\nL 279.292625 7.2 \r\nL 268.420625 7.2 \r\nz\r\n\" style=\"fill:#ffffff;\"/>\r\n   </g>\r\n   <g id=\"patch_8\">\r\n    <path clip-path=\"url(#p1bbfb92827)\" d=\"M 268.420625 224.64 \r\nL 268.420625 223.790625 \r\nL 268.420625 8.049375 \r\nL 268.420625 7.2 \r\nL 279.292625 7.2 \r\nL 279.292625 8.049375 \r\nL 279.292625 223.790625 \r\nL 279.292625 224.64 \r\nL 279.292625 224.64 \r\nz\r\n\" style=\"fill:#ffffff;stroke:#ffffff;stroke-linejoin:miter;stroke-width:0.01;\"/>\r\n   </g>\r\n   <image height=\"217\" id=\"image77933efd49\" transform=\"scale(1 -1)translate(0 -217)\" width=\"11\" x=\"268\" xlink:href=\"data:image/png;base64,\r\niVBORw0KGgoAAAANSUhEUgAAAAsAAADZCAYAAAD2WsoCAAABUklEQVR4nN2awQ3CQAwEz/aFyqiB/gsBQguex0g+eK9W6/HmAiTxzNe9mp8dGV3t2iuyL/acF3GOKhKDZE6SmTnPGHAIDSQuL4ZVUZGzFuNmmdtak8aUzB7n0pz7Wjog4Xx7lxUZ0CsSckboYOuQMxGTDaIYJ9KAA2p9ZuiI85BzY8YGj+yGdxRoFR2ylCk0+lo184wT6f/XPSTzgc5DYsDy96/vM9GNoAFCyDTAgN4GEWdYfssZfLs0B/Q4h5bZdCbi/FrOM9Cltm5Ew4wBxEWOAsZ5jUBXrM9WkSANK8YmNLwBmbNHIzQanjPhvPPTF5e4botGTaHhDWg5X4FooBhAjDaInNmAMzbIOBN0V7xJDK+iqBsInUYDDUiWgtaNrhQ4oHWHZRvUYjxYRdtamrlvvDZ4zrx2gd9L+yLPgJI4oxjMmWTeC7yuU+SdkwR/Uv0A7xuAaGKmOKMAAAAASUVORK5CYII=\" y=\"-7\"/>\r\n   <g id=\"matplotlib.axis_3\"/>\r\n   <g id=\"matplotlib.axis_4\">\r\n    <g id=\"ytick_3\">\r\n     <g id=\"line2d_5\">\r\n      <defs>\r\n       <path d=\"M 0 0 \r\nL 3.5 0 \r\n\" id=\"mab8765ac6e\" style=\"stroke:#000000;stroke-width:0.8;\"/>\r\n      </defs>\r\n      <g>\r\n       <use style=\"stroke:#000000;stroke-width:0.8;\" x=\"279.292625\" xlink:href=\"#mab8765ac6e\" y=\"214.386448\"/>\r\n      </g>\r\n     </g>\r\n     <g id=\"text_11\">\r\n      <!-- 1000 -->\r\n      <g transform=\"translate(286.292625 218.185667)scale(0.1 -0.1)\">\r\n       <use xlink:href=\"#DejaVuSans-31\"/>\r\n       <use x=\"63.623047\" xlink:href=\"#DejaVuSans-30\"/>\r\n       <use x=\"127.246094\" xlink:href=\"#DejaVuSans-30\"/>\r\n       <use x=\"190.869141\" xlink:href=\"#DejaVuSans-30\"/>\r\n      </g>\r\n     </g>\r\n    </g>\r\n    <g id=\"ytick_4\">\r\n     <g id=\"line2d_6\">\r\n      <g>\r\n       <use style=\"stroke:#000000;stroke-width:0.8;\" x=\"279.292625\" xlink:href=\"#mab8765ac6e\" y=\"189.499187\"/>\r\n      </g>\r\n     </g>\r\n     <g id=\"text_12\">\r\n      <!-- 2000 -->\r\n      <g transform=\"translate(286.292625 193.298406)scale(0.1 -0.1)\">\r\n       <use xlink:href=\"#DejaVuSans-32\"/>\r\n       <use x=\"63.623047\" xlink:href=\"#DejaVuSans-30\"/>\r\n       <use x=\"127.246094\" xlink:href=\"#DejaVuSans-30\"/>\r\n       <use x=\"190.869141\" xlink:href=\"#DejaVuSans-30\"/>\r\n      </g>\r\n     </g>\r\n    </g>\r\n    <g id=\"ytick_5\">\r\n     <g id=\"line2d_7\">\r\n      <g>\r\n       <use style=\"stroke:#000000;stroke-width:0.8;\" x=\"279.292625\" xlink:href=\"#mab8765ac6e\" y=\"164.611926\"/>\r\n      </g>\r\n     </g>\r\n     <g id=\"text_13\">\r\n      <!-- 3000 -->\r\n      <g transform=\"translate(286.292625 168.411145)scale(0.1 -0.1)\">\r\n       <use xlink:href=\"#DejaVuSans-33\"/>\r\n       <use x=\"63.623047\" xlink:href=\"#DejaVuSans-30\"/>\r\n       <use x=\"127.246094\" xlink:href=\"#DejaVuSans-30\"/>\r\n       <use x=\"190.869141\" xlink:href=\"#DejaVuSans-30\"/>\r\n      </g>\r\n     </g>\r\n    </g>\r\n    <g id=\"ytick_6\">\r\n     <g id=\"line2d_8\">\r\n      <g>\r\n       <use style=\"stroke:#000000;stroke-width:0.8;\" x=\"279.292625\" xlink:href=\"#mab8765ac6e\" y=\"139.724665\"/>\r\n      </g>\r\n     </g>\r\n     <g id=\"text_14\">\r\n      <!-- 4000 -->\r\n      <g transform=\"translate(286.292625 143.523884)scale(0.1 -0.1)\">\r\n       <defs>\r\n        <path d=\"M 2419 4116 \r\nL 825 1625 \r\nL 2419 1625 \r\nL 2419 4116 \r\nz\r\nM 2253 4666 \r\nL 3047 4666 \r\nL 3047 1625 \r\nL 3713 1625 \r\nL 3713 1100 \r\nL 3047 1100 \r\nL 3047 0 \r\nL 2419 0 \r\nL 2419 1100 \r\nL 313 1100 \r\nL 313 1709 \r\nL 2253 4666 \r\nz\r\n\" id=\"DejaVuSans-34\" transform=\"scale(0.015625)\"/>\r\n       </defs>\r\n       <use xlink:href=\"#DejaVuSans-34\"/>\r\n       <use x=\"63.623047\" xlink:href=\"#DejaVuSans-30\"/>\r\n       <use x=\"127.246094\" xlink:href=\"#DejaVuSans-30\"/>\r\n       <use x=\"190.869141\" xlink:href=\"#DejaVuSans-30\"/>\r\n      </g>\r\n     </g>\r\n    </g>\r\n    <g id=\"ytick_7\">\r\n     <g id=\"line2d_9\">\r\n      <g>\r\n       <use style=\"stroke:#000000;stroke-width:0.8;\" x=\"279.292625\" xlink:href=\"#mab8765ac6e\" y=\"114.837404\"/>\r\n      </g>\r\n     </g>\r\n     <g id=\"text_15\">\r\n      <!-- 5000 -->\r\n      <g transform=\"translate(286.292625 118.636623)scale(0.1 -0.1)\">\r\n       <use xlink:href=\"#DejaVuSans-35\"/>\r\n       <use x=\"63.623047\" xlink:href=\"#DejaVuSans-30\"/>\r\n       <use x=\"127.246094\" xlink:href=\"#DejaVuSans-30\"/>\r\n       <use x=\"190.869141\" xlink:href=\"#DejaVuSans-30\"/>\r\n      </g>\r\n     </g>\r\n    </g>\r\n    <g id=\"ytick_8\">\r\n     <g id=\"line2d_10\">\r\n      <g>\r\n       <use style=\"stroke:#000000;stroke-width:0.8;\" x=\"279.292625\" xlink:href=\"#mab8765ac6e\" y=\"89.950143\"/>\r\n      </g>\r\n     </g>\r\n     <g id=\"text_16\">\r\n      <!-- 6000 -->\r\n      <g transform=\"translate(286.292625 93.749362)scale(0.1 -0.1)\">\r\n       <use xlink:href=\"#DejaVuSans-36\"/>\r\n       <use x=\"63.623047\" xlink:href=\"#DejaVuSans-30\"/>\r\n       <use x=\"127.246094\" xlink:href=\"#DejaVuSans-30\"/>\r\n       <use x=\"190.869141\" xlink:href=\"#DejaVuSans-30\"/>\r\n      </g>\r\n     </g>\r\n    </g>\r\n    <g id=\"ytick_9\">\r\n     <g id=\"line2d_11\">\r\n      <g>\r\n       <use style=\"stroke:#000000;stroke-width:0.8;\" x=\"279.292625\" xlink:href=\"#mab8765ac6e\" y=\"65.062882\"/>\r\n      </g>\r\n     </g>\r\n     <g id=\"text_17\">\r\n      <!-- 7000 -->\r\n      <g transform=\"translate(286.292625 68.862101)scale(0.1 -0.1)\">\r\n       <use xlink:href=\"#DejaVuSans-37\"/>\r\n       <use x=\"63.623047\" xlink:href=\"#DejaVuSans-30\"/>\r\n       <use x=\"127.246094\" xlink:href=\"#DejaVuSans-30\"/>\r\n       <use x=\"190.869141\" xlink:href=\"#DejaVuSans-30\"/>\r\n      </g>\r\n     </g>\r\n    </g>\r\n    <g id=\"ytick_10\">\r\n     <g id=\"line2d_12\">\r\n      <g>\r\n       <use style=\"stroke:#000000;stroke-width:0.8;\" x=\"279.292625\" xlink:href=\"#mab8765ac6e\" y=\"40.175621\"/>\r\n      </g>\r\n     </g>\r\n     <g id=\"text_18\">\r\n      <!-- 8000 -->\r\n      <g transform=\"translate(286.292625 43.97484)scale(0.1 -0.1)\">\r\n       <use xlink:href=\"#DejaVuSans-38\"/>\r\n       <use x=\"63.623047\" xlink:href=\"#DejaVuSans-30\"/>\r\n       <use x=\"127.246094\" xlink:href=\"#DejaVuSans-30\"/>\r\n       <use x=\"190.869141\" xlink:href=\"#DejaVuSans-30\"/>\r\n      </g>\r\n     </g>\r\n    </g>\r\n    <g id=\"ytick_11\">\r\n     <g id=\"line2d_13\">\r\n      <g>\r\n       <use style=\"stroke:#000000;stroke-width:0.8;\" x=\"279.292625\" xlink:href=\"#mab8765ac6e\" y=\"15.28836\"/>\r\n      </g>\r\n     </g>\r\n     <g id=\"text_19\">\r\n      <!-- 9000 -->\r\n      <g transform=\"translate(286.292625 19.087579)scale(0.1 -0.1)\">\r\n       <use xlink:href=\"#DejaVuSans-39\"/>\r\n       <use x=\"63.623047\" xlink:href=\"#DejaVuSans-30\"/>\r\n       <use x=\"127.246094\" xlink:href=\"#DejaVuSans-30\"/>\r\n       <use x=\"190.869141\" xlink:href=\"#DejaVuSans-30\"/>\r\n      </g>\r\n     </g>\r\n    </g>\r\n   </g>\r\n   <g id=\"LineCollection_1\"/>\r\n   <g id=\"patch_9\">\r\n    <path d=\"M 268.420625 224.64 \r\nL 268.420625 223.790625 \r\nL 268.420625 8.049375 \r\nL 268.420625 7.2 \r\nL 279.292625 7.2 \r\nL 279.292625 8.049375 \r\nL 279.292625 223.790625 \r\nL 279.292625 224.64 \r\nz\r\n\" style=\"fill:none;stroke:#000000;stroke-linecap:square;stroke-linejoin:miter;stroke-width:0.8;\"/>\r\n   </g>\r\n  </g>\r\n </g>\r\n <defs>\r\n  <clipPath id=\"p55aade6de9\">\r\n   <rect height=\"217.44\" width=\"217.44\" x=\"34.240625\" y=\"7.2\"/>\r\n  </clipPath>\r\n  <clipPath id=\"p1bbfb92827\">\r\n   <rect height=\"217.44\" width=\"10.872\" x=\"268.420625\" y=\"7.2\"/>\r\n  </clipPath>\r\n </defs>\r\n</svg>\r\n",
            "image/png": "[encoded data removed]"
          },
          "metadata": {
            "needs_background": "light"
          }
        }
      ]
    },
    {
      "cell_type": "markdown",
      "metadata": {
        "id": "TNWvmLSivpa6"
      },
      "source": [
        "<h1 style=\"background-color:#ABFF9B;font-size:20px;color:#00033E;font-weight : bold\">Print out Classification Report for SVM :</h1>"
      ]
    },
    {
      "cell_type": "code",
      "execution_count": 55,
      "metadata": {},
      "outputs": [],
      "source": [
        "y_pred_svm = svm.predict(X_test_scaled)"
      ]
    },
    {
      "cell_type": "code",
      "metadata": {
        "id": "yQDf6wOdvpa6"
      },
      "source": [
        "## ======== YOUR CODE HERE ======== ##\n",
        "\n",
        "classification_report(y_test, y_pred_svm)\n",
        "## ================================ ##"
      ],
      "execution_count": 56,
      "outputs": [
        {
          "output_type": "execute_result",
          "data": {
            "text/plain": [
              "'              precision    recall  f1-score   support\\n\\n           0       0.80      0.81      0.80      3300\\n           1       0.76      0.76      0.76      2749\\n\\n    accuracy                           0.78      6049\\n   macro avg       0.78      0.78      0.78      6049\\nweighted avg       0.78      0.78      0.78      6049\\n'"
            ]
          },
          "metadata": {},
          "execution_count": 56
        }
      ]
    },
    {
      "cell_type": "markdown",
      "metadata": {
        "id": "SfF49qwIvpa7"
      },
      "source": [
        "<h1 style=\"background-color:#ABFF9B;font-size:20px;color:#00033E;font-weight : bold\">Print out Accuracy score for SVM :</h1>"
      ]
    },
    {
      "cell_type": "code",
      "metadata": {
        "id": "lH1lkfsFvpa7"
      },
      "source": [
        "## ======== YOUR CODE HERE ======== ##\n",
        "\n",
        "accuracy_score(y_test, y_pred_svm)\n",
        "## ================================ ##"
      ],
      "execution_count": 57,
      "outputs": [
        {
          "output_type": "execute_result",
          "data": {
            "text/plain": [
              "0.7834352785584394"
            ]
          },
          "metadata": {},
          "execution_count": 57
        }
      ]
    },
    {
      "cell_type": "markdown",
      "metadata": {
        "id": "0tlgy05Jvpa7"
      },
      "source": [
        "<h1 style=\"background-color:#ABFF9B;font-size:20px;color:#00033E;font-weight : bold\">Print Training and Testing Score for SVM :</h1> "
      ]
    },
    {
      "cell_type": "code",
      "metadata": {
        "id": "yqofS78Xvpa7"
      },
      "source": [
        "## ======== YOUR CODE HERE ======== ##\n",
        "\n",
        "print(\"Train Accuracy:\",svm.score(X_train_scaled, y_train))\n",
        "print(\"Test Accuracy:\",svm.score(X_test_scaled, y_test))\n",
        "\n",
        "## ================================ ##"
      ],
      "execution_count": 58,
      "outputs": [
        {
          "output_type": "stream",
          "name": "stdout",
          "text": [
            "Train Accuracy: 0.9291342921695046\n",
            "Test Accuracy: 0.7834352785584394\n"
          ]
        }
      ]
    },
    {
      "cell_type": "markdown",
      "metadata": {
        "id": "Ti_PCgHpvpa7"
      },
      "source": [
        "<h1 style=\"background-color:#ABFF9B;font-size:20px;color:#00033E;font-weight : bold\">Plot ROC curve and calculate ROC - AUC score for SVM :</h1> "
      ]
    },
    {
      "cell_type": "code",
      "metadata": {
        "id": "iml9q7hrvpa8"
      },
      "source": [
        "## ======== YOUR CODE HERE ======== ##\n",
        "\n",
        "## Set appropriate X label, Y label and Title for the graph\n",
        "\n",
        "from sklearn.metrics import plot_roc_curve\n",
        "plot_roc_curve(svm, X_test_scaled, y_test)\n",
        "\n",
        "## ================================ ##"
      ],
      "execution_count": 64,
      "outputs": [
        {
          "output_type": "execute_result",
          "data": {
            "text/plain": [
              "<sklearn.metrics._plot.roc_curve.RocCurveDisplay at 0x26e440197c0>"
            ]
          },
          "metadata": {},
          "execution_count": 64
        },
        {
          "output_type": "display_data",
          "data": {
            "text/plain": "<Figure size 432x288 with 1 Axes>",
            "image/svg+xml": "<?xml version=\"1.0\" encoding=\"utf-8\" standalone=\"no\"?>\r\n<!DOCTYPE svg PUBLIC \"-//W3C//DTD SVG 1.1//EN\"\r\n  \"http://www.w3.org/Graphics/SVG/1.1/DTD/svg11.dtd\">\r\n<svg height=\"262.19625pt\" version=\"1.1\" viewBox=\"0 0 385.78125 262.19625\" width=\"385.78125pt\" xmlns=\"http://www.w3.org/2000/svg\" xmlns:xlink=\"http://www.w3.org/1999/xlink\">\r\n <metadata>\r\n  <rdf:RDF xmlns:cc=\"http://creativecommons.org/ns#\" xmlns:dc=\"http://purl.org/dc/elements/1.1/\" xmlns:rdf=\"http://www.w3.org/1999/02/22-rdf-syntax-ns#\">\r\n   <cc:Work>\r\n    <dc:type rdf:resource=\"http://purl.org/dc/dcmitype/StillImage\"/>\r\n    <dc:date>2021-06-11T14:38:57.985485</dc:date>\r\n    <dc:format>image/svg+xml</dc:format>\r\n    <dc:creator>\r\n     <cc:Agent>\r\n      <dc:title>Matplotlib v3.4.2, https://matplotlib.org/</dc:title>\r\n     </cc:Agent>\r\n    </dc:creator>\r\n   </cc:Work>\r\n  </rdf:RDF>\r\n </metadata>\r\n <defs>\r\n  <style type=\"text/css\">*{stroke-linecap:butt;stroke-linejoin:round;}</style>\r\n </defs>\r\n <g id=\"figure_1\">\r\n  <g id=\"patch_1\">\r\n   <path d=\"M 0 262.19625 \r\nL 385.78125 262.19625 \r\nL 385.78125 0 \r\nL 0 0 \r\nz\r\n\" style=\"fill:none;\"/>\r\n  </g>\r\n  <g id=\"axes_1\">\r\n   <g id=\"patch_2\">\r\n    <path d=\"M 43.78125 224.64 \r\nL 378.58125 224.64 \r\nL 378.58125 7.2 \r\nL 43.78125 7.2 \r\nz\r\n\" style=\"fill:#ffffff;\"/>\r\n   </g>\r\n   <g id=\"matplotlib.axis_1\">\r\n    <g id=\"xtick_1\">\r\n     <g id=\"line2d_1\">\r\n      <defs>\r\n       <path d=\"M 0 0 \r\nL 0 3.5 \r\n\" id=\"mf44d8d6987\" style=\"stroke:#000000;stroke-width:0.8;\"/>\r\n      </defs>\r\n      <g>\r\n       <use style=\"stroke:#000000;stroke-width:0.8;\" x=\"58.999432\" xlink:href=\"#mf44d8d6987\" y=\"224.64\"/>\r\n      </g>\r\n     </g>\r\n     <g id=\"text_1\">\r\n      <!-- 0.0 -->\r\n      <g transform=\"translate(51.047869 239.238437)scale(0.1 -0.1)\">\r\n       <defs>\r\n        <path d=\"M 2034 4250 \r\nQ 1547 4250 1301 3770 \r\nQ 1056 3291 1056 2328 \r\nQ 1056 1369 1301 889 \r\nQ 1547 409 2034 409 \r\nQ 2525 409 2770 889 \r\nQ 3016 1369 3016 2328 \r\nQ 3016 3291 2770 3770 \r\nQ 2525 4250 2034 4250 \r\nz\r\nM 2034 4750 \r\nQ 2819 4750 3233 4129 \r\nQ 3647 3509 3647 2328 \r\nQ 3647 1150 3233 529 \r\nQ 2819 -91 2034 -91 \r\nQ 1250 -91 836 529 \r\nQ 422 1150 422 2328 \r\nQ 422 3509 836 4129 \r\nQ 1250 4750 2034 4750 \r\nz\r\n\" id=\"DejaVuSans-30\" transform=\"scale(0.015625)\"/>\r\n        <path d=\"M 684 794 \r\nL 1344 794 \r\nL 1344 0 \r\nL 684 0 \r\nL 684 794 \r\nz\r\n\" id=\"DejaVuSans-2e\" transform=\"scale(0.015625)\"/>\r\n       </defs>\r\n       <use xlink:href=\"#DejaVuSans-30\"/>\r\n       <use x=\"63.623047\" xlink:href=\"#DejaVuSans-2e\"/>\r\n       <use x=\"95.410156\" xlink:href=\"#DejaVuSans-30\"/>\r\n      </g>\r\n     </g>\r\n    </g>\r\n    <g id=\"xtick_2\">\r\n     <g id=\"line2d_2\">\r\n      <g>\r\n       <use style=\"stroke:#000000;stroke-width:0.8;\" x=\"119.872159\" xlink:href=\"#mf44d8d6987\" y=\"224.64\"/>\r\n      </g>\r\n     </g>\r\n     <g id=\"text_2\">\r\n      <!-- 0.2 -->\r\n      <g transform=\"translate(111.920597 239.238437)scale(0.1 -0.1)\">\r\n       <defs>\r\n        <path d=\"M 1228 531 \r\nL 3431 531 \r\nL 3431 0 \r\nL 469 0 \r\nL 469 531 \r\nQ 828 903 1448 1529 \r\nQ 2069 2156 2228 2338 \r\nQ 2531 2678 2651 2914 \r\nQ 2772 3150 2772 3378 \r\nQ 2772 3750 2511 3984 \r\nQ 2250 4219 1831 4219 \r\nQ 1534 4219 1204 4116 \r\nQ 875 4013 500 3803 \r\nL 500 4441 \r\nQ 881 4594 1212 4672 \r\nQ 1544 4750 1819 4750 \r\nQ 2544 4750 2975 4387 \r\nQ 3406 4025 3406 3419 \r\nQ 3406 3131 3298 2873 \r\nQ 3191 2616 2906 2266 \r\nQ 2828 2175 2409 1742 \r\nQ 1991 1309 1228 531 \r\nz\r\n\" id=\"DejaVuSans-32\" transform=\"scale(0.015625)\"/>\r\n       </defs>\r\n       <use xlink:href=\"#DejaVuSans-30\"/>\r\n       <use x=\"63.623047\" xlink:href=\"#DejaVuSans-2e\"/>\r\n       <use x=\"95.410156\" xlink:href=\"#DejaVuSans-32\"/>\r\n      </g>\r\n     </g>\r\n    </g>\r\n    <g id=\"xtick_3\">\r\n     <g id=\"line2d_3\">\r\n      <g>\r\n       <use style=\"stroke:#000000;stroke-width:0.8;\" x=\"180.744886\" xlink:href=\"#mf44d8d6987\" y=\"224.64\"/>\r\n      </g>\r\n     </g>\r\n     <g id=\"text_3\">\r\n      <!-- 0.4 -->\r\n      <g transform=\"translate(172.793324 239.238437)scale(0.1 -0.1)\">\r\n       <defs>\r\n        <path d=\"M 2419 4116 \r\nL 825 1625 \r\nL 2419 1625 \r\nL 2419 4116 \r\nz\r\nM 2253 4666 \r\nL 3047 4666 \r\nL 3047 1625 \r\nL 3713 1625 \r\nL 3713 1100 \r\nL 3047 1100 \r\nL 3047 0 \r\nL 2419 0 \r\nL 2419 1100 \r\nL 313 1100 \r\nL 313 1709 \r\nL 2253 4666 \r\nz\r\n\" id=\"DejaVuSans-34\" transform=\"scale(0.015625)\"/>\r\n       </defs>\r\n       <use xlink:href=\"#DejaVuSans-30\"/>\r\n       <use x=\"63.623047\" xlink:href=\"#DejaVuSans-2e\"/>\r\n       <use x=\"95.410156\" xlink:href=\"#DejaVuSans-34\"/>\r\n      </g>\r\n     </g>\r\n    </g>\r\n    <g id=\"xtick_4\">\r\n     <g id=\"line2d_4\">\r\n      <g>\r\n       <use style=\"stroke:#000000;stroke-width:0.8;\" x=\"241.617614\" xlink:href=\"#mf44d8d6987\" y=\"224.64\"/>\r\n      </g>\r\n     </g>\r\n     <g id=\"text_4\">\r\n      <!-- 0.6 -->\r\n      <g transform=\"translate(233.666051 239.238437)scale(0.1 -0.1)\">\r\n       <defs>\r\n        <path d=\"M 2113 2584 \r\nQ 1688 2584 1439 2293 \r\nQ 1191 2003 1191 1497 \r\nQ 1191 994 1439 701 \r\nQ 1688 409 2113 409 \r\nQ 2538 409 2786 701 \r\nQ 3034 994 3034 1497 \r\nQ 3034 2003 2786 2293 \r\nQ 2538 2584 2113 2584 \r\nz\r\nM 3366 4563 \r\nL 3366 3988 \r\nQ 3128 4100 2886 4159 \r\nQ 2644 4219 2406 4219 \r\nQ 1781 4219 1451 3797 \r\nQ 1122 3375 1075 2522 \r\nQ 1259 2794 1537 2939 \r\nQ 1816 3084 2150 3084 \r\nQ 2853 3084 3261 2657 \r\nQ 3669 2231 3669 1497 \r\nQ 3669 778 3244 343 \r\nQ 2819 -91 2113 -91 \r\nQ 1303 -91 875 529 \r\nQ 447 1150 447 2328 \r\nQ 447 3434 972 4092 \r\nQ 1497 4750 2381 4750 \r\nQ 2619 4750 2861 4703 \r\nQ 3103 4656 3366 4563 \r\nz\r\n\" id=\"DejaVuSans-36\" transform=\"scale(0.015625)\"/>\r\n       </defs>\r\n       <use xlink:href=\"#DejaVuSans-30\"/>\r\n       <use x=\"63.623047\" xlink:href=\"#DejaVuSans-2e\"/>\r\n       <use x=\"95.410156\" xlink:href=\"#DejaVuSans-36\"/>\r\n      </g>\r\n     </g>\r\n    </g>\r\n    <g id=\"xtick_5\">\r\n     <g id=\"line2d_5\">\r\n      <g>\r\n       <use style=\"stroke:#000000;stroke-width:0.8;\" x=\"302.490341\" xlink:href=\"#mf44d8d6987\" y=\"224.64\"/>\r\n      </g>\r\n     </g>\r\n     <g id=\"text_5\">\r\n      <!-- 0.8 -->\r\n      <g transform=\"translate(294.538778 239.238437)scale(0.1 -0.1)\">\r\n       <defs>\r\n        <path d=\"M 2034 2216 \r\nQ 1584 2216 1326 1975 \r\nQ 1069 1734 1069 1313 \r\nQ 1069 891 1326 650 \r\nQ 1584 409 2034 409 \r\nQ 2484 409 2743 651 \r\nQ 3003 894 3003 1313 \r\nQ 3003 1734 2745 1975 \r\nQ 2488 2216 2034 2216 \r\nz\r\nM 1403 2484 \r\nQ 997 2584 770 2862 \r\nQ 544 3141 544 3541 \r\nQ 544 4100 942 4425 \r\nQ 1341 4750 2034 4750 \r\nQ 2731 4750 3128 4425 \r\nQ 3525 4100 3525 3541 \r\nQ 3525 3141 3298 2862 \r\nQ 3072 2584 2669 2484 \r\nQ 3125 2378 3379 2068 \r\nQ 3634 1759 3634 1313 \r\nQ 3634 634 3220 271 \r\nQ 2806 -91 2034 -91 \r\nQ 1263 -91 848 271 \r\nQ 434 634 434 1313 \r\nQ 434 1759 690 2068 \r\nQ 947 2378 1403 2484 \r\nz\r\nM 1172 3481 \r\nQ 1172 3119 1398 2916 \r\nQ 1625 2713 2034 2713 \r\nQ 2441 2713 2670 2916 \r\nQ 2900 3119 2900 3481 \r\nQ 2900 3844 2670 4047 \r\nQ 2441 4250 2034 4250 \r\nQ 1625 4250 1398 4047 \r\nQ 1172 3844 1172 3481 \r\nz\r\n\" id=\"DejaVuSans-38\" transform=\"scale(0.015625)\"/>\r\n       </defs>\r\n       <use xlink:href=\"#DejaVuSans-30\"/>\r\n       <use x=\"63.623047\" xlink:href=\"#DejaVuSans-2e\"/>\r\n       <use x=\"95.410156\" xlink:href=\"#DejaVuSans-38\"/>\r\n      </g>\r\n     </g>\r\n    </g>\r\n    <g id=\"xtick_6\">\r\n     <g id=\"line2d_6\">\r\n      <g>\r\n       <use style=\"stroke:#000000;stroke-width:0.8;\" x=\"363.363068\" xlink:href=\"#mf44d8d6987\" y=\"224.64\"/>\r\n      </g>\r\n     </g>\r\n     <g id=\"text_6\">\r\n      <!-- 1.0 -->\r\n      <g transform=\"translate(355.411506 239.238437)scale(0.1 -0.1)\">\r\n       <defs>\r\n        <path d=\"M 794 531 \r\nL 1825 531 \r\nL 1825 4091 \r\nL 703 3866 \r\nL 703 4441 \r\nL 1819 4666 \r\nL 2450 4666 \r\nL 2450 531 \r\nL 3481 531 \r\nL 3481 0 \r\nL 794 0 \r\nL 794 531 \r\nz\r\n\" id=\"DejaVuSans-31\" transform=\"scale(0.015625)\"/>\r\n       </defs>\r\n       <use xlink:href=\"#DejaVuSans-31\"/>\r\n       <use x=\"63.623047\" xlink:href=\"#DejaVuSans-2e\"/>\r\n       <use x=\"95.410156\" xlink:href=\"#DejaVuSans-30\"/>\r\n      </g>\r\n     </g>\r\n    </g>\r\n    <g id=\"text_7\">\r\n     <!-- False Positive Rate (Positive label: 1) -->\r\n     <g transform=\"translate(119.815625 252.916562)scale(0.1 -0.1)\">\r\n      <defs>\r\n       <path d=\"M 628 4666 \r\nL 3309 4666 \r\nL 3309 4134 \r\nL 1259 4134 \r\nL 1259 2759 \r\nL 3109 2759 \r\nL 3109 2228 \r\nL 1259 2228 \r\nL 1259 0 \r\nL 628 0 \r\nL 628 4666 \r\nz\r\n\" id=\"DejaVuSans-46\" transform=\"scale(0.015625)\"/>\r\n       <path d=\"M 2194 1759 \r\nQ 1497 1759 1228 1600 \r\nQ 959 1441 959 1056 \r\nQ 959 750 1161 570 \r\nQ 1363 391 1709 391 \r\nQ 2188 391 2477 730 \r\nQ 2766 1069 2766 1631 \r\nL 2766 1759 \r\nL 2194 1759 \r\nz\r\nM 3341 1997 \r\nL 3341 0 \r\nL 2766 0 \r\nL 2766 531 \r\nQ 2569 213 2275 61 \r\nQ 1981 -91 1556 -91 \r\nQ 1019 -91 701 211 \r\nQ 384 513 384 1019 \r\nQ 384 1609 779 1909 \r\nQ 1175 2209 1959 2209 \r\nL 2766 2209 \r\nL 2766 2266 \r\nQ 2766 2663 2505 2880 \r\nQ 2244 3097 1772 3097 \r\nQ 1472 3097 1187 3025 \r\nQ 903 2953 641 2809 \r\nL 641 3341 \r\nQ 956 3463 1253 3523 \r\nQ 1550 3584 1831 3584 \r\nQ 2591 3584 2966 3190 \r\nQ 3341 2797 3341 1997 \r\nz\r\n\" id=\"DejaVuSans-61\" transform=\"scale(0.015625)\"/>\r\n       <path d=\"M 603 4863 \r\nL 1178 4863 \r\nL 1178 0 \r\nL 603 0 \r\nL 603 4863 \r\nz\r\n\" id=\"DejaVuSans-6c\" transform=\"scale(0.015625)\"/>\r\n       <path d=\"M 2834 3397 \r\nL 2834 2853 \r\nQ 2591 2978 2328 3040 \r\nQ 2066 3103 1784 3103 \r\nQ 1356 3103 1142 2972 \r\nQ 928 2841 928 2578 \r\nQ 928 2378 1081 2264 \r\nQ 1234 2150 1697 2047 \r\nL 1894 2003 \r\nQ 2506 1872 2764 1633 \r\nQ 3022 1394 3022 966 \r\nQ 3022 478 2636 193 \r\nQ 2250 -91 1575 -91 \r\nQ 1294 -91 989 -36 \r\nQ 684 19 347 128 \r\nL 347 722 \r\nQ 666 556 975 473 \r\nQ 1284 391 1588 391 \r\nQ 1994 391 2212 530 \r\nQ 2431 669 2431 922 \r\nQ 2431 1156 2273 1281 \r\nQ 2116 1406 1581 1522 \r\nL 1381 1569 \r\nQ 847 1681 609 1914 \r\nQ 372 2147 372 2553 \r\nQ 372 3047 722 3315 \r\nQ 1072 3584 1716 3584 \r\nQ 2034 3584 2315 3537 \r\nQ 2597 3491 2834 3397 \r\nz\r\n\" id=\"DejaVuSans-73\" transform=\"scale(0.015625)\"/>\r\n       <path d=\"M 3597 1894 \r\nL 3597 1613 \r\nL 953 1613 \r\nQ 991 1019 1311 708 \r\nQ 1631 397 2203 397 \r\nQ 2534 397 2845 478 \r\nQ 3156 559 3463 722 \r\nL 3463 178 \r\nQ 3153 47 2828 -22 \r\nQ 2503 -91 2169 -91 \r\nQ 1331 -91 842 396 \r\nQ 353 884 353 1716 \r\nQ 353 2575 817 3079 \r\nQ 1281 3584 2069 3584 \r\nQ 2775 3584 3186 3129 \r\nQ 3597 2675 3597 1894 \r\nz\r\nM 3022 2063 \r\nQ 3016 2534 2758 2815 \r\nQ 2500 3097 2075 3097 \r\nQ 1594 3097 1305 2825 \r\nQ 1016 2553 972 2059 \r\nL 3022 2063 \r\nz\r\n\" id=\"DejaVuSans-65\" transform=\"scale(0.015625)\"/>\r\n       <path id=\"DejaVuSans-20\" transform=\"scale(0.015625)\"/>\r\n       <path d=\"M 1259 4147 \r\nL 1259 2394 \r\nL 2053 2394 \r\nQ 2494 2394 2734 2622 \r\nQ 2975 2850 2975 3272 \r\nQ 2975 3691 2734 3919 \r\nQ 2494 4147 2053 4147 \r\nL 1259 4147 \r\nz\r\nM 628 4666 \r\nL 2053 4666 \r\nQ 2838 4666 3239 4311 \r\nQ 3641 3956 3641 3272 \r\nQ 3641 2581 3239 2228 \r\nQ 2838 1875 2053 1875 \r\nL 1259 1875 \r\nL 1259 0 \r\nL 628 0 \r\nL 628 4666 \r\nz\r\n\" id=\"DejaVuSans-50\" transform=\"scale(0.015625)\"/>\r\n       <path d=\"M 1959 3097 \r\nQ 1497 3097 1228 2736 \r\nQ 959 2375 959 1747 \r\nQ 959 1119 1226 758 \r\nQ 1494 397 1959 397 \r\nQ 2419 397 2687 759 \r\nQ 2956 1122 2956 1747 \r\nQ 2956 2369 2687 2733 \r\nQ 2419 3097 1959 3097 \r\nz\r\nM 1959 3584 \r\nQ 2709 3584 3137 3096 \r\nQ 3566 2609 3566 1747 \r\nQ 3566 888 3137 398 \r\nQ 2709 -91 1959 -91 \r\nQ 1206 -91 779 398 \r\nQ 353 888 353 1747 \r\nQ 353 2609 779 3096 \r\nQ 1206 3584 1959 3584 \r\nz\r\n\" id=\"DejaVuSans-6f\" transform=\"scale(0.015625)\"/>\r\n       <path d=\"M 603 3500 \r\nL 1178 3500 \r\nL 1178 0 \r\nL 603 0 \r\nL 603 3500 \r\nz\r\nM 603 4863 \r\nL 1178 4863 \r\nL 1178 4134 \r\nL 603 4134 \r\nL 603 4863 \r\nz\r\n\" id=\"DejaVuSans-69\" transform=\"scale(0.015625)\"/>\r\n       <path d=\"M 1172 4494 \r\nL 1172 3500 \r\nL 2356 3500 \r\nL 2356 3053 \r\nL 1172 3053 \r\nL 1172 1153 \r\nQ 1172 725 1289 603 \r\nQ 1406 481 1766 481 \r\nL 2356 481 \r\nL 2356 0 \r\nL 1766 0 \r\nQ 1100 0 847 248 \r\nQ 594 497 594 1153 \r\nL 594 3053 \r\nL 172 3053 \r\nL 172 3500 \r\nL 594 3500 \r\nL 594 4494 \r\nL 1172 4494 \r\nz\r\n\" id=\"DejaVuSans-74\" transform=\"scale(0.015625)\"/>\r\n       <path d=\"M 191 3500 \r\nL 800 3500 \r\nL 1894 563 \r\nL 2988 3500 \r\nL 3597 3500 \r\nL 2284 0 \r\nL 1503 0 \r\nL 191 3500 \r\nz\r\n\" id=\"DejaVuSans-76\" transform=\"scale(0.015625)\"/>\r\n       <path d=\"M 2841 2188 \r\nQ 3044 2119 3236 1894 \r\nQ 3428 1669 3622 1275 \r\nL 4263 0 \r\nL 3584 0 \r\nL 2988 1197 \r\nQ 2756 1666 2539 1819 \r\nQ 2322 1972 1947 1972 \r\nL 1259 1972 \r\nL 1259 0 \r\nL 628 0 \r\nL 628 4666 \r\nL 2053 4666 \r\nQ 2853 4666 3247 4331 \r\nQ 3641 3997 3641 3322 \r\nQ 3641 2881 3436 2590 \r\nQ 3231 2300 2841 2188 \r\nz\r\nM 1259 4147 \r\nL 1259 2491 \r\nL 2053 2491 \r\nQ 2509 2491 2742 2702 \r\nQ 2975 2913 2975 3322 \r\nQ 2975 3731 2742 3939 \r\nQ 2509 4147 2053 4147 \r\nL 1259 4147 \r\nz\r\n\" id=\"DejaVuSans-52\" transform=\"scale(0.015625)\"/>\r\n       <path d=\"M 1984 4856 \r\nQ 1566 4138 1362 3434 \r\nQ 1159 2731 1159 2009 \r\nQ 1159 1288 1364 580 \r\nQ 1569 -128 1984 -844 \r\nL 1484 -844 \r\nQ 1016 -109 783 600 \r\nQ 550 1309 550 2009 \r\nQ 550 2706 781 3412 \r\nQ 1013 4119 1484 4856 \r\nL 1984 4856 \r\nz\r\n\" id=\"DejaVuSans-28\" transform=\"scale(0.015625)\"/>\r\n       <path d=\"M 3116 1747 \r\nQ 3116 2381 2855 2742 \r\nQ 2594 3103 2138 3103 \r\nQ 1681 3103 1420 2742 \r\nQ 1159 2381 1159 1747 \r\nQ 1159 1113 1420 752 \r\nQ 1681 391 2138 391 \r\nQ 2594 391 2855 752 \r\nQ 3116 1113 3116 1747 \r\nz\r\nM 1159 2969 \r\nQ 1341 3281 1617 3432 \r\nQ 1894 3584 2278 3584 \r\nQ 2916 3584 3314 3078 \r\nQ 3713 2572 3713 1747 \r\nQ 3713 922 3314 415 \r\nQ 2916 -91 2278 -91 \r\nQ 1894 -91 1617 61 \r\nQ 1341 213 1159 525 \r\nL 1159 0 \r\nL 581 0 \r\nL 581 4863 \r\nL 1159 4863 \r\nL 1159 2969 \r\nz\r\n\" id=\"DejaVuSans-62\" transform=\"scale(0.015625)\"/>\r\n       <path d=\"M 750 794 \r\nL 1409 794 \r\nL 1409 0 \r\nL 750 0 \r\nL 750 794 \r\nz\r\nM 750 3309 \r\nL 1409 3309 \r\nL 1409 2516 \r\nL 750 2516 \r\nL 750 3309 \r\nz\r\n\" id=\"DejaVuSans-3a\" transform=\"scale(0.015625)\"/>\r\n       <path d=\"M 513 4856 \r\nL 1013 4856 \r\nQ 1481 4119 1714 3412 \r\nQ 1947 2706 1947 2009 \r\nQ 1947 1309 1714 600 \r\nQ 1481 -109 1013 -844 \r\nL 513 -844 \r\nQ 928 -128 1133 580 \r\nQ 1338 1288 1338 2009 \r\nQ 1338 2731 1133 3434 \r\nQ 928 4138 513 4856 \r\nz\r\n\" id=\"DejaVuSans-29\" transform=\"scale(0.015625)\"/>\r\n      </defs>\r\n      <use xlink:href=\"#DejaVuSans-46\"/>\r\n      <use x=\"48.394531\" xlink:href=\"#DejaVuSans-61\"/>\r\n      <use x=\"109.673828\" xlink:href=\"#DejaVuSans-6c\"/>\r\n      <use x=\"137.457031\" xlink:href=\"#DejaVuSans-73\"/>\r\n      <use x=\"189.556641\" xlink:href=\"#DejaVuSans-65\"/>\r\n      <use x=\"251.080078\" xlink:href=\"#DejaVuSans-20\"/>\r\n      <use x=\"282.867188\" xlink:href=\"#DejaVuSans-50\"/>\r\n      <use x=\"339.544922\" xlink:href=\"#DejaVuSans-6f\"/>\r\n      <use x=\"400.726562\" xlink:href=\"#DejaVuSans-73\"/>\r\n      <use x=\"452.826172\" xlink:href=\"#DejaVuSans-69\"/>\r\n      <use x=\"480.609375\" xlink:href=\"#DejaVuSans-74\"/>\r\n      <use x=\"519.818359\" xlink:href=\"#DejaVuSans-69\"/>\r\n      <use x=\"547.601562\" xlink:href=\"#DejaVuSans-76\"/>\r\n      <use x=\"606.78125\" xlink:href=\"#DejaVuSans-65\"/>\r\n      <use x=\"668.304688\" xlink:href=\"#DejaVuSans-20\"/>\r\n      <use x=\"700.091797\" xlink:href=\"#DejaVuSans-52\"/>\r\n      <use x=\"767.324219\" xlink:href=\"#DejaVuSans-61\"/>\r\n      <use x=\"828.603516\" xlink:href=\"#DejaVuSans-74\"/>\r\n      <use x=\"867.8125\" xlink:href=\"#DejaVuSans-65\"/>\r\n      <use x=\"929.335938\" xlink:href=\"#DejaVuSans-20\"/>\r\n      <use x=\"961.123047\" xlink:href=\"#DejaVuSans-28\"/>\r\n      <use x=\"1000.136719\" xlink:href=\"#DejaVuSans-50\"/>\r\n      <use x=\"1056.814453\" xlink:href=\"#DejaVuSans-6f\"/>\r\n      <use x=\"1117.996094\" xlink:href=\"#DejaVuSans-73\"/>\r\n      <use x=\"1170.095703\" xlink:href=\"#DejaVuSans-69\"/>\r\n      <use x=\"1197.878906\" xlink:href=\"#DejaVuSans-74\"/>\r\n      <use x=\"1237.087891\" xlink:href=\"#DejaVuSans-69\"/>\r\n      <use x=\"1264.871094\" xlink:href=\"#DejaVuSans-76\"/>\r\n      <use x=\"1324.050781\" xlink:href=\"#DejaVuSans-65\"/>\r\n      <use x=\"1385.574219\" xlink:href=\"#DejaVuSans-20\"/>\r\n      <use x=\"1417.361328\" xlink:href=\"#DejaVuSans-6c\"/>\r\n      <use x=\"1445.144531\" xlink:href=\"#DejaVuSans-61\"/>\r\n      <use x=\"1506.423828\" xlink:href=\"#DejaVuSans-62\"/>\r\n      <use x=\"1569.900391\" xlink:href=\"#DejaVuSans-65\"/>\r\n      <use x=\"1631.423828\" xlink:href=\"#DejaVuSans-6c\"/>\r\n      <use x=\"1659.207031\" xlink:href=\"#DejaVuSans-3a\"/>\r\n      <use x=\"1692.898438\" xlink:href=\"#DejaVuSans-20\"/>\r\n      <use x=\"1724.685547\" xlink:href=\"#DejaVuSans-31\"/>\r\n      <use x=\"1788.308594\" xlink:href=\"#DejaVuSans-29\"/>\r\n     </g>\r\n    </g>\r\n   </g>\r\n   <g id=\"matplotlib.axis_2\">\r\n    <g id=\"ytick_1\">\r\n     <g id=\"line2d_7\">\r\n      <defs>\r\n       <path d=\"M 0 0 \r\nL -3.5 0 \r\n\" id=\"mbb2478c739\" style=\"stroke:#000000;stroke-width:0.8;\"/>\r\n      </defs>\r\n      <g>\r\n       <use style=\"stroke:#000000;stroke-width:0.8;\" x=\"43.78125\" xlink:href=\"#mbb2478c739\" y=\"214.756364\"/>\r\n      </g>\r\n     </g>\r\n     <g id=\"text_8\">\r\n      <!-- 0.0 -->\r\n      <g transform=\"translate(20.878125 218.555582)scale(0.1 -0.1)\">\r\n       <use xlink:href=\"#DejaVuSans-30\"/>\r\n       <use x=\"63.623047\" xlink:href=\"#DejaVuSans-2e\"/>\r\n       <use x=\"95.410156\" xlink:href=\"#DejaVuSans-30\"/>\r\n      </g>\r\n     </g>\r\n    </g>\r\n    <g id=\"ytick_2\">\r\n     <g id=\"line2d_8\">\r\n      <g>\r\n       <use style=\"stroke:#000000;stroke-width:0.8;\" x=\"43.78125\" xlink:href=\"#mbb2478c739\" y=\"175.221818\"/>\r\n      </g>\r\n     </g>\r\n     <g id=\"text_9\">\r\n      <!-- 0.2 -->\r\n      <g transform=\"translate(20.878125 179.021037)scale(0.1 -0.1)\">\r\n       <use xlink:href=\"#DejaVuSans-30\"/>\r\n       <use x=\"63.623047\" xlink:href=\"#DejaVuSans-2e\"/>\r\n       <use x=\"95.410156\" xlink:href=\"#DejaVuSans-32\"/>\r\n      </g>\r\n     </g>\r\n    </g>\r\n    <g id=\"ytick_3\">\r\n     <g id=\"line2d_9\">\r\n      <g>\r\n       <use style=\"stroke:#000000;stroke-width:0.8;\" x=\"43.78125\" xlink:href=\"#mbb2478c739\" y=\"135.687273\"/>\r\n      </g>\r\n     </g>\r\n     <g id=\"text_10\">\r\n      <!-- 0.4 -->\r\n      <g transform=\"translate(20.878125 139.486491)scale(0.1 -0.1)\">\r\n       <use xlink:href=\"#DejaVuSans-30\"/>\r\n       <use x=\"63.623047\" xlink:href=\"#DejaVuSans-2e\"/>\r\n       <use x=\"95.410156\" xlink:href=\"#DejaVuSans-34\"/>\r\n      </g>\r\n     </g>\r\n    </g>\r\n    <g id=\"ytick_4\">\r\n     <g id=\"line2d_10\">\r\n      <g>\r\n       <use style=\"stroke:#000000;stroke-width:0.8;\" x=\"43.78125\" xlink:href=\"#mbb2478c739\" y=\"96.152727\"/>\r\n      </g>\r\n     </g>\r\n     <g id=\"text_11\">\r\n      <!-- 0.6 -->\r\n      <g transform=\"translate(20.878125 99.951946)scale(0.1 -0.1)\">\r\n       <use xlink:href=\"#DejaVuSans-30\"/>\r\n       <use x=\"63.623047\" xlink:href=\"#DejaVuSans-2e\"/>\r\n       <use x=\"95.410156\" xlink:href=\"#DejaVuSans-36\"/>\r\n      </g>\r\n     </g>\r\n    </g>\r\n    <g id=\"ytick_5\">\r\n     <g id=\"line2d_11\">\r\n      <g>\r\n       <use style=\"stroke:#000000;stroke-width:0.8;\" x=\"43.78125\" xlink:href=\"#mbb2478c739\" y=\"56.618182\"/>\r\n      </g>\r\n     </g>\r\n     <g id=\"text_12\">\r\n      <!-- 0.8 -->\r\n      <g transform=\"translate(20.878125 60.417401)scale(0.1 -0.1)\">\r\n       <use xlink:href=\"#DejaVuSans-30\"/>\r\n       <use x=\"63.623047\" xlink:href=\"#DejaVuSans-2e\"/>\r\n       <use x=\"95.410156\" xlink:href=\"#DejaVuSans-38\"/>\r\n      </g>\r\n     </g>\r\n    </g>\r\n    <g id=\"ytick_6\">\r\n     <g id=\"line2d_12\">\r\n      <g>\r\n       <use style=\"stroke:#000000;stroke-width:0.8;\" x=\"43.78125\" xlink:href=\"#mbb2478c739\" y=\"17.083636\"/>\r\n      </g>\r\n     </g>\r\n     <g id=\"text_13\">\r\n      <!-- 1.0 -->\r\n      <g transform=\"translate(20.878125 20.882855)scale(0.1 -0.1)\">\r\n       <use xlink:href=\"#DejaVuSans-31\"/>\r\n       <use x=\"63.623047\" xlink:href=\"#DejaVuSans-2e\"/>\r\n       <use x=\"95.410156\" xlink:href=\"#DejaVuSans-30\"/>\r\n      </g>\r\n     </g>\r\n    </g>\r\n    <g id=\"text_14\">\r\n     <!-- True Positive Rate (Positive label: 1) -->\r\n     <g transform=\"translate(14.798438 205.348906)rotate(-90)scale(0.1 -0.1)\">\r\n      <defs>\r\n       <path d=\"M -19 4666 \r\nL 3928 4666 \r\nL 3928 4134 \r\nL 2272 4134 \r\nL 2272 0 \r\nL 1638 0 \r\nL 1638 4134 \r\nL -19 4134 \r\nL -19 4666 \r\nz\r\n\" id=\"DejaVuSans-54\" transform=\"scale(0.015625)\"/>\r\n       <path d=\"M 2631 2963 \r\nQ 2534 3019 2420 3045 \r\nQ 2306 3072 2169 3072 \r\nQ 1681 3072 1420 2755 \r\nQ 1159 2438 1159 1844 \r\nL 1159 0 \r\nL 581 0 \r\nL 581 3500 \r\nL 1159 3500 \r\nL 1159 2956 \r\nQ 1341 3275 1631 3429 \r\nQ 1922 3584 2338 3584 \r\nQ 2397 3584 2469 3576 \r\nQ 2541 3569 2628 3553 \r\nL 2631 2963 \r\nz\r\n\" id=\"DejaVuSans-72\" transform=\"scale(0.015625)\"/>\r\n       <path d=\"M 544 1381 \r\nL 544 3500 \r\nL 1119 3500 \r\nL 1119 1403 \r\nQ 1119 906 1312 657 \r\nQ 1506 409 1894 409 \r\nQ 2359 409 2629 706 \r\nQ 2900 1003 2900 1516 \r\nL 2900 3500 \r\nL 3475 3500 \r\nL 3475 0 \r\nL 2900 0 \r\nL 2900 538 \r\nQ 2691 219 2414 64 \r\nQ 2138 -91 1772 -91 \r\nQ 1169 -91 856 284 \r\nQ 544 659 544 1381 \r\nz\r\nM 1991 3584 \r\nL 1991 3584 \r\nz\r\n\" id=\"DejaVuSans-75\" transform=\"scale(0.015625)\"/>\r\n      </defs>\r\n      <use xlink:href=\"#DejaVuSans-54\"/>\r\n      <use x=\"46.333984\" xlink:href=\"#DejaVuSans-72\"/>\r\n      <use x=\"87.447266\" xlink:href=\"#DejaVuSans-75\"/>\r\n      <use x=\"150.826172\" xlink:href=\"#DejaVuSans-65\"/>\r\n      <use x=\"212.349609\" xlink:href=\"#DejaVuSans-20\"/>\r\n      <use x=\"244.136719\" xlink:href=\"#DejaVuSans-50\"/>\r\n      <use x=\"300.814453\" xlink:href=\"#DejaVuSans-6f\"/>\r\n      <use x=\"361.996094\" xlink:href=\"#DejaVuSans-73\"/>\r\n      <use x=\"414.095703\" xlink:href=\"#DejaVuSans-69\"/>\r\n      <use x=\"441.878906\" xlink:href=\"#DejaVuSans-74\"/>\r\n      <use x=\"481.087891\" xlink:href=\"#DejaVuSans-69\"/>\r\n      <use x=\"508.871094\" xlink:href=\"#DejaVuSans-76\"/>\r\n      <use x=\"568.050781\" xlink:href=\"#DejaVuSans-65\"/>\r\n      <use x=\"629.574219\" xlink:href=\"#DejaVuSans-20\"/>\r\n      <use x=\"661.361328\" xlink:href=\"#DejaVuSans-52\"/>\r\n      <use x=\"728.59375\" xlink:href=\"#DejaVuSans-61\"/>\r\n      <use x=\"789.873047\" xlink:href=\"#DejaVuSans-74\"/>\r\n      <use x=\"829.082031\" xlink:href=\"#DejaVuSans-65\"/>\r\n      <use x=\"890.605469\" xlink:href=\"#DejaVuSans-20\"/>\r\n      <use x=\"922.392578\" xlink:href=\"#DejaVuSans-28\"/>\r\n      <use x=\"961.40625\" xlink:href=\"#DejaVuSans-50\"/>\r\n      <use x=\"1018.083984\" xlink:href=\"#DejaVuSans-6f\"/>\r\n      <use x=\"1079.265625\" xlink:href=\"#DejaVuSans-73\"/>\r\n      <use x=\"1131.365234\" xlink:href=\"#DejaVuSans-69\"/>\r\n      <use x=\"1159.148438\" xlink:href=\"#DejaVuSans-74\"/>\r\n      <use x=\"1198.357422\" xlink:href=\"#DejaVuSans-69\"/>\r\n      <use x=\"1226.140625\" xlink:href=\"#DejaVuSans-76\"/>\r\n      <use x=\"1285.320312\" xlink:href=\"#DejaVuSans-65\"/>\r\n      <use x=\"1346.84375\" xlink:href=\"#DejaVuSans-20\"/>\r\n      <use x=\"1378.630859\" xlink:href=\"#DejaVuSans-6c\"/>\r\n      <use x=\"1406.414062\" xlink:href=\"#DejaVuSans-61\"/>\r\n      <use x=\"1467.693359\" xlink:href=\"#DejaVuSans-62\"/>\r\n      <use x=\"1531.169922\" xlink:href=\"#DejaVuSans-65\"/>\r\n      <use x=\"1592.693359\" xlink:href=\"#DejaVuSans-6c\"/>\r\n      <use x=\"1620.476562\" xlink:href=\"#DejaVuSans-3a\"/>\r\n      <use x=\"1654.167969\" xlink:href=\"#DejaVuSans-20\"/>\r\n      <use x=\"1685.955078\" xlink:href=\"#DejaVuSans-31\"/>\r\n      <use x=\"1749.578125\" xlink:href=\"#DejaVuSans-29\"/>\r\n     </g>\r\n    </g>\r\n   </g>\r\n   <g id=\"line2d_13\">\r\n    <path clip-path=\"url(#p693fc500a3)\" d=\"M 58.999432 214.756364 \r\nL 59.091663 212.023892 \r\nL 59.183895 212.023892 \r\nL 59.183895 207.925185 \r\nL 59.368357 207.925185 \r\nL 59.460589 203.251221 \r\nL 59.55282 203.251221 \r\nL 59.645052 200.878286 \r\nL 59.737283 200.878286 \r\nL 59.829514 199.080607 \r\nL 60.013977 199.080607 \r\nL 60.106209 197.282929 \r\nL 60.19844 197.282929 \r\nL 60.290671 195.48525 \r\nL 60.382903 195.48525 \r\nL 60.475134 194.119015 \r\nL 60.567366 194.119015 \r\nL 60.659597 191.027008 \r\nL 60.751829 191.027008 \r\nL 60.84406 189.085515 \r\nL 60.936291 189.085515 \r\nL 61.028523 188.366443 \r\nL 61.120754 188.366443 \r\nL 61.212986 186.856393 \r\nL 61.397448 186.784486 \r\nL 61.48968 184.914901 \r\nL 61.581911 184.914901 \r\nL 61.674143 182.757686 \r\nL 61.766374 182.757686 \r\nL 61.766374 182.254336 \r\nL 61.950837 182.254336 \r\nL 62.043068 180.097122 \r\nL 62.1353 180.097122 \r\nL 62.1353 179.737587 \r\nL 62.319762 179.737587 \r\nL 62.411994 179.162329 \r\nL 62.504225 179.162329 \r\nL 62.596457 174.416458 \r\nL 62.688688 174.416458 \r\nL 62.780919 172.762594 \r\nL 62.873151 172.762594 \r\nL 62.965382 172.187337 \r\nL 63.057614 172.187337 \r\nL 63.149845 168.08863 \r\nL 63.334308 168.016723 \r\nL 63.426539 166.219044 \r\nL 63.518771 166.219044 \r\nL 63.518771 165.643787 \r\nL 63.703233 165.643787 \r\nL 63.795465 164.780901 \r\nL 63.887696 164.780901 \r\nL 63.979928 164.277552 \r\nL 64.072159 164.277552 \r\nL 64.16439 163.846109 \r\nL 64.256622 163.846109 \r\nL 64.256622 163.414666 \r\nL 64.441085 163.414666 \r\nL 64.533316 161.904616 \r\nL 64.625548 161.904616 \r\nL 64.717779 160.969823 \r\nL 64.81001 160.969823 \r\nL 64.902242 159.819309 \r\nL 65.086705 159.747402 \r\nL 65.178936 159.315959 \r\nL 65.271167 159.315959 \r\nL 65.363399 157.446373 \r\nL 65.45563 157.446373 \r\nL 65.547862 156.799209 \r\nL 65.640093 156.799209 \r\nL 65.732324 156.00823 \r\nL 65.824556 156.00823 \r\nL 65.916787 155.432973 \r\nL 66.009019 155.432973 \r\nL 66.10125 155.073438 \r\nL 66.193481 155.073438 \r\nL 66.285713 153.779109 \r\nL 66.654638 153.707202 \r\nL 66.74687 153.419573 \r\nL 66.931333 153.419573 \r\nL 66.931333 153.203852 \r\nL 67.300258 153.131945 \r\nL 67.39249 152.556688 \r\nL 67.576952 152.484781 \r\nL 67.669184 152.053338 \r\nL 67.761415 152.053338 \r\nL 67.853647 150.687102 \r\nL 67.945878 150.687102 \r\nL 68.03811 149.536588 \r\nL 68.130341 149.536588 \r\nL 68.222572 149.033238 \r\nL 68.407035 148.961331 \r\nL 68.407035 148.529888 \r\nL 68.591498 148.529888 \r\nL 68.591498 147.523188 \r\nL 68.775961 147.523188 \r\nL 68.868192 147.019838 \r\nL 69.144886 146.947931 \r\nL 69.237118 145.941231 \r\nL 69.329349 145.941231 \r\nL 69.421581 145.294067 \r\nL 69.513812 145.294067 \r\nL 69.606043 144.646902 \r\nL 69.698275 144.646902 \r\nL 69.790506 143.424481 \r\nL 69.882738 143.424481 \r\nL 69.882738 142.633502 \r\nL 70.0672 142.633502 \r\nL 70.159432 142.130152 \r\nL 70.251663 142.130152 \r\nL 70.343895 140.763917 \r\nL 70.436126 140.763917 \r\nL 70.528357 140.260567 \r\nL 70.620589 140.260567 \r\nL 70.71282 138.031445 \r\nL 70.805052 138.031445 \r\nL 70.897283 137.743817 \r\nL 70.989514 137.743817 \r\nL 71.081746 136.377581 \r\nL 71.173977 136.377581 \r\nL 71.173977 135.730417 \r\nL 71.35844 135.730417 \r\nL 71.450671 135.370881 \r\nL 71.635134 135.298974 \r\nL 71.727366 134.867531 \r\nL 71.819597 134.867531 \r\nL 71.819597 134.65181 \r\nL 72.096291 134.65181 \r\nL 72.188523 134.292274 \r\nL 72.465217 134.292274 \r\nL 72.557448 132.422689 \r\nL 72.64968 132.422689 \r\nL 72.741911 131.991246 \r\nL 72.834143 131.991246 \r\nL 72.834143 130.840732 \r\nL 73.018605 130.840732 \r\nL 73.018605 130.696917 \r\nL 73.203068 130.696917 \r\nL 73.2953 130.193567 \r\nL 73.479762 130.12166 \r\nL 73.571994 128.467796 \r\nL 73.664225 128.467796 \r\nL 73.756457 127.461096 \r\nL 74.033151 127.389189 \r\nL 74.125382 126.166767 \r\nL 74.217614 126.166767 \r\nL 74.309845 125.016253 \r\nL 74.494308 124.944346 \r\nL 74.494308 124.872439 \r\nL 74.678771 124.872439 \r\nL 74.771002 123.290482 \r\nL 74.955465 123.290482 \r\nL 75.047696 122.930946 \r\nL 75.139928 122.930946 \r\nL 75.139928 122.787132 \r\nL 75.416622 122.787132 \r\nL 75.508853 122.499503 \r\nL 75.601085 122.499503 \r\nL 75.693316 121.996153 \r\nL 75.877779 121.924246 \r\nL 75.877779 121.780432 \r\nL 76.062242 121.780432 \r\nL 76.062242 121.492803 \r\nL 76.338936 121.492803 \r\nL 76.431167 120.701825 \r\nL 76.61563 120.629918 \r\nL 76.61563 120.054661 \r\nL 76.800093 120.054661 \r\nL 76.892324 119.767032 \r\nL 77.076787 119.695125 \r\nL 77.169019 119.191775 \r\nL 77.26125 119.191775 \r\nL 77.353481 118.544611 \r\nL 77.537944 118.544611 \r\nL 77.537944 118.400796 \r\nL 77.814638 118.328889 \r\nL 77.90687 118.113168 \r\nL 77.999101 118.113168 \r\nL 78.091333 117.681725 \r\nL 78.183564 117.681725 \r\nL 78.183564 117.394096 \r\nL 78.368027 117.394096 \r\nL 78.460258 116.746932 \r\nL 78.55249 116.746932 \r\nL 78.644721 116.387396 \r\nL 78.736952 116.387396 \r\nL 78.829184 115.596418 \r\nL 78.921415 115.596418 \r\nL 79.013647 114.733532 \r\nL 79.19811 114.733532 \r\nL 79.290341 113.151575 \r\nL 79.382572 113.151575 \r\nL 79.382572 113.007761 \r\nL 79.935961 112.935854 \r\nL 80.028192 112.432504 \r\nL 80.120424 112.432504 \r\nL 80.120424 111.785339 \r\nL 80.304886 111.785339 \r\nL 80.304886 111.569618 \r\nL 80.673812 111.497711 \r\nL 80.766043 111.066268 \r\nL 80.858275 111.066268 \r\nL 80.950506 110.419104 \r\nL 81.042738 110.419104 \r\nL 81.042738 110.203382 \r\nL 81.411663 110.203382 \r\nL 81.503895 109.700032 \r\nL 81.596126 109.700032 \r\nL 81.596126 109.26859 \r\nL 81.87282 109.26859 \r\nL 81.965052 107.902354 \r\nL 82.149514 107.902354 \r\nL 82.241746 107.470911 \r\nL 82.333977 107.470911 \r\nL 82.426209 107.111375 \r\nL 82.610671 107.039468 \r\nL 82.702903 106.464211 \r\nL 82.795134 106.464211 \r\nL 82.887366 105.960861 \r\nL 82.979597 105.960861 \r\nL 83.071829 105.74514 \r\nL 83.16406 105.74514 \r\nL 83.256291 105.169883 \r\nL 83.348523 105.169883 \r\nL 83.348523 104.73844 \r\nL 83.532986 104.73844 \r\nL 83.625217 104.378904 \r\nL 83.717448 104.378904 \r\nL 83.80968 103.012668 \r\nL 83.994143 103.012668 \r\nL 84.086374 102.72504 \r\nL 84.270837 102.653133 \r\nL 84.363068 102.293597 \r\nL 84.639762 102.22169 \r\nL 84.731994 101.934061 \r\nL 84.824225 101.934061 \r\nL 84.916457 101.502618 \r\nL 85.008688 101.502618 \r\nL 85.008688 101.286897 \r\nL 85.193151 101.286897 \r\nL 85.193151 101.143083 \r\nL 85.469845 101.071176 \r\nL 85.469845 100.855454 \r\nL 85.654308 100.855454 \r\nL 85.654308 100.71164 \r\nL 85.838771 100.71164 \r\nL 85.838771 100.495919 \r\nL 86.207696 100.424011 \r\nL 86.299928 100.20829 \r\nL 86.48439 100.136383 \r\nL 86.576622 99.70494 \r\nL 86.853316 99.70494 \r\nL 86.945548 99.489219 \r\nL 87.13001 99.489219 \r\nL 87.13001 99.345404 \r\nL 87.406705 99.273497 \r\nL 87.498936 98.985869 \r\nL 87.867862 98.913961 \r\nL 87.960093 98.554426 \r\nL 88.052324 98.554426 \r\nL 88.144556 98.051076 \r\nL 88.513481 97.979169 \r\nL 88.605713 97.547726 \r\nL 88.697944 97.547726 \r\nL 88.790176 97.18819 \r\nL 88.974638 97.18819 \r\nL 89.06687 96.541026 \r\nL 89.159101 96.541026 \r\nL 89.159101 96.325304 \r\nL 89.435795 96.325304 \r\nL 89.528027 96.037676 \r\nL 89.71249 96.037676 \r\nL 89.804721 95.821954 \r\nL 90.081415 95.750047 \r\nL 90.173647 95.17479 \r\nL 90.35811 95.17479 \r\nL 90.450341 94.887162 \r\nL 90.634804 94.887162 \r\nL 90.727035 93.66474 \r\nL 91.188192 93.592833 \r\nL 91.280424 93.377112 \r\nL 91.557118 93.305205 \r\nL 91.649349 92.65804 \r\nL 91.926043 92.586133 \r\nL 92.018275 92.15469 \r\nL 92.110506 92.15469 \r\nL 92.202738 91.795155 \r\nL 92.479432 91.723247 \r\nL 92.571663 91.291805 \r\nL 92.940589 91.219897 \r\nL 92.940589 91.076083 \r\nL 93.401746 91.004176 \r\nL 93.493977 90.860362 \r\nL 93.770671 90.788455 \r\nL 93.770671 90.64464 \r\nL 93.955134 90.64464 \r\nL 93.955134 90.500826 \r\nL 94.231829 90.500826 \r\nL 94.32406 90.285105 \r\nL 94.508523 90.285105 \r\nL 94.508523 89.997476 \r\nL 94.692986 89.997476 \r\nL 94.692986 89.781755 \r\nL 94.877448 89.781755 \r\nL 94.877448 89.062683 \r\nL 95.154143 88.990776 \r\nL 95.246374 88.343612 \r\nL 95.430837 88.271705 \r\nL 95.523068 88.055983 \r\nL 95.707531 88.055983 \r\nL 95.799762 87.768355 \r\nL 95.984225 87.768355 \r\nL 96.076457 87.336912 \r\nL 96.353151 87.336912 \r\nL 96.353151 86.689748 \r\nL 96.537614 86.689748 \r\nL 96.629845 86.114491 \r\nL 96.998771 86.042583 \r\nL 96.998771 85.683048 \r\nL 97.183233 85.683048 \r\nL 97.275465 85.395419 \r\nL 97.367696 85.395419 \r\nL 97.459928 85.107791 \r\nL 97.64439 85.107791 \r\nL 97.736622 84.820162 \r\nL 98.105548 84.748255 \r\nL 98.105548 84.604441 \r\nL 98.29001 84.604441 \r\nL 98.382242 83.885369 \r\nL 98.658936 83.813462 \r\nL 98.658936 83.669648 \r\nL 98.843399 83.669648 \r\nL 98.93563 82.806762 \r\nL 99.120093 82.806762 \r\nL 99.212324 82.375319 \r\nL 99.58125 82.303412 \r\nL 99.673481 82.087691 \r\nL 99.950176 82.015784 \r\nL 100.042407 81.584341 \r\nL 100.134638 81.584341 \r\nL 100.22687 80.793362 \r\nL 100.319101 80.793362 \r\nL 100.319101 80.577641 \r\nL 100.595795 80.505734 \r\nL 100.595795 80.433827 \r\nL 100.964721 80.361919 \r\nL 101.056952 79.858569 \r\nL 101.333647 79.858569 \r\nL 101.425878 79.427127 \r\nL 101.610341 79.427127 \r\nL 101.610341 79.283312 \r\nL 101.794804 79.283312 \r\nL 101.794804 78.995684 \r\nL 101.979267 78.995684 \r\nL 101.979267 78.708055 \r\nL 102.348192 78.708055 \r\nL 102.348192 78.492334 \r\nL 102.717118 78.420427 \r\nL 102.809349 78.276612 \r\nL 103.178275 78.204705 \r\nL 103.270506 77.917077 \r\nL 103.823895 77.845169 \r\nL 103.823895 77.701355 \r\nL 104.008357 77.701355 \r\nL 104.008357 77.557541 \r\nL 104.19282 77.557541 \r\nL 104.285052 77.34182 \r\nL 104.561746 77.269912 \r\nL 104.653977 76.83847 \r\nL 104.930671 76.766562 \r\nL 104.930671 76.550841 \r\nL 105.760754 76.478934 \r\nL 105.852986 76.263212 \r\nL 105.945217 76.263212 \r\nL 106.037448 75.903677 \r\nL 106.12968 75.903677 \r\nL 106.221911 75.256512 \r\nL 106.314143 75.256512 \r\nL 106.406374 74.968884 \r\nL 106.590837 74.896977 \r\nL 106.590837 74.82507 \r\nL 107.051994 74.753162 \r\nL 107.144225 74.537441 \r\nL 107.328688 74.537441 \r\nL 107.420919 74.32172 \r\nL 107.789845 74.249812 \r\nL 107.789845 74.177905 \r\nL 108.158771 74.177905 \r\nL 108.158771 73.81837 \r\nL 108.343233 73.81837 \r\nL 108.435465 73.458834 \r\nL 108.527696 73.458834 \r\nL 108.619928 73.243113 \r\nL 108.988853 73.171205 \r\nL 109.081085 72.883577 \r\nL 109.634473 72.81167 \r\nL 109.634473 72.667855 \r\nL 110.003399 72.595948 \r\nL 110.003399 72.524041 \r\nL 110.74125 72.524041 \r\nL 110.833481 71.80497 \r\nL 111.017944 71.80497 \r\nL 111.017944 71.517341 \r\nL 111.479101 71.517341 \r\nL 111.479101 71.373527 \r\nL 111.940258 71.30162 \r\nL 112.03249 71.085898 \r\nL 112.216952 71.013991 \r\nL 112.309184 70.726363 \r\nL 112.493647 70.654456 \r\nL 112.493647 70.223013 \r\nL 113.047035 70.151106 \r\nL 113.139267 70.007291 \r\nL 113.231498 70.007291 \r\nL 113.323729 69.503941 \r\nL 113.600424 69.503941 \r\nL 113.692655 69.28822 \r\nL 114.061581 69.216313 \r\nL 114.061581 69.144406 \r\nL 114.338275 69.144406 \r\nL 114.430506 68.569148 \r\nL 114.799432 68.497241 \r\nL 114.891663 68.353427 \r\nL 115.076126 68.353427 \r\nL 116.64406 66.483841 \r\nL 116.920754 66.483841 \r\nL 117.012986 66.196213 \r\nL 117.105217 66.196213 \r\nL 117.197448 65.980491 \r\nL 117.474143 65.908584 \r\nL 117.474143 65.836677 \r\nL 117.658605 65.836677 \r\nL 117.750837 65.549049 \r\nL 117.843068 65.549049 \r\nL 117.843068 65.333327 \r\nL 118.119762 65.333327 \r\nL 118.119762 65.189513 \r\nL 118.488688 65.117606 \r\nL 118.580919 64.829977 \r\nL 118.673151 64.829977 \r\nL 118.765382 64.542349 \r\nL 118.949845 64.470441 \r\nL 119.042076 64.182813 \r\nL 119.226539 64.182813 \r\nL 119.226539 64.038999 \r\nL 119.411002 64.038999 \r\nL 119.503233 63.75137 \r\nL 119.595465 63.75137 \r\nL 119.595465 63.607556 \r\nL 119.872159 63.535649 \r\nL 119.872159 63.24802 \r\nL 120.241085 63.176113 \r\nL 120.241085 63.104206 \r\nL 120.517779 63.104206 \r\nL 120.517779 62.960392 \r\nL 120.794473 62.888484 \r\nL 120.794473 62.74467 \r\nL 121.624556 62.74467 \r\nL 121.716787 62.385134 \r\nL 121.809019 62.385134 \r\nL 121.809019 62.169413 \r\nL 122.085713 62.097506 \r\nL 122.177944 61.809877 \r\nL 122.270176 61.809877 \r\nL 122.270176 61.666063 \r\nL 122.915795 61.594156 \r\nL 122.915795 61.522249 \r\nL 123.19249 61.450342 \r\nL 123.284721 60.946992 \r\nL 123.469184 60.875084 \r\nL 123.469184 60.803177 \r\nL 124.022572 60.73127 \r\nL 124.022572 60.443642 \r\nL 124.483729 60.371735 \r\nL 124.483729 60.299827 \r\nL 125.037118 60.22792 \r\nL 125.037118 60.156013 \r\nL 125.221581 60.156013 \r\nL 125.313812 59.508849 \r\nL 125.406043 59.508849 \r\nL 125.498275 59.293127 \r\nL 125.774969 59.22122 \r\nL 125.774969 58.933592 \r\nL 126.328357 58.933592 \r\nL 126.420589 58.286427 \r\nL 126.51282 58.286427 \r\nL 126.605052 57.639263 \r\nL 127.066209 57.567356 \r\nL 127.066209 57.423542 \r\nL 127.619597 57.351635 \r\nL 127.619597 57.279728 \r\nL 128.265217 57.20782 \r\nL 128.357448 56.920192 \r\nL 128.634143 56.848285 \r\nL 128.634143 56.560656 \r\nL 128.910837 56.560656 \r\nL 129.003068 56.20112 \r\nL 129.371994 56.129213 \r\nL 129.371994 55.985399 \r\nL 129.556457 55.985399 \r\nL 129.556457 55.769678 \r\nL 129.925382 55.69777 \r\nL 130.017614 55.482049 \r\nL 130.294308 55.410142 \r\nL 130.294308 55.338235 \r\nL 130.847696 55.266328 \r\nL 130.847696 55.19442 \r\nL 131.12439 55.19442 \r\nL 131.12439 55.050606 \r\nL 131.401085 55.050606 \r\nL 131.493316 54.69107 \r\nL 131.585548 54.69107 \r\nL 131.677779 54.331535 \r\nL 131.862242 54.331535 \r\nL 131.862242 54.18772 \r\nL 132.231167 54.18772 \r\nL 132.323399 53.900092 \r\nL 132.507862 53.828185 \r\nL 132.600093 53.684371 \r\nL 133.245713 53.612463 \r\nL 133.245713 53.540556 \r\nL 133.430176 53.540556 \r\nL 133.430176 53.252928 \r\nL 133.891333 53.181021 \r\nL 133.891333 53.109113 \r\nL 134.629184 53.037206 \r\nL 134.629184 52.605763 \r\nL 135.090341 52.605763 \r\nL 135.090341 52.461949 \r\nL 135.459267 52.461949 \r\nL 135.459267 52.318135 \r\nL 135.735961 52.246228 \r\nL 135.828192 51.742878 \r\nL 136.104886 51.670971 \r\nL 136.104886 51.383342 \r\nL 136.381581 51.311435 \r\nL 136.381581 51.167621 \r\nL 136.750506 51.167621 \r\nL 136.750506 50.951899 \r\nL 137.396126 50.879992 \r\nL 137.488357 50.376642 \r\nL 138.410671 50.304735 \r\nL 138.410671 50.232828 \r\nL 138.687366 50.232828 \r\nL 138.687366 50.089014 \r\nL 139.240754 50.089014 \r\nL 139.240754 49.945199 \r\nL 139.701911 49.873292 \r\nL 139.701911 49.729478 \r\nL 140.070837 49.657571 \r\nL 140.070837 49.585664 \r\nL 140.2553 49.585664 \r\nL 140.2553 49.441849 \r\nL 140.531994 49.369942 \r\nL 140.624225 49.226128 \r\nL 141.085382 49.226128 \r\nL 141.177614 49.010406 \r\nL 141.454308 48.938499 \r\nL 141.546539 48.722778 \r\nL 141.915465 48.722778 \r\nL 141.915465 48.507056 \r\nL 142.376622 48.507056 \r\nL 142.468853 48.291335 \r\nL 142.837779 48.291335 \r\nL 142.837779 48.075614 \r\nL 143.206705 48.075614 \r\nL 143.206705 47.931799 \r\nL 143.57563 47.859892 \r\nL 143.57563 47.787985 \r\nL 143.852324 47.716078 \r\nL 143.944556 47.500356 \r\nL 144.129019 47.428449 \r\nL 144.129019 47.356542 \r\nL 144.497944 47.284635 \r\nL 144.497944 47.212728 \r\nL 144.86687 47.140821 \r\nL 144.959101 46.997007 \r\nL 145.604721 46.925099 \r\nL 145.696952 46.781285 \r\nL 146.15811 46.709378 \r\nL 146.15811 46.637471 \r\nL 146.342572 46.637471 \r\nL 146.342572 46.421749 \r\nL 146.895961 46.349842 \r\nL 146.988192 46.206028 \r\nL 147.357118 46.134121 \r\nL 147.357118 46.062214 \r\nL 148.1872 45.990307 \r\nL 148.279432 45.415049 \r\nL 148.556126 45.343142 \r\nL 148.648357 44.983607 \r\nL 149.109514 44.911699 \r\nL 149.201746 44.767885 \r\nL 149.386209 44.767885 \r\nL 149.386209 44.624071 \r\nL 150.585217 44.552164 \r\nL 150.585217 44.264535 \r\nL 150.861911 44.192628 \r\nL 150.954143 43.976907 \r\nL 151.784225 43.905 \r\nL 151.876457 43.761185 \r\nL 152.060919 43.761185 \r\nL 152.060919 43.617371 \r\nL 152.891002 43.545464 \r\nL 152.983233 43.257835 \r\nL 153.075465 43.257835 \r\nL 153.075465 43.114021 \r\nL 153.536622 43.114021 \r\nL 153.536622 42.970207 \r\nL 153.905548 42.8983 \r\nL 153.905548 42.826392 \r\nL 154.09001 42.826392 \r\nL 154.182242 42.323042 \r\nL 154.827862 42.251135 \r\nL 154.827862 42.179228 \r\nL 155.104556 42.179228 \r\nL 155.196787 41.963507 \r\nL 155.565713 41.8916 \r\nL 155.657944 41.675878 \r\nL 156.119101 41.675878 \r\nL 156.119101 41.532064 \r\nL 156.303564 41.532064 \r\nL 156.395795 41.316342 \r\nL 157.133647 41.316342 \r\nL 157.133647 41.172528 \r\nL 157.963729 41.100621 \r\nL 157.963729 41.028714 \r\nL 159.623895 40.956807 \r\nL 159.716126 40.812992 \r\nL 159.808357 40.812992 \r\nL 159.808357 40.597271 \r\nL 160.822903 40.525364 \r\nL 160.822903 40.453457 \r\nL 161.28406 40.38155 \r\nL 161.28406 40.309643 \r\nL 161.92968 40.237735 \r\nL 161.92968 40.165828 \r\nL 162.298605 40.165828 \r\nL 162.298605 40.022014 \r\nL 162.5753 40.022014 \r\nL 162.667531 39.806293 \r\nL 163.405382 39.734385 \r\nL 163.405382 39.662478 \r\nL 163.958771 39.590571 \r\nL 163.958771 39.518664 \r\nL 164.235465 39.446757 \r\nL 164.235465 39.37485 \r\nL 164.973316 39.302943 \r\nL 164.973316 39.231035 \r\nL 165.434473 39.159128 \r\nL 165.434473 39.087221 \r\nL 166.356787 39.015314 \r\nL 166.356787 38.943407 \r\nL 167.18687 38.8715 \r\nL 167.18687 38.727685 \r\nL 167.924721 38.655778 \r\nL 167.924721 38.583871 \r\nL 168.847035 38.511964 \r\nL 168.847035 38.440057 \r\nL 169.123729 38.36815 \r\nL 169.123729 38.224335 \r\nL 169.584886 38.224335 \r\nL 169.584886 38.008614 \r\nL 170.046043 37.936707 \r\nL 170.046043 37.8648 \r\nL 170.876126 37.792893 \r\nL 170.968357 37.649078 \r\nL 171.15282 37.577171 \r\nL 171.15282 37.505264 \r\nL 171.79844 37.433357 \r\nL 171.79844 37.36145 \r\nL 172.259597 37.289543 \r\nL 172.259597 37.217636 \r\nL 172.628523 37.145728 \r\nL 172.720754 37.001914 \r\nL 174.011994 36.930007 \r\nL 174.011994 36.8581 \r\nL 174.565382 36.786193 \r\nL 174.657614 36.642378 \r\nL 175.76439 36.570471 \r\nL 175.76439 36.498564 \r\nL 176.133316 36.498564 \r\nL 176.133316 36.282843 \r\nL 176.41001 36.282843 \r\nL 176.41001 36.139028 \r\nL 176.871167 36.067121 \r\nL 176.963399 35.8514 \r\nL 177.05563 35.8514 \r\nL 177.05563 35.707586 \r\nL 177.240093 35.707586 \r\nL 177.332324 35.491864 \r\nL 177.70125 35.491864 \r\nL 177.70125 35.34805 \r\nL 178.254638 35.276143 \r\nL 178.34687 34.988514 \r\nL 179.361415 34.916607 \r\nL 179.361415 34.772793 \r\nL 181.298275 34.700886 \r\nL 181.390506 34.485164 \r\nL 182.681746 34.413257 \r\nL 182.681746 34.34135 \r\nL 183.235134 34.34135 \r\nL 183.235134 34.197536 \r\nL 184.434143 34.125628 \r\nL 184.526374 33.909907 \r\nL 184.8953 33.838 \r\nL 184.987531 33.550371 \r\nL 185.448688 33.478464 \r\nL 185.540919 33.262743 \r\nL 186.186539 33.190836 \r\nL 186.186539 33.118929 \r\nL 186.92439 33.047021 \r\nL 187.016622 32.8313 \r\nL 187.108853 32.8313 \r\nL 187.201085 32.471764 \r\nL 187.385548 32.399857 \r\nL 187.385548 32.32795 \r\nL 188.123399 32.256043 \r\nL 188.123399 32.184136 \r\nL 190.429184 32.112229 \r\nL 190.429184 32.040321 \r\nL 191.074804 31.968414 \r\nL 191.074804 31.896507 \r\nL 191.904886 31.8246 \r\nL 191.904886 31.465064 \r\nL 192.366043 31.393157 \r\nL 192.366043 31.32125 \r\nL 194.210671 31.249343 \r\nL 194.210671 31.105529 \r\nL 194.671829 31.033621 \r\nL 194.671829 30.961714 \r\nL 194.948523 30.961714 \r\nL 195.040754 30.745993 \r\nL 195.40968 30.674086 \r\nL 195.40968 30.530272 \r\nL 195.686374 30.458364 \r\nL 195.686374 30.242643 \r\nL 196.239762 30.170736 \r\nL 196.331994 29.955014 \r\nL 196.700919 29.883107 \r\nL 196.700919 29.8112 \r\nL 197.715465 29.739293 \r\nL 197.715465 29.667386 \r\nL 198.08439 29.667386 \r\nL 198.08439 29.523572 \r\nL 198.545548 29.451664 \r\nL 198.545548 29.379757 \r\nL 199.006705 29.30785 \r\nL 199.006705 29.235943 \r\nL 199.191167 29.235943 \r\nL 199.191167 29.092129 \r\nL 199.836787 29.020222 \r\nL 199.836787 28.948314 \r\nL 200.297944 28.876407 \r\nL 200.297944 28.8045 \r\nL 201.681415 28.8045 \r\nL 201.681415 28.660686 \r\nL 203.526043 28.588779 \r\nL 203.526043 28.444964 \r\nL 203.802738 28.373057 \r\nL 203.802738 28.30115 \r\nL 204.63282 28.229243 \r\nL 204.63282 28.157336 \r\nL 204.909514 28.157336 \r\nL 204.909514 28.013522 \r\nL 206.016291 28.013522 \r\nL 206.016291 27.869707 \r\nL 206.754143 27.7978 \r\nL 206.754143 27.653986 \r\nL 208.045382 27.582079 \r\nL 208.045382 27.510172 \r\nL 209.24439 27.438264 \r\nL 209.336622 27.29445 \r\nL 209.705548 27.222543 \r\nL 209.705548 27.150636 \r\nL 210.812324 27.078729 \r\nL 210.812324 26.934915 \r\nL 211.273481 26.863007 \r\nL 211.365713 26.647286 \r\nL 212.288027 26.575379 \r\nL 212.288027 26.503472 \r\nL 214.501581 26.431565 \r\nL 214.501581 26.28775 \r\nL 215.239432 26.215843 \r\nL 215.239432 26.143936 \r\nL 216.069514 26.143936 \r\nL 216.069514 26.000122 \r\nL 217.452986 25.928215 \r\nL 217.452986 25.856307 \r\nL 218.836457 25.7844 \r\nL 218.836457 25.712493 \r\nL 219.389845 25.640586 \r\nL 219.389845 25.568679 \r\nL 219.851002 25.568679 \r\nL 219.851002 25.424865 \r\nL 220.219928 25.352957 \r\nL 220.219928 25.28105 \r\nL 222.710176 25.28105 \r\nL 222.710176 25.137236 \r\nL 223.263564 25.065329 \r\nL 223.263564 24.993422 \r\nL 223.909184 24.921515 \r\nL 223.909184 24.849607 \r\nL 226.768357 24.7777 \r\nL 226.768357 24.705793 \r\nL 229.258605 24.633886 \r\nL 229.258605 24.561979 \r\nL 232.117779 24.490072 \r\nL 232.117779 24.418165 \r\nL 233.040093 24.346257 \r\nL 233.040093 24.27435 \r\nL 234.14687 24.202443 \r\nL 234.14687 24.130536 \r\nL 235.345878 24.058629 \r\nL 235.345878 23.986722 \r\nL 236.821581 23.914815 \r\nL 236.913812 23.555279 \r\nL 237.098275 23.483372 \r\nL 237.098275 23.411465 \r\nL 238.020589 23.339558 \r\nL 238.020589 23.26765 \r\nL 239.680754 23.195743 \r\nL 239.680754 23.123836 \r\nL 240.6953 23.051929 \r\nL 240.6953 22.980022 \r\nL 241.617614 22.908115 \r\nL 241.709845 22.7643 \r\nL 243.738936 22.692393 \r\nL 243.738936 22.620486 \r\nL 245.030176 22.620486 \r\nL 245.030176 22.476672 \r\nL 245.768027 22.404765 \r\nL 245.768027 22.332858 \r\nL 246.782572 22.26095 \r\nL 246.782572 22.189043 \r\nL 247.243729 22.117136 \r\nL 247.243729 22.045229 \r\nL 247.797118 21.973322 \r\nL 247.797118 21.901415 \r\nL 248.166043 21.901415 \r\nL 248.166043 21.7576 \r\nL 248.903895 21.685693 \r\nL 248.903895 21.613786 \r\nL 253.238771 21.541879 \r\nL 253.238771 21.469972 \r\nL 263.199762 21.398065 \r\nL 263.199762 21.326158 \r\nL 265.04439 21.25425 \r\nL 265.04439 21.182343 \r\nL 268.088027 21.110436 \r\nL 268.088027 21.038529 \r\nL 269.102572 20.966622 \r\nL 269.102572 20.894715 \r\nL 273.714143 20.822808 \r\nL 273.714143 20.678993 \r\nL 274.544225 20.607086 \r\nL 274.544225 20.535179 \r\nL 276.20439 20.463272 \r\nL 276.20439 20.391365 \r\nL 277.034473 20.319458 \r\nL 277.126705 20.175643 \r\nL 278.049019 20.103736 \r\nL 278.049019 20.031829 \r\nL 279.340258 19.959922 \r\nL 279.340258 19.888015 \r\nL 283.582903 19.888015 \r\nL 283.582903 19.744201 \r\nL 284.874143 19.672293 \r\nL 284.874143 19.600386 \r\nL 290.408027 19.528479 \r\nL 290.408027 19.456572 \r\nL 292.160424 19.384665 \r\nL 292.160424 19.312758 \r\nL 296.4953 19.240851 \r\nL 296.4953 19.168943 \r\nL 299.262242 19.097036 \r\nL 299.262242 19.025129 \r\nL 301.660258 18.953222 \r\nL 301.660258 18.881315 \r\nL 304.519432 18.809408 \r\nL 304.519432 18.737501 \r\nL 309.038771 18.665593 \r\nL 309.038771 18.593686 \r\nL 313.189184 18.521779 \r\nL 313.189184 18.449872 \r\nL 316.87844 18.377965 \r\nL 316.87844 18.306058 \r\nL 321.121085 18.234151 \r\nL 321.213316 18.090336 \r\nL 321.674473 18.018429 \r\nL 321.674473 17.946522 \r\nL 326.562738 17.874615 \r\nL 326.562738 17.802708 \r\nL 338.55282 17.730801 \r\nL 338.55282 17.658893 \r\nL 345.009019 17.586986 \r\nL 345.009019 17.515079 \r\nL 346.484721 17.443172 \r\nL 346.484721 17.371265 \r\nL 351.741911 17.299358 \r\nL 351.741911 17.227451 \r\nL 360.2272 17.155544 \r\nL 360.2272 17.083636 \r\nL 363.363068 17.083636 \r\nL 363.363068 17.083636 \r\n\" style=\"fill:none;stroke:#1f77b4;stroke-linecap:square;stroke-width:1.5;\"/>\r\n   </g>\r\n   <g id=\"patch_3\">\r\n    <path d=\"M 43.78125 224.64 \r\nL 43.78125 7.2 \r\n\" style=\"fill:none;stroke:#000000;stroke-linecap:square;stroke-linejoin:miter;stroke-width:0.8;\"/>\r\n   </g>\r\n   <g id=\"patch_4\">\r\n    <path d=\"M 378.58125 224.64 \r\nL 378.58125 7.2 \r\n\" style=\"fill:none;stroke:#000000;stroke-linecap:square;stroke-linejoin:miter;stroke-width:0.8;\"/>\r\n   </g>\r\n   <g id=\"patch_5\">\r\n    <path d=\"M 43.78125 224.64 \r\nL 378.58125 224.64 \r\n\" style=\"fill:none;stroke:#000000;stroke-linecap:square;stroke-linejoin:miter;stroke-width:0.8;\"/>\r\n   </g>\r\n   <g id=\"patch_6\">\r\n    <path d=\"M 43.78125 7.2 \r\nL 378.58125 7.2 \r\n\" style=\"fill:none;stroke:#000000;stroke-linecap:square;stroke-linejoin:miter;stroke-width:0.8;\"/>\r\n   </g>\r\n   <g id=\"legend_1\">\r\n    <g id=\"patch_7\">\r\n     <path d=\"M 250.284375 219.64 \r\nL 371.58125 219.64 \r\nQ 373.58125 219.64 373.58125 217.64 \r\nL 373.58125 203.961875 \r\nQ 373.58125 201.961875 371.58125 201.961875 \r\nL 250.284375 201.961875 \r\nQ 248.284375 201.961875 248.284375 203.961875 \r\nL 248.284375 217.64 \r\nQ 248.284375 219.64 250.284375 219.64 \r\nz\r\n\" style=\"fill:#ffffff;opacity:0.8;stroke:#cccccc;stroke-linejoin:miter;\"/>\r\n    </g>\r\n    <g id=\"line2d_14\">\r\n     <path d=\"M 252.284375 210.060312 \r\nL 272.284375 210.060312 \r\n\" style=\"fill:none;stroke:#1f77b4;stroke-linecap:square;stroke-width:1.5;\"/>\r\n    </g>\r\n    <g id=\"line2d_15\"/>\r\n    <g id=\"text_15\">\r\n     <!-- SVC (AUC = 0.87) -->\r\n     <g transform=\"translate(280.284375 213.560312)scale(0.1 -0.1)\">\r\n      <defs>\r\n       <path d=\"M 3425 4513 \r\nL 3425 3897 \r\nQ 3066 4069 2747 4153 \r\nQ 2428 4238 2131 4238 \r\nQ 1616 4238 1336 4038 \r\nQ 1056 3838 1056 3469 \r\nQ 1056 3159 1242 3001 \r\nQ 1428 2844 1947 2747 \r\nL 2328 2669 \r\nQ 3034 2534 3370 2195 \r\nQ 3706 1856 3706 1288 \r\nQ 3706 609 3251 259 \r\nQ 2797 -91 1919 -91 \r\nQ 1588 -91 1214 -16 \r\nQ 841 59 441 206 \r\nL 441 856 \r\nQ 825 641 1194 531 \r\nQ 1563 422 1919 422 \r\nQ 2459 422 2753 634 \r\nQ 3047 847 3047 1241 \r\nQ 3047 1584 2836 1778 \r\nQ 2625 1972 2144 2069 \r\nL 1759 2144 \r\nQ 1053 2284 737 2584 \r\nQ 422 2884 422 3419 \r\nQ 422 4038 858 4394 \r\nQ 1294 4750 2059 4750 \r\nQ 2388 4750 2728 4690 \r\nQ 3069 4631 3425 4513 \r\nz\r\n\" id=\"DejaVuSans-53\" transform=\"scale(0.015625)\"/>\r\n       <path d=\"M 1831 0 \r\nL 50 4666 \r\nL 709 4666 \r\nL 2188 738 \r\nL 3669 4666 \r\nL 4325 4666 \r\nL 2547 0 \r\nL 1831 0 \r\nz\r\n\" id=\"DejaVuSans-56\" transform=\"scale(0.015625)\"/>\r\n       <path d=\"M 4122 4306 \r\nL 4122 3641 \r\nQ 3803 3938 3442 4084 \r\nQ 3081 4231 2675 4231 \r\nQ 1875 4231 1450 3742 \r\nQ 1025 3253 1025 2328 \r\nQ 1025 1406 1450 917 \r\nQ 1875 428 2675 428 \r\nQ 3081 428 3442 575 \r\nQ 3803 722 4122 1019 \r\nL 4122 359 \r\nQ 3791 134 3420 21 \r\nQ 3050 -91 2638 -91 \r\nQ 1578 -91 968 557 \r\nQ 359 1206 359 2328 \r\nQ 359 3453 968 4101 \r\nQ 1578 4750 2638 4750 \r\nQ 3056 4750 3426 4639 \r\nQ 3797 4528 4122 4306 \r\nz\r\n\" id=\"DejaVuSans-43\" transform=\"scale(0.015625)\"/>\r\n       <path d=\"M 2188 4044 \r\nL 1331 1722 \r\nL 3047 1722 \r\nL 2188 4044 \r\nz\r\nM 1831 4666 \r\nL 2547 4666 \r\nL 4325 0 \r\nL 3669 0 \r\nL 3244 1197 \r\nL 1141 1197 \r\nL 716 0 \r\nL 50 0 \r\nL 1831 4666 \r\nz\r\n\" id=\"DejaVuSans-41\" transform=\"scale(0.015625)\"/>\r\n       <path d=\"M 556 4666 \r\nL 1191 4666 \r\nL 1191 1831 \r\nQ 1191 1081 1462 751 \r\nQ 1734 422 2344 422 \r\nQ 2950 422 3222 751 \r\nQ 3494 1081 3494 1831 \r\nL 3494 4666 \r\nL 4128 4666 \r\nL 4128 1753 \r\nQ 4128 841 3676 375 \r\nQ 3225 -91 2344 -91 \r\nQ 1459 -91 1007 375 \r\nQ 556 841 556 1753 \r\nL 556 4666 \r\nz\r\n\" id=\"DejaVuSans-55\" transform=\"scale(0.015625)\"/>\r\n       <path d=\"M 678 2906 \r\nL 4684 2906 \r\nL 4684 2381 \r\nL 678 2381 \r\nL 678 2906 \r\nz\r\nM 678 1631 \r\nL 4684 1631 \r\nL 4684 1100 \r\nL 678 1100 \r\nL 678 1631 \r\nz\r\n\" id=\"DejaVuSans-3d\" transform=\"scale(0.015625)\"/>\r\n       <path d=\"M 525 4666 \r\nL 3525 4666 \r\nL 3525 4397 \r\nL 1831 0 \r\nL 1172 0 \r\nL 2766 4134 \r\nL 525 4134 \r\nL 525 4666 \r\nz\r\n\" id=\"DejaVuSans-37\" transform=\"scale(0.015625)\"/>\r\n      </defs>\r\n      <use xlink:href=\"#DejaVuSans-53\"/>\r\n      <use x=\"63.476562\" xlink:href=\"#DejaVuSans-56\"/>\r\n      <use x=\"131.884766\" xlink:href=\"#DejaVuSans-43\"/>\r\n      <use x=\"201.708984\" xlink:href=\"#DejaVuSans-20\"/>\r\n      <use x=\"233.496094\" xlink:href=\"#DejaVuSans-28\"/>\r\n      <use x=\"272.509766\" xlink:href=\"#DejaVuSans-41\"/>\r\n      <use x=\"340.917969\" xlink:href=\"#DejaVuSans-55\"/>\r\n      <use x=\"414.111328\" xlink:href=\"#DejaVuSans-43\"/>\r\n      <use x=\"483.935547\" xlink:href=\"#DejaVuSans-20\"/>\r\n      <use x=\"515.722656\" xlink:href=\"#DejaVuSans-3d\"/>\r\n      <use x=\"599.511719\" xlink:href=\"#DejaVuSans-20\"/>\r\n      <use x=\"631.298828\" xlink:href=\"#DejaVuSans-30\"/>\r\n      <use x=\"694.921875\" xlink:href=\"#DejaVuSans-2e\"/>\r\n      <use x=\"726.708984\" xlink:href=\"#DejaVuSans-38\"/>\r\n      <use x=\"790.332031\" xlink:href=\"#DejaVuSans-37\"/>\r\n      <use x=\"853.955078\" xlink:href=\"#DejaVuSans-29\"/>\r\n     </g>\r\n    </g>\r\n   </g>\r\n  </g>\r\n </g>\r\n <defs>\r\n  <clipPath id=\"p693fc500a3\">\r\n   <rect height=\"217.44\" width=\"334.8\" x=\"43.78125\" y=\"7.2\"/>\r\n  </clipPath>\r\n </defs>\r\n</svg>\r\n",
            "image/png": "[encoded data removed]"
          },
          "metadata": {
            "needs_background": "light"
          }
        }
      ]
    },
    {
      "cell_type": "code",
      "metadata": {
        "id": "T_ninnLwvpa8"
      },
      "source": [
        "## ======== YOUR CODE HERE ======== ##\n",
        "\n",
        "## Print out ROC score for SVM\n",
        "\n",
        "roc_auc_score(y_test, y_pred_svm)\n",
        "## ================================ ##"
      ],
      "execution_count": 59,
      "outputs": [
        {
          "output_type": "execute_result",
          "data": {
            "text/plain": [
              "0.7811374384073547"
            ]
          },
          "metadata": {},
          "execution_count": 59
        }
      ]
    },
    {
      "cell_type": "markdown",
      "metadata": {
        "id": "YmpeyKWWvpa8"
      },
      "source": [
        "<h1 style=\"background-color:#ABFF9B;font-size:20px;color:#00033E;font-weight : bold\">Train SVM with C = 1 and gamma = scale :</h1> "
      ]
    },
    {
      "cell_type": "code",
      "metadata": {
        "id": "z9mfbGb9vpa8"
      },
      "source": [
        "## ======== YOUR CODE HERE ======== ##\n",
        "\n",
        "## Train SVM with new mentioned parameters\n",
        "\n",
        "\n",
        "\n",
        "## ================================ ##"
      ],
      "execution_count": null,
      "outputs": []
    },
    {
      "cell_type": "markdown",
      "metadata": {
        "id": "pKOp4Cbyvpa9"
      },
      "source": [
        "<h1 style=\"background-color:#ABFF9B;font-size:20px;color:#00033E;font-weight : bold\">Print out Classification Report for new SVM :</h1>"
      ]
    },
    {
      "cell_type": "code",
      "metadata": {
        "id": "dPLlDBz0vpa9"
      },
      "source": [
        "## ======== YOUR CODE HERE ======== ##\n",
        "\n",
        "\n",
        "\n",
        "\n",
        "\n",
        "## ================================ ##"
      ],
      "execution_count": null,
      "outputs": []
    },
    {
      "cell_type": "markdown",
      "metadata": {
        "id": "c71VaRy9vpa9"
      },
      "source": [
        "<h1 style=\"background-color:#ABFF9B;font-size:20px;color:#00033E;font-weight : bold\">Plot ROC curve and calculate ROC - AUC score for the new SVM :</h1> "
      ]
    },
    {
      "cell_type": "code",
      "metadata": {
        "id": "iT8NNVKkvpa9"
      },
      "source": [
        "## ======== YOUR CODE HERE ======== ##\n",
        "\n",
        "\n",
        "\n",
        "\n",
        "## ================================ ##"
      ],
      "execution_count": null,
      "outputs": []
    },
    {
      "cell_type": "markdown",
      "metadata": {
        "id": "6tlhrJ8qvpa-"
      },
      "source": [
        "<h1 style=\"background-color:#ABFF9B;font-size:20px;color:#00033E;font-weight : bold\">Print Training and Testing Score along with accuracy score for the new SVM :</h1> "
      ]
    },
    {
      "cell_type": "code",
      "metadata": {
        "id": "AnydqRTQvpa-"
      },
      "source": [
        "## ======== YOUR CODE HERE ======== ##\n",
        "\n",
        "\n",
        "\n",
        "\n",
        "## ================================ ##"
      ],
      "execution_count": null,
      "outputs": []
    },
    {
      "cell_type": "code",
      "metadata": {
        "id": "epvTM-Tcvpa-"
      },
      "source": [
        "## ======== YOUR CODE HERE ======== ##\n",
        "\n",
        "## Print out Accuracy score for the new SVM\n",
        "\n",
        "\n",
        "\n",
        "\n",
        "## ================================ ##"
      ],
      "execution_count": null,
      "outputs": []
    },
    {
      "cell_type": "markdown",
      "metadata": {
        "id": "wwVQ1LTKvpa-"
      },
      "source": [
        "<h1 style=\"background-color:#ABFF9B;font-size:20px;color:#00033E;font-weight : bold\">Calculate Average Cross-Val score for the new SVM with 5 folds  :</h1> "
      ]
    },
    {
      "cell_type": "code",
      "metadata": {
        "id": "jC0bK5Fsvpa-"
      },
      "source": [
        "## ======== YOUR CODE HERE ======== ##\n",
        "\n",
        "\n",
        "\n",
        "## Find mean for the calculated CV scores\n",
        "\n",
        "\n",
        "\n",
        "## ================================ ##"
      ],
      "execution_count": null,
      "outputs": []
    },
    {
      "cell_type": "markdown",
      "metadata": {
        "id": "QxWC2wNLvpa-"
      },
      "source": [
        "<br>\n",
        "<h1 style = \"font-size:30px; font-family:Brush Script MT ; font-weight : bold; color : #0331A8; text-align: center; border-radius: 10px 10px;\">The End</h1>\n",
        "<br>"
      ]
    },
    {
      "cell_type": "code",
      "metadata": {
        "id": "_s1d-tV4vpa_"
      },
      "source": [],
      "execution_count": null,
      "outputs": []
    }
  ]
}