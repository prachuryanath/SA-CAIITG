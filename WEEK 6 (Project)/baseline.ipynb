{
 "metadata": {
  "language_info": {
   "codemirror_mode": {
    "name": "ipython",
    "version": 3
   },
   "file_extension": ".py",
   "mimetype": "text/x-python",
   "name": "python",
   "nbconvert_exporter": "python",
   "pygments_lexer": "ipython3",
   "version": "3.9.4"
  },
  "orig_nbformat": 4,
  "kernelspec": {
   "name": "venv",
   "display_name": "Python 3.9.4 64-bit"
  }
 },
 "nbformat": 4,
 "nbformat_minor": 2,
 "cells": [
  {
   "source": [
    "# Random Forest with hyperparameter tuning"
   ],
   "cell_type": "markdown",
   "metadata": {}
  },
  {
   "cell_type": "code",
   "execution_count": 1,
   "metadata": {},
   "outputs": [],
   "source": [
    "import numpy as np\n",
    "import pandas as pd"
   ]
  },
  {
   "cell_type": "code",
   "execution_count": 2,
   "metadata": {},
   "outputs": [],
   "source": [
    "train_data = pd.read_csv('Train_Data.csv')\n",
    "test_data = pd.read_csv('Test_Data.csv')"
   ]
  },
  {
   "cell_type": "code",
   "execution_count": 3,
   "metadata": {},
   "outputs": [
    {
     "output_type": "execute_result",
     "data": {
      "text/plain": [
       "         date    campaign    adgroup    ad  impressions  clicks  cost  \\\n",
       "0  01-08-2020  campaign 1  adgroup 1  ad 1           24       6  0.08   \n",
       "1  01-08-2020  campaign 1  adgroup 2  ad 1            1       0  0.00   \n",
       "2  01-08-2020  campaign 1  adgroup 3  ad 1           13       4  0.04   \n",
       "3  01-08-2020  campaign 1  adgroup 4  ad 1            5       4  0.08   \n",
       "4  01-08-2020  campaign 1  adgroup 1  ad 2          247     126  1.29   \n",
       "\n",
       "   conversions  revenue  \n",
       "0            0     0.00  \n",
       "1            0     0.00  \n",
       "2            0     0.00  \n",
       "3            0     0.00  \n",
       "4            4   925.71  "
      ],
      "text/html": "<div>\n<style scoped>\n    .dataframe tbody tr th:only-of-type {\n        vertical-align: middle;\n    }\n\n    .dataframe tbody tr th {\n        vertical-align: top;\n    }\n\n    .dataframe thead th {\n        text-align: right;\n    }\n</style>\n<table border=\"1\" class=\"dataframe\">\n  <thead>\n    <tr style=\"text-align: right;\">\n      <th></th>\n      <th>date</th>\n      <th>campaign</th>\n      <th>adgroup</th>\n      <th>ad</th>\n      <th>impressions</th>\n      <th>clicks</th>\n      <th>cost</th>\n      <th>conversions</th>\n      <th>revenue</th>\n    </tr>\n  </thead>\n  <tbody>\n    <tr>\n      <th>0</th>\n      <td>01-08-2020</td>\n      <td>campaign 1</td>\n      <td>adgroup 1</td>\n      <td>ad 1</td>\n      <td>24</td>\n      <td>6</td>\n      <td>0.08</td>\n      <td>0</td>\n      <td>0.00</td>\n    </tr>\n    <tr>\n      <th>1</th>\n      <td>01-08-2020</td>\n      <td>campaign 1</td>\n      <td>adgroup 2</td>\n      <td>ad 1</td>\n      <td>1</td>\n      <td>0</td>\n      <td>0.00</td>\n      <td>0</td>\n      <td>0.00</td>\n    </tr>\n    <tr>\n      <th>2</th>\n      <td>01-08-2020</td>\n      <td>campaign 1</td>\n      <td>adgroup 3</td>\n      <td>ad 1</td>\n      <td>13</td>\n      <td>4</td>\n      <td>0.04</td>\n      <td>0</td>\n      <td>0.00</td>\n    </tr>\n    <tr>\n      <th>3</th>\n      <td>01-08-2020</td>\n      <td>campaign 1</td>\n      <td>adgroup 4</td>\n      <td>ad 1</td>\n      <td>5</td>\n      <td>4</td>\n      <td>0.08</td>\n      <td>0</td>\n      <td>0.00</td>\n    </tr>\n    <tr>\n      <th>4</th>\n      <td>01-08-2020</td>\n      <td>campaign 1</td>\n      <td>adgroup 1</td>\n      <td>ad 2</td>\n      <td>247</td>\n      <td>126</td>\n      <td>1.29</td>\n      <td>4</td>\n      <td>925.71</td>\n    </tr>\n  </tbody>\n</table>\n</div>"
     },
     "metadata": {},
     "execution_count": 3
    }
   ],
   "source": [
    "train_data.head()"
   ]
  },
  {
   "cell_type": "code",
   "execution_count": 4,
   "metadata": {},
   "outputs": [
    {
     "output_type": "stream",
     "name": "stdout",
     "text": [
      "<class 'pandas.core.frame.DataFrame'>\nRangeIndex: 4571 entries, 0 to 4570\nData columns (total 9 columns):\n #   Column       Non-Null Count  Dtype  \n---  ------       --------------  -----  \n 0   date         4571 non-null   object \n 1   campaign     4571 non-null   object \n 2   adgroup      4571 non-null   object \n 3   ad           4571 non-null   object \n 4   impressions  4571 non-null   int64  \n 5   clicks       4571 non-null   int64  \n 6   cost         4571 non-null   float64\n 7   conversions  4571 non-null   int64  \n 8   revenue      4571 non-null   float64\ndtypes: float64(2), int64(3), object(4)\nmemory usage: 321.5+ KB\n"
     ]
    }
   ],
   "source": [
    "train_data.info()"
   ]
  },
  {
   "cell_type": "code",
   "execution_count": 5,
   "metadata": {},
   "outputs": [],
   "source": [
    "train_data.drop('date', axis=1, inplace=True)\n",
    "train_data.drop('campaign', axis=1, inplace=True)\n",
    "test_data.drop('date', axis=1, inplace=True)\n",
    "test_data.drop('campaign', axis=1, inplace=True)\n",
    "train_data.drop('ad', axis=1, inplace=True)\n",
    "test_data.drop('ad', axis=1, inplace=True)"
   ]
  },
  {
   "cell_type": "code",
   "execution_count": 6,
   "metadata": {},
   "outputs": [
    {
     "output_type": "execute_result",
     "data": {
      "text/plain": [
       "     adgroup  cost  impressions  clicks  conversions\n",
       "0  adgroup 1  0.58          121      49            1\n",
       "1  adgroup 3  0.17           22      12            0\n",
       "2  adgroup 4  0.05            5       3            0\n",
       "3  adgroup 2  0.01            2       1            0\n",
       "4  adgroup 2  0.01            3       1            0"
      ],
      "text/html": "<div>\n<style scoped>\n    .dataframe tbody tr th:only-of-type {\n        vertical-align: middle;\n    }\n\n    .dataframe tbody tr th {\n        vertical-align: top;\n    }\n\n    .dataframe thead th {\n        text-align: right;\n    }\n</style>\n<table border=\"1\" class=\"dataframe\">\n  <thead>\n    <tr style=\"text-align: right;\">\n      <th></th>\n      <th>adgroup</th>\n      <th>cost</th>\n      <th>impressions</th>\n      <th>clicks</th>\n      <th>conversions</th>\n    </tr>\n  </thead>\n  <tbody>\n    <tr>\n      <th>0</th>\n      <td>adgroup 1</td>\n      <td>0.58</td>\n      <td>121</td>\n      <td>49</td>\n      <td>1</td>\n    </tr>\n    <tr>\n      <th>1</th>\n      <td>adgroup 3</td>\n      <td>0.17</td>\n      <td>22</td>\n      <td>12</td>\n      <td>0</td>\n    </tr>\n    <tr>\n      <th>2</th>\n      <td>adgroup 4</td>\n      <td>0.05</td>\n      <td>5</td>\n      <td>3</td>\n      <td>0</td>\n    </tr>\n    <tr>\n      <th>3</th>\n      <td>adgroup 2</td>\n      <td>0.01</td>\n      <td>2</td>\n      <td>1</td>\n      <td>0</td>\n    </tr>\n    <tr>\n      <th>4</th>\n      <td>adgroup 2</td>\n      <td>0.01</td>\n      <td>3</td>\n      <td>1</td>\n      <td>0</td>\n    </tr>\n  </tbody>\n</table>\n</div>"
     },
     "metadata": {},
     "execution_count": 6
    }
   ],
   "source": [
    "test_data.head()"
   ]
  },
  {
   "cell_type": "code",
   "execution_count": 7,
   "metadata": {},
   "outputs": [
    {
     "output_type": "execute_result",
     "data": {
      "text/plain": [
       "   impressions  clicks  cost  conversions  revenue  adgroup_adgroup 1  \\\n",
       "0           24       6  0.08            0     0.00                  1   \n",
       "1            1       0  0.00            0     0.00                  0   \n",
       "2           13       4  0.04            0     0.00                  0   \n",
       "3            5       4  0.08            0     0.00                  0   \n",
       "4          247     126  1.29            4   925.71                  1   \n",
       "\n",
       "   adgroup_adgroup 2  adgroup_adgroup 3  adgroup_adgroup 4  \n",
       "0                  0                  0                  0  \n",
       "1                  1                  0                  0  \n",
       "2                  0                  1                  0  \n",
       "3                  0                  0                  1  \n",
       "4                  0                  0                  0  "
      ],
      "text/html": "<div>\n<style scoped>\n    .dataframe tbody tr th:only-of-type {\n        vertical-align: middle;\n    }\n\n    .dataframe tbody tr th {\n        vertical-align: top;\n    }\n\n    .dataframe thead th {\n        text-align: right;\n    }\n</style>\n<table border=\"1\" class=\"dataframe\">\n  <thead>\n    <tr style=\"text-align: right;\">\n      <th></th>\n      <th>impressions</th>\n      <th>clicks</th>\n      <th>cost</th>\n      <th>conversions</th>\n      <th>revenue</th>\n      <th>adgroup_adgroup 1</th>\n      <th>adgroup_adgroup 2</th>\n      <th>adgroup_adgroup 3</th>\n      <th>adgroup_adgroup 4</th>\n    </tr>\n  </thead>\n  <tbody>\n    <tr>\n      <th>0</th>\n      <td>24</td>\n      <td>6</td>\n      <td>0.08</td>\n      <td>0</td>\n      <td>0.00</td>\n      <td>1</td>\n      <td>0</td>\n      <td>0</td>\n      <td>0</td>\n    </tr>\n    <tr>\n      <th>1</th>\n      <td>1</td>\n      <td>0</td>\n      <td>0.00</td>\n      <td>0</td>\n      <td>0.00</td>\n      <td>0</td>\n      <td>1</td>\n      <td>0</td>\n      <td>0</td>\n    </tr>\n    <tr>\n      <th>2</th>\n      <td>13</td>\n      <td>4</td>\n      <td>0.04</td>\n      <td>0</td>\n      <td>0.00</td>\n      <td>0</td>\n      <td>0</td>\n      <td>1</td>\n      <td>0</td>\n    </tr>\n    <tr>\n      <th>3</th>\n      <td>5</td>\n      <td>4</td>\n      <td>0.08</td>\n      <td>0</td>\n      <td>0.00</td>\n      <td>0</td>\n      <td>0</td>\n      <td>0</td>\n      <td>1</td>\n    </tr>\n    <tr>\n      <th>4</th>\n      <td>247</td>\n      <td>126</td>\n      <td>1.29</td>\n      <td>4</td>\n      <td>925.71</td>\n      <td>1</td>\n      <td>0</td>\n      <td>0</td>\n      <td>0</td>\n    </tr>\n  </tbody>\n</table>\n</div>"
     },
     "metadata": {},
     "execution_count": 7
    }
   ],
   "source": [
    "train_data = pd.get_dummies(train_data)\n",
    "test_data = pd.get_dummies(test_data)\n",
    "train_data.head()"
   ]
  },
  {
   "cell_type": "code",
   "execution_count": 8,
   "metadata": {},
   "outputs": [
    {
     "output_type": "execute_result",
     "data": {
      "text/plain": [
       "Index(['cost', 'impressions', 'clicks', 'conversions', 'adgroup_adgroup 1',\n",
       "       'adgroup_adgroup 2', 'adgroup_adgroup 3', 'adgroup_adgroup 4'],\n",
       "      dtype='object')"
      ]
     },
     "metadata": {},
     "execution_count": 8
    }
   ],
   "source": [
    "test_data.columns"
   ]
  },
  {
   "cell_type": "code",
   "execution_count": 9,
   "metadata": {},
   "outputs": [],
   "source": [
    "X_train = train_data.drop(['revenue'], axis='columns')\n",
    "y_train = train_data['revenue']\n",
    "X_test = test_data"
   ]
  },
  {
   "cell_type": "code",
   "execution_count": 10,
   "metadata": {},
   "outputs": [
    {
     "output_type": "execute_result",
     "data": {
      "text/plain": [
       "array([[-0.46415901,  0.77539778,  3.2172016 , ..., -0.43488609,\n",
       "        -0.75944098, -0.4807078 ],\n",
       "       [-0.4662263 , -0.21308039,  0.64060838, ..., -0.43488609,\n",
       "         1.31675802, -0.4807078 ],\n",
       "       [-0.46683135, -0.38281907,  0.01386949, ..., -0.43488609,\n",
       "        -0.75944098,  2.08026581],\n",
       "       ...,\n",
       "       [-0.46637756, -0.18312651,  0.57097072, ..., -0.43488609,\n",
       "        -0.75944098, -0.4807078 ],\n",
       "       [-0.46678093, -0.34288056,  0.08350714, ..., -0.43488609,\n",
       "         1.31675802, -0.4807078 ],\n",
       "       [-0.46541955,  0.23622787,  1.6851732 , ..., -0.43488609,\n",
       "        -0.75944098, -0.4807078 ]])"
      ]
     },
     "metadata": {},
     "execution_count": 10
    }
   ],
   "source": [
    "from sklearn.preprocessing import StandardScaler\n",
    "scaler = StandardScaler()\n",
    "\n",
    "X_train_scaled = scaler.fit_transform(X_train)\n",
    "X_train_scaled\n",
    "\n",
    "X_test_scaled = scaler.transform(X_test)\n",
    "X_test_scaled"
   ]
  },
  {
   "cell_type": "code",
   "execution_count": 11,
   "metadata": {},
   "outputs": [],
   "source": [
    "from sklearn.ensemble import RandomForestRegressor\n",
    "rf = RandomForestRegressor()"
   ]
  },
  {
   "cell_type": "code",
   "execution_count": 12,
   "metadata": {},
   "outputs": [
    {
     "output_type": "stream",
     "name": "stdout",
     "text": [
      "Parameters currently in use:\n\n{'bootstrap': True, 'ccp_alpha': 0.0, 'criterion': 'mse', 'max_depth': None, 'max_features': 'auto', 'max_leaf_nodes': None, 'max_samples': None, 'min_impurity_decrease': 0.0, 'min_impurity_split': None, 'min_samples_leaf': 1, 'min_samples_split': 2, 'min_weight_fraction_leaf': 0.0, 'n_estimators': 100, 'n_jobs': None, 'oob_score': False, 'random_state': None, 'verbose': 0, 'warm_start': False}\n"
     ]
    }
   ],
   "source": [
    "print('Parameters currently in use:\\n')\n",
    "print(rf.get_params())"
   ]
  },
  {
   "cell_type": "code",
   "execution_count": 13,
   "metadata": {},
   "outputs": [
    {
     "output_type": "stream",
     "name": "stdout",
     "text": [
      "{'n_estimators': [200, 400, 600, 800, 1000, 1200, 1400, 1600, 1800, 2000], 'max_features': ['auto', 'sqrt'], 'max_depth': [10, 20, 30, 40, 50, 60, 70, 80, 90, 100, 110, None], 'min_samples_split': [2, 5, 10], 'min_samples_leaf': [1, 2, 4], 'bootstrap': [True, False]}\n"
     ]
    }
   ],
   "source": [
    "from sklearn.model_selection import RandomizedSearchCV\n",
    "# Number of trees in random forest\n",
    "n_estimators = [int(x) for x in np.linspace(start = 200, stop = 2000, num = 10)]\n",
    "# Number of features to consider at every split\n",
    "max_features = ['auto', 'sqrt']\n",
    "# Maximum number of levels in tree\n",
    "max_depth = [int(x) for x in np.linspace(10, 110, num = 11)]\n",
    "max_depth.append(None)\n",
    "# Minimum number of samples required to split a node\n",
    "min_samples_split = [2, 5, 10]\n",
    "# Minimum number of samples required at each leaf node\n",
    "min_samples_leaf = [1, 2, 4]\n",
    "# Method of selecting samples for training each tree\n",
    "bootstrap = [True, False]\n",
    "# Create the random grid\n",
    "random_grid = {'n_estimators': n_estimators,\n",
    "               'max_features': max_features,\n",
    "               'max_depth': max_depth,\n",
    "               'min_samples_split': min_samples_split,\n",
    "               'min_samples_leaf': min_samples_leaf,\n",
    "               'bootstrap': bootstrap}\n",
    "print(random_grid)"
   ]
  },
  {
   "cell_type": "code",
   "execution_count": 14,
   "metadata": {},
   "outputs": [
    {
     "output_type": "stream",
     "name": "stdout",
     "text": [
      "Fitting 3 folds for each of 100 candidates, totalling 300 fits\n"
     ]
    }
   ],
   "source": [
    "rf = RandomForestRegressor()\n",
    "# Random search of parameters, using 3 fold cross validation, \n",
    "# search across 100 different combinations, and use all available cores\n",
    "rf_random = RandomizedSearchCV(estimator = rf, param_distributions = random_grid, n_iter = 100, cv = 3, verbose=2, random_state=42, n_jobs = -1)\n",
    "# Fit the random search model\n",
    "rf_random.fit(X_train_scaled, y_train)"
   ]
  },
  {
   "cell_type": "code",
   "execution_count": 15,
   "metadata": {},
   "outputs": [
    {
     "output_type": "execute_result",
     "data": {
      "text/plain": [
       "{'n_estimators': 200,\n",
       " 'min_samples_split': 5,\n",
       " 'min_samples_leaf': 4,\n",
       " 'max_features': 'auto',\n",
       " 'max_depth': 10,\n",
       " 'bootstrap': True}"
      ]
     },
     "metadata": {},
     "execution_count": 15
    }
   ],
   "source": [
    "rf_random.best_params_"
   ]
  },
  {
   "cell_type": "code",
   "execution_count": 18,
   "metadata": {},
   "outputs": [
    {
     "output_type": "execute_result",
     "data": {
      "text/plain": [
       "RandomForestRegressor(max_depth=10, min_samples_leaf=4, min_samples_split=5,\n",
       "                      n_estimators=200)"
      ]
     },
     "metadata": {},
     "execution_count": 18
    }
   ],
   "source": [
    "rf_tuned = RandomForestRegressor(n_estimators= 200,\n",
    "                                min_samples_split= 5,\n",
    "                                min_samples_leaf= 4,\n",
    "                                max_features= 'auto',\n",
    "                                max_depth= 10,\n",
    "                                bootstrap= True)\n",
    "rf_tuned.fit(X_train_scaled, y_train)"
   ]
  },
  {
   "cell_type": "code",
   "execution_count": 19,
   "metadata": {},
   "outputs": [],
   "source": [
    "preds = rf_tuned.predict(X_test_scaled)"
   ]
  },
  {
   "cell_type": "code",
   "execution_count": 20,
   "metadata": {},
   "outputs": [
    {
     "output_type": "execute_result",
     "data": {
      "text/plain": [
       "array([ 178,    0,    0,    0,    0,    0,  154,    0,  170,    0,  737,\n",
       "          0,    0,  516,    0,  183,    0,  157,    0,  183,    0,    0,\n",
       "          0,  737,    0,    0,  997,  157,    0,    0,  558,    0, 1073,\n",
       "        523,  148,    0,  157,    0,    0,    0,    0,    0,    0,    0,\n",
       "          0,    0,    0,    0,    0,    0,    0,    0,    0,  517,  159,\n",
       "        151,    0,    0,    0,  994,    0,  520,    0,  512,    0,    0,\n",
       "        743,  154,    0,    0,  508,    0,    0,    0,  168,  182,  997,\n",
       "          0,    0,    0,  746,  153,    0,  182,    0,    0,  997, 1439,\n",
       "          0,  523,  450,  328,    0,  842,  182,    0,    0,    0,    0,\n",
       "          0,  182,    0,    0,  153,    0, 2394,    0,  461,    0,  176,\n",
       "          0, 1010,    0,  522,    0, 2063,    0, 2811,  747,  182,    0,\n",
       "          0,  738,    0,    0,    0,  737,    0,  154,  157,    0,    0,\n",
       "          0,    0, 1024,    0,    0,    0,  753,    0,  184,    0,    0,\n",
       "          0,  164,    0,    0,  486,  735,    0,    0,    0, 1011,    0,\n",
       "        519,    0,  959,    0,    0,    0,  171,    0,    0,    0,  515,\n",
       "          0,  362,    0,    0,    0,    0,    0,    0,  183,    0,    0,\n",
       "          0,    0,  518,  145,    0,    0,    0,  154,    0,    0,  181,\n",
       "          0,  189,    0,    0,  155,    0,    0,    0,    0,    0,    0,\n",
       "          0,  188,  134,    0,  522,    0,    0,    0,  154,    0,    0,\n",
       "        738,    0,    0,    0,  170,  365,    0,    0,    0,    0,  380,\n",
       "          0,    0,    0,    0,    0,  990,    0,    0,  154,    0,  516,\n",
       "          0,    0,    0,    0,    0,    0,  157,    0,    0,    0,    0,\n",
       "          0,    0,    0,  156,    0,    0,    0,    0,  737,  512,    0,\n",
       "        761,    0,  184,    0,    0,  144,  158,    0,  515,    0,    0,\n",
       "          0,    0,    0,    0,    0,    0,  494,    0,    0,  999,    0,\n",
       "          0,    0,  517,  154,    0,    0,    0,    0,    0,  333,    0,\n",
       "        170,    0,    0,    0,    0,  190,    0,    0,  183,    0,    0,\n",
       "        168,    0,    0,    0,    0,  993,    0,    0,    0, 1072,    0,\n",
       "          0,  370,  171,  155,    0,    0,    0,    0,    0,  187],\n",
       "      dtype=int64)"
      ]
     },
     "metadata": {},
     "execution_count": 20
    }
   ],
   "source": [
    "preds = preds.astype('int64')\r\n",
    "preds"
   ]
  },
  {
   "cell_type": "code",
   "execution_count": 21,
   "metadata": {},
   "outputs": [],
   "source": [
    "prediction = pd.DataFrame(preds, columns=['revenue']).to_csv('prediction3.csv', index=False)"
   ]
  },
  {
   "cell_type": "code",
   "execution_count": null,
   "metadata": {},
   "outputs": [],
   "source": []
  }
 ]
}