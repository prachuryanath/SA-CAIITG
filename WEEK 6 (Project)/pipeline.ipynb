{
 "metadata": {
  "language_info": {
   "codemirror_mode": {
    "name": "ipython",
    "version": 3
   },
   "file_extension": ".py",
   "mimetype": "text/x-python",
   "name": "python",
   "nbconvert_exporter": "python",
   "pygments_lexer": "ipython3",
   "version": "3.9.4"
  },
  "orig_nbformat": 4,
  "kernelspec": {
   "name": "venv",
   "display_name": "Python 3.9.4 64-bit"
  },
  "interpreter": {
   "hash": "380030d1298d5a27518acca789ff38fe82bbf2e68b73263de6a6bf23efb7704c"
  }
 },
 "nbformat": 4,
 "nbformat_minor": 2,
 "cells": [
  {
   "cell_type": "code",
   "execution_count": 2,
   "metadata": {},
   "outputs": [],
   "source": [
    "import numpy as np\n",
    "import pandas as pd"
   ]
  },
  {
   "cell_type": "code",
   "execution_count": 3,
   "metadata": {},
   "outputs": [
    {
     "output_type": "execute_result",
     "data": {
      "text/plain": [
       "         date    campaign    adgroup    ad  impressions  clicks  cost  \\\n",
       "0  01-08-2020  campaign 1  adgroup 1  ad 1           24       6  0.08   \n",
       "1  01-08-2020  campaign 1  adgroup 2  ad 1            1       0  0.00   \n",
       "2  01-08-2020  campaign 1  adgroup 3  ad 1           13       4  0.04   \n",
       "3  01-08-2020  campaign 1  adgroup 4  ad 1            5       4  0.08   \n",
       "4  01-08-2020  campaign 1  adgroup 1  ad 2          247     126  1.29   \n",
       "\n",
       "   conversions  revenue  \n",
       "0            0     0.00  \n",
       "1            0     0.00  \n",
       "2            0     0.00  \n",
       "3            0     0.00  \n",
       "4            4   925.71  "
      ],
      "text/html": "<div>\n<style scoped>\n    .dataframe tbody tr th:only-of-type {\n        vertical-align: middle;\n    }\n\n    .dataframe tbody tr th {\n        vertical-align: top;\n    }\n\n    .dataframe thead th {\n        text-align: right;\n    }\n</style>\n<table border=\"1\" class=\"dataframe\">\n  <thead>\n    <tr style=\"text-align: right;\">\n      <th></th>\n      <th>date</th>\n      <th>campaign</th>\n      <th>adgroup</th>\n      <th>ad</th>\n      <th>impressions</th>\n      <th>clicks</th>\n      <th>cost</th>\n      <th>conversions</th>\n      <th>revenue</th>\n    </tr>\n  </thead>\n  <tbody>\n    <tr>\n      <th>0</th>\n      <td>01-08-2020</td>\n      <td>campaign 1</td>\n      <td>adgroup 1</td>\n      <td>ad 1</td>\n      <td>24</td>\n      <td>6</td>\n      <td>0.08</td>\n      <td>0</td>\n      <td>0.00</td>\n    </tr>\n    <tr>\n      <th>1</th>\n      <td>01-08-2020</td>\n      <td>campaign 1</td>\n      <td>adgroup 2</td>\n      <td>ad 1</td>\n      <td>1</td>\n      <td>0</td>\n      <td>0.00</td>\n      <td>0</td>\n      <td>0.00</td>\n    </tr>\n    <tr>\n      <th>2</th>\n      <td>01-08-2020</td>\n      <td>campaign 1</td>\n      <td>adgroup 3</td>\n      <td>ad 1</td>\n      <td>13</td>\n      <td>4</td>\n      <td>0.04</td>\n      <td>0</td>\n      <td>0.00</td>\n    </tr>\n    <tr>\n      <th>3</th>\n      <td>01-08-2020</td>\n      <td>campaign 1</td>\n      <td>adgroup 4</td>\n      <td>ad 1</td>\n      <td>5</td>\n      <td>4</td>\n      <td>0.08</td>\n      <td>0</td>\n      <td>0.00</td>\n    </tr>\n    <tr>\n      <th>4</th>\n      <td>01-08-2020</td>\n      <td>campaign 1</td>\n      <td>adgroup 1</td>\n      <td>ad 2</td>\n      <td>247</td>\n      <td>126</td>\n      <td>1.29</td>\n      <td>4</td>\n      <td>925.71</td>\n    </tr>\n  </tbody>\n</table>\n</div>"
     },
     "metadata": {},
     "execution_count": 3
    }
   ],
   "source": [
    "train_data = pd.read_csv('Train_Data.csv')\n",
    "test_data = pd.read_csv('Test_Data.csv')\n",
    "train_data.head()"
   ]
  },
  {
   "cell_type": "code",
   "execution_count": 4,
   "metadata": {},
   "outputs": [],
   "source": [
    "train_data.drop('date', axis=1, inplace=True)\n",
    "train_data.drop('campaign', axis=1, inplace=True)\n",
    "test_data.drop('date', axis=1, inplace=True)\n",
    "test_data.drop('campaign', axis=1, inplace=True)\n",
    "train_data.drop('ad', axis=1, inplace=True)\n",
    "test_data.drop('ad', axis=1, inplace=True)"
   ]
  },
  {
   "cell_type": "code",
   "execution_count": 5,
   "metadata": {},
   "outputs": [
    {
     "output_type": "execute_result",
     "data": {
      "text/plain": [
       "   impressions  clicks  cost  conversions  revenue  adgroup_adgroup 1  \\\n",
       "0           24       6  0.08            0     0.00                  1   \n",
       "1            1       0  0.00            0     0.00                  0   \n",
       "2           13       4  0.04            0     0.00                  0   \n",
       "3            5       4  0.08            0     0.00                  0   \n",
       "4          247     126  1.29            4   925.71                  1   \n",
       "\n",
       "   adgroup_adgroup 2  adgroup_adgroup 3  adgroup_adgroup 4  \n",
       "0                  0                  0                  0  \n",
       "1                  1                  0                  0  \n",
       "2                  0                  1                  0  \n",
       "3                  0                  0                  1  \n",
       "4                  0                  0                  0  "
      ],
      "text/html": "<div>\n<style scoped>\n    .dataframe tbody tr th:only-of-type {\n        vertical-align: middle;\n    }\n\n    .dataframe tbody tr th {\n        vertical-align: top;\n    }\n\n    .dataframe thead th {\n        text-align: right;\n    }\n</style>\n<table border=\"1\" class=\"dataframe\">\n  <thead>\n    <tr style=\"text-align: right;\">\n      <th></th>\n      <th>impressions</th>\n      <th>clicks</th>\n      <th>cost</th>\n      <th>conversions</th>\n      <th>revenue</th>\n      <th>adgroup_adgroup 1</th>\n      <th>adgroup_adgroup 2</th>\n      <th>adgroup_adgroup 3</th>\n      <th>adgroup_adgroup 4</th>\n    </tr>\n  </thead>\n  <tbody>\n    <tr>\n      <th>0</th>\n      <td>24</td>\n      <td>6</td>\n      <td>0.08</td>\n      <td>0</td>\n      <td>0.00</td>\n      <td>1</td>\n      <td>0</td>\n      <td>0</td>\n      <td>0</td>\n    </tr>\n    <tr>\n      <th>1</th>\n      <td>1</td>\n      <td>0</td>\n      <td>0.00</td>\n      <td>0</td>\n      <td>0.00</td>\n      <td>0</td>\n      <td>1</td>\n      <td>0</td>\n      <td>0</td>\n    </tr>\n    <tr>\n      <th>2</th>\n      <td>13</td>\n      <td>4</td>\n      <td>0.04</td>\n      <td>0</td>\n      <td>0.00</td>\n      <td>0</td>\n      <td>0</td>\n      <td>1</td>\n      <td>0</td>\n    </tr>\n    <tr>\n      <th>3</th>\n      <td>5</td>\n      <td>4</td>\n      <td>0.08</td>\n      <td>0</td>\n      <td>0.00</td>\n      <td>0</td>\n      <td>0</td>\n      <td>0</td>\n      <td>1</td>\n    </tr>\n    <tr>\n      <th>4</th>\n      <td>247</td>\n      <td>126</td>\n      <td>1.29</td>\n      <td>4</td>\n      <td>925.71</td>\n      <td>1</td>\n      <td>0</td>\n      <td>0</td>\n      <td>0</td>\n    </tr>\n  </tbody>\n</table>\n</div>"
     },
     "metadata": {},
     "execution_count": 5
    }
   ],
   "source": [
    "train_data = pd.get_dummies(train_data)\n",
    "test_data = pd.get_dummies(test_data)\n",
    "train_data.head()"
   ]
  },
  {
   "cell_type": "code",
   "execution_count": 8,
   "metadata": {},
   "outputs": [],
   "source": [
    "X_train = train_data.drop(['revenue'], axis='columns')\n",
    "y_train = train_data['revenue']\n",
    "X_test = test_data"
   ]
  },
  {
   "cell_type": "code",
   "execution_count": 6,
   "metadata": {},
   "outputs": [],
   "source": [
    "from sklearn.svm import SVR\n",
    "from sklearn.neighbors import KNeighborsRegressor\n",
    "from sklearn.tree import DecisionTreeRegressor"
   ]
  },
  {
   "cell_type": "code",
   "execution_count": 7,
   "metadata": {},
   "outputs": [],
   "source": [
    "def get_models():\n",
    "\tmodels = dict()\n",
    "\tmodels['knn'] = KNeighborsRegressor()\n",
    "\tmodels['cart'] = DecisionTreeRegressor()\n",
    "\tmodels['svm'] = SVR()\n",
    "\treturn models"
   ]
  },
  {
   "cell_type": "code",
   "execution_count": 18,
   "metadata": {},
   "outputs": [],
   "source": [
    "from sklearn.model_selection import RepeatedKFold\n",
    "from sklearn.model_selection import cross_val_score\n",
    "from numpy import mean\n",
    "from numpy import std\n",
    "\n",
    "\n",
    "def evaluate_model(model, X_train, y_train):\n",
    "\tcv = RepeatedKFold(n_splits=10, n_repeats=3, random_state=1)\n",
    "\tscores = cross_val_score(model, X_train, y_train, scoring='neg_mean_absolute_error', cv=cv, n_jobs=-1, error_score='raise')\n",
    "\treturn scores"
   ]
  },
  {
   "cell_type": "code",
   "execution_count": 19,
   "metadata": {},
   "outputs": [],
   "source": [
    "models = get_models()"
   ]
  },
  {
   "cell_type": "code",
   "execution_count": 20,
   "metadata": {},
   "outputs": [
    {
     "output_type": "stream",
     "name": "stdout",
     "text": [
      ">knn -142.665 (25.266)\n",
      ">cart -93.223 (13.926)\n",
      ">svm -199.099 (46.512)\n"
     ]
    }
   ],
   "source": [
    "results, names = list(), list()\n",
    "for name, model in models.items():\n",
    "\tscores = evaluate_model(model, X_train, y_train)\n",
    "\tresults.append(scores)\n",
    "\tnames.append(name)\n",
    "\tprint('>%s %.3f (%.3f)' % (name, mean(scores), std(scores)))"
   ]
  },
  {
   "cell_type": "code",
   "execution_count": 21,
   "metadata": {},
   "outputs": [
    {
     "output_type": "execute_result",
     "data": {
      "text/plain": [
       "DecisionTreeRegressor()"
      ]
     },
     "metadata": {},
     "execution_count": 21
    }
   ],
   "source": [
    "cart = DecisionTreeRegressor()\n",
    "cart.fit(X_train, y_train)"
   ]
  },
  {
   "cell_type": "code",
   "execution_count": 22,
   "metadata": {},
   "outputs": [],
   "source": [
    "preds =  cart.predict(X_test)"
   ]
  },
  {
   "cell_type": "code",
   "execution_count": 23,
   "metadata": {},
   "outputs": [
    {
     "output_type": "execute_result",
     "data": {
      "text/plain": [
       "array([ 174,    0,    0,    0,    0,    0,  174,    0,  174,    0, 1328,\n",
       "          0,    0,  250,    0,  174,    0,  174,    0,  174,    0,    0,\n",
       "          0, 1328,    0,    0,  947,  174,    0,    0,  718,    0, 1368,\n",
       "        537,   21,    0,  174,    0,    0,    0,    0,    0,    0,    0,\n",
       "          0,    0,    0,    0,    0,    0,    0,    0,    0,  250,  174,\n",
       "         76,    0,    0,    0,  740,    0,  250,    0,  250,    0,    0,\n",
       "       1328,  174,    0,    0,  250,    0,    0,    0,  174,  174,  947,\n",
       "          0,    0,    0, 1328,   76,    0,  174,    0,    0,  947, 1598,\n",
       "          0,  250,  283,  254,    0, 1619,  174,    0,    0,    0,    0,\n",
       "          0,  174,    0,    0,  174,    0, 3206,    0,  283,    0,  174,\n",
       "          0,  947,    0,  537,    0, 1904,    0, 3206, 1328,  174,    0,\n",
       "          0, 1328,    0,    0,    0, 1328,    0,  174,  174,    0,    0,\n",
       "          0,    0,  947,    0,    0,    0, 1328,    0,  174,    0,    0,\n",
       "          0,   21,    0,    0,  847, 1164,    0,    0,    0,  947,    0,\n",
       "        250,    0,  947,    0,    0,    0,  174,    0,    0,    0,  250,\n",
       "          0,  381,    0,    0,    0,    0,    0,    0,  174,    0,    0,\n",
       "          0,    0,  250,  207,    0,    0,    0,  174,    0,    0,  174,\n",
       "          0,  174,    0,    0,   21,    0,    0,    0,    0,    0,    0,\n",
       "          0,  174,   76,    0,  250,    0,    0,    0,  174,    0,    0,\n",
       "       1328,    0,    0,    0,  174,  381,    0,    0,    0,    0,  381,\n",
       "          0,    0,    0,    0,    0,  947,    0,    0,  174,    0,  250,\n",
       "          0,    0,    0,    0,    0,    0,  174,    0,    0,    0,    0,\n",
       "          0,    0,    0,   21,    0,    0,    0,    0, 1328,  250,    0,\n",
       "       1328,    0,  174,    0,    0,   21,   21,    0,  250,    0,    0,\n",
       "          0,    0,    0,    0,    0,    0,  283,    0,    0,  947,    0,\n",
       "          0,    0,  250,  174,    0,    0,    0,    0,    0,  254,    0,\n",
       "        174,    0,    0,    0,    0,  174,    0,    0,  174,    0,    0,\n",
       "        174,    0,    0,    0,    0,  947,    0,    0,    0, 1368,    0,\n",
       "          0,  381,  174,   21,    0,    0,    0,    0,    0,  174],\n",
       "      dtype=int64)"
      ]
     },
     "metadata": {},
     "execution_count": 23
    }
   ],
   "source": [
    "preds = preds.astype('int64')\n",
    "preds"
   ]
  },
  {
   "cell_type": "code",
   "execution_count": 24,
   "metadata": {},
   "outputs": [],
   "source": [
    "prediction = pd.DataFrame(preds, columns=['revenue']).to_csv('dectree.csv', index=False)"
   ]
  }
 ]
}